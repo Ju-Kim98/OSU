{
  "nbformat": 4,
  "nbformat_minor": 0,
  "metadata": {
    "kernelspec": {
      "display_name": "Python 3",
      "language": "python",
      "name": "python3"
    },
    "language_info": {
      "codemirror_mode": {
        "name": "ipython",
        "version": 3
      },
      "file_extension": ".py",
      "mimetype": "text/x-python",
      "name": "python",
      "nbconvert_exporter": "python",
      "pygments_lexer": "ipython3",
      "version": "3.7.3"
    },
    "colab": {
      "provenance": []
    }
  },
  "cells": [
    {
      "cell_type": "markdown",
      "metadata": {
        "id": "VQVEzkgZmQz9"
      },
      "source": [
        "# CSX46 Homework 1"
      ]
    },
    {
      "cell_type": "markdown",
      "metadata": {
        "id": "48EelsXVmQ0A"
      },
      "source": [
        "In this homework assignment, you will be analyzing the human metabolic network. A simplified version of that network is provided for you in edge-list format in a two-column, tab-delimited text file `hsmetnet.txt` that is available at the following URL:  \n",
        "[https://csx46.s3-us-west-2.amazonaws.com/hsmetnet.txt](https://csx46.s3-us-west-2.amazonaws.com/hsmetnet.txt)\n",
        "In case you want to check that you have a complete and uncorrupted version of the file, here is it's MD5 checksum: `50bc7295c1f727cdc5867e4853a27583`. An example of the `hsmetnet.txt` file format is shown here:\n",
        "```\n",
        "alkylated DNA   REACTION1\n",
        "REACTION1       DNAn\n",
        "REACTION1       alkylated nucleobase\n",
        "acetyl-CoA      REACTION2\n",
        "1-alkyl-2-lyso-sn-glycero-3-phosphocholine      REACTION2\n",
        "REACTION2       1-alkyl-2-acetyl-sn-glycero-3-phosphocholine\n",
        "REACTION2       coenzyme A\n",
        "deoxyribonucleoside triphosphate        REACTION3\n",
        "(deoxynucleotides)(n)   REACTION3\n",
        "```\n",
        "You will see that there are two types of nodes; nodes that start with `REACTION` and nodes that do not. The former represent chemical *reactions*, and the latter represent *metabolites*. This graph is directed, so the ordering of the nodes is important; a row of the form\n",
        "```\n",
        "some-metabolite    REACTION523\n",
        "```\n",
        "is saying that metabolite `some-metabolite` is an *input* to (i.e., a reactant for) reaction `REACTION523`. Conversely, a row of the form\n",
        "```\n",
        "REACTION634    another-metabolite\n",
        "```\n",
        "is saying that metabolite `another-metabolite` is an *output* of (i.e., a product of) reaction `REACTION634`. A graph with two classes of nodes (and for which the only allowed edges are *between* nodes of the two classes, never *among* nodes of a single class) is called *bipartite*. So in this homework assignment we will be analyzing the human metabolic network as a bipartite graph.\n",
        "\n",
        "You will need to submit your homework assignment as either a Jupyter notebook (preferred) or a PDF of a report showing both code *and* results from running the code."
      ]
    },
    {
      "cell_type": "markdown",
      "metadata": {
        "id": "fHWuIcKEou1g"
      },
      "source": [
        "For this homework assignment, you will need cairo, igraph, pandas, matplotlib, and numpy"
      ]
    },
    {
      "cell_type": "code",
      "metadata": {
        "id": "fnu7Y_T-ox1T",
        "outputId": "0e762ee2-4048-4fa7-c897-9d5b448fa1f7",
        "colab": {
          "base_uri": "https://localhost:8080/"
        }
      },
      "source": [
        "!apt-get install libcairo2-dev libjpeg-dev libgif-dev\n",
        "!pip install pycairo\n",
        "import cairo\n",
        "!pip install python-igraph\n",
        "import igraph, matplotlib\n",
        "from igraph import Graph\n",
        "import pandas as pd\n",
        "import numpy as np"
      ],
      "execution_count": 1,
      "outputs": [
        {
          "output_type": "stream",
          "name": "stdout",
          "text": [
            "Reading package lists... Done\n",
            "Building dependency tree... Done\n",
            "Reading state information... Done\n",
            "libgif-dev is already the newest version (5.1.9-2build2).\n",
            "libgif-dev set to manually installed.\n",
            "libjpeg-dev is already the newest version (8c-2ubuntu10).\n",
            "libjpeg-dev set to manually installed.\n",
            "The following additional packages will be installed:\n",
            "  libblkid-dev libcairo-script-interpreter2 libffi-dev libglib2.0-dev libglib2.0-dev-bin libice-dev\n",
            "  liblzo2-2 libmount-dev libpixman-1-dev libselinux1-dev libsepol-dev libsm-dev libxcb-render0-dev\n",
            "  libxcb-shm0-dev\n",
            "Suggested packages:\n",
            "  libcairo2-doc libgirepository1.0-dev libglib2.0-doc libgdk-pixbuf2.0-bin | libgdk-pixbuf2.0-dev\n",
            "  libxml2-utils libice-doc libsm-doc\n",
            "The following NEW packages will be installed:\n",
            "  libblkid-dev libcairo-script-interpreter2 libcairo2-dev libffi-dev libglib2.0-dev\n",
            "  libglib2.0-dev-bin libice-dev liblzo2-2 libmount-dev libpixman-1-dev libselinux1-dev libsepol-dev\n",
            "  libsm-dev libxcb-render0-dev libxcb-shm0-dev\n",
            "0 upgraded, 15 newly installed, 0 to remove and 32 not upgraded.\n",
            "Need to get 3,839 kB of archives.\n",
            "After this operation, 19.8 MB of additional disk space will be used.\n",
            "Get:1 http://archive.ubuntu.com/ubuntu jammy/main amd64 liblzo2-2 amd64 2.10-2build3 [53.7 kB]\n",
            "Get:2 http://archive.ubuntu.com/ubuntu jammy/main amd64 libcairo-script-interpreter2 amd64 1.16.0-5ubuntu2 [62.0 kB]\n",
            "Get:3 http://archive.ubuntu.com/ubuntu jammy/main amd64 libice-dev amd64 2:1.0.10-1build2 [51.4 kB]\n",
            "Get:4 http://archive.ubuntu.com/ubuntu jammy/main amd64 libsm-dev amd64 2:1.2.3-1build2 [18.1 kB]\n",
            "Get:5 http://archive.ubuntu.com/ubuntu jammy-updates/main amd64 libpixman-1-dev amd64 0.40.0-1ubuntu0.22.04.1 [280 kB]\n",
            "Get:6 http://archive.ubuntu.com/ubuntu jammy/main amd64 libxcb-render0-dev amd64 1.14-3ubuntu3 [19.6 kB]\n",
            "Get:7 http://archive.ubuntu.com/ubuntu jammy/main amd64 libxcb-shm0-dev amd64 1.14-3ubuntu3 [6,848 B]\n",
            "Get:8 http://archive.ubuntu.com/ubuntu jammy/main amd64 libffi-dev amd64 3.4.2-4 [63.7 kB]\n",
            "Get:9 http://archive.ubuntu.com/ubuntu jammy-updates/main amd64 libglib2.0-dev-bin amd64 2.72.4-0ubuntu2.2 [117 kB]\n",
            "Get:10 http://archive.ubuntu.com/ubuntu jammy/main amd64 libblkid-dev amd64 2.37.2-4ubuntu3 [185 kB]\n",
            "Get:11 http://archive.ubuntu.com/ubuntu jammy/main amd64 libsepol-dev amd64 3.3-1build1 [378 kB]\n",
            "Get:12 http://archive.ubuntu.com/ubuntu jammy/main amd64 libselinux1-dev amd64 3.3-1build2 [158 kB]\n",
            "Get:13 http://archive.ubuntu.com/ubuntu jammy/main amd64 libmount-dev amd64 2.37.2-4ubuntu3 [14.5 kB]\n",
            "Get:14 http://archive.ubuntu.com/ubuntu jammy-updates/main amd64 libglib2.0-dev amd64 2.72.4-0ubuntu2.2 [1,739 kB]\n",
            "Get:15 http://archive.ubuntu.com/ubuntu jammy/main amd64 libcairo2-dev amd64 1.16.0-5ubuntu2 [692 kB]\n",
            "Fetched 3,839 kB in 1s (3,941 kB/s)\n",
            "Selecting previously unselected package liblzo2-2:amd64.\n",
            "(Reading database ... 121749 files and directories currently installed.)\n",
            "Preparing to unpack .../00-liblzo2-2_2.10-2build3_amd64.deb ...\n",
            "Unpacking liblzo2-2:amd64 (2.10-2build3) ...\n",
            "Selecting previously unselected package libcairo-script-interpreter2:amd64.\n",
            "Preparing to unpack .../01-libcairo-script-interpreter2_1.16.0-5ubuntu2_amd64.deb ...\n",
            "Unpacking libcairo-script-interpreter2:amd64 (1.16.0-5ubuntu2) ...\n",
            "Selecting previously unselected package libice-dev:amd64.\n",
            "Preparing to unpack .../02-libice-dev_2%3a1.0.10-1build2_amd64.deb ...\n",
            "Unpacking libice-dev:amd64 (2:1.0.10-1build2) ...\n",
            "Selecting previously unselected package libsm-dev:amd64.\n",
            "Preparing to unpack .../03-libsm-dev_2%3a1.2.3-1build2_amd64.deb ...\n",
            "Unpacking libsm-dev:amd64 (2:1.2.3-1build2) ...\n",
            "Selecting previously unselected package libpixman-1-dev:amd64.\n",
            "Preparing to unpack .../04-libpixman-1-dev_0.40.0-1ubuntu0.22.04.1_amd64.deb ...\n",
            "Unpacking libpixman-1-dev:amd64 (0.40.0-1ubuntu0.22.04.1) ...\n",
            "Selecting previously unselected package libxcb-render0-dev:amd64.\n",
            "Preparing to unpack .../05-libxcb-render0-dev_1.14-3ubuntu3_amd64.deb ...\n",
            "Unpacking libxcb-render0-dev:amd64 (1.14-3ubuntu3) ...\n",
            "Selecting previously unselected package libxcb-shm0-dev:amd64.\n",
            "Preparing to unpack .../06-libxcb-shm0-dev_1.14-3ubuntu3_amd64.deb ...\n",
            "Unpacking libxcb-shm0-dev:amd64 (1.14-3ubuntu3) ...\n",
            "Selecting previously unselected package libffi-dev:amd64.\n",
            "Preparing to unpack .../07-libffi-dev_3.4.2-4_amd64.deb ...\n",
            "Unpacking libffi-dev:amd64 (3.4.2-4) ...\n",
            "Selecting previously unselected package libglib2.0-dev-bin.\n",
            "Preparing to unpack .../08-libglib2.0-dev-bin_2.72.4-0ubuntu2.2_amd64.deb ...\n",
            "Unpacking libglib2.0-dev-bin (2.72.4-0ubuntu2.2) ...\n",
            "Selecting previously unselected package libblkid-dev:amd64.\n",
            "Preparing to unpack .../09-libblkid-dev_2.37.2-4ubuntu3_amd64.deb ...\n",
            "Unpacking libblkid-dev:amd64 (2.37.2-4ubuntu3) ...\n",
            "Selecting previously unselected package libsepol-dev:amd64.\n",
            "Preparing to unpack .../10-libsepol-dev_3.3-1build1_amd64.deb ...\n",
            "Unpacking libsepol-dev:amd64 (3.3-1build1) ...\n",
            "Selecting previously unselected package libselinux1-dev:amd64.\n",
            "Preparing to unpack .../11-libselinux1-dev_3.3-1build2_amd64.deb ...\n",
            "Unpacking libselinux1-dev:amd64 (3.3-1build2) ...\n",
            "Selecting previously unselected package libmount-dev:amd64.\n",
            "Preparing to unpack .../12-libmount-dev_2.37.2-4ubuntu3_amd64.deb ...\n",
            "Unpacking libmount-dev:amd64 (2.37.2-4ubuntu3) ...\n",
            "Selecting previously unselected package libglib2.0-dev:amd64.\n",
            "Preparing to unpack .../13-libglib2.0-dev_2.72.4-0ubuntu2.2_amd64.deb ...\n",
            "Unpacking libglib2.0-dev:amd64 (2.72.4-0ubuntu2.2) ...\n",
            "Selecting previously unselected package libcairo2-dev:amd64.\n",
            "Preparing to unpack .../14-libcairo2-dev_1.16.0-5ubuntu2_amd64.deb ...\n",
            "Unpacking libcairo2-dev:amd64 (1.16.0-5ubuntu2) ...\n",
            "Setting up libglib2.0-dev-bin (2.72.4-0ubuntu2.2) ...\n",
            "Setting up libblkid-dev:amd64 (2.37.2-4ubuntu3) ...\n",
            "Setting up libpixman-1-dev:amd64 (0.40.0-1ubuntu0.22.04.1) ...\n",
            "Setting up libice-dev:amd64 (2:1.0.10-1build2) ...\n",
            "Setting up libsm-dev:amd64 (2:1.2.3-1build2) ...\n",
            "Setting up liblzo2-2:amd64 (2.10-2build3) ...\n",
            "Setting up libffi-dev:amd64 (3.4.2-4) ...\n",
            "Setting up libxcb-shm0-dev:amd64 (1.14-3ubuntu3) ...\n",
            "Setting up libsepol-dev:amd64 (3.3-1build1) ...\n",
            "Setting up libxcb-render0-dev:amd64 (1.14-3ubuntu3) ...\n",
            "Setting up libcairo-script-interpreter2:amd64 (1.16.0-5ubuntu2) ...\n",
            "Setting up libselinux1-dev:amd64 (3.3-1build2) ...\n",
            "Setting up libmount-dev:amd64 (2.37.2-4ubuntu3) ...\n",
            "Setting up libglib2.0-dev:amd64 (2.72.4-0ubuntu2.2) ...\n",
            "Processing triggers for libglib2.0-0:amd64 (2.72.4-0ubuntu2.2) ...\n",
            "Processing triggers for libc-bin (2.35-0ubuntu3.4) ...\n",
            "/sbin/ldconfig.real: /usr/local/lib/libtbbbind.so.3 is not a symbolic link\n",
            "\n",
            "/sbin/ldconfig.real: /usr/local/lib/libtbbmalloc_proxy.so.2 is not a symbolic link\n",
            "\n",
            "/sbin/ldconfig.real: /usr/local/lib/libtbbbind_2_0.so.3 is not a symbolic link\n",
            "\n",
            "/sbin/ldconfig.real: /usr/local/lib/libtbbmalloc.so.2 is not a symbolic link\n",
            "\n",
            "/sbin/ldconfig.real: /usr/local/lib/libtbb.so.12 is not a symbolic link\n",
            "\n",
            "/sbin/ldconfig.real: /usr/local/lib/libtbbbind_2_5.so.3 is not a symbolic link\n",
            "\n",
            "Processing triggers for man-db (2.10.2-1) ...\n",
            "Setting up libcairo2-dev:amd64 (1.16.0-5ubuntu2) ...\n",
            "Collecting pycairo\n",
            "  Downloading pycairo-1.26.0.tar.gz (346 kB)\n",
            "\u001b[2K     \u001b[90m━━━━━━━━━━━━━━━━━━━━━━━━━━━━━━━━━━━━━━━━\u001b[0m \u001b[32m346.9/346.9 kB\u001b[0m \u001b[31m7.6 MB/s\u001b[0m eta \u001b[36m0:00:00\u001b[0m\n",
            "\u001b[?25h  Installing build dependencies ... \u001b[?25l\u001b[?25hdone\n",
            "  Getting requirements to build wheel ... \u001b[?25l\u001b[?25hdone\n",
            "  Installing backend dependencies ... \u001b[?25l\u001b[?25hdone\n",
            "  Preparing metadata (pyproject.toml) ... \u001b[?25l\u001b[?25hdone\n",
            "Building wheels for collected packages: pycairo\n",
            "  Building wheel for pycairo (pyproject.toml) ... \u001b[?25l\u001b[?25hdone\n",
            "  Created wheel for pycairo: filename=pycairo-1.26.0-cp310-cp310-linux_x86_64.whl size=320922 sha256=6fc33c7ca963639f7402a6b689021fc17f298a9a041c206dd5cfb308157c0f58\n",
            "  Stored in directory: /root/.cache/pip/wheels/e3/46/83/453eb7915b034ce1a9fee5a6023def2030633f6a73dc6d2de8\n",
            "Successfully built pycairo\n",
            "Installing collected packages: pycairo\n",
            "Successfully installed pycairo-1.26.0\n",
            "Collecting python-igraph\n",
            "  Downloading python_igraph-0.11.3-py3-none-any.whl (9.1 kB)\n",
            "Collecting igraph==0.11.3 (from python-igraph)\n",
            "  Downloading igraph-0.11.3-cp39-abi3-manylinux_2_17_x86_64.manylinux2014_x86_64.whl (3.3 MB)\n",
            "\u001b[2K     \u001b[90m━━━━━━━━━━━━━━━━━━━━━━━━━━━━━━━━━━━━━━━━\u001b[0m \u001b[32m3.3/3.3 MB\u001b[0m \u001b[31m16.3 MB/s\u001b[0m eta \u001b[36m0:00:00\u001b[0m\n",
            "\u001b[?25hCollecting texttable>=1.6.2 (from igraph==0.11.3->python-igraph)\n",
            "  Downloading texttable-1.7.0-py2.py3-none-any.whl (10 kB)\n",
            "Installing collected packages: texttable, igraph, python-igraph\n",
            "Successfully installed igraph-0.11.3 python-igraph-0.11.3 texttable-1.7.0\n"
          ]
        }
      ]
    },
    {
      "cell_type": "markdown",
      "metadata": {
        "id": "hWUQUIjgqjac"
      },
      "source": [
        "Next, you will want to download the metabolic network from the CSX46 S3 bucket into your Google Colab instance:"
      ]
    },
    {
      "cell_type": "code",
      "metadata": {
        "id": "TPVhqPVnqm55",
        "colab": {
          "base_uri": "https://localhost:8080/"
        },
        "outputId": "f89a4469-e1d6-44d5-de79-68ddfce49cf8"
      },
      "source": [
        "!wget https://csx46.s3-us-west-2.amazonaws.com/hsmetnet.txt -O hsmetnet.txt"
      ],
      "execution_count": 2,
      "outputs": [
        {
          "output_type": "stream",
          "name": "stdout",
          "text": [
            "--2024-02-12 22:14:49--  https://csx46.s3-us-west-2.amazonaws.com/hsmetnet.txt\n",
            "Resolving csx46.s3-us-west-2.amazonaws.com (csx46.s3-us-west-2.amazonaws.com)... 3.5.84.167, 52.218.221.201, 52.92.243.10, ...\n",
            "Connecting to csx46.s3-us-west-2.amazonaws.com (csx46.s3-us-west-2.amazonaws.com)|3.5.84.167|:443... connected.\n",
            "HTTP request sent, awaiting response... 200 OK\n",
            "Length: 647637 (632K) [text/plain]\n",
            "Saving to: ‘hsmetnet.txt’\n",
            "\n",
            "hsmetnet.txt        100%[===================>] 632.46K  3.28MB/s    in 0.2s    \n",
            "\n",
            "2024-02-12 22:14:49 (3.28 MB/s) - ‘hsmetnet.txt’ saved [647637/647637]\n",
            "\n"
          ]
        }
      ]
    },
    {
      "cell_type": "markdown",
      "metadata": {
        "id": "s9Ea5QF4mQ0C"
      },
      "source": [
        "Next, read in the metabolic network as an edge-list (hint: use `read_csv` from `pandas`) into a `pandas.DataFrame`. Name the two columns `source` and `target`. Show the first six rows of the data frame. Note, there are some duplicate rows in the data file (for whatever reason) so you will want to use the `drop_duplicates` method on the Pandas data frame."
      ]
    },
    {
      "cell_type": "code",
      "metadata": {
        "id": "0mIOFNqHmQ0E",
        "outputId": "76b36d95-14d2-46ca-c617-e784d69dc265",
        "colab": {
          "base_uri": "https://localhost:8080/",
          "height": 237
        }
      },
      "source": [
        "df = pd.read_csv(\"hsmetnet.txt\",sep=\"\\t\",names=[\"source\",\"target\"]).drop_duplicates()\n",
        "\n",
        "df.head(6)"
      ],
      "execution_count": 20,
      "outputs": [
        {
          "output_type": "execute_result",
          "data": {
            "text/plain": [
              "                                       source  \\\n",
              "0                               alkylated DNA   \n",
              "1                                   REACTION1   \n",
              "2                                   REACTION1   \n",
              "3                                  acetyl-CoA   \n",
              "4  1-alkyl-2-lyso-sn-glycero-3-phosphocholine   \n",
              "5                                   REACTION2   \n",
              "\n",
              "                                         target  \n",
              "0                                     REACTION1  \n",
              "1                                          DNAn  \n",
              "2                          alkylated nucleobase  \n",
              "3                                     REACTION2  \n",
              "4                                     REACTION2  \n",
              "5  1-alkyl-2-acetyl-sn-glycero-3-phosphocholine  "
            ],
            "text/html": [
              "\n",
              "  <div id=\"df-9b18dcfb-fbc3-4414-8886-7cbd8f0897d6\" class=\"colab-df-container\">\n",
              "    <div>\n",
              "<style scoped>\n",
              "    .dataframe tbody tr th:only-of-type {\n",
              "        vertical-align: middle;\n",
              "    }\n",
              "\n",
              "    .dataframe tbody tr th {\n",
              "        vertical-align: top;\n",
              "    }\n",
              "\n",
              "    .dataframe thead th {\n",
              "        text-align: right;\n",
              "    }\n",
              "</style>\n",
              "<table border=\"1\" class=\"dataframe\">\n",
              "  <thead>\n",
              "    <tr style=\"text-align: right;\">\n",
              "      <th></th>\n",
              "      <th>source</th>\n",
              "      <th>target</th>\n",
              "    </tr>\n",
              "  </thead>\n",
              "  <tbody>\n",
              "    <tr>\n",
              "      <th>0</th>\n",
              "      <td>alkylated DNA</td>\n",
              "      <td>REACTION1</td>\n",
              "    </tr>\n",
              "    <tr>\n",
              "      <th>1</th>\n",
              "      <td>REACTION1</td>\n",
              "      <td>DNAn</td>\n",
              "    </tr>\n",
              "    <tr>\n",
              "      <th>2</th>\n",
              "      <td>REACTION1</td>\n",
              "      <td>alkylated nucleobase</td>\n",
              "    </tr>\n",
              "    <tr>\n",
              "      <th>3</th>\n",
              "      <td>acetyl-CoA</td>\n",
              "      <td>REACTION2</td>\n",
              "    </tr>\n",
              "    <tr>\n",
              "      <th>4</th>\n",
              "      <td>1-alkyl-2-lyso-sn-glycero-3-phosphocholine</td>\n",
              "      <td>REACTION2</td>\n",
              "    </tr>\n",
              "    <tr>\n",
              "      <th>5</th>\n",
              "      <td>REACTION2</td>\n",
              "      <td>1-alkyl-2-acetyl-sn-glycero-3-phosphocholine</td>\n",
              "    </tr>\n",
              "  </tbody>\n",
              "</table>\n",
              "</div>\n",
              "    <div class=\"colab-df-buttons\">\n",
              "\n",
              "  <div class=\"colab-df-container\">\n",
              "    <button class=\"colab-df-convert\" onclick=\"convertToInteractive('df-9b18dcfb-fbc3-4414-8886-7cbd8f0897d6')\"\n",
              "            title=\"Convert this dataframe to an interactive table.\"\n",
              "            style=\"display:none;\">\n",
              "\n",
              "  <svg xmlns=\"http://www.w3.org/2000/svg\" height=\"24px\" viewBox=\"0 -960 960 960\">\n",
              "    <path d=\"M120-120v-720h720v720H120Zm60-500h600v-160H180v160Zm220 220h160v-160H400v160Zm0 220h160v-160H400v160ZM180-400h160v-160H180v160Zm440 0h160v-160H620v160ZM180-180h160v-160H180v160Zm440 0h160v-160H620v160Z\"/>\n",
              "  </svg>\n",
              "    </button>\n",
              "\n",
              "  <style>\n",
              "    .colab-df-container {\n",
              "      display:flex;\n",
              "      gap: 12px;\n",
              "    }\n",
              "\n",
              "    .colab-df-convert {\n",
              "      background-color: #E8F0FE;\n",
              "      border: none;\n",
              "      border-radius: 50%;\n",
              "      cursor: pointer;\n",
              "      display: none;\n",
              "      fill: #1967D2;\n",
              "      height: 32px;\n",
              "      padding: 0 0 0 0;\n",
              "      width: 32px;\n",
              "    }\n",
              "\n",
              "    .colab-df-convert:hover {\n",
              "      background-color: #E2EBFA;\n",
              "      box-shadow: 0px 1px 2px rgba(60, 64, 67, 0.3), 0px 1px 3px 1px rgba(60, 64, 67, 0.15);\n",
              "      fill: #174EA6;\n",
              "    }\n",
              "\n",
              "    .colab-df-buttons div {\n",
              "      margin-bottom: 4px;\n",
              "    }\n",
              "\n",
              "    [theme=dark] .colab-df-convert {\n",
              "      background-color: #3B4455;\n",
              "      fill: #D2E3FC;\n",
              "    }\n",
              "\n",
              "    [theme=dark] .colab-df-convert:hover {\n",
              "      background-color: #434B5C;\n",
              "      box-shadow: 0px 1px 3px 1px rgba(0, 0, 0, 0.15);\n",
              "      filter: drop-shadow(0px 1px 2px rgba(0, 0, 0, 0.3));\n",
              "      fill: #FFFFFF;\n",
              "    }\n",
              "  </style>\n",
              "\n",
              "    <script>\n",
              "      const buttonEl =\n",
              "        document.querySelector('#df-9b18dcfb-fbc3-4414-8886-7cbd8f0897d6 button.colab-df-convert');\n",
              "      buttonEl.style.display =\n",
              "        google.colab.kernel.accessAllowed ? 'block' : 'none';\n",
              "\n",
              "      async function convertToInteractive(key) {\n",
              "        const element = document.querySelector('#df-9b18dcfb-fbc3-4414-8886-7cbd8f0897d6');\n",
              "        const dataTable =\n",
              "          await google.colab.kernel.invokeFunction('convertToInteractive',\n",
              "                                                    [key], {});\n",
              "        if (!dataTable) return;\n",
              "\n",
              "        const docLinkHtml = 'Like what you see? Visit the ' +\n",
              "          '<a target=\"_blank\" href=https://colab.research.google.com/notebooks/data_table.ipynb>data table notebook</a>'\n",
              "          + ' to learn more about interactive tables.';\n",
              "        element.innerHTML = '';\n",
              "        dataTable['output_type'] = 'display_data';\n",
              "        await google.colab.output.renderOutput(dataTable, element);\n",
              "        const docLink = document.createElement('div');\n",
              "        docLink.innerHTML = docLinkHtml;\n",
              "        element.appendChild(docLink);\n",
              "      }\n",
              "    </script>\n",
              "  </div>\n",
              "\n",
              "\n",
              "<div id=\"df-efe63a2e-abad-4b9f-96ba-4449cadfd000\">\n",
              "  <button class=\"colab-df-quickchart\" onclick=\"quickchart('df-efe63a2e-abad-4b9f-96ba-4449cadfd000')\"\n",
              "            title=\"Suggest charts\"\n",
              "            style=\"display:none;\">\n",
              "\n",
              "<svg xmlns=\"http://www.w3.org/2000/svg\" height=\"24px\"viewBox=\"0 0 24 24\"\n",
              "     width=\"24px\">\n",
              "    <g>\n",
              "        <path d=\"M19 3H5c-1.1 0-2 .9-2 2v14c0 1.1.9 2 2 2h14c1.1 0 2-.9 2-2V5c0-1.1-.9-2-2-2zM9 17H7v-7h2v7zm4 0h-2V7h2v10zm4 0h-2v-4h2v4z\"/>\n",
              "    </g>\n",
              "</svg>\n",
              "  </button>\n",
              "\n",
              "<style>\n",
              "  .colab-df-quickchart {\n",
              "      --bg-color: #E8F0FE;\n",
              "      --fill-color: #1967D2;\n",
              "      --hover-bg-color: #E2EBFA;\n",
              "      --hover-fill-color: #174EA6;\n",
              "      --disabled-fill-color: #AAA;\n",
              "      --disabled-bg-color: #DDD;\n",
              "  }\n",
              "\n",
              "  [theme=dark] .colab-df-quickchart {\n",
              "      --bg-color: #3B4455;\n",
              "      --fill-color: #D2E3FC;\n",
              "      --hover-bg-color: #434B5C;\n",
              "      --hover-fill-color: #FFFFFF;\n",
              "      --disabled-bg-color: #3B4455;\n",
              "      --disabled-fill-color: #666;\n",
              "  }\n",
              "\n",
              "  .colab-df-quickchart {\n",
              "    background-color: var(--bg-color);\n",
              "    border: none;\n",
              "    border-radius: 50%;\n",
              "    cursor: pointer;\n",
              "    display: none;\n",
              "    fill: var(--fill-color);\n",
              "    height: 32px;\n",
              "    padding: 0;\n",
              "    width: 32px;\n",
              "  }\n",
              "\n",
              "  .colab-df-quickchart:hover {\n",
              "    background-color: var(--hover-bg-color);\n",
              "    box-shadow: 0 1px 2px rgba(60, 64, 67, 0.3), 0 1px 3px 1px rgba(60, 64, 67, 0.15);\n",
              "    fill: var(--button-hover-fill-color);\n",
              "  }\n",
              "\n",
              "  .colab-df-quickchart-complete:disabled,\n",
              "  .colab-df-quickchart-complete:disabled:hover {\n",
              "    background-color: var(--disabled-bg-color);\n",
              "    fill: var(--disabled-fill-color);\n",
              "    box-shadow: none;\n",
              "  }\n",
              "\n",
              "  .colab-df-spinner {\n",
              "    border: 2px solid var(--fill-color);\n",
              "    border-color: transparent;\n",
              "    border-bottom-color: var(--fill-color);\n",
              "    animation:\n",
              "      spin 1s steps(1) infinite;\n",
              "  }\n",
              "\n",
              "  @keyframes spin {\n",
              "    0% {\n",
              "      border-color: transparent;\n",
              "      border-bottom-color: var(--fill-color);\n",
              "      border-left-color: var(--fill-color);\n",
              "    }\n",
              "    20% {\n",
              "      border-color: transparent;\n",
              "      border-left-color: var(--fill-color);\n",
              "      border-top-color: var(--fill-color);\n",
              "    }\n",
              "    30% {\n",
              "      border-color: transparent;\n",
              "      border-left-color: var(--fill-color);\n",
              "      border-top-color: var(--fill-color);\n",
              "      border-right-color: var(--fill-color);\n",
              "    }\n",
              "    40% {\n",
              "      border-color: transparent;\n",
              "      border-right-color: var(--fill-color);\n",
              "      border-top-color: var(--fill-color);\n",
              "    }\n",
              "    60% {\n",
              "      border-color: transparent;\n",
              "      border-right-color: var(--fill-color);\n",
              "    }\n",
              "    80% {\n",
              "      border-color: transparent;\n",
              "      border-right-color: var(--fill-color);\n",
              "      border-bottom-color: var(--fill-color);\n",
              "    }\n",
              "    90% {\n",
              "      border-color: transparent;\n",
              "      border-bottom-color: var(--fill-color);\n",
              "    }\n",
              "  }\n",
              "</style>\n",
              "\n",
              "  <script>\n",
              "    async function quickchart(key) {\n",
              "      const quickchartButtonEl =\n",
              "        document.querySelector('#' + key + ' button');\n",
              "      quickchartButtonEl.disabled = true;  // To prevent multiple clicks.\n",
              "      quickchartButtonEl.classList.add('colab-df-spinner');\n",
              "      try {\n",
              "        const charts = await google.colab.kernel.invokeFunction(\n",
              "            'suggestCharts', [key], {});\n",
              "      } catch (error) {\n",
              "        console.error('Error during call to suggestCharts:', error);\n",
              "      }\n",
              "      quickchartButtonEl.classList.remove('colab-df-spinner');\n",
              "      quickchartButtonEl.classList.add('colab-df-quickchart-complete');\n",
              "    }\n",
              "    (() => {\n",
              "      let quickchartButtonEl =\n",
              "        document.querySelector('#df-efe63a2e-abad-4b9f-96ba-4449cadfd000 button');\n",
              "      quickchartButtonEl.style.display =\n",
              "        google.colab.kernel.accessAllowed ? 'block' : 'none';\n",
              "    })();\n",
              "  </script>\n",
              "</div>\n",
              "    </div>\n",
              "  </div>\n"
            ]
          },
          "metadata": {},
          "execution_count": 20
        }
      ]
    },
    {
      "cell_type": "markdown",
      "metadata": {
        "id": "4jUl_k_HmQ0P"
      },
      "source": [
        "Next, you will want to construct an igraph Graph from the pandas dataframe (hint: use `Graph.TupleList` with `directed=True`; you can use  `.values.tolist()` on the Pandas dataframe"
      ]
    },
    {
      "cell_type": "code",
      "metadata": {
        "id": "ga38VPpUmQ0Q",
        "outputId": "8b5030d2-3330-4252-c745-35b23367ba1d",
        "colab": {
          "base_uri": "https://localhost:8080/",
          "height": 35
        }
      },
      "source": [
        "hmn_graph = Graph.TupleList(df[[\"source\",\"target\"]].values.tolist(),\n",
        "                                 directed=True)\n",
        "hmn_graph.summary()"
      ],
      "execution_count": 21,
      "outputs": [
        {
          "output_type": "execute_result",
          "data": {
            "text/plain": [
              "'IGRAPH DN-- 7879 19537 -- \\n+ attr: name (v)'"
            ],
            "application/vnd.google.colaboratory.intrinsic+json": {
              "type": "string"
            }
          },
          "metadata": {},
          "execution_count": 21
        }
      ]
    },
    {
      "cell_type": "markdown",
      "metadata": {
        "id": "JvbYsHpNmQ0X"
      },
      "source": [
        "**<font color='orange'>Question:** *How many distinct metabolites are there in the graph?* *How many reactions?* *How many edges are there?*</font>\n",
        "\n",
        "(hint: use list comprehension, `in`, `for`, `len`, `str`, `set`, and `shape`)\n",
        "\n",
        "(You can assume that no metabolite name has \"REACTION\" as a substring)."
      ]
    },
    {
      "cell_type": "code",
      "metadata": {
        "id": "ui_jUV0dmQ0Y",
        "outputId": "35da7950-071f-47bd-d49c-e1efa032c690",
        "colab": {
          "base_uri": "https://localhost:8080/"
        }
      },
      "source": [
        "vertex_names = hmn_graph.vs[\"name\"]\n",
        "reaction_names = [vertex_name for vertex_name in vertex_names if \"REACTION\" in vertex_name]\n",
        "reaction_names_set = set(reaction_names)\n",
        "metabolite_names = [vertex_name for vertex_name in vertex_names if not (vertex_name in reaction_names_set)]\n",
        "print(\"number of distinct metabolites in the graph: \" + str(len(metabolite_names)))\n",
        "print(\"number of distinct reactions in the graph: \" + str(len(reaction_names)))\n",
        "edges = hmn_graph.ecount()\n",
        "print(\"number of edges in the graph:\", edges)\n"
      ],
      "execution_count": 22,
      "outputs": [
        {
          "output_type": "stream",
          "name": "stdout",
          "text": [
            "number of distinct metabolites in the graph: 2340\n",
            "number of distinct reactions in the graph: 5539\n",
            "number of edges in the graph: 19537\n"
          ]
        }
      ]
    },
    {
      "cell_type": "markdown",
      "metadata": {
        "id": "Q_oclGGQmQ0e"
      },
      "source": [
        "<font color=\"orange\">**Question**: *In this graph, what are the top six metabolites in terms of vertex degree? (indegree+outdegree counted together)*</font>\n",
        "\n",
        "(hint: use list comprehension, `for`, `enumerate`, `sorted` (with `reverse=True`), and `lambda` or `itemgetter`)"
      ]
    },
    {
      "cell_type": "code",
      "metadata": {
        "id": "OQIm9e-dmQ0f",
        "outputId": "36c22434-3bd6-4939-f763-ff552cf93ec3",
        "colab": {
          "base_uri": "https://localhost:8080/"
        }
      },
      "source": [
        "metabolite_names_set = set(metabolite_names)\n",
        "vertex_degrees = hmn_graph.degree()\n",
        "metabolite_inds = [index for index, vname in enumerate(vertex_names) if vname in metabolite_names_set]\n",
        "metabolite_degrees = [vertex_degrees[i] for i in metabolite_inds]\n",
        "sorted_metabolites = [i[0] for i in sorted(enumerate(metabolite_degrees),\n",
        "                          key=lambda x:x[1],\n",
        "                          reverse=True)]\n",
        "\n",
        "{ metabolite_names[metabolite_id] for metabolite_id in sorted_metabolites[0:6] }\n"
      ],
      "execution_count": 24,
      "outputs": [
        {
          "output_type": "execute_result",
          "data": {
            "text/plain": [
              "{'ADP',\n",
              " 'ATP',\n",
              " '[protein] (L-serine/L-threonine) phosphate',\n",
              " '[protein]-(L-serine/L-threonine)',\n",
              " 'coenzyme A',\n",
              " 'phosphate'}"
            ]
          },
          "metadata": {},
          "execution_count": 24
        }
      ]
    },
    {
      "cell_type": "markdown",
      "metadata": {
        "id": "-GIQZyUhmQ0l"
      },
      "source": [
        "<font color=\"orange\">**Task:** *Plot the distribution of the degrees of all of the metabolite vertices, on log-log scale*  (indegree+outdegree counted together).</font>\n",
        "\n",
        "(hint: use `degree_distribution` in igraph, with `vertices=metabolite_inds`; use the `.bins()` method to get the bin counts out; you can use `matplotlib.pyplot.loglog` to plot)\n",
        "\n",
        "(hint: do not try to plot bin counts of zero, as they cannot be plotted on a log scale; those zero counts should be removed before plotting)"
      ]
    },
    {
      "cell_type": "code",
      "metadata": {
        "id": "amioQH17mQ0m",
        "outputId": "df1bb42c-563a-4122-b62c-073e07f21dc7",
        "colab": {
          "base_uri": "https://localhost:8080/",
          "height": 454
        }
      },
      "source": [
        "metab_degree_dist = hmn_graph.degree_distribution(vertices=metabolite_inds)\n",
        "xs, ys = zip(*[(left, count) for left, _, count in metab_degree_dist.bins() if count > 0])\n",
        "matplotlib.pyplot.loglog(xs, ys)\n",
        "matplotlib.pyplot.xlabel(\"k\")\n",
        "matplotlib.pyplot.ylabel(\"N(k)\")\n",
        "matplotlib.pyplot.show()"
      ],
      "execution_count": 25,
      "outputs": [
        {
          "output_type": "display_data",
          "data": {
            "text/plain": [
              "<Figure size 640x480 with 1 Axes>"
            ],
            "image/png": "[encoded data removed]"
          },
          "metadata": {}
        }
      ]
    },
    {
      "cell_type": "markdown",
      "metadata": {
        "id": "setHfEoHmQ0r"
      },
      "source": [
        "<font color=\"orange\">**Question**: *what is the exponent α of the best-fit power-law to the degree distribution?*</font>\n",
        "\n",
        "(hint: use `igraph.statistics.power_law_fit`, and on the object that is returned, get the value of the `.alpha` variable)"
      ]
    },
    {
      "cell_type": "code",
      "metadata": {
        "id": "l_YlI30rmQ0s",
        "outputId": "6abdb4e0-aea5-4c9b-f08b-352a57eb4daa",
        "colab": {
          "base_uri": "https://localhost:8080/"
        }
      },
      "source": [
        "alpha = igraph.statistics.power_law_fit(metabolite_degrees).alpha\n",
        "print(\"%.2f\" % alpha)"
      ],
      "execution_count": 26,
      "outputs": [
        {
          "output_type": "stream",
          "name": "stdout",
          "text": [
            "2.02\n"
          ]
        }
      ]
    },
    {
      "cell_type": "markdown",
      "metadata": {
        "id": "eS8PayLEmQ0w"
      },
      "source": [
        "<font color=\"orange\">**Conceptual questions**: *How does the α that you get compare to the estimate of the power-law exponent reported by Jeong et al. in their 2000 article in Nature, “The large-scale organization of metabolic networks” (vol. 407, pp. 651–654) (see page 14 of reading-for-class-06.pdf)? Based on structure of the network that you analyzed (bipartite, containing reactions) vs. the structure of the network that they analyzed (network projected to a network containing only metabolites), is it appropriate to compare the exponents? Why or why not?*</font>\n",
        "\n",
        "(You may also find page 12 of the supplementary material for the Jeong et al. article useful; that can be found [here](https://drive.google.com/file/d/1mEY3ikVKwUMVBiQDcM7-G-n1FFphm8LK/view?usp=share_link))."
      ]
    },
    {
      "cell_type": "markdown",
      "source": [
        "Answer: The alpha we get is 2.02 and the gamma on the paper was 2.2 which is a similar value.\n",
        "But, comparing the exponents directly might be not appropriate, because of the structural differences between the networks analyzed. The network analyzed in our work is bipartite graph which contains both metabolites and reactions as distinct types of vertices. On the other hand, the paper focused on networks projected to contain only metabolites, effectively transforming the network into a unipartite graph.\n",
        "In a bipartite graph, edges connect two types of nodes (metabolites and reactions), which can lead to different topological properties compared to a unipartite graph where edges connect nodes of the same type (only metabolites).\n",
        "\n"
      ],
      "metadata": {
        "id": "I15pVpHA6o8k"
      }
    },
    {
      "cell_type": "markdown",
      "metadata": {
        "id": "m-EskAbNmQ0x"
      },
      "source": [
        "**Task**: calculate the shortest-path-lengths between all pairs of metabolites (vertices) in the giant weakly connected component of the graph, discarding direction information in the graph.\n",
        "\n",
        "(hint: use `igraph.Graph.connected_components` with `mode=weak` to get the giant weakly-connected component; then use `components.membership` to get a list (of length equal to the number of vertices) specifying which component each vertex is a member of. Then call `sizes()` on the object returned from `connected_components()` to get the sizes of each component, and use `numpy.argmax` to confirm that component 0 is the giant component. Then use `enumerate` to get the giant component members; then use `igraph.Graph.distances` with `mode=igraph.ALL`, with\n",
        "`source=<metabolite_vertex_indices>` and `target=<metabolite_vertex_indices>` to get the\n",
        "all-pairs-shortest-paths.)"
      ]
    },
    {
      "cell_type": "code",
      "metadata": {
        "id": "IidMDNlomQ0x",
        "colab": {
          "base_uri": "https://localhost:8080/"
        },
        "outputId": "6a75530a-5f69-4579-de31-3729240758f3"
      },
      "source": [
        "components = hmn_graph.clusters(mode=\"weak\")\n",
        "metabolite_inds_giant_component =  [index for index, item in enumerate(components.membership) if item==0 and index in metabolite_inds]\n",
        "\n",
        "apsp_distances = hmn_graph.shortest_paths(source=metabolite_inds_giant_component,\n",
        "                                                target=metabolite_inds_giant_component,\n",
        "                                                mode=igraph.ALL)"
      ],
      "execution_count": 27,
      "outputs": [
        {
          "output_type": "stream",
          "name": "stderr",
          "text": [
            "<ipython-input-27-abd17d9995b6>:1: DeprecationWarning: Graph.clusters() is deprecated; use Graph.connected_components() instead\n",
            "  components = hmn_graph.clusters(mode=\"weak\")\n",
            "<ipython-input-27-abd17d9995b6>:4: DeprecationWarning: Graph.shortest_paths() is deprecated; use Graph.distances() instead\n",
            "  apsp_distances = hmn_graph.shortest_paths(source=metabolite_inds_giant_component,\n"
          ]
        }
      ]
    },
    {
      "cell_type": "markdown",
      "metadata": {
        "id": "wvxUuJKLmQ05"
      },
      "source": [
        "<font color=\"orange\">**Question:** *What is the average of the shortest-path-lengths between all pairs of metabolites in the giant (weakly connected) component of the network?*</font>\n",
        "\n",
        "(Note: in calculating your average, do not include pairs of vertices that are the same vertex as both source and destination, which would have a distance of zero)\n",
        "\n",
        "(hint: Use `numpy.array`, `numpy.isfinite` and `numpy.mean` to get the mean distance; throw away any shortest-paths distance value if it is infinite.)"
      ]
    },
    {
      "cell_type": "code",
      "metadata": {
        "id": "YlaWe2d7mQ05",
        "outputId": "0ecce51a-a8c6-4a5d-9f9d-8ddd1b56a1d9",
        "colab": {
          "base_uri": "https://localhost:8080/"
        }
      },
      "source": [
        "apsp_np = np.array([item for sublist in apsp_distances for item in sublist])\n",
        "avg_dist = np.mean(apsp_np[apsp_np > 0 & np.isfinite(apsp_np)])\n",
        "print(\"%.2f\" % avg_dist)"
      ],
      "execution_count": 28,
      "outputs": [
        {
          "output_type": "stream",
          "name": "stdout",
          "text": [
            "6.80\n"
          ]
        }
      ]
    },
    {
      "cell_type": "markdown",
      "metadata": {
        "id": "oI6Esit8mQ09"
      },
      "source": [
        "<font color=\"orange\">**Question**: *What is the maximum of the shortest-path-length between all pairs of metabolites (throwing away infinite values, as before) in the giant (weakly connected) component of the network?*</font>\n",
        "\n",
        "(hint: use `numpy.max` and `numpy.isfinite`; Note, you are calculating the diameter of the giant component)"
      ]
    },
    {
      "cell_type": "code",
      "metadata": {
        "id": "9rcHmp4GmQ0-",
        "outputId": "3d9771b1-db2e-425b-c5c6-d9a2c808521c",
        "colab": {
          "base_uri": "https://localhost:8080/"
        }
      },
      "source": [
        "np.max(apsp_np[apsp_np > 0 & np.isfinite(apsp_np)])"
      ],
      "execution_count": 29,
      "outputs": [
        {
          "output_type": "execute_result",
          "data": {
            "text/plain": [
              "18"
            ]
          },
          "metadata": {},
          "execution_count": 29
        }
      ]
    },
    {
      "cell_type": "markdown",
      "metadata": {
        "id": "sO4wmacemQ1C"
      },
      "source": [
        "<font color=\"orange\">**Conceptual question:**  *Why are the average geodesic distances that we get, roughly twice those reported in Fig. 3b of Jeong et al., 2000?*</font>"
      ]
    },
    {
      "cell_type": "markdown",
      "source": [
        "Answer: The average geodesic distance being roughly twice those reported by paper can be attributed to the structural differences in the networks analyzed. Our work considers both metabolites and reactions within a bipartite graph, resulting in longer path lengths as paths must alternate between these two types of nodes. However, the paper's analysis focuses on a unipartite network of only metabolites.\n"
      ],
      "metadata": {
        "id": "RamTiCbl5iWG"
      }
    },
    {
      "cell_type": "markdown",
      "metadata": {
        "id": "kTy5habemQ1D"
      },
      "source": [
        "\n",
        "**Task:** Calculate the shortest-paths betweenness centrality for all metabolites in the directed network.  (hint: use the `betweenness` function with the `vertices=<vector of vertex indices>` option, with `directed=True`)"
      ]
    },
    {
      "cell_type": "code",
      "metadata": {
        "id": "998JZTqZmQ1E"
      },
      "source": [
        "bc = hmn_graph.betweenness(vertices=metabolite_inds, directed=True)"
      ],
      "execution_count": 30,
      "outputs": []
    },
    {
      "cell_type": "markdown",
      "metadata": {
        "id": "CtKZ1l1OmQ1I"
      },
      "source": [
        "<font color=\"orange\">**Task:** *plot the scatter plot of betweenness centrality vs. vertex degree for all metabolites, on log-log scale.*</font>  (In the plot, normalize your betweenness centrality values by dividing by M^2 where M is the number of metabolites.)\n",
        "\n",
        "(hint:  use `numpy.array`, `numpy.where`, and `matplotlib.pyplot.scatter`)"
      ]
    },
    {
      "cell_type": "code",
      "metadata": {
        "scrolled": true,
        "id": "m3pn9FJrmQ1I",
        "outputId": "f7af1422-3d9e-419c-9571-3d218228e157",
        "colab": {
          "base_uri": "https://localhost:8080/",
          "height": 462
        }
      },
      "source": [
        "ax = matplotlib.pyplot.gca()\n",
        "ax.set_xscale(\"log\")\n",
        "ax.set_yscale(\"log\")\n",
        "degrees = np.array(metabolite_degrees)\n",
        "bcnp = np.array(bc)\n",
        "Nmp = len(metabolite_inds)\n",
        "inds_keep = np.where(bcnp > 1e-38)\n",
        "ax.scatter(degrees[inds_keep],\n",
        "           bcnp[inds_keep]/((Nmp-1)*(Nmp-2)))\n",
        "matplotlib.pyplot.xlabel(\"degree\")\n",
        "matplotlib.pyplot.ylabel(\"betweenness centrality\")\n",
        "matplotlib.pyplot.ylim(1e-8, 100)\n",
        "matplotlib.pyplot.xlim(1, 1e+4)\n",
        "matplotlib.pyplot.show()"
      ],
      "execution_count": 17,
      "outputs": [
        {
          "output_type": "display_data",
          "data": {
            "text/plain": [
              "<Figure size 640x480 with 1 Axes>"
            ],
            "image/png": "[encoded data removed]"
          },
          "metadata": {}
        }
      ]
    },
    {
      "cell_type": "markdown",
      "metadata": {
        "id": "MxRPndVVmQ1L"
      },
      "source": [
        "<font color=\"orange\">**Question**: *Among metabolites with degree k=2 , what metabolite has highest betweenness centrality in the network?*</font>\n",
        "\n",
        "(hint:  use `numpy.argmax` and `numpy.where`)"
      ]
    },
    {
      "cell_type": "code",
      "metadata": {
        "id": "EMke0Yz_mQ1N",
        "outputId": "1b29b6c0-82f3-4999-d185-ae0cafff1077",
        "colab": {
          "base_uri": "https://localhost:8080/",
          "height": 35
        }
      },
      "source": [
        "inds_deg2 = np.where(degrees==2)[0]\n",
        "metabolite_names[inds_deg2[np.argmax(bcnp[inds_deg2])]]"
      ],
      "execution_count": 31,
      "outputs": [
        {
          "output_type": "execute_result",
          "data": {
            "text/plain": [
              "'L-arginino-succinate'"
            ],
            "application/vnd.google.colaboratory.intrinsic+json": {
              "type": "string"
            }
          },
          "metadata": {},
          "execution_count": 31
        }
      ]
    },
    {
      "cell_type": "markdown",
      "metadata": {
        "id": "tCwI0EaHmQ1Q"
      },
      "source": [
        "<font color=\"orange\">**Conceptual questions:**</font> Search on this metabolite in the HumanCyc database at [humancyc.org](https://humancyc.org), using the \"Quick Search\" box. Click on the hyperlinked metabolite that is displayed on the search results page. Click on the \"reactions\" tab, in the tabbed window in the lower part of the page. <font color=\"orange\">What important metabolic cycles is this metabolite involved in?</font> Click on the \"urea cycle\". <font color=\"orange\">What is the known consequence of absence of an enzyme in this pathway?</font>"
      ]
    },
    {
      "cell_type": "markdown",
      "source": [
        "Answer:\n",
        "Reactions known to produce this compound case, the metabolic cycle is this,\n",
        "\n",
        "L-aspartate + L-citrulline + ATP\n",
        "→ L-arginino-succinate + AMP + diphosphate + H+\n",
        "\n",
        "In this case, according to HumanCyc, absence of any urea cycle enzyme is lethal. Congenital deficiencies of any of the enzymes of the urea cycle or liver failure cause hyperammonemia, characterized by mental retardation and lethargy.\n"
      ],
      "metadata": {
        "id": "Pve3cOjI3nAs"
      }
    }
  ]
}