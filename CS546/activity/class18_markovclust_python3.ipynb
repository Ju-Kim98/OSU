{
  "nbformat": 4,
  "nbformat_minor": 0,
  "metadata": {
    "kernelspec": {
      "display_name": "Python 3",
      "language": "python",
      "name": "python3"
    },
    "language_info": {
      "codemirror_mode": {
        "name": "ipython",
        "version": 3
      },
      "file_extension": ".py",
      "mimetype": "text/x-python",
      "name": "python",
      "nbconvert_exporter": "python",
      "pygments_lexer": "ipython3",
      "version": "3.6.9"
    },
    "colab": {
      "provenance": []
    }
  },
  "cells": [
    {
      "cell_type": "markdown",
      "metadata": {
        "id": "IVeQvFmcZd3V"
      },
      "source": [
        "# CSX46 Class Session 18: Markov Clustering\n",
        "\n",
        "In today's notebook we will analyze a small network described in a text file that is in an edge-list format called `dot` (the `dot` file format originated with, and is used by, the GraphViz command-line toolset for graph visualization, which can be accessed from python using the `pygraphviz` python package). We will implement a Markov clustering algorithm and run it on the small test graph. Then we will run Markov Clustering on the human protein-protein interaction network and histogram the sizes of the resulting clusters."
      ]
    },
    {
      "cell_type": "markdown",
      "metadata": {
        "id": "BZ5Wx7x7q-Ec"
      },
      "source": [
        "We are going to need to install the PyPI package `pygraphviz`, which requires first installing the Linux packages `graphviz` and `libgraphviz-dev`."
      ]
    },
    {
      "cell_type": "code",
      "metadata": {
        "colab": {
          "base_uri": "https://localhost:8080/"
        },
        "id": "K3D8WcW7ZkZL",
        "outputId": "ebbaf0fe-cf17-48e0-ab2e-e549f2fdf7fe"
      },
      "source": [
        "!apt-get install -y graphviz libgraphviz-dev\n",
        "!pip install pygraphviz\n",
        "import pygraphviz"
      ],
      "execution_count": null,
      "outputs": [
        {
          "output_type": "stream",
          "name": "stdout",
          "text": [
            "Reading package lists... Done\n",
            "Building dependency tree       \n",
            "Reading state information... Done\n",
            "graphviz is already the newest version (2.42.2-3build2).\n",
            "The following additional packages will be installed:\n",
            "  libgail-common libgail18 libgtk2.0-0 libgtk2.0-bin libgtk2.0-common\n",
            "  libgvc6-plugins-gtk libxdot4\n",
            "Suggested packages:\n",
            "  gvfs\n",
            "The following NEW packages will be installed:\n",
            "  libgail-common libgail18 libgraphviz-dev libgtk2.0-0 libgtk2.0-bin\n",
            "  libgtk2.0-common libgvc6-plugins-gtk libxdot4\n",
            "0 upgraded, 8 newly installed, 0 to remove and 22 not upgraded.\n",
            "Need to get 2,148 kB of archives.\n",
            "After this operation, 7,427 kB of additional disk space will be used.\n",
            "Get:1 http://archive.ubuntu.com/ubuntu focal/main amd64 libgtk2.0-common all 2.24.32-4ubuntu4 [126 kB]\n",
            "Get:2 http://archive.ubuntu.com/ubuntu focal/main amd64 libgtk2.0-0 amd64 2.24.32-4ubuntu4 [1,791 kB]\n",
            "Get:3 http://archive.ubuntu.com/ubuntu focal/main amd64 libgail18 amd64 2.24.32-4ubuntu4 [14.7 kB]\n",
            "Get:4 http://archive.ubuntu.com/ubuntu focal/main amd64 libgail-common amd64 2.24.32-4ubuntu4 [116 kB]\n",
            "Get:5 http://archive.ubuntu.com/ubuntu focal/universe amd64 libxdot4 amd64 2.42.2-3build2 [15.4 kB]\n",
            "Get:6 http://archive.ubuntu.com/ubuntu focal/universe amd64 libgvc6-plugins-gtk amd64 2.42.2-3build2 [20.6 kB]\n",
            "Get:7 http://archive.ubuntu.com/ubuntu focal/universe amd64 libgraphviz-dev amd64 2.42.2-3build2 [57.2 kB]\n",
            "Get:8 http://archive.ubuntu.com/ubuntu focal/main amd64 libgtk2.0-bin amd64 2.24.32-4ubuntu4 [7,728 B]\n",
            "Fetched 2,148 kB in 0s (9,628 kB/s)\n",
            "Selecting previously unselected package libgtk2.0-common.\n",
            "(Reading database ... 128275 files and directories currently installed.)\n",
            "Preparing to unpack .../0-libgtk2.0-common_2.24.32-4ubuntu4_all.deb ...\n",
            "Unpacking libgtk2.0-common (2.24.32-4ubuntu4) ...\n",
            "Selecting previously unselected package libgtk2.0-0:amd64.\n",
            "Preparing to unpack .../1-libgtk2.0-0_2.24.32-4ubuntu4_amd64.deb ...\n",
            "Unpacking libgtk2.0-0:amd64 (2.24.32-4ubuntu4) ...\n",
            "Selecting previously unselected package libgail18:amd64.\n",
            "Preparing to unpack .../2-libgail18_2.24.32-4ubuntu4_amd64.deb ...\n",
            "Unpacking libgail18:amd64 (2.24.32-4ubuntu4) ...\n",
            "Selecting previously unselected package libgail-common:amd64.\n",
            "Preparing to unpack .../3-libgail-common_2.24.32-4ubuntu4_amd64.deb ...\n",
            "Unpacking libgail-common:amd64 (2.24.32-4ubuntu4) ...\n",
            "Selecting previously unselected package libxdot4:amd64.\n",
            "Preparing to unpack .../4-libxdot4_2.42.2-3build2_amd64.deb ...\n",
            "Unpacking libxdot4:amd64 (2.42.2-3build2) ...\n",
            "Selecting previously unselected package libgvc6-plugins-gtk.\n",
            "Preparing to unpack .../5-libgvc6-plugins-gtk_2.42.2-3build2_amd64.deb ...\n",
            "Unpacking libgvc6-plugins-gtk (2.42.2-3build2) ...\n",
            "Selecting previously unselected package libgraphviz-dev:amd64.\n",
            "Preparing to unpack .../6-libgraphviz-dev_2.42.2-3build2_amd64.deb ...\n",
            "Unpacking libgraphviz-dev:amd64 (2.42.2-3build2) ...\n",
            "Selecting previously unselected package libgtk2.0-bin.\n",
            "Preparing to unpack .../7-libgtk2.0-bin_2.24.32-4ubuntu4_amd64.deb ...\n",
            "Unpacking libgtk2.0-bin (2.24.32-4ubuntu4) ...\n",
            "Setting up libxdot4:amd64 (2.42.2-3build2) ...\n",
            "Setting up libgtk2.0-common (2.24.32-4ubuntu4) ...\n",
            "Setting up libgtk2.0-0:amd64 (2.24.32-4ubuntu4) ...\n",
            "Setting up libgvc6-plugins-gtk (2.42.2-3build2) ...\n",
            "Setting up libgail18:amd64 (2.24.32-4ubuntu4) ...\n",
            "Setting up libgtk2.0-bin (2.24.32-4ubuntu4) ...\n",
            "Setting up libgail-common:amd64 (2.24.32-4ubuntu4) ...\n",
            "Setting up libgraphviz-dev:amd64 (2.42.2-3build2) ...\n",
            "Processing triggers for man-db (2.9.1-1) ...\n",
            "Processing triggers for libc-bin (2.31-0ubuntu9.9) ...\n",
            "Looking in indexes: https://pypi.org/simple, https://us-python.pkg.dev/colab-wheels/public/simple/\n",
            "Collecting pygraphviz\n",
            "  Downloading pygraphviz-1.10.zip (120 kB)\n",
            "\u001b[2K     \u001b[90m━━━━━━━━━━━━━━━━━━━━━━━━━━━━━━━━━━━━━━━\u001b[0m \u001b[32m120.6/120.6 KB\u001b[0m \u001b[31m2.7 MB/s\u001b[0m eta \u001b[36m0:00:00\u001b[0m\n",
            "\u001b[?25h  Preparing metadata (setup.py) ... \u001b[?25l\u001b[?25hdone\n",
            "Building wheels for collected packages: pygraphviz\n",
            "  Building wheel for pygraphviz (setup.py) ... \u001b[?25l\u001b[?25hdone\n",
            "  Created wheel for pygraphviz: filename=pygraphviz-1.10-cp39-cp39-linux_x86_64.whl size=183755 sha256=edad483cfd2d8756fbe7f8944bdd4ec9eea5619004e07e1aa569e723e8b1a340\n",
            "  Stored in directory: /root/.cache/pip/wheels/fc/2a/e8/14a3ad923e265b2c264a2810d1ae36769ce99421c5dce75312\n",
            "Successfully built pygraphviz\n",
            "Installing collected packages: pygraphviz\n",
            "Successfully installed pygraphviz-1.10\n"
          ]
        }
      ]
    },
    {
      "cell_type": "markdown",
      "metadata": {
        "id": "Zv0nEdN-rKvX"
      },
      "source": [
        "Now install `pycairo` and `igraph`."
      ]
    },
    {
      "cell_type": "code",
      "metadata": {
        "colab": {
          "base_uri": "https://localhost:8080/"
        },
        "id": "dK-uFGwDZd3V",
        "outputId": "53761429-7db1-4118-d7cf-73cca2a3171a"
      },
      "source": [
        "!apt-get install libcairo2-dev libjpeg-dev libgif-dev\n",
        "!pip install pycairo\n",
        "import cairo\n",
        "! pip install python-igraph\n",
        "import igraph"
      ],
      "execution_count": null,
      "outputs": [
        {
          "output_type": "stream",
          "name": "stdout",
          "text": [
            "Reading package lists... Done\n",
            "Building dependency tree       \n",
            "Reading state information... Done\n",
            "libgif-dev is already the newest version (5.1.9-1).\n",
            "libgif-dev set to manually installed.\n",
            "libjpeg-dev is already the newest version (8c-2ubuntu8).\n",
            "libjpeg-dev set to manually installed.\n",
            "The following additional packages will be installed:\n",
            "  libblkid-dev libcairo-script-interpreter2 libffi-dev libglib2.0-dev\n",
            "  libglib2.0-dev-bin liblzo2-2 libmount-dev libpixman-1-dev libselinux1-dev\n",
            "  libsepol1-dev libxcb-render0-dev libxcb-shm0-dev\n",
            "Suggested packages:\n",
            "  libcairo2-doc libgirepository1.0-dev libglib2.0-doc libgdk-pixbuf2.0-bin\n",
            "  | libgdk-pixbuf2.0-dev libxml2-utils\n",
            "The following NEW packages will be installed:\n",
            "  libblkid-dev libcairo-script-interpreter2 libcairo2-dev libffi-dev\n",
            "  libglib2.0-dev libglib2.0-dev-bin liblzo2-2 libmount-dev libpixman-1-dev\n",
            "  libselinux1-dev libsepol1-dev libxcb-render0-dev libxcb-shm0-dev\n",
            "0 upgraded, 13 newly installed, 0 to remove and 22 not upgraded.\n",
            "Need to get 3,492 kB of archives.\n",
            "After this operation, 20.0 MB of additional disk space will be used.\n",
            "Get:1 http://archive.ubuntu.com/ubuntu focal/main amd64 liblzo2-2 amd64 2.10-2 [50.8 kB]\n",
            "Get:2 http://archive.ubuntu.com/ubuntu focal/main amd64 libcairo-script-interpreter2 amd64 1.16.0-4ubuntu1 [54.2 kB]\n",
            "Get:3 http://archive.ubuntu.com/ubuntu focal-updates/main amd64 libpixman-1-dev amd64 0.38.4-0ubuntu2.1 [243 kB]\n",
            "Get:4 http://archive.ubuntu.com/ubuntu focal/main amd64 libxcb-render0-dev amd64 1.14-2 [18.4 kB]\n",
            "Get:5 http://archive.ubuntu.com/ubuntu focal/main amd64 libxcb-shm0-dev amd64 1.14-2 [6,716 B]\n",
            "Get:6 http://archive.ubuntu.com/ubuntu focal/main amd64 libffi-dev amd64 3.3-4 [57.0 kB]\n",
            "Get:7 http://archive.ubuntu.com/ubuntu focal-updates/main amd64 libglib2.0-dev-bin amd64 2.64.6-1~ubuntu20.04.4 [109 kB]\n",
            "Get:8 http://archive.ubuntu.com/ubuntu focal-updates/main amd64 libblkid-dev amd64 2.34-0.1ubuntu9.3 [167 kB]\n",
            "Get:9 http://archive.ubuntu.com/ubuntu focal-updates/main amd64 libmount-dev amd64 2.34-0.1ubuntu9.3 [176 kB]\n",
            "Get:10 http://archive.ubuntu.com/ubuntu focal-updates/main amd64 libsepol1-dev amd64 3.0-1ubuntu0.1 [325 kB]\n",
            "Get:11 http://archive.ubuntu.com/ubuntu focal/main amd64 libselinux1-dev amd64 3.0-1build2 [151 kB]\n",
            "Get:12 http://archive.ubuntu.com/ubuntu focal-updates/main amd64 libglib2.0-dev amd64 2.64.6-1~ubuntu20.04.4 [1,506 kB]\n",
            "Get:13 http://archive.ubuntu.com/ubuntu focal/main amd64 libcairo2-dev amd64 1.16.0-4ubuntu1 [627 kB]\n",
            "Fetched 3,492 kB in 0s (14.5 MB/s)\n",
            "Selecting previously unselected package liblzo2-2:amd64.\n",
            "(Reading database ... 128419 files and directories currently installed.)\n",
            "Preparing to unpack .../00-liblzo2-2_2.10-2_amd64.deb ...\n",
            "Unpacking liblzo2-2:amd64 (2.10-2) ...\n",
            "Selecting previously unselected package libcairo-script-interpreter2:amd64.\n",
            "Preparing to unpack .../01-libcairo-script-interpreter2_1.16.0-4ubuntu1_amd64.deb ...\n",
            "Unpacking libcairo-script-interpreter2:amd64 (1.16.0-4ubuntu1) ...\n",
            "Selecting previously unselected package libpixman-1-dev:amd64.\n",
            "Preparing to unpack .../02-libpixman-1-dev_0.38.4-0ubuntu2.1_amd64.deb ...\n",
            "Unpacking libpixman-1-dev:amd64 (0.38.4-0ubuntu2.1) ...\n",
            "Selecting previously unselected package libxcb-render0-dev:amd64.\n",
            "Preparing to unpack .../03-libxcb-render0-dev_1.14-2_amd64.deb ...\n",
            "Unpacking libxcb-render0-dev:amd64 (1.14-2) ...\n",
            "Selecting previously unselected package libxcb-shm0-dev:amd64.\n",
            "Preparing to unpack .../04-libxcb-shm0-dev_1.14-2_amd64.deb ...\n",
            "Unpacking libxcb-shm0-dev:amd64 (1.14-2) ...\n",
            "Selecting previously unselected package libffi-dev:amd64.\n",
            "Preparing to unpack .../05-libffi-dev_3.3-4_amd64.deb ...\n",
            "Unpacking libffi-dev:amd64 (3.3-4) ...\n",
            "Selecting previously unselected package libglib2.0-dev-bin.\n",
            "Preparing to unpack .../06-libglib2.0-dev-bin_2.64.6-1~ubuntu20.04.4_amd64.deb ...\n",
            "Unpacking libglib2.0-dev-bin (2.64.6-1~ubuntu20.04.4) ...\n",
            "Selecting previously unselected package libblkid-dev:amd64.\n",
            "Preparing to unpack .../07-libblkid-dev_2.34-0.1ubuntu9.3_amd64.deb ...\n",
            "Unpacking libblkid-dev:amd64 (2.34-0.1ubuntu9.3) ...\n",
            "Selecting previously unselected package libmount-dev:amd64.\n",
            "Preparing to unpack .../08-libmount-dev_2.34-0.1ubuntu9.3_amd64.deb ...\n",
            "Unpacking libmount-dev:amd64 (2.34-0.1ubuntu9.3) ...\n",
            "Selecting previously unselected package libsepol1-dev:amd64.\n",
            "Preparing to unpack .../09-libsepol1-dev_3.0-1ubuntu0.1_amd64.deb ...\n",
            "Unpacking libsepol1-dev:amd64 (3.0-1ubuntu0.1) ...\n",
            "Selecting previously unselected package libselinux1-dev:amd64.\n",
            "Preparing to unpack .../10-libselinux1-dev_3.0-1build2_amd64.deb ...\n",
            "Unpacking libselinux1-dev:amd64 (3.0-1build2) ...\n",
            "Selecting previously unselected package libglib2.0-dev:amd64.\n",
            "Preparing to unpack .../11-libglib2.0-dev_2.64.6-1~ubuntu20.04.4_amd64.deb ...\n",
            "Unpacking libglib2.0-dev:amd64 (2.64.6-1~ubuntu20.04.4) ...\n",
            "Selecting previously unselected package libcairo2-dev:amd64.\n",
            "Preparing to unpack .../12-libcairo2-dev_1.16.0-4ubuntu1_amd64.deb ...\n",
            "Unpacking libcairo2-dev:amd64 (1.16.0-4ubuntu1) ...\n",
            "Setting up libglib2.0-dev-bin (2.64.6-1~ubuntu20.04.4) ...\n",
            "Setting up libblkid-dev:amd64 (2.34-0.1ubuntu9.3) ...\n",
            "Setting up libpixman-1-dev:amd64 (0.38.4-0ubuntu2.1) ...\n",
            "Setting up libsepol1-dev:amd64 (3.0-1ubuntu0.1) ...\n",
            "Setting up liblzo2-2:amd64 (2.10-2) ...\n",
            "Setting up libffi-dev:amd64 (3.3-4) ...\n",
            "Setting up libxcb-shm0-dev:amd64 (1.14-2) ...\n",
            "Setting up libxcb-render0-dev:amd64 (1.14-2) ...\n",
            "Setting up libmount-dev:amd64 (2.34-0.1ubuntu9.3) ...\n",
            "Setting up libcairo-script-interpreter2:amd64 (1.16.0-4ubuntu1) ...\n",
            "Setting up libselinux1-dev:amd64 (3.0-1build2) ...\n",
            "Setting up libglib2.0-dev:amd64 (2.64.6-1~ubuntu20.04.4) ...\n",
            "Processing triggers for libglib2.0-0:amd64 (2.64.6-1~ubuntu20.04.4) ...\n",
            "Processing triggers for libc-bin (2.31-0ubuntu9.9) ...\n",
            "Processing triggers for man-db (2.9.1-1) ...\n",
            "Setting up libcairo2-dev:amd64 (1.16.0-4ubuntu1) ...\n",
            "Looking in indexes: https://pypi.org/simple, https://us-python.pkg.dev/colab-wheels/public/simple/\n",
            "Collecting pycairo\n",
            "  Downloading pycairo-1.23.0.tar.gz (344 kB)\n",
            "\u001b[2K     \u001b[90m━━━━━━━━━━━━━━━━━━━━━━━━━━━━━━━━━━━━━━━\u001b[0m \u001b[32m344.6/344.6 KB\u001b[0m \u001b[31m9.3 MB/s\u001b[0m eta \u001b[36m0:00:00\u001b[0m\n",
            "\u001b[?25h  Installing build dependencies ... \u001b[?25l\u001b[?25hdone\n",
            "  Getting requirements to build wheel ... \u001b[?25l\u001b[?25hdone\n",
            "  Installing backend dependencies ... \u001b[?25l\u001b[?25hdone\n",
            "  Preparing metadata (pyproject.toml) ... \u001b[?25l\u001b[?25hdone\n",
            "Building wheels for collected packages: pycairo\n",
            "  Building wheel for pycairo (pyproject.toml) ... \u001b[?25l\u001b[?25hdone\n",
            "  Created wheel for pycairo: filename=pycairo-1.23.0-cp39-cp39-linux_x86_64.whl size=326913 sha256=63459944649e79df662c0d70d1ae510f41cba0b6f6923bf4c9be336081eb28db\n",
            "  Stored in directory: /root/.cache/pip/wheels/7e/33/44/ed63d7850b41775b9c99e2677fe7cc4c6afd3b3eb767be75e7\n",
            "Successfully built pycairo\n",
            "Installing collected packages: pycairo\n",
            "Successfully installed pycairo-1.23.0\n",
            "Looking in indexes: https://pypi.org/simple, https://us-python.pkg.dev/colab-wheels/public/simple/\n",
            "Collecting python-igraph\n",
            "  Downloading python-igraph-0.10.4.tar.gz (9.5 kB)\n",
            "  Preparing metadata (setup.py) ... \u001b[?25l\u001b[?25hdone\n",
            "Collecting igraph==0.10.4\n",
            "  Downloading igraph-0.10.4-cp39-abi3-manylinux_2_17_x86_64.manylinux2014_x86_64.whl (3.3 MB)\n",
            "\u001b[2K     \u001b[90m━━━━━━━━━━━━━━━━━━━━━━━━━━━━━━━━━━━━━━━━\u001b[0m \u001b[32m3.3/3.3 MB\u001b[0m \u001b[31m42.3 MB/s\u001b[0m eta \u001b[36m0:00:00\u001b[0m\n",
            "\u001b[?25hCollecting texttable>=1.6.2\n",
            "  Downloading texttable-1.6.7-py2.py3-none-any.whl (10 kB)\n",
            "Building wheels for collected packages: python-igraph\n",
            "  Building wheel for python-igraph (setup.py) ... \u001b[?25l\u001b[?25hdone\n",
            "  Created wheel for python-igraph: filename=python_igraph-0.10.4-py3-none-any.whl size=9076 sha256=ca533d3fb60fea86d7a846f77408373c898bb9382cbd1ad7fb03b9a358661cbf\n",
            "  Stored in directory: /root/.cache/pip/wheels/dc/07/ac/bff79052fd6222d1239b228cd24a47222f227c2350f9c4df01\n",
            "Successfully built python-igraph\n",
            "Installing collected packages: texttable, igraph, python-igraph\n",
            "Successfully installed igraph-0.10.4 python-igraph-0.10.4 texttable-1.6.7\n"
          ]
        }
      ]
    },
    {
      "cell_type": "markdown",
      "metadata": {
        "id": "M8sh9yKTrQ9M"
      },
      "source": [
        "Now install all the other data sciencey kinds of packages that we will need (`pandas`, `matplotlib.pyplot`, `numpy`, `collections`, and `csv`)."
      ]
    },
    {
      "cell_type": "code",
      "metadata": {
        "id": "LmTBqaUmrbEE"
      },
      "source": [
        "import numpy as np\n",
        "import pandas as pd\n",
        "import csv, collections\n",
        "import matplotlib.pyplot as plt"
      ],
      "execution_count": null,
      "outputs": []
    },
    {
      "cell_type": "markdown",
      "metadata": {
        "id": "LmA4lR6HbDyf"
      },
      "source": [
        "Download the URL https://csx46.s3-us-west-2.amazonaws.com/markov-clustering-test-network.dot to the file `markov-clustering-test-network.dot`"
      ]
    },
    {
      "cell_type": "code",
      "metadata": {
        "colab": {
          "base_uri": "https://localhost:8080/"
        },
        "id": "AUafJRjPbHmI",
        "outputId": "c9a531c6-d665-4432-a0fa-ff97b48f3626"
      },
      "source": [
        "!curl https://csx46.s3-us-west-2.amazonaws.com/markov-clustering-test-network.dot > markov-clustering-test-network.dot"
      ],
      "execution_count": null,
      "outputs": [
        {
          "output_type": "stream",
          "name": "stdout",
          "text": [
            "  % Total    % Received % Xferd  Average Speed   Time    Time     Time  Current\n",
            "                                 Dload  Upload   Total   Spent    Left  Speed\n",
            "100   195  100   195    0     0    270      0 --:--:-- --:--:-- --:--:--   269\n"
          ]
        }
      ]
    },
    {
      "cell_type": "markdown",
      "metadata": {
        "id": "nSdhdtn3bUEP"
      },
      "source": [
        "View the file that we just downloaded, usint the shell command `cat`. You can see that it is basically an edge-list description of an undirected graph, with the field separator `--` and with the semicolon character as the record separator."
      ]
    },
    {
      "cell_type": "code",
      "metadata": {
        "colab": {
          "base_uri": "https://localhost:8080/"
        },
        "id": "i6Xxf7MObaav",
        "outputId": "05fb9ace-42ec-46b5-9c68-814ca096f0f5"
      },
      "source": [
        "!cat markov-clustering-test-network.dot"
      ],
      "execution_count": null,
      "outputs": [
        {
          "output_type": "stream",
          "name": "stdout",
          "text": [
            "graph graphwcluster {\n",
            "1--2;\n",
            "1--6;\n",
            "1--7;\n",
            "2--7;\n",
            "6--7;\n",
            "2--4;\n",
            "2--3;\n",
            "3--6;\n",
            "3--4;\n",
            "3--7;\n",
            "4--7;\n",
            "4--5;\n",
            "4--6;\n",
            "5--7;\n",
            "5--6;\n",
            "5--8;\n",
            "8--9;\n",
            "9--10;\n",
            "9--12;\n",
            "9--13;\n",
            "10--11;\n",
            "10--12;\n",
            "10--13;\n",
            "11--12;\n",
            "11--13;\n",
            "12--13;\n",
            "}\n"
          ]
        }
      ]
    },
    {
      "cell_type": "markdown",
      "metadata": {
        "id": "asKAeC73Zd3V"
      },
      "source": [
        "Use the static clsas method `pygrahpviz.AGraph` to load the file `markov-clustering-test-network.dot` and return an object of class `pygraphviz.agraph.AGraph` containing an undirected graph."
      ]
    },
    {
      "cell_type": "code",
      "metadata": {
        "colab": {
          "base_uri": "https://localhost:8080/"
        },
        "id": "1vbcPwBcZd3V",
        "outputId": "a447a135-70e1-4358-ed7a-a5829828ca35"
      },
      "source": [
        "test_graph = pygraphviz.AGraph(\"markov-clustering-test-network.dot\")\n",
        "type(test_graph)"
      ],
      "execution_count": null,
      "outputs": [
        {
          "output_type": "execute_result",
          "data": {
            "text/plain": [
              "pygraphviz.agraph.AGraph"
            ]
          },
          "metadata": {},
          "execution_count": 6
        }
      ]
    },
    {
      "cell_type": "markdown",
      "metadata": {
        "id": "WyAE2D2ZZd3X"
      },
      "source": [
        "Get the set of edges (as a list of pairlists) using the `pygraphviz.agraph.AGraph.edges()` method"
      ]
    },
    {
      "cell_type": "code",
      "metadata": {
        "colab": {
          "base_uri": "https://localhost:8080/"
        },
        "id": "yfQ-Ne7gZd3X",
        "outputId": "2a3e6089-f326-41b1-8fb0-af93ab4f9430"
      },
      "source": [
        "edges = test_graph.edges()\n",
        "edges[0:5]"
      ],
      "execution_count": null,
      "outputs": [
        {
          "output_type": "execute_result",
          "data": {
            "text/plain": [
              "[('1', '2'), ('1', '6'), ('1', '7'), ('2', '7'), ('2', '4')]"
            ]
          },
          "metadata": {},
          "execution_count": 7
        }
      ]
    },
    {
      "cell_type": "markdown",
      "metadata": {
        "id": "YkEUKFYQZd3X"
      },
      "source": [
        "Make an `igraph.Graph` object from the `edges` list using the class method `igraph.Graph.TupleList()`:"
      ]
    },
    {
      "cell_type": "code",
      "metadata": {
        "colab": {
          "base_uri": "https://localhost:8080/",
          "height": 36
        },
        "id": "0Qc_x-tmZd3X",
        "outputId": "28103529-b3cc-481c-9c57-00528e9a87d1"
      },
      "source": [
        "test_igraph = igraph.Graph.TupleList(edges)\n",
        "test_igraph.summary()"
      ],
      "execution_count": null,
      "outputs": [
        {
          "output_type": "execute_result",
          "data": {
            "text/plain": [
              "'IGRAPH UN-- 13 26 -- \\n+ attr: name (v)'"
            ],
            "application/vnd.google.colaboratory.intrinsic+json": {
              "type": "string"
            }
          },
          "metadata": {},
          "execution_count": 8
        }
      ]
    },
    {
      "cell_type": "markdown",
      "metadata": {
        "id": "fEUsaNcqZd3X"
      },
      "source": [
        "Draw a plot of the graph using the function `igraph.drawing.plot()`. Use the `igraph.Graph.vs()` to get a VertexSet and index into it using `name`; that will give you a list of vertex names to pass to the `plot` function as argument `vertex_label`. How many distinct network communities do you expect to get from Markov clustering?"
      ]
    },
    {
      "cell_type": "code",
      "metadata": {
        "colab": {
          "base_uri": "https://localhost:8080/",
          "height": 422
        },
        "id": "9pXL531xZd3X",
        "outputId": "96875739-1e81-4e2d-8f46-07ec4a77ebc8"
      },
      "source": [
        "igraph.drawing.plot(test_igraph, bbox=[0, 0, 300, 300], vertex_label=test_igraph.vs['name'])"
      ],
      "execution_count": null,
      "outputs": [
        {
          "output_type": "execute_result",
          "data": {
            "text/plain": [
              "<igraph.drawing.cairo.plot.CairoPlot at 0x7fbcd8c6ccd0>"
            ],
            "image/svg+xml": "<?xml version=\"1.0\" encoding=\"UTF-8\"?>\n<svg xmlns=\"http://www.w3.org/2000/svg\" xmlns:xlink=\"http://www.w3.org/1999/xlink\" width=\"300pt\" height=\"300pt\" viewBox=\"0 0 300 300\" version=\"1.1\">\n<defs>\n<g>\n<symbol overflow=\"visible\" id=\"glyph0-0\">\n<path style=\"stroke:none;\" d=\"M 0.46875 0 L 0.46875 -9.328125 L 4.1875 -9.328125 L 4.1875 0 Z M 0.9375 -0.46875 L 3.71875 -0.46875 L 3.71875 -8.859375 L 0.9375 -8.859375 Z M 0.9375 -0.46875 \"/>\n</symbol>\n<symbol overflow=\"visible\" id=\"glyph0-1\">\n<path style=\"stroke:none;\" d=\"M 1.078125 0 L 1.078125 -0.984375 L 4.078125 -0.984375 L 4.078125 -7.96875 C 3.984375 -7.789062 3.828125 -7.617188 3.609375 -7.453125 C 3.390625 -7.296875 3.140625 -7.15625 2.859375 -7.03125 C 2.578125 -6.914062 2.273438 -6.820312 1.953125 -6.75 C 1.628906 -6.675781 1.316406 -6.640625 1.015625 -6.640625 L 1.015625 -7.65625 C 1.347656 -7.65625 1.675781 -7.691406 2 -7.765625 C 2.332031 -7.847656 2.640625 -7.957031 2.921875 -8.09375 C 3.203125 -8.238281 3.453125 -8.40625 3.671875 -8.59375 C 3.890625 -8.78125 4.054688 -8.988281 4.171875 -9.21875 L 5.3125 -9.21875 L 5.3125 -0.984375 L 7.71875 -0.984375 L 7.71875 0 Z M 1.078125 0 \"/>\n</symbol>\n<symbol overflow=\"visible\" id=\"glyph0-2\">\n<path style=\"stroke:none;\" d=\"M 0.984375 0 L 0.984375 -0.796875 C 1.179688 -1.242188 1.441406 -1.648438 1.765625 -2.015625 C 2.097656 -2.390625 2.453125 -2.742188 2.828125 -3.078125 C 3.203125 -3.410156 3.578125 -3.726562 3.953125 -4.03125 C 4.328125 -4.332031 4.664062 -4.628906 4.96875 -4.921875 C 5.269531 -5.210938 5.515625 -5.507812 5.703125 -5.8125 C 5.898438 -6.113281 6 -6.4375 6 -6.78125 C 6 -7.050781 5.953125 -7.285156 5.859375 -7.484375 C 5.773438 -7.679688 5.648438 -7.84375 5.484375 -7.96875 C 5.328125 -8.101562 5.132812 -8.203125 4.90625 -8.265625 C 4.6875 -8.328125 4.441406 -8.359375 4.171875 -8.359375 C 3.929688 -8.359375 3.703125 -8.320312 3.484375 -8.25 C 3.273438 -8.1875 3.085938 -8.082031 2.921875 -7.9375 C 2.765625 -7.800781 2.632812 -7.628906 2.53125 -7.421875 C 2.4375 -7.222656 2.375 -6.992188 2.34375 -6.734375 L 1.09375 -6.84375 C 1.132812 -7.1875 1.226562 -7.507812 1.375 -7.8125 C 1.519531 -8.125 1.71875 -8.394531 1.96875 -8.625 C 2.21875 -8.851562 2.523438 -9.03125 2.890625 -9.15625 C 3.265625 -9.289062 3.691406 -9.359375 4.171875 -9.359375 C 4.648438 -9.359375 5.078125 -9.300781 5.453125 -9.1875 C 5.835938 -9.082031 6.164062 -8.925781 6.4375 -8.71875 C 6.707031 -8.507812 6.910156 -8.242188 7.046875 -7.921875 C 7.191406 -7.609375 7.265625 -7.25 7.265625 -6.84375 C 7.265625 -6.414062 7.164062 -6.019531 6.96875 -5.65625 C 6.769531 -5.289062 6.515625 -4.941406 6.203125 -4.609375 C 5.898438 -4.285156 5.5625 -3.972656 5.1875 -3.671875 C 4.8125 -3.378906 4.445312 -3.085938 4.09375 -2.796875 C 3.738281 -2.503906 3.414062 -2.210938 3.125 -1.921875 C 2.832031 -1.628906 2.613281 -1.320312 2.46875 -1 L 7.40625 -1 L 7.40625 0 Z M 0.984375 0 \"/>\n</symbol>\n<symbol overflow=\"visible\" id=\"glyph0-3\">\n<path style=\"stroke:none;\" d=\"M 7.5 -3.046875 C 7.5 -2.585938 7.429688 -2.164062 7.296875 -1.78125 C 7.160156 -1.394531 6.957031 -1.054688 6.6875 -0.765625 C 6.425781 -0.484375 6.101562 -0.257812 5.71875 -0.09375 C 5.332031 0.0625 4.882812 0.140625 4.375 0.140625 C 3.820312 0.140625 3.332031 0.0351562 2.90625 -0.171875 C 2.488281 -0.390625 2.140625 -0.691406 1.859375 -1.078125 C 1.585938 -1.472656 1.378906 -1.945312 1.234375 -2.5 C 1.097656 -3.0625 1.03125 -3.691406 1.03125 -4.390625 C 1.03125 -5.191406 1.109375 -5.898438 1.265625 -6.515625 C 1.421875 -7.140625 1.644531 -7.660156 1.9375 -8.078125 C 2.238281 -8.503906 2.601562 -8.820312 3.03125 -9.03125 C 3.457031 -9.25 3.941406 -9.359375 4.484375 -9.359375 C 4.804688 -9.359375 5.109375 -9.320312 5.390625 -9.25 C 5.679688 -9.1875 5.941406 -9.078125 6.171875 -8.921875 C 6.410156 -8.773438 6.617188 -8.578125 6.796875 -8.328125 C 6.972656 -8.078125 7.113281 -7.769531 7.21875 -7.40625 L 6.046875 -7.1875 C 5.921875 -7.601562 5.71875 -7.90625 5.4375 -8.09375 C 5.15625 -8.28125 4.832031 -8.375 4.46875 -8.375 C 4.125 -8.375 3.816406 -8.289062 3.546875 -8.125 C 3.273438 -7.96875 3.039062 -7.738281 2.84375 -7.4375 C 2.65625 -7.132812 2.507812 -6.757812 2.40625 -6.3125 C 2.300781 -5.863281 2.25 -5.34375 2.25 -4.75 C 2.476562 -5.164062 2.796875 -5.476562 3.203125 -5.6875 C 3.609375 -5.90625 4.070312 -6.015625 4.59375 -6.015625 C 5.03125 -6.015625 5.425781 -5.941406 5.78125 -5.796875 C 6.144531 -5.660156 6.453125 -5.460938 6.703125 -5.203125 C 6.953125 -4.941406 7.144531 -4.628906 7.28125 -4.265625 C 7.425781 -3.898438 7.5 -3.492188 7.5 -3.046875 Z M 6.234375 -3 C 6.234375 -3.300781 6.191406 -3.578125 6.109375 -3.828125 C 6.035156 -4.085938 5.914062 -4.304688 5.75 -4.484375 C 5.582031 -4.671875 5.378906 -4.816406 5.140625 -4.921875 C 4.898438 -5.023438 4.617188 -5.078125 4.296875 -5.078125 C 4.078125 -5.078125 3.851562 -5.035156 3.625 -4.953125 C 3.394531 -4.878906 3.1875 -4.769531 3 -4.625 C 2.820312 -4.476562 2.671875 -4.289062 2.546875 -4.0625 C 2.429688 -3.84375 2.375 -3.582031 2.375 -3.28125 C 2.375 -2.957031 2.421875 -2.648438 2.515625 -2.359375 C 2.609375 -2.066406 2.738281 -1.804688 2.90625 -1.578125 C 3.082031 -1.359375 3.289062 -1.179688 3.53125 -1.046875 C 3.769531 -0.921875 4.039062 -0.859375 4.34375 -0.859375 C 4.632812 -0.859375 4.894531 -0.90625 5.125 -1 C 5.363281 -1.101562 5.566406 -1.25 5.734375 -1.4375 C 5.898438 -1.625 6.023438 -1.847656 6.109375 -2.109375 C 6.191406 -2.378906 6.234375 -2.675781 6.234375 -3 Z M 6.234375 -3 \"/>\n</symbol>\n<symbol overflow=\"visible\" id=\"glyph0-4\">\n<path style=\"stroke:none;\" d=\"M 7.3125 -8.265625 C 6.875 -7.640625 6.457031 -6.988281 6.0625 -6.3125 C 5.675781 -5.644531 5.332031 -4.960938 5.03125 -4.265625 C 4.738281 -3.578125 4.503906 -2.875 4.328125 -2.15625 C 4.160156 -1.445312 4.078125 -0.726562 4.078125 0 L 2.796875 0 C 2.796875 -0.71875 2.882812 -1.4375 3.0625 -2.15625 C 3.25 -2.875 3.492188 -3.582031 3.796875 -4.28125 C 4.097656 -4.976562 4.445312 -5.660156 4.84375 -6.328125 C 5.25 -6.992188 5.675781 -7.628906 6.125 -8.234375 L 1.078125 -8.234375 L 1.078125 -9.21875 L 7.3125 -9.21875 Z M 7.3125 -8.265625 \"/>\n</symbol>\n<symbol overflow=\"visible\" id=\"glyph0-5\">\n<path style=\"stroke:none;\" d=\"M 6.40625 -2.1875 L 6.40625 0 L 5.171875 0 L 5.171875 -2.1875 L 0.703125 -2.1875 L 0.703125 -3.140625 L 5.046875 -9.21875 L 6.40625 -9.21875 L 6.40625 -3.15625 L 7.6875 -3.15625 L 7.6875 -2.1875 Z M 5.171875 -7.890625 L 1.75 -3.15625 L 5.171875 -3.15625 Z M 5.171875 -7.890625 \"/>\n</symbol>\n<symbol overflow=\"visible\" id=\"glyph0-6\">\n<path style=\"stroke:none;\" d=\"M 7.515625 -2.53125 C 7.515625 -2.113281 7.441406 -1.738281 7.296875 -1.40625 C 7.148438 -1.082031 6.9375 -0.804688 6.65625 -0.578125 C 6.382812 -0.347656 6.046875 -0.171875 5.640625 -0.046875 C 5.234375 0.078125 4.769531 0.140625 4.25 0.140625 C 3.65625 0.140625 3.148438 0.0664062 2.734375 -0.078125 C 2.328125 -0.234375 1.988281 -0.429688 1.71875 -0.671875 C 1.457031 -0.921875 1.257812 -1.195312 1.125 -1.5 C 1 -1.8125 0.914062 -2.132812 0.875 -2.46875 L 2.140625 -2.59375 C 2.179688 -2.332031 2.25 -2.097656 2.34375 -1.890625 C 2.445312 -1.679688 2.582031 -1.5 2.75 -1.34375 C 2.914062 -1.195312 3.125 -1.082031 3.375 -1 C 3.625 -0.914062 3.914062 -0.875 4.25 -0.875 C 4.863281 -0.875 5.347656 -1.019531 5.703125 -1.3125 C 6.054688 -1.601562 6.234375 -2.023438 6.234375 -2.578125 C 6.234375 -2.878906 6.15625 -3.132812 6 -3.34375 C 5.84375 -3.550781 5.644531 -3.710938 5.40625 -3.828125 C 5.175781 -3.953125 4.921875 -4.035156 4.640625 -4.078125 C 4.367188 -4.128906 4.117188 -4.15625 3.890625 -4.15625 L 3.1875 -4.15625 L 3.1875 -5.234375 L 3.859375 -5.234375 C 4.085938 -5.234375 4.328125 -5.257812 4.578125 -5.3125 C 4.828125 -5.375 5.054688 -5.46875 5.265625 -5.59375 C 5.472656 -5.71875 5.644531 -5.878906 5.78125 -6.078125 C 5.914062 -6.285156 5.984375 -6.53125 5.984375 -6.8125 C 5.984375 -7.300781 5.832031 -7.679688 5.53125 -7.953125 C 5.226562 -8.222656 4.773438 -8.359375 4.171875 -8.359375 C 3.628906 -8.359375 3.191406 -8.21875 2.859375 -7.9375 C 2.523438 -7.65625 2.332031 -7.265625 2.28125 -6.765625 L 1.046875 -6.859375 C 1.085938 -7.285156 1.195312 -7.65625 1.375 -7.96875 C 1.5625 -8.28125 1.796875 -8.539062 2.078125 -8.75 C 2.359375 -8.957031 2.675781 -9.109375 3.03125 -9.203125 C 3.394531 -9.304688 3.78125 -9.359375 4.1875 -9.359375 C 4.726562 -9.359375 5.191406 -9.296875 5.578125 -9.171875 C 5.960938 -9.046875 6.273438 -8.875 6.515625 -8.65625 C 6.765625 -8.4375 6.945312 -8.175781 7.0625 -7.875 C 7.1875 -7.582031 7.25 -7.273438 7.25 -6.953125 C 7.25 -6.691406 7.207031 -6.441406 7.125 -6.203125 C 7.039062 -5.972656 6.914062 -5.757812 6.75 -5.5625 C 6.582031 -5.375 6.367188 -5.207031 6.109375 -5.0625 C 5.859375 -4.914062 5.566406 -4.804688 5.234375 -4.734375 L 5.234375 -4.703125 C 5.609375 -4.671875 5.9375 -4.582031 6.21875 -4.4375 C 6.5 -4.300781 6.734375 -4.132812 6.921875 -3.9375 C 7.117188 -3.738281 7.265625 -3.519531 7.359375 -3.28125 C 7.460938 -3.039062 7.515625 -2.789062 7.515625 -2.53125 Z M 7.515625 -2.53125 \"/>\n</symbol>\n<symbol overflow=\"visible\" id=\"glyph0-7\">\n<path style=\"stroke:none;\" d=\"M 7.515625 -3.03125 C 7.515625 -2.582031 7.441406 -2.160156 7.296875 -1.765625 C 7.148438 -1.378906 6.929688 -1.046875 6.640625 -0.765625 C 6.359375 -0.484375 6.003906 -0.257812 5.578125 -0.09375 C 5.148438 0.0625 4.65625 0.140625 4.09375 0.140625 C 3.59375 0.140625 3.148438 0.0820312 2.765625 -0.03125 C 2.390625 -0.15625 2.070312 -0.320312 1.8125 -0.53125 C 1.550781 -0.738281 1.34375 -0.976562 1.1875 -1.25 C 1.039062 -1.53125 0.9375 -1.832031 0.875 -2.15625 L 2.125 -2.296875 C 2.164062 -2.117188 2.234375 -1.941406 2.328125 -1.765625 C 2.421875 -1.597656 2.546875 -1.445312 2.703125 -1.3125 C 2.859375 -1.175781 3.050781 -1.066406 3.28125 -0.984375 C 3.507812 -0.910156 3.789062 -0.875 4.125 -0.875 C 4.4375 -0.875 4.722656 -0.921875 4.984375 -1.015625 C 5.242188 -1.109375 5.46875 -1.242188 5.65625 -1.421875 C 5.84375 -1.609375 5.984375 -1.835938 6.078125 -2.109375 C 6.179688 -2.378906 6.234375 -2.679688 6.234375 -3.015625 C 6.234375 -3.285156 6.1875 -3.535156 6.09375 -3.765625 C 6 -4.003906 5.863281 -4.207031 5.6875 -4.375 C 5.507812 -4.550781 5.289062 -4.6875 5.03125 -4.78125 C 4.769531 -4.882812 4.476562 -4.9375 4.15625 -4.9375 C 3.945312 -4.9375 3.753906 -4.914062 3.578125 -4.875 C 3.410156 -4.84375 3.25 -4.796875 3.09375 -4.734375 C 2.945312 -4.671875 2.8125 -4.59375 2.6875 -4.5 C 2.570312 -4.414062 2.460938 -4.332031 2.359375 -4.25 L 1.15625 -4.25 L 1.484375 -9.21875 L 6.953125 -9.21875 L 6.953125 -8.234375 L 2.609375 -8.234375 L 2.40625 -5.328125 C 2.625 -5.492188 2.894531 -5.632812 3.21875 -5.75 C 3.550781 -5.875 3.945312 -5.9375 4.40625 -5.9375 C 4.882812 -5.9375 5.3125 -5.863281 5.6875 -5.71875 C 6.070312 -5.570312 6.398438 -5.367188 6.671875 -5.109375 C 6.941406 -4.859375 7.148438 -4.554688 7.296875 -4.203125 C 7.441406 -3.847656 7.515625 -3.457031 7.515625 -3.03125 Z M 7.515625 -3.03125 \"/>\n</symbol>\n<symbol overflow=\"visible\" id=\"glyph0-8\">\n<path style=\"stroke:none;\" d=\"M 7.484375 -2.578125 C 7.484375 -2.203125 7.414062 -1.847656 7.28125 -1.515625 C 7.15625 -1.179688 6.957031 -0.890625 6.6875 -0.640625 C 6.425781 -0.398438 6.085938 -0.207031 5.671875 -0.0625 C 5.253906 0.0703125 4.765625 0.140625 4.203125 0.140625 C 3.628906 0.140625 3.132812 0.0703125 2.71875 -0.0625 C 2.3125 -0.207031 1.972656 -0.398438 1.703125 -0.640625 C 1.429688 -0.890625 1.226562 -1.175781 1.09375 -1.5 C 0.96875 -1.832031 0.90625 -2.191406 0.90625 -2.578125 C 0.90625 -2.898438 0.957031 -3.191406 1.0625 -3.453125 C 1.175781 -3.710938 1.320312 -3.9375 1.5 -4.125 C 1.675781 -4.320312 1.878906 -4.476562 2.109375 -4.59375 C 2.347656 -4.707031 2.585938 -4.785156 2.828125 -4.828125 L 2.828125 -4.859375 C 2.554688 -4.921875 2.316406 -5.019531 2.109375 -5.15625 C 1.898438 -5.300781 1.722656 -5.46875 1.578125 -5.65625 C 1.429688 -5.851562 1.320312 -6.066406 1.25 -6.296875 C 1.175781 -6.523438 1.140625 -6.757812 1.140625 -7 C 1.140625 -7.3125 1.203125 -7.609375 1.328125 -7.890625 C 1.460938 -8.171875 1.65625 -8.421875 1.90625 -8.640625 C 2.164062 -8.859375 2.484375 -9.03125 2.859375 -9.15625 C 3.234375 -9.289062 3.671875 -9.359375 4.171875 -9.359375 C 4.691406 -9.359375 5.144531 -9.289062 5.53125 -9.15625 C 5.914062 -9.03125 6.234375 -8.859375 6.484375 -8.640625 C 6.742188 -8.421875 6.929688 -8.164062 7.046875 -7.875 C 7.171875 -7.59375 7.234375 -7.296875 7.234375 -6.984375 C 7.234375 -6.742188 7.195312 -6.507812 7.125 -6.28125 C 7.050781 -6.0625 6.941406 -5.851562 6.796875 -5.65625 C 6.648438 -5.46875 6.472656 -5.300781 6.265625 -5.15625 C 6.054688 -5.019531 5.8125 -4.925781 5.53125 -4.875 L 5.53125 -4.84375 C 5.8125 -4.800781 6.066406 -4.71875 6.296875 -4.59375 C 6.535156 -4.476562 6.742188 -4.320312 6.921875 -4.125 C 7.097656 -3.9375 7.234375 -3.710938 7.328125 -3.453125 C 7.429688 -3.191406 7.484375 -2.898438 7.484375 -2.578125 Z M 5.96875 -6.921875 C 5.96875 -7.128906 5.9375 -7.328125 5.875 -7.515625 C 5.8125 -7.703125 5.707031 -7.863281 5.5625 -8 C 5.425781 -8.132812 5.242188 -8.242188 5.015625 -8.328125 C 4.785156 -8.410156 4.503906 -8.453125 4.171875 -8.453125 C 3.847656 -8.453125 3.570312 -8.410156 3.34375 -8.328125 C 3.125 -8.242188 2.941406 -8.132812 2.796875 -8 C 2.648438 -7.863281 2.546875 -7.703125 2.484375 -7.515625 C 2.421875 -7.328125 2.390625 -7.128906 2.390625 -6.921875 C 2.390625 -6.753906 2.414062 -6.578125 2.46875 -6.390625 C 2.519531 -6.203125 2.609375 -6.03125 2.734375 -5.875 C 2.867188 -5.71875 3.050781 -5.585938 3.28125 -5.484375 C 3.519531 -5.378906 3.820312 -5.328125 4.1875 -5.328125 C 4.570312 -5.328125 4.878906 -5.378906 5.109375 -5.484375 C 5.347656 -5.585938 5.53125 -5.71875 5.65625 -5.875 C 5.78125 -6.03125 5.863281 -6.203125 5.90625 -6.390625 C 5.945312 -6.578125 5.96875 -6.753906 5.96875 -6.921875 Z M 6.203125 -2.703125 C 6.203125 -2.910156 6.171875 -3.113281 6.109375 -3.3125 C 6.046875 -3.507812 5.9375 -3.691406 5.78125 -3.859375 C 5.625 -4.023438 5.414062 -4.15625 5.15625 -4.25 C 4.894531 -4.351562 4.566406 -4.40625 4.171875 -4.40625 C 3.804688 -4.40625 3.5 -4.351562 3.25 -4.25 C 3 -4.15625 2.796875 -4.023438 2.640625 -3.859375 C 2.484375 -3.691406 2.367188 -3.503906 2.296875 -3.296875 C 2.222656 -3.097656 2.1875 -2.890625 2.1875 -2.671875 C 2.1875 -2.398438 2.222656 -2.148438 2.296875 -1.921875 C 2.367188 -1.691406 2.484375 -1.492188 2.640625 -1.328125 C 2.796875 -1.160156 3.003906 -1.023438 3.265625 -0.921875 C 3.523438 -0.828125 3.84375 -0.78125 4.21875 -0.78125 C 4.59375 -0.78125 4.90625 -0.828125 5.15625 -0.921875 C 5.40625 -1.015625 5.609375 -1.144531 5.765625 -1.3125 C 5.921875 -1.488281 6.03125 -1.691406 6.09375 -1.921875 C 6.164062 -2.160156 6.203125 -2.421875 6.203125 -2.703125 Z M 6.203125 -2.703125 \"/>\n</symbol>\n<symbol overflow=\"visible\" id=\"glyph0-9\">\n<path style=\"stroke:none;\" d=\"M 7.4375 -4.8125 C 7.4375 -4 7.351562 -3.285156 7.1875 -2.671875 C 7.03125 -2.054688 6.800781 -1.539062 6.5 -1.125 C 6.195312 -0.707031 5.832031 -0.390625 5.40625 -0.171875 C 4.976562 0.0351562 4.488281 0.140625 3.9375 0.140625 C 3.570312 0.140625 3.238281 0.0976562 2.9375 0.015625 C 2.644531 -0.0546875 2.382812 -0.171875 2.15625 -0.328125 C 1.925781 -0.484375 1.726562 -0.6875 1.5625 -0.9375 C 1.394531 -1.195312 1.257812 -1.507812 1.15625 -1.875 L 2.34375 -2.0625 C 2.46875 -1.644531 2.664062 -1.335938 2.9375 -1.140625 C 3.207031 -0.953125 3.550781 -0.859375 3.96875 -0.859375 C 4.300781 -0.859375 4.601562 -0.929688 4.875 -1.078125 C 5.15625 -1.234375 5.390625 -1.460938 5.578125 -1.765625 C 5.773438 -2.066406 5.925781 -2.441406 6.03125 -2.890625 C 6.144531 -3.335938 6.207031 -3.851562 6.21875 -4.4375 C 6.125 -4.226562 5.992188 -4.035156 5.828125 -3.859375 C 5.660156 -3.691406 5.46875 -3.550781 5.25 -3.4375 C 5.039062 -3.320312 4.8125 -3.234375 4.5625 -3.171875 C 4.320312 -3.109375 4.078125 -3.078125 3.828125 -3.078125 C 3.390625 -3.078125 2.992188 -3.15625 2.640625 -3.3125 C 2.285156 -3.46875 1.984375 -3.679688 1.734375 -3.953125 C 1.492188 -4.234375 1.304688 -4.566406 1.171875 -4.953125 C 1.035156 -5.335938 0.96875 -5.765625 0.96875 -6.234375 C 0.96875 -6.703125 1.035156 -7.128906 1.171875 -7.515625 C 1.316406 -7.898438 1.523438 -8.226562 1.796875 -8.5 C 2.078125 -8.78125 2.414062 -8.992188 2.8125 -9.140625 C 3.207031 -9.285156 3.660156 -9.359375 4.171875 -9.359375 C 5.242188 -9.359375 6.054688 -8.976562 6.609375 -8.21875 C 7.160156 -7.46875 7.4375 -6.332031 7.4375 -4.8125 Z M 6.09375 -5.890625 C 6.09375 -6.222656 6.050781 -6.535156 5.96875 -6.828125 C 5.882812 -7.128906 5.757812 -7.394531 5.59375 -7.625 C 5.425781 -7.851562 5.21875 -8.035156 4.96875 -8.171875 C 4.726562 -8.304688 4.445312 -8.375 4.125 -8.375 C 3.832031 -8.375 3.566406 -8.320312 3.328125 -8.21875 C 3.085938 -8.113281 2.882812 -7.96875 2.71875 -7.78125 C 2.5625 -7.59375 2.4375 -7.363281 2.34375 -7.09375 C 2.257812 -6.832031 2.21875 -6.546875 2.21875 -6.234375 C 2.21875 -5.929688 2.253906 -5.644531 2.328125 -5.375 C 2.410156 -5.113281 2.53125 -4.882812 2.6875 -4.6875 C 2.851562 -4.488281 3.050781 -4.332031 3.28125 -4.21875 C 3.519531 -4.101562 3.796875 -4.046875 4.109375 -4.046875 C 4.335938 -4.046875 4.566406 -4.082031 4.796875 -4.15625 C 5.035156 -4.238281 5.25 -4.359375 5.4375 -4.515625 C 5.632812 -4.671875 5.789062 -4.863281 5.90625 -5.09375 C 6.03125 -5.320312 6.09375 -5.585938 6.09375 -5.890625 Z M 6.09375 -5.890625 \"/>\n</symbol>\n<symbol overflow=\"visible\" id=\"glyph0-10\">\n<path style=\"stroke:none;\" d=\"M 7.546875 -4.609375 C 7.546875 -3.722656 7.457031 -2.976562 7.28125 -2.375 C 7.101562 -1.769531 6.863281 -1.28125 6.5625 -0.90625 C 6.257812 -0.53125 5.898438 -0.257812 5.484375 -0.09375 C 5.078125 0.0625 4.640625 0.140625 4.171875 0.140625 C 3.703125 0.140625 3.265625 0.0625 2.859375 -0.09375 C 2.453125 -0.257812 2.097656 -0.53125 1.796875 -0.90625 C 1.503906 -1.28125 1.269531 -1.769531 1.09375 -2.375 C 0.925781 -2.976562 0.84375 -3.722656 0.84375 -4.609375 C 0.84375 -5.546875 0.925781 -6.316406 1.09375 -6.921875 C 1.269531 -7.535156 1.507812 -8.019531 1.8125 -8.375 C 2.113281 -8.738281 2.46875 -8.992188 2.875 -9.140625 C 3.289062 -9.285156 3.738281 -9.359375 4.21875 -9.359375 C 4.675781 -9.359375 5.109375 -9.285156 5.515625 -9.140625 C 5.921875 -8.992188 6.269531 -8.738281 6.5625 -8.375 C 6.863281 -8.019531 7.101562 -7.535156 7.28125 -6.921875 C 7.457031 -6.316406 7.546875 -5.546875 7.546875 -4.609375 Z M 6.296875 -4.609375 C 6.296875 -5.335938 6.25 -5.941406 6.15625 -6.421875 C 6.0625 -6.910156 5.925781 -7.296875 5.75 -7.578125 C 5.570312 -7.867188 5.351562 -8.070312 5.09375 -8.1875 C 4.832031 -8.3125 4.539062 -8.375 4.21875 -8.375 C 3.875 -8.375 3.566406 -8.3125 3.296875 -8.1875 C 3.035156 -8.0625 2.8125 -7.851562 2.625 -7.5625 C 2.445312 -7.28125 2.3125 -6.898438 2.21875 -6.421875 C 2.132812 -5.941406 2.09375 -5.335938 2.09375 -4.609375 C 2.09375 -3.910156 2.140625 -3.320312 2.234375 -2.84375 C 2.328125 -2.363281 2.460938 -1.976562 2.640625 -1.6875 C 2.816406 -1.394531 3.035156 -1.1875 3.296875 -1.0625 C 3.554688 -0.9375 3.851562 -0.875 4.1875 -0.875 C 4.507812 -0.875 4.800781 -0.9375 5.0625 -1.0625 C 5.320312 -1.1875 5.539062 -1.394531 5.71875 -1.6875 C 5.90625 -1.976562 6.046875 -2.363281 6.140625 -2.84375 C 6.242188 -3.320312 6.296875 -3.910156 6.296875 -4.609375 Z M 3.390625 -3.796875 L 3.390625 -5.5 L 5 -5.5 L 5 -3.796875 Z M 3.390625 -3.796875 \"/>\n</symbol>\n</g>\n</defs>\n<g id=\"surface2\">\n<rect x=\"0\" y=\"0\" width=\"300\" height=\"300\" style=\"fill:rgb(100%,100%,100%);fill-opacity:1;stroke:none;\"/>\n<path style=\"fill:none;stroke-width:1;stroke-linecap:butt;stroke-linejoin:miter;stroke:rgb(26.666667%,26.666667%,26.666667%);stroke-opacity:1;stroke-miterlimit:10;\" d=\"M 264.738281 269.824219 L 114.476562 280 \"/>\n<path style=\"fill:none;stroke-width:1;stroke-linecap:butt;stroke-linejoin:miter;stroke:rgb(26.666667%,26.666667%,26.666667%);stroke-opacity:1;stroke-miterlimit:10;\" d=\"M 264.738281 269.824219 L 204.714844 226.886719 \"/>\n<path style=\"fill:none;stroke-width:1;stroke-linecap:butt;stroke-linejoin:miter;stroke:rgb(26.666667%,26.666667%,26.666667%);stroke-opacity:1;stroke-miterlimit:10;\" d=\"M 264.738281 269.824219 L 142.121094 242.078125 \"/>\n<path style=\"fill:none;stroke-width:1;stroke-linecap:butt;stroke-linejoin:miter;stroke:rgb(26.666667%,26.666667%,26.666667%);stroke-opacity:1;stroke-miterlimit:10;\" d=\"M 114.476562 280 L 142.121094 242.078125 \"/>\n<path style=\"fill:none;stroke-width:1;stroke-linecap:butt;stroke-linejoin:miter;stroke:rgb(26.666667%,26.666667%,26.666667%);stroke-opacity:1;stroke-miterlimit:10;\" d=\"M 114.476562 280 L 46.917969 224.929688 \"/>\n<path style=\"fill:none;stroke-width:1;stroke-linecap:butt;stroke-linejoin:miter;stroke:rgb(26.666667%,26.666667%,26.666667%);stroke-opacity:1;stroke-miterlimit:10;\" d=\"M 114.476562 280 L 20 259.042969 \"/>\n<path style=\"fill:none;stroke-width:1;stroke-linecap:butt;stroke-linejoin:miter;stroke:rgb(26.666667%,26.666667%,26.666667%);stroke-opacity:1;stroke-miterlimit:10;\" d=\"M 204.714844 226.886719 L 142.121094 242.078125 \"/>\n<path style=\"fill:none;stroke-width:1;stroke-linecap:butt;stroke-linejoin:miter;stroke:rgb(26.666667%,26.666667%,26.666667%);stroke-opacity:1;stroke-miterlimit:10;\" d=\"M 204.714844 226.886719 L 46.917969 224.929688 \"/>\n<path style=\"fill:none;stroke-width:1;stroke-linecap:butt;stroke-linejoin:miter;stroke:rgb(26.666667%,26.666667%,26.666667%);stroke-opacity:1;stroke-miterlimit:10;\" d=\"M 142.121094 242.078125 L 46.917969 224.929688 \"/>\n<path style=\"fill:none;stroke-width:1;stroke-linecap:butt;stroke-linejoin:miter;stroke:rgb(26.666667%,26.666667%,26.666667%);stroke-opacity:1;stroke-miterlimit:10;\" d=\"M 46.917969 224.929688 L 140.6875 190.804688 \"/>\n<path style=\"fill:none;stroke-width:1;stroke-linecap:butt;stroke-linejoin:miter;stroke:rgb(26.666667%,26.666667%,26.666667%);stroke-opacity:1;stroke-miterlimit:10;\" d=\"M 204.714844 226.886719 L 20 259.042969 \"/>\n<path style=\"fill:none;stroke-width:1;stroke-linecap:butt;stroke-linejoin:miter;stroke:rgb(26.666667%,26.666667%,26.666667%);stroke-opacity:1;stroke-miterlimit:10;\" d=\"M 142.121094 242.078125 L 20 259.042969 \"/>\n<path style=\"fill:none;stroke-width:1;stroke-linecap:butt;stroke-linejoin:miter;stroke:rgb(26.666667%,26.666667%,26.666667%);stroke-opacity:1;stroke-miterlimit:10;\" d=\"M 46.917969 224.929688 L 20 259.042969 \"/>\n<path style=\"fill:none;stroke-width:1;stroke-linecap:butt;stroke-linejoin:miter;stroke:rgb(26.666667%,26.666667%,26.666667%);stroke-opacity:1;stroke-miterlimit:10;\" d=\"M 204.714844 226.886719 L 140.6875 190.804688 \"/>\n<path style=\"fill:none;stroke-width:1;stroke-linecap:butt;stroke-linejoin:miter;stroke:rgb(26.666667%,26.666667%,26.666667%);stroke-opacity:1;stroke-miterlimit:10;\" d=\"M 142.121094 242.078125 L 140.6875 190.804688 \"/>\n<path style=\"fill:none;stroke-width:1;stroke-linecap:butt;stroke-linejoin:miter;stroke:rgb(26.666667%,26.666667%,26.666667%);stroke-opacity:1;stroke-miterlimit:10;\" d=\"M 140.6875 190.804688 L 160.148438 145.371094 \"/>\n<path style=\"fill:none;stroke-width:1;stroke-linecap:butt;stroke-linejoin:miter;stroke:rgb(26.666667%,26.666667%,26.666667%);stroke-opacity:1;stroke-miterlimit:10;\" d=\"M 160.148438 145.371094 L 176.363281 100.058594 \"/>\n<path style=\"fill:none;stroke-width:1;stroke-linecap:butt;stroke-linejoin:miter;stroke:rgb(26.666667%,26.666667%,26.666667%);stroke-opacity:1;stroke-miterlimit:10;\" d=\"M 176.363281 100.058594 L 99.117188 58.320312 \"/>\n<path style=\"fill:none;stroke-width:1;stroke-linecap:butt;stroke-linejoin:miter;stroke:rgb(26.666667%,26.666667%,26.666667%);stroke-opacity:1;stroke-miterlimit:10;\" d=\"M 176.363281 100.058594 L 190.550781 58.171875 \"/>\n<path style=\"fill:none;stroke-width:1;stroke-linecap:butt;stroke-linejoin:miter;stroke:rgb(26.666667%,26.666667%,26.666667%);stroke-opacity:1;stroke-miterlimit:10;\" d=\"M 176.363281 100.058594 L 280 63.820312 \"/>\n<path style=\"fill:none;stroke-width:1;stroke-linecap:butt;stroke-linejoin:miter;stroke:rgb(26.666667%,26.666667%,26.666667%);stroke-opacity:1;stroke-miterlimit:10;\" d=\"M 99.117188 58.320312 L 190.550781 58.171875 \"/>\n<path style=\"fill:none;stroke-width:1;stroke-linecap:butt;stroke-linejoin:miter;stroke:rgb(26.666667%,26.666667%,26.666667%);stroke-opacity:1;stroke-miterlimit:10;\" d=\"M 99.117188 58.320312 L 280 63.820312 \"/>\n<path style=\"fill:none;stroke-width:1;stroke-linecap:butt;stroke-linejoin:miter;stroke:rgb(26.666667%,26.666667%,26.666667%);stroke-opacity:1;stroke-miterlimit:10;\" d=\"M 99.117188 58.320312 L 203.460938 20 \"/>\n<path style=\"fill:none;stroke-width:1;stroke-linecap:butt;stroke-linejoin:miter;stroke:rgb(26.666667%,26.666667%,26.666667%);stroke-opacity:1;stroke-miterlimit:10;\" d=\"M 190.550781 58.171875 L 280 63.820312 \"/>\n<path style=\"fill:none;stroke-width:1;stroke-linecap:butt;stroke-linejoin:miter;stroke:rgb(26.666667%,26.666667%,26.666667%);stroke-opacity:1;stroke-miterlimit:10;\" d=\"M 190.550781 58.171875 L 203.460938 20 \"/>\n<path style=\"fill:none;stroke-width:1;stroke-linecap:butt;stroke-linejoin:miter;stroke:rgb(26.666667%,26.666667%,26.666667%);stroke-opacity:1;stroke-miterlimit:10;\" d=\"M 280 63.820312 L 203.460938 20 \"/>\n<path style=\"fill-rule:nonzero;fill:rgb(100%,0%,0%);fill-opacity:1;stroke-width:1;stroke-linecap:butt;stroke-linejoin:miter;stroke:rgb(0%,0%,0%);stroke-opacity:1;stroke-miterlimit:10;\" d=\"M 274.738281 269.824219 C 274.738281 275.34375 270.261719 279.824219 264.738281 279.824219 C 259.214844 279.824219 254.738281 275.34375 254.738281 269.824219 C 254.738281 264.300781 259.214844 259.824219 264.738281 259.824219 C 270.261719 259.824219 274.738281 264.300781 274.738281 269.824219 \"/>\n<path style=\"fill-rule:nonzero;fill:rgb(100%,0%,0%);fill-opacity:1;stroke-width:1;stroke-linecap:butt;stroke-linejoin:miter;stroke:rgb(0%,0%,0%);stroke-opacity:1;stroke-miterlimit:10;\" d=\"M 124.476562 280 C 124.476562 285.523438 119.996094 290 114.476562 290 C 108.953125 290 104.476562 285.523438 104.476562 280 C 104.476562 274.476562 108.953125 270 114.476562 270 C 119.996094 270 124.476562 274.476562 124.476562 280 \"/>\n<path style=\"fill-rule:nonzero;fill:rgb(100%,0%,0%);fill-opacity:1;stroke-width:1;stroke-linecap:butt;stroke-linejoin:miter;stroke:rgb(0%,0%,0%);stroke-opacity:1;stroke-miterlimit:10;\" d=\"M 214.714844 226.886719 C 214.714844 232.410156 210.234375 236.886719 204.714844 236.886719 C 199.191406 236.886719 194.714844 232.410156 194.714844 226.886719 C 194.714844 221.363281 199.191406 216.886719 204.714844 216.886719 C 210.234375 216.886719 214.714844 221.363281 214.714844 226.886719 \"/>\n<path style=\"fill-rule:nonzero;fill:rgb(100%,0%,0%);fill-opacity:1;stroke-width:1;stroke-linecap:butt;stroke-linejoin:miter;stroke:rgb(0%,0%,0%);stroke-opacity:1;stroke-miterlimit:10;\" d=\"M 152.121094 242.078125 C 152.121094 247.601562 147.644531 252.078125 142.121094 252.078125 C 136.597656 252.078125 132.121094 247.601562 132.121094 242.078125 C 132.121094 236.554688 136.597656 232.078125 142.121094 232.078125 C 147.644531 232.078125 152.121094 236.554688 152.121094 242.078125 \"/>\n<path style=\"fill-rule:nonzero;fill:rgb(100%,0%,0%);fill-opacity:1;stroke-width:1;stroke-linecap:butt;stroke-linejoin:miter;stroke:rgb(0%,0%,0%);stroke-opacity:1;stroke-miterlimit:10;\" d=\"M 56.917969 224.929688 C 56.917969 230.453125 52.441406 234.929688 46.917969 234.929688 C 41.394531 234.929688 36.917969 230.453125 36.917969 224.929688 C 36.917969 219.40625 41.394531 214.929688 46.917969 214.929688 C 52.441406 214.929688 56.917969 219.40625 56.917969 224.929688 \"/>\n<path style=\"fill-rule:nonzero;fill:rgb(100%,0%,0%);fill-opacity:1;stroke-width:1;stroke-linecap:butt;stroke-linejoin:miter;stroke:rgb(0%,0%,0%);stroke-opacity:1;stroke-miterlimit:10;\" d=\"M 30 259.042969 C 30 264.566406 25.523438 269.042969 20 269.042969 C 14.476562 269.042969 10 264.566406 10 259.042969 C 10 253.519531 14.476562 249.042969 20 249.042969 C 25.523438 249.042969 30 253.519531 30 259.042969 \"/>\n<path style=\"fill-rule:nonzero;fill:rgb(100%,0%,0%);fill-opacity:1;stroke-width:1;stroke-linecap:butt;stroke-linejoin:miter;stroke:rgb(0%,0%,0%);stroke-opacity:1;stroke-miterlimit:10;\" d=\"M 150.6875 190.804688 C 150.6875 196.324219 146.210938 200.804688 140.6875 200.804688 C 135.167969 200.804688 130.6875 196.324219 130.6875 190.804688 C 130.6875 185.28125 135.167969 180.804688 140.6875 180.804688 C 146.210938 180.804688 150.6875 185.28125 150.6875 190.804688 \"/>\n<path style=\"fill-rule:nonzero;fill:rgb(100%,0%,0%);fill-opacity:1;stroke-width:1;stroke-linecap:butt;stroke-linejoin:miter;stroke:rgb(0%,0%,0%);stroke-opacity:1;stroke-miterlimit:10;\" d=\"M 170.148438 145.371094 C 170.148438 150.894531 165.667969 155.371094 160.148438 155.371094 C 154.625 155.371094 150.148438 150.894531 150.148438 145.371094 C 150.148438 139.847656 154.625 135.371094 160.148438 135.371094 C 165.667969 135.371094 170.148438 139.847656 170.148438 145.371094 \"/>\n<path style=\"fill-rule:nonzero;fill:rgb(100%,0%,0%);fill-opacity:1;stroke-width:1;stroke-linecap:butt;stroke-linejoin:miter;stroke:rgb(0%,0%,0%);stroke-opacity:1;stroke-miterlimit:10;\" d=\"M 186.363281 100.058594 C 186.363281 105.582031 181.882812 110.058594 176.363281 110.058594 C 170.839844 110.058594 166.363281 105.582031 166.363281 100.058594 C 166.363281 94.535156 170.839844 90.058594 176.363281 90.058594 C 181.882812 90.058594 186.363281 94.535156 186.363281 100.058594 \"/>\n<path style=\"fill-rule:nonzero;fill:rgb(100%,0%,0%);fill-opacity:1;stroke-width:1;stroke-linecap:butt;stroke-linejoin:miter;stroke:rgb(0%,0%,0%);stroke-opacity:1;stroke-miterlimit:10;\" d=\"M 109.117188 58.320312 C 109.117188 63.84375 104.640625 68.320312 99.117188 68.320312 C 93.59375 68.320312 89.117188 63.84375 89.117188 58.320312 C 89.117188 52.796875 93.59375 48.320312 99.117188 48.320312 C 104.640625 48.320312 109.117188 52.796875 109.117188 58.320312 \"/>\n<path style=\"fill-rule:nonzero;fill:rgb(100%,0%,0%);fill-opacity:1;stroke-width:1;stroke-linecap:butt;stroke-linejoin:miter;stroke:rgb(0%,0%,0%);stroke-opacity:1;stroke-miterlimit:10;\" d=\"M 200.550781 58.171875 C 200.550781 63.695312 196.074219 68.171875 190.550781 68.171875 C 185.027344 68.171875 180.550781 63.695312 180.550781 58.171875 C 180.550781 52.648438 185.027344 48.171875 190.550781 48.171875 C 196.074219 48.171875 200.550781 52.648438 200.550781 58.171875 \"/>\n<path style=\"fill-rule:nonzero;fill:rgb(100%,0%,0%);fill-opacity:1;stroke-width:1;stroke-linecap:butt;stroke-linejoin:miter;stroke:rgb(0%,0%,0%);stroke-opacity:1;stroke-miterlimit:10;\" d=\"M 290 63.820312 C 290 69.339844 285.523438 73.820312 280 73.820312 C 274.476562 73.820312 270 69.339844 270 63.820312 C 270 58.296875 274.476562 53.820312 280 53.820312 C 285.523438 53.820312 290 58.296875 290 63.820312 \"/>\n<path style=\"fill-rule:nonzero;fill:rgb(100%,0%,0%);fill-opacity:1;stroke-width:1;stroke-linecap:butt;stroke-linejoin:miter;stroke:rgb(0%,0%,0%);stroke-opacity:1;stroke-miterlimit:10;\" d=\"M 213.460938 20 C 213.460938 25.523438 208.984375 30 203.460938 30 C 197.9375 30 193.460938 25.523438 193.460938 20 C 193.460938 14.476562 197.9375 10 203.460938 10 C 208.984375 10 213.460938 14.476562 213.460938 20 \"/>\n<g style=\"fill:rgb(0%,0%,0%);fill-opacity:1;\">\n  <use xlink:href=\"#glyph0-1\" x=\"260.371094\" y=\"276.535156\"/>\n</g>\n<g style=\"fill:rgb(0%,0%,0%);fill-opacity:1;\">\n  <use xlink:href=\"#glyph0-2\" x=\"110.277344\" y=\"286.785156\"/>\n</g>\n<g style=\"fill:rgb(0%,0%,0%);fill-opacity:1;\">\n  <use xlink:href=\"#glyph0-3\" x=\"200.449219\" y=\"233.671875\"/>\n</g>\n<g style=\"fill:rgb(0%,0%,0%);fill-opacity:1;\">\n  <use xlink:href=\"#glyph0-4\" x=\"137.925781\" y=\"248.792969\"/>\n</g>\n<g style=\"fill:rgb(0%,0%,0%);fill-opacity:1;\">\n  <use xlink:href=\"#glyph0-5\" x=\"42.71875\" y=\"231.640625\"/>\n</g>\n<g style=\"fill:rgb(0%,0%,0%);fill-opacity:1;\">\n  <use xlink:href=\"#glyph0-6\" x=\"15.804688\" y=\"265.828125\"/>\n</g>\n<g style=\"fill:rgb(0%,0%,0%);fill-opacity:1;\">\n  <use xlink:href=\"#glyph0-7\" x=\"136.496094\" y=\"197.515625\"/>\n</g>\n<g style=\"fill:rgb(0%,0%,0%);fill-opacity:1;\">\n  <use xlink:href=\"#glyph0-8\" x=\"155.953125\" y=\"152.15625\"/>\n</g>\n<g style=\"fill:rgb(0%,0%,0%);fill-opacity:1;\">\n  <use xlink:href=\"#glyph0-9\" x=\"172.164062\" y=\"106.84375\"/>\n</g>\n<g style=\"fill:rgb(0%,0%,0%);fill-opacity:1;\">\n  <use xlink:href=\"#glyph0-1\" x=\"90.640625\" y=\"65.105469\"/>\n  <use xlink:href=\"#glyph0-10\" x=\"99.041992\" y=\"65.105469\"/>\n</g>\n<g style=\"fill:rgb(0%,0%,0%);fill-opacity:1;\">\n  <use xlink:href=\"#glyph0-1\" x=\"182.140625\" y=\"64.957031\"/>\n  <use xlink:href=\"#glyph0-2\" x=\"190.541992\" y=\"64.957031\"/>\n</g>\n<g style=\"fill:rgb(0%,0%,0%);fill-opacity:1;\">\n  <use xlink:href=\"#glyph0-1\" x=\"271.539062\" y=\"70.605469\"/>\n  <use xlink:href=\"#glyph0-6\" x=\"279.94043\" y=\"70.605469\"/>\n</g>\n<g style=\"fill:rgb(0%,0%,0%);fill-opacity:1;\">\n  <use xlink:href=\"#glyph0-1\" x=\"194.890625\" y=\"26.710938\"/>\n  <use xlink:href=\"#glyph0-1\" x=\"203.291992\" y=\"26.710938\"/>\n</g>\n</g>\n</svg>\n"
          },
          "metadata": {
            "image/svg+xml": {
              "isolated": true
            }
          },
          "execution_count": 9
        }
      ]
    },
    {
      "cell_type": "markdown",
      "metadata": {
        "id": "1QUmPcFVZd3Y"
      },
      "source": [
        "Now the fun part. Implement a markov cluster function!"
      ]
    },
    {
      "cell_type": "code",
      "metadata": {
        "id": "WLUiPC2_Zd3Z"
      },
      "source": [
        "# define a threshold of 1.0e-10\n",
        "THRESH = 1.0e-10\n",
        "\n",
        "def markov_cluster(graph: igraph.Graph):\n",
        "    # you will need to construct an adjacency matrix; use the get_adjacency() method and then\n",
        "    # reference the '.data' attribute of the object (of class igraph.datatypes.Matrix)\n",
        "    # that was returned from `get_adjacency()`.\n",
        "    adj_mat = np.matrix(graph.get_adjacency().data)\n",
        "\n",
        "    # need to know the number of vertices; use shape (and indexing to element zero) to get that\n",
        "    N = adj_mat.shape[0]\n",
        "\n",
        "    # you will need to compute the vertex degrees and put them in a numpy array\n",
        "    vertex_degrees = np.array(graph.degree())\n",
        "\n",
        "    # make a transition matrix in two steps:\n",
        "    # first, compute the sum of the adjacency matrix and a parity matrix\n",
        "    #   (the parity matrix can be made using using numpy.diag)\n",
        "    # second, compute the inverse of the vertex_degrees diagonal matrix using numpy.diag\n",
        "    #   and numpy.inalg.inv (inverse should always exist b/c we assume the graph is void-free)\n",
        "    trans_mat_new = (adj_mat + np.diag([1]*N)) * np.linalg.inv(np.diag(vertex_degrees + 1))\n",
        "\n",
        "    # initialize the \"current\" transition matrix as a NxN matrix of all zeros,\n",
        "    # using np.zeros\n",
        "    trans_mat = np.zeros([N, N])\n",
        "\n",
        "    # set an iteration counter to zero; we will hard-code a max of 20 iterations below\n",
        "    iter_count = 0\n",
        "\n",
        "    # while the fractional change in the transition matrix (by Frobenius norm) is less than 0.01 and\n",
        "    # iterations is less than 20....\n",
        "\n",
        "        # note: use numpy.linalg.norm(    , ord=\"fro\"); we are going to compute this norm for the difference\n",
        "        # _and_ for the average of the current transition matrix and the new transition matrix; compute the ratio\n",
        "\n",
        "    while ((np.linalg.norm(trans_mat_new - trans_mat, ord=\"fro\")/\n",
        "            np.linalg.norm(0.5*(trans_mat_new + trans_mat), ord=\"fro\")) > 0.01 and iter_count < 20):\n",
        "\n",
        "        # assign the the value of `trans_mat_new` to the variable `trans_mat`\n",
        "        trans_mat = trans_mat_new\n",
        "\n",
        "        # apply the expansion step with r=2, using numpy.linalg.matrix_power(   , 2)\n",
        "        trans_mat_new = np.linalg.matrix_power(trans_mat_new, 2)\n",
        "\n",
        "        # note: trans_mat_new is still a left stochastic matrix (you can check it to be sure)\n",
        "\n",
        "        # now apply the inflation step with s=2, using numpy.power(  , 2)\n",
        "        trans_mat_new = np.power(trans_mat_new, 2)\n",
        "\n",
        "        # compute column sums using numpy.sum(   , axis=0)\n",
        "        column_sums = np.sum(trans_mat_new, axis=0)\n",
        "\n",
        "        # make a matrix of the column sums using numpy.repeat(    , N, axis=0); call it trans_mat_div\n",
        "        trans_mat_div = np.repeat(column_sums, N, axis=0)\n",
        "\n",
        "        # normalize the inflated matrix by element_wise dividing by trans_mat_div using numpy.divide\n",
        "        trans_mat_new = np.divide(trans_mat_new, trans_mat_div)\n",
        "\n",
        "        # increment iter_count\n",
        "        iter_count += 1\n",
        "\n",
        "        # print out the iteration counter, as a simple progress indicator\n",
        "        print(\"just completed iteration: \" + str(iter_count))\n",
        "\n",
        "    # threshold the transition matrix at 1e-10, into a binary matrix (containing only 0 or 1 in each element)\n",
        "    trans_mat_new[trans_mat_new < THRESH] = 0.0\n",
        "    trans_mat_new[trans_mat_new > THRESH] = 1.0\n",
        "\n",
        "    # take the transpose matrix and make a data frame out of it\n",
        "    trans_mat_df = pd.DataFrame(trans_mat_new.transpose())\n",
        "\n",
        "    # each row is a \"signature\" corresponding to a specific cluster; drop duplicate rows\n",
        "    cluster_signatures = trans_mat_df.drop_duplicates()\n",
        "\n",
        "    # count the clusters and assign a numeric cluster ID to each cluster, by\n",
        "    # setting the `index` variable (use range to get a sequence\n",
        "    # 1..cluster_signatures.shape[0])\n",
        "    cluster_signatures.index=range(cluster_signatures.shape[0])\n",
        "\n",
        "    # use pandas.merge to compute the index for each signature in the original matrix (before you dropped duplicates)\n",
        "    # - make sure to call reset_index on each of the data frames that you are passing to merge\n",
        "    # - in the merge call, for the left_on argument, specify the columns of cluster_signatures (list format)\n",
        "    # - in the marge call, for the right_on argument, specify the columns of trans_mat_df (list_format)\n",
        "    merged_df = pd.merge(cluster_signatures.reset_index(),\n",
        "                         trans_mat_df.reset_index(),\n",
        "                         left_on=cluster_signatures.columns.tolist(),\n",
        "                         right_on=trans_mat_df.columns.tolist())\n",
        "\n",
        "    # return the \"index_x\" column of merged_df, in list format\n",
        "    return merged_df[\"index_x\"].tolist()\n"
      ],
      "execution_count": null,
      "outputs": []
    },
    {
      "cell_type": "markdown",
      "metadata": {
        "id": "0wQvfra-Zd3Z"
      },
      "source": [
        "Run your code on test_igraph and print the results!  How many iterations did it take?  "
      ]
    },
    {
      "cell_type": "code",
      "metadata": {
        "colab": {
          "base_uri": "https://localhost:8080/"
        },
        "id": "d6JC5_yfZd3Z",
        "outputId": "6053f9ae-465e-41c5-8403-ae949f5e728e"
      },
      "source": [
        "test_clust_ids = markov_cluster(test_igraph)"
      ],
      "execution_count": null,
      "outputs": [
        {
          "output_type": "stream",
          "name": "stdout",
          "text": [
            "just completed iteration: 1\n",
            "just completed iteration: 2\n",
            "just completed iteration: 3\n",
            "just completed iteration: 4\n",
            "just completed iteration: 5\n",
            "just completed iteration: 6\n",
            "just completed iteration: 7\n",
            "just completed iteration: 8\n",
            "just completed iteration: 9\n"
          ]
        }
      ]
    },
    {
      "cell_type": "markdown",
      "metadata": {
        "id": "ESV7rW_SspMr"
      },
      "source": [
        "Do the clusters make sense?"
      ]
    },
    {
      "cell_type": "code",
      "metadata": {
        "colab": {
          "base_uri": "https://localhost:8080/"
        },
        "id": "k9rlOjEMsMod",
        "outputId": "55eab403-fa28-49e8-ff48-e43720096044"
      },
      "source": [
        "tuple(('vertex ' + str(id) + ' has cluster ID: ', cid) for id, cid in enumerate(test_clust_ids))"
      ],
      "execution_count": null,
      "outputs": [
        {
          "output_type": "execute_result",
          "data": {
            "text/plain": [
              "(('vertex 0 has cluster ID: ', 0),\n",
              " ('vertex 1 has cluster ID: ', 0),\n",
              " ('vertex 2 has cluster ID: ', 0),\n",
              " ('vertex 3 has cluster ID: ', 0),\n",
              " ('vertex 4 has cluster ID: ', 0),\n",
              " ('vertex 5 has cluster ID: ', 0),\n",
              " ('vertex 6 has cluster ID: ', 0),\n",
              " ('vertex 7 has cluster ID: ', 1),\n",
              " ('vertex 8 has cluster ID: ', 2),\n",
              " ('vertex 9 has cluster ID: ', 2),\n",
              " ('vertex 10 has cluster ID: ', 2),\n",
              " ('vertex 11 has cluster ID: ', 2),\n",
              " ('vertex 12 has cluster ID: ', 2))"
            ]
          },
          "metadata": {},
          "execution_count": 12
        }
      ]
    },
    {
      "cell_type": "markdown",
      "metadata": {
        "id": "zv8JeKgwZd3Z"
      },
      "source": [
        "Now see if you can load in a larger graph (the yeast protein-protein interaction network, obtained from the supplementary data that accompanied the Krogan et&nbsp;al. paper that was in the assigned reading for today's class session) in edge-list (SIF) format. We will download the network from the URL https://csx46.s3-us-west-2.amazonaws.com/krogan-yeast-ppi-network.sif."
      ]
    },
    {
      "cell_type": "code",
      "metadata": {
        "colab": {
          "base_uri": "https://localhost:8080/"
        },
        "id": "cgoH9iCxnP8O",
        "outputId": "4bb9c819-851e-4c7d-d76a-bf39cdef8ac4"
      },
      "source": [
        "!curl https://csx46.s3-us-west-2.amazonaws.com/krogan-yeast-ppi-network.sif > krogan-yeast-ppi-network.sif"
      ],
      "execution_count": null,
      "outputs": [
        {
          "output_type": "stream",
          "name": "stdout",
          "text": [
            "  % Total    % Received % Xferd  Average Speed   Time    Time     Time  Current\n",
            "                                 Dload  Upload   Total   Spent    Left  Speed\n",
            "100 75826  100 75826    0     0  70998      0  0:00:01  0:00:01 --:--:-- 70998\n"
          ]
        }
      ]
    },
    {
      "cell_type": "markdown",
      "metadata": {
        "id": "2Q6iTmT4mdhe"
      },
      "source": [
        "Load the file `krogan-yeast-ppi-network.sif` using `pandas.read_csv()`, and assign to a dataframe `df`."
      ]
    },
    {
      "cell_type": "code",
      "metadata": {
        "id": "7qv_Jv6UZd3Z"
      },
      "source": [
        "df = pd.read_csv(\"krogan-yeast-ppi-network.sif\",\n",
        "                 sep=\"\\t\",\n",
        "                 quoting=csv.QUOTE_NONE,\n",
        "                 names=[\"species1\",\"species2\"])"
      ],
      "execution_count": null,
      "outputs": []
    },
    {
      "cell_type": "markdown",
      "metadata": {
        "id": "FkHXccmeoY3U"
      },
      "source": [
        "As usual, it's a good idea to take a look at the dataframe that you just created, using `pandas.DataFrame.head`."
      ]
    },
    {
      "cell_type": "code",
      "metadata": {
        "colab": {
          "base_uri": "https://localhost:8080/",
          "height": 206
        },
        "id": "zSOsqKYHZd3Z",
        "outputId": "dc8786e6-6745-4ba4-fb04-5ad53d399aee"
      },
      "source": [
        "df.head()"
      ],
      "execution_count": null,
      "outputs": [
        {
          "output_type": "execute_result",
          "data": {
            "text/plain": [
              "  species1 species2\n",
              "0     AAC3     PMR1\n",
              "1     AAP1     GUD1\n",
              "2     AAP1    TRS31\n",
              "3     AAP1     GCN3\n",
              "4     AAP1     MDY2"
            ],
            "text/html": [
              "\n",
              "  <div id=\"df-5248b39c-8e5f-45ff-b9e7-8900a0e5d154\">\n",
              "    <div class=\"colab-df-container\">\n",
              "      <div>\n",
              "<style scoped>\n",
              "    .dataframe tbody tr th:only-of-type {\n",
              "        vertical-align: middle;\n",
              "    }\n",
              "\n",
              "    .dataframe tbody tr th {\n",
              "        vertical-align: top;\n",
              "    }\n",
              "\n",
              "    .dataframe thead th {\n",
              "        text-align: right;\n",
              "    }\n",
              "</style>\n",
              "<table border=\"1\" class=\"dataframe\">\n",
              "  <thead>\n",
              "    <tr style=\"text-align: right;\">\n",
              "      <th></th>\n",
              "      <th>species1</th>\n",
              "      <th>species2</th>\n",
              "    </tr>\n",
              "  </thead>\n",
              "  <tbody>\n",
              "    <tr>\n",
              "      <th>0</th>\n",
              "      <td>AAC3</td>\n",
              "      <td>PMR1</td>\n",
              "    </tr>\n",
              "    <tr>\n",
              "      <th>1</th>\n",
              "      <td>AAP1</td>\n",
              "      <td>GUD1</td>\n",
              "    </tr>\n",
              "    <tr>\n",
              "      <th>2</th>\n",
              "      <td>AAP1</td>\n",
              "      <td>TRS31</td>\n",
              "    </tr>\n",
              "    <tr>\n",
              "      <th>3</th>\n",
              "      <td>AAP1</td>\n",
              "      <td>GCN3</td>\n",
              "    </tr>\n",
              "    <tr>\n",
              "      <th>4</th>\n",
              "      <td>AAP1</td>\n",
              "      <td>MDY2</td>\n",
              "    </tr>\n",
              "  </tbody>\n",
              "</table>\n",
              "</div>\n",
              "      <button class=\"colab-df-convert\" onclick=\"convertToInteractive('df-5248b39c-8e5f-45ff-b9e7-8900a0e5d154')\"\n",
              "              title=\"Convert this dataframe to an interactive table.\"\n",
              "              style=\"display:none;\">\n",
              "        \n",
              "  <svg xmlns=\"http://www.w3.org/2000/svg\" height=\"24px\"viewBox=\"0 0 24 24\"\n",
              "       width=\"24px\">\n",
              "    <path d=\"M0 0h24v24H0V0z\" fill=\"none\"/>\n",
              "    <path d=\"M18.56 5.44l.94 2.06.94-2.06 2.06-.94-2.06-.94-.94-2.06-.94 2.06-2.06.94zm-11 1L8.5 8.5l.94-2.06 2.06-.94-2.06-.94L8.5 2.5l-.94 2.06-2.06.94zm10 10l.94 2.06.94-2.06 2.06-.94-2.06-.94-.94-2.06-.94 2.06-2.06.94z\"/><path d=\"M17.41 7.96l-1.37-1.37c-.4-.4-.92-.59-1.43-.59-.52 0-1.04.2-1.43.59L10.3 9.45l-7.72 7.72c-.78.78-.78 2.05 0 2.83L4 21.41c.39.39.9.59 1.41.59.51 0 1.02-.2 1.41-.59l7.78-7.78 2.81-2.81c.8-.78.8-2.07 0-2.86zM5.41 20L4 18.59l7.72-7.72 1.47 1.35L5.41 20z\"/>\n",
              "  </svg>\n",
              "      </button>\n",
              "      \n",
              "  <style>\n",
              "    .colab-df-container {\n",
              "      display:flex;\n",
              "      flex-wrap:wrap;\n",
              "      gap: 12px;\n",
              "    }\n",
              "\n",
              "    .colab-df-convert {\n",
              "      background-color: #E8F0FE;\n",
              "      border: none;\n",
              "      border-radius: 50%;\n",
              "      cursor: pointer;\n",
              "      display: none;\n",
              "      fill: #1967D2;\n",
              "      height: 32px;\n",
              "      padding: 0 0 0 0;\n",
              "      width: 32px;\n",
              "    }\n",
              "\n",
              "    .colab-df-convert:hover {\n",
              "      background-color: #E2EBFA;\n",
              "      box-shadow: 0px 1px 2px rgba(60, 64, 67, 0.3), 0px 1px 3px 1px rgba(60, 64, 67, 0.15);\n",
              "      fill: #174EA6;\n",
              "    }\n",
              "\n",
              "    [theme=dark] .colab-df-convert {\n",
              "      background-color: #3B4455;\n",
              "      fill: #D2E3FC;\n",
              "    }\n",
              "\n",
              "    [theme=dark] .colab-df-convert:hover {\n",
              "      background-color: #434B5C;\n",
              "      box-shadow: 0px 1px 3px 1px rgba(0, 0, 0, 0.15);\n",
              "      filter: drop-shadow(0px 1px 2px rgba(0, 0, 0, 0.3));\n",
              "      fill: #FFFFFF;\n",
              "    }\n",
              "  </style>\n",
              "\n",
              "      <script>\n",
              "        const buttonEl =\n",
              "          document.querySelector('#df-5248b39c-8e5f-45ff-b9e7-8900a0e5d154 button.colab-df-convert');\n",
              "        buttonEl.style.display =\n",
              "          google.colab.kernel.accessAllowed ? 'block' : 'none';\n",
              "\n",
              "        async function convertToInteractive(key) {\n",
              "          const element = document.querySelector('#df-5248b39c-8e5f-45ff-b9e7-8900a0e5d154');\n",
              "          const dataTable =\n",
              "            await google.colab.kernel.invokeFunction('convertToInteractive',\n",
              "                                                     [key], {});\n",
              "          if (!dataTable) return;\n",
              "\n",
              "          const docLinkHtml = 'Like what you see? Visit the ' +\n",
              "            '<a target=\"_blank\" href=https://colab.research.google.com/notebooks/data_table.ipynb>data table notebook</a>'\n",
              "            + ' to learn more about interactive tables.';\n",
              "          element.innerHTML = '';\n",
              "          dataTable['output_type'] = 'display_data';\n",
              "          await google.colab.output.renderOutput(dataTable, element);\n",
              "          const docLink = document.createElement('div');\n",
              "          docLink.innerHTML = docLinkHtml;\n",
              "          element.appendChild(docLink);\n",
              "        }\n",
              "      </script>\n",
              "    </div>\n",
              "  </div>\n",
              "  "
            ]
          },
          "metadata": {},
          "execution_count": 15
        }
      ]
    },
    {
      "cell_type": "markdown",
      "metadata": {
        "id": "ZYyQsKHtol69"
      },
      "source": [
        "Make an igraph graph from the dataframe `df`. As usual, inspect it using `summary`."
      ]
    },
    {
      "cell_type": "code",
      "metadata": {
        "colab": {
          "base_uri": "https://localhost:8080/",
          "height": 36
        },
        "id": "lc3l-nZfZd3Z",
        "outputId": "0ac7b7f2-0e14-41f1-a0b9-8905a25bf125"
      },
      "source": [
        "krogan_graph = igraph.Graph.TupleList(df.values.tolist())\n",
        "krogan_graph.summary()"
      ],
      "execution_count": null,
      "outputs": [
        {
          "output_type": "execute_result",
          "data": {
            "text/plain": [
              "'IGRAPH UN-- 2674 7079 -- \\n+ attr: name (v)'"
            ],
            "application/vnd.google.colaboratory.intrinsic+json": {
              "type": "string"
            }
          },
          "metadata": {},
          "execution_count": 16
        }
      ]
    },
    {
      "cell_type": "markdown",
      "metadata": {
        "id": "vvFJdrJXoX-t"
      },
      "source": [
        "Run the graph through your `markov_cluster` code. How many iterations does it take to converge?"
      ]
    },
    {
      "cell_type": "code",
      "metadata": {
        "colab": {
          "base_uri": "https://localhost:8080/"
        },
        "id": "4Hxz4p3jZd3Z",
        "outputId": "1bd2e848-ae75-4f57-9c11-3aaff9610de7"
      },
      "source": [
        "clust_ids = markov_cluster(krogan_graph)"
      ],
      "execution_count": null,
      "outputs": [
        {
          "output_type": "stream",
          "name": "stdout",
          "text": [
            "just completed iteration: 1\n",
            "just completed iteration: 2\n",
            "just completed iteration: 3\n",
            "just completed iteration: 4\n",
            "just completed iteration: 5\n",
            "just completed iteration: 6\n",
            "just completed iteration: 7\n",
            "just completed iteration: 8\n",
            "just completed iteration: 9\n",
            "just completed iteration: 10\n",
            "just completed iteration: 11\n",
            "just completed iteration: 12\n"
          ]
        }
      ]
    },
    {
      "cell_type": "markdown",
      "metadata": {
        "id": "AM57zR4nqmcf"
      },
      "source": [
        "How many communities did the Markov clustering algorithm detect? (use `max`)."
      ]
    },
    {
      "cell_type": "code",
      "metadata": {
        "colab": {
          "base_uri": "https://localhost:8080/"
        },
        "id": "C-UGVupbZd3Z",
        "outputId": "626cfa0d-ef0a-4825-d91f-cb04553f636a"
      },
      "source": [
        "max(clust_ids)"
      ],
      "execution_count": null,
      "outputs": [
        {
          "output_type": "execute_result",
          "data": {
            "text/plain": [
              "651"
            ]
          },
          "metadata": {},
          "execution_count": 18
        }
      ]
    },
    {
      "cell_type": "markdown",
      "metadata": {
        "id": "hdVfBhR6qoLd"
      },
      "source": [
        "Plot the histogram of cluster sizes."
      ]
    },
    {
      "cell_type": "code",
      "metadata": {
        "colab": {
          "base_uri": "https://localhost:8080/",
          "height": 279
        },
        "id": "hMa_hXkOZd3Z",
        "outputId": "8986dbee-c607-405c-ae9b-c373162c39ad"
      },
      "source": [
        "counts = [count for count in dict(collections.Counter(clust_ids)).values()]\n",
        "bins = np.array(range(0, max(counts)))\n",
        "plt.hist(counts, bins=bins)\n",
        "plt.xlabel(\"cluster size\")\n",
        "plt.ylabel(\"count of clusters\")\n",
        "plt.show()"
      ],
      "execution_count": null,
      "outputs": [
        {
          "output_type": "display_data",
          "data": {
            "text/plain": [
              "<Figure size 432x288 with 1 Axes>"
            ],
            "image/png": "[encoded data removed]"
          },
          "metadata": {
            "needs_background": "light"
          }
        }
      ]
    }
  ]
}