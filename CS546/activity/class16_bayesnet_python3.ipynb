{
  "nbformat": 4,
  "nbformat_minor": 0,
  "metadata": {
    "kernelspec": {
      "display_name": "Python 3",
      "language": "python",
      "name": "python3"
    },
    "language_info": {
      "codemirror_mode": {
        "name": "ipython",
        "version": 3
      },
      "file_extension": ".py",
      "mimetype": "text/x-python",
      "name": "python",
      "nbconvert_exporter": "python",
      "pygments_lexer": "ipython3",
      "version": "3.6.9"
    },
    "colab": {
      "provenance": []
    }
  },
  "cells": [
    {
      "cell_type": "markdown",
      "metadata": {
        "id": "_1ZxZnwffOee"
      },
      "source": [
        "# Class 16:  Bayesian Networks\n",
        "## Infer a Bayesian network from a matrix of discretized phospho-flow cytometry data.\n",
        "### Based on supplementary data from the 2005 article by Karen Sachs et al. (Science v308, 2005).\n",
        "\n",
        "In this class exercise, we will use the fundamental theorem for the likelihood of a Bayesian network structure for categorical variables, in order to score the posterior probability of the network shown in the Sachs et al. article (Figure 3A) vs. the phospho-flow cytometry data that the same authors provided in their supplementary data. The phospho-flow cytometry data have been already discretized for you (see \"class16_bayesnet_dataprep_R.ipynb\").  We will need to implement a single-vertex log-likelihood function using Theorem 1 from the article by Cooper & Herskovits in *Machine Learning* (volume 9, pages 309-347, 1992)."
      ]
    },
    {
      "cell_type": "markdown",
      "metadata": {
        "id": "YVRA3O4EfOem"
      },
      "source": [
        "For this notebook, we will need the Python packages `numpy`, `pandas`, `math`, `scipy.special`, `matplotlib.pyplot`, `cairo` and `igraph`."
      ]
    },
    {
      "cell_type": "code",
      "metadata": {
        "id": "ps4sHjZ1fOeo",
        "colab": {
          "base_uri": "https://localhost:8080/"
        },
        "outputId": "5fdda290-e1f5-4cd4-ca43-8e402bf26ae4"
      },
      "source": [
        "import numpy as np\n",
        "import pandas as pd\n",
        "import math, scipy.special\n",
        "import matplotlib.pyplot as plt\n",
        "!apt-get install libcairo2-dev libjpeg-dev libgif-dev\n",
        "!pip install pycairo\n",
        "import cairo\n",
        "!pip install python-igraph\n",
        "import igraph"
      ],
      "execution_count": null,
      "outputs": [
        {
          "output_type": "stream",
          "name": "stdout",
          "text": [
            "Reading package lists... Done\n",
            "Building dependency tree... Done\n",
            "Reading state information... Done\n",
            "libcairo2-dev is already the newest version (1.16.0-5ubuntu2).\n",
            "libgif-dev is already the newest version (5.1.9-2build2).\n",
            "libjpeg-dev is already the newest version (8c-2ubuntu10).\n",
            "0 upgraded, 0 newly installed, 0 to remove and 35 not upgraded.\n",
            "Requirement already satisfied: pycairo in /usr/local/lib/python3.10/dist-packages (1.26.0)\n",
            "Requirement already satisfied: python-igraph in /usr/local/lib/python3.10/dist-packages (0.11.4)\n",
            "Requirement already satisfied: igraph==0.11.4 in /usr/local/lib/python3.10/dist-packages (from python-igraph) (0.11.4)\n",
            "Requirement already satisfied: texttable>=1.6.2 in /usr/local/lib/python3.10/dist-packages (from igraph==0.11.4->python-igraph) (1.7.0)\n"
          ]
        }
      ]
    },
    {
      "cell_type": "markdown",
      "metadata": {
        "id": "6LrAybuIuYtf"
      },
      "source": [
        "We will also need to download the file `sachs_data_discretized.txt` from the URL\n",
        "\n",
        "https://csx46.s3-us-west-2.amazonaws.com/sachs_data_discretized.txt."
      ]
    },
    {
      "cell_type": "code",
      "metadata": {
        "id": "yDtQa-A_o-5D",
        "colab": {
          "base_uri": "https://localhost:8080/"
        },
        "outputId": "ff014352-dba6-42ec-d449-5f3eb804db1a"
      },
      "source": [
        "!curl https://csx46.s3-us-west-2.amazonaws.com/sachs_data_discretized.txt > sachs_data_discretized.txt"
      ],
      "execution_count": null,
      "outputs": [
        {
          "output_type": "stream",
          "name": "stdout",
          "text": [
            "  % Total    % Received % Xferd  Average Speed   Time    Time     Time  Current\n",
            "                                 Dload  Upload   Total   Spent    Left  Speed\n",
            "100  530k  100  530k    0     0  1164k      0 --:--:-- --:--:-- --:--:-- 1164k\n"
          ]
        }
      ]
    },
    {
      "cell_type": "markdown",
      "metadata": {
        "id": "I3f2BFsefOe3"
      },
      "source": [
        "Load the tab-delimited data file of discretized phosphoprotein expression data (12 columns; first 11 columns are the expression levels -- \"low\", \"medium\", \"high\"; last column is the experiment identifier for the row; there are nine experiments). Print out the first six lines of the data frame, so you can see what it looks like."
      ]
    },
    {
      "cell_type": "code",
      "metadata": {
        "id": "u8hCLU1tfOe4",
        "colab": {
          "base_uri": "https://localhost:8080/",
          "height": 237
        },
        "outputId": "f114bdb3-91b3-481d-8060-1f6d036d6089"
      },
      "source": [
        "discret_data = pd.read_csv(\"sachs_data_discretized.txt\",\n",
        "                           sep=\"\\t\")\n",
        "discret_data.head(n=6)"
      ],
      "execution_count": null,
      "outputs": [
        {
          "output_type": "execute_result",
          "data": {
            "text/plain": [
              "     praf    pmek    plcg PIP2    PIP3  p44.42 pakts473     PKA     PKC  \\\n",
              "0     low     low     low  low    high     low      low  medium  medium   \n",
              "1     low     low  medium  low     low  medium   medium  medium     low   \n",
              "2  medium    high  medium  low  medium  medium   medium  medium  medium   \n",
              "3  medium    high  medium  low     low     low      low  medium  medium   \n",
              "4     low  medium     low  low  medium  medium   medium     low     low   \n",
              "5     low     low  medium  low     low  medium   medium  medium  medium   \n",
              "\n",
              "      P38    pjnk       expt  \n",
              "0    high    high  1_cd3cd28  \n",
              "1     low    high  1_cd3cd28  \n",
              "2  medium  medium  1_cd3cd28  \n",
              "3  medium  medium  1_cd3cd28  \n",
              "4  medium    high  1_cd3cd28  \n",
              "5    high    high  1_cd3cd28  "
            ],
            "text/html": [
              "\n",
              "  <div id=\"df-eca55cee-9397-4257-ad6c-cea6d0841578\" class=\"colab-df-container\">\n",
              "    <div>\n",
              "<style scoped>\n",
              "    .dataframe tbody tr th:only-of-type {\n",
              "        vertical-align: middle;\n",
              "    }\n",
              "\n",
              "    .dataframe tbody tr th {\n",
              "        vertical-align: top;\n",
              "    }\n",
              "\n",
              "    .dataframe thead th {\n",
              "        text-align: right;\n",
              "    }\n",
              "</style>\n",
              "<table border=\"1\" class=\"dataframe\">\n",
              "  <thead>\n",
              "    <tr style=\"text-align: right;\">\n",
              "      <th></th>\n",
              "      <th>praf</th>\n",
              "      <th>pmek</th>\n",
              "      <th>plcg</th>\n",
              "      <th>PIP2</th>\n",
              "      <th>PIP3</th>\n",
              "      <th>p44.42</th>\n",
              "      <th>pakts473</th>\n",
              "      <th>PKA</th>\n",
              "      <th>PKC</th>\n",
              "      <th>P38</th>\n",
              "      <th>pjnk</th>\n",
              "      <th>expt</th>\n",
              "    </tr>\n",
              "  </thead>\n",
              "  <tbody>\n",
              "    <tr>\n",
              "      <th>0</th>\n",
              "      <td>low</td>\n",
              "      <td>low</td>\n",
              "      <td>low</td>\n",
              "      <td>low</td>\n",
              "      <td>high</td>\n",
              "      <td>low</td>\n",
              "      <td>low</td>\n",
              "      <td>medium</td>\n",
              "      <td>medium</td>\n",
              "      <td>high</td>\n",
              "      <td>high</td>\n",
              "      <td>1_cd3cd28</td>\n",
              "    </tr>\n",
              "    <tr>\n",
              "      <th>1</th>\n",
              "      <td>low</td>\n",
              "      <td>low</td>\n",
              "      <td>medium</td>\n",
              "      <td>low</td>\n",
              "      <td>low</td>\n",
              "      <td>medium</td>\n",
              "      <td>medium</td>\n",
              "      <td>medium</td>\n",
              "      <td>low</td>\n",
              "      <td>low</td>\n",
              "      <td>high</td>\n",
              "      <td>1_cd3cd28</td>\n",
              "    </tr>\n",
              "    <tr>\n",
              "      <th>2</th>\n",
              "      <td>medium</td>\n",
              "      <td>high</td>\n",
              "      <td>medium</td>\n",
              "      <td>low</td>\n",
              "      <td>medium</td>\n",
              "      <td>medium</td>\n",
              "      <td>medium</td>\n",
              "      <td>medium</td>\n",
              "      <td>medium</td>\n",
              "      <td>medium</td>\n",
              "      <td>medium</td>\n",
              "      <td>1_cd3cd28</td>\n",
              "    </tr>\n",
              "    <tr>\n",
              "      <th>3</th>\n",
              "      <td>medium</td>\n",
              "      <td>high</td>\n",
              "      <td>medium</td>\n",
              "      <td>low</td>\n",
              "      <td>low</td>\n",
              "      <td>low</td>\n",
              "      <td>low</td>\n",
              "      <td>medium</td>\n",
              "      <td>medium</td>\n",
              "      <td>medium</td>\n",
              "      <td>medium</td>\n",
              "      <td>1_cd3cd28</td>\n",
              "    </tr>\n",
              "    <tr>\n",
              "      <th>4</th>\n",
              "      <td>low</td>\n",
              "      <td>medium</td>\n",
              "      <td>low</td>\n",
              "      <td>low</td>\n",
              "      <td>medium</td>\n",
              "      <td>medium</td>\n",
              "      <td>medium</td>\n",
              "      <td>low</td>\n",
              "      <td>low</td>\n",
              "      <td>medium</td>\n",
              "      <td>high</td>\n",
              "      <td>1_cd3cd28</td>\n",
              "    </tr>\n",
              "    <tr>\n",
              "      <th>5</th>\n",
              "      <td>low</td>\n",
              "      <td>low</td>\n",
              "      <td>medium</td>\n",
              "      <td>low</td>\n",
              "      <td>low</td>\n",
              "      <td>medium</td>\n",
              "      <td>medium</td>\n",
              "      <td>medium</td>\n",
              "      <td>medium</td>\n",
              "      <td>high</td>\n",
              "      <td>high</td>\n",
              "      <td>1_cd3cd28</td>\n",
              "    </tr>\n",
              "  </tbody>\n",
              "</table>\n",
              "</div>\n",
              "    <div class=\"colab-df-buttons\">\n",
              "\n",
              "  <div class=\"colab-df-container\">\n",
              "    <button class=\"colab-df-convert\" onclick=\"convertToInteractive('df-eca55cee-9397-4257-ad6c-cea6d0841578')\"\n",
              "            title=\"Convert this dataframe to an interactive table.\"\n",
              "            style=\"display:none;\">\n",
              "\n",
              "  <svg xmlns=\"http://www.w3.org/2000/svg\" height=\"24px\" viewBox=\"0 -960 960 960\">\n",
              "    <path d=\"M120-120v-720h720v720H120Zm60-500h600v-160H180v160Zm220 220h160v-160H400v160Zm0 220h160v-160H400v160ZM180-400h160v-160H180v160Zm440 0h160v-160H620v160ZM180-180h160v-160H180v160Zm440 0h160v-160H620v160Z\"/>\n",
              "  </svg>\n",
              "    </button>\n",
              "\n",
              "  <style>\n",
              "    .colab-df-container {\n",
              "      display:flex;\n",
              "      gap: 12px;\n",
              "    }\n",
              "\n",
              "    .colab-df-convert {\n",
              "      background-color: #E8F0FE;\n",
              "      border: none;\n",
              "      border-radius: 50%;\n",
              "      cursor: pointer;\n",
              "      display: none;\n",
              "      fill: #1967D2;\n",
              "      height: 32px;\n",
              "      padding: 0 0 0 0;\n",
              "      width: 32px;\n",
              "    }\n",
              "\n",
              "    .colab-df-convert:hover {\n",
              "      background-color: #E2EBFA;\n",
              "      box-shadow: 0px 1px 2px rgba(60, 64, 67, 0.3), 0px 1px 3px 1px rgba(60, 64, 67, 0.15);\n",
              "      fill: #174EA6;\n",
              "    }\n",
              "\n",
              "    .colab-df-buttons div {\n",
              "      margin-bottom: 4px;\n",
              "    }\n",
              "\n",
              "    [theme=dark] .colab-df-convert {\n",
              "      background-color: #3B4455;\n",
              "      fill: #D2E3FC;\n",
              "    }\n",
              "\n",
              "    [theme=dark] .colab-df-convert:hover {\n",
              "      background-color: #434B5C;\n",
              "      box-shadow: 0px 1px 3px 1px rgba(0, 0, 0, 0.15);\n",
              "      filter: drop-shadow(0px 1px 2px rgba(0, 0, 0, 0.3));\n",
              "      fill: #FFFFFF;\n",
              "    }\n",
              "  </style>\n",
              "\n",
              "    <script>\n",
              "      const buttonEl =\n",
              "        document.querySelector('#df-eca55cee-9397-4257-ad6c-cea6d0841578 button.colab-df-convert');\n",
              "      buttonEl.style.display =\n",
              "        google.colab.kernel.accessAllowed ? 'block' : 'none';\n",
              "\n",
              "      async function convertToInteractive(key) {\n",
              "        const element = document.querySelector('#df-eca55cee-9397-4257-ad6c-cea6d0841578');\n",
              "        const dataTable =\n",
              "          await google.colab.kernel.invokeFunction('convertToInteractive',\n",
              "                                                    [key], {});\n",
              "        if (!dataTable) return;\n",
              "\n",
              "        const docLinkHtml = 'Like what you see? Visit the ' +\n",
              "          '<a target=\"_blank\" href=https://colab.research.google.com/notebooks/data_table.ipynb>data table notebook</a>'\n",
              "          + ' to learn more about interactive tables.';\n",
              "        element.innerHTML = '';\n",
              "        dataTable['output_type'] = 'display_data';\n",
              "        await google.colab.output.renderOutput(dataTable, element);\n",
              "        const docLink = document.createElement('div');\n",
              "        docLink.innerHTML = docLinkHtml;\n",
              "        element.appendChild(docLink);\n",
              "      }\n",
              "    </script>\n",
              "  </div>\n",
              "\n",
              "\n",
              "<div id=\"df-4a90ca3e-d52a-436e-8196-5f46b1cbe532\">\n",
              "  <button class=\"colab-df-quickchart\" onclick=\"quickchart('df-4a90ca3e-d52a-436e-8196-5f46b1cbe532')\"\n",
              "            title=\"Suggest charts\"\n",
              "            style=\"display:none;\">\n",
              "\n",
              "<svg xmlns=\"http://www.w3.org/2000/svg\" height=\"24px\"viewBox=\"0 0 24 24\"\n",
              "     width=\"24px\">\n",
              "    <g>\n",
              "        <path d=\"M19 3H5c-1.1 0-2 .9-2 2v14c0 1.1.9 2 2 2h14c1.1 0 2-.9 2-2V5c0-1.1-.9-2-2-2zM9 17H7v-7h2v7zm4 0h-2V7h2v10zm4 0h-2v-4h2v4z\"/>\n",
              "    </g>\n",
              "</svg>\n",
              "  </button>\n",
              "\n",
              "<style>\n",
              "  .colab-df-quickchart {\n",
              "      --bg-color: #E8F0FE;\n",
              "      --fill-color: #1967D2;\n",
              "      --hover-bg-color: #E2EBFA;\n",
              "      --hover-fill-color: #174EA6;\n",
              "      --disabled-fill-color: #AAA;\n",
              "      --disabled-bg-color: #DDD;\n",
              "  }\n",
              "\n",
              "  [theme=dark] .colab-df-quickchart {\n",
              "      --bg-color: #3B4455;\n",
              "      --fill-color: #D2E3FC;\n",
              "      --hover-bg-color: #434B5C;\n",
              "      --hover-fill-color: #FFFFFF;\n",
              "      --disabled-bg-color: #3B4455;\n",
              "      --disabled-fill-color: #666;\n",
              "  }\n",
              "\n",
              "  .colab-df-quickchart {\n",
              "    background-color: var(--bg-color);\n",
              "    border: none;\n",
              "    border-radius: 50%;\n",
              "    cursor: pointer;\n",
              "    display: none;\n",
              "    fill: var(--fill-color);\n",
              "    height: 32px;\n",
              "    padding: 0;\n",
              "    width: 32px;\n",
              "  }\n",
              "\n",
              "  .colab-df-quickchart:hover {\n",
              "    background-color: var(--hover-bg-color);\n",
              "    box-shadow: 0 1px 2px rgba(60, 64, 67, 0.3), 0 1px 3px 1px rgba(60, 64, 67, 0.15);\n",
              "    fill: var(--button-hover-fill-color);\n",
              "  }\n",
              "\n",
              "  .colab-df-quickchart-complete:disabled,\n",
              "  .colab-df-quickchart-complete:disabled:hover {\n",
              "    background-color: var(--disabled-bg-color);\n",
              "    fill: var(--disabled-fill-color);\n",
              "    box-shadow: none;\n",
              "  }\n",
              "\n",
              "  .colab-df-spinner {\n",
              "    border: 2px solid var(--fill-color);\n",
              "    border-color: transparent;\n",
              "    border-bottom-color: var(--fill-color);\n",
              "    animation:\n",
              "      spin 1s steps(1) infinite;\n",
              "  }\n",
              "\n",
              "  @keyframes spin {\n",
              "    0% {\n",
              "      border-color: transparent;\n",
              "      border-bottom-color: var(--fill-color);\n",
              "      border-left-color: var(--fill-color);\n",
              "    }\n",
              "    20% {\n",
              "      border-color: transparent;\n",
              "      border-left-color: var(--fill-color);\n",
              "      border-top-color: var(--fill-color);\n",
              "    }\n",
              "    30% {\n",
              "      border-color: transparent;\n",
              "      border-left-color: var(--fill-color);\n",
              "      border-top-color: var(--fill-color);\n",
              "      border-right-color: var(--fill-color);\n",
              "    }\n",
              "    40% {\n",
              "      border-color: transparent;\n",
              "      border-right-color: var(--fill-color);\n",
              "      border-top-color: var(--fill-color);\n",
              "    }\n",
              "    60% {\n",
              "      border-color: transparent;\n",
              "      border-right-color: var(--fill-color);\n",
              "    }\n",
              "    80% {\n",
              "      border-color: transparent;\n",
              "      border-right-color: var(--fill-color);\n",
              "      border-bottom-color: var(--fill-color);\n",
              "    }\n",
              "    90% {\n",
              "      border-color: transparent;\n",
              "      border-bottom-color: var(--fill-color);\n",
              "    }\n",
              "  }\n",
              "</style>\n",
              "\n",
              "  <script>\n",
              "    async function quickchart(key) {\n",
              "      const quickchartButtonEl =\n",
              "        document.querySelector('#' + key + ' button');\n",
              "      quickchartButtonEl.disabled = true;  // To prevent multiple clicks.\n",
              "      quickchartButtonEl.classList.add('colab-df-spinner');\n",
              "      try {\n",
              "        const charts = await google.colab.kernel.invokeFunction(\n",
              "            'suggestCharts', [key], {});\n",
              "      } catch (error) {\n",
              "        console.error('Error during call to suggestCharts:', error);\n",
              "      }\n",
              "      quickchartButtonEl.classList.remove('colab-df-spinner');\n",
              "      quickchartButtonEl.classList.add('colab-df-quickchart-complete');\n",
              "    }\n",
              "    (() => {\n",
              "      let quickchartButtonEl =\n",
              "        document.querySelector('#df-4a90ca3e-d52a-436e-8196-5f46b1cbe532 button');\n",
              "      quickchartButtonEl.style.display =\n",
              "        google.colab.kernel.accessAllowed ? 'block' : 'none';\n",
              "    })();\n",
              "  </script>\n",
              "</div>\n",
              "    </div>\n",
              "  </div>\n"
            ],
            "application/vnd.google.colaboratory.intrinsic+json": {
              "type": "dataframe",
              "variable_name": "discret_data",
              "summary": "{\n  \"name\": \"discret_data\",\n  \"rows\": 7466,\n  \"fields\": [\n    {\n      \"column\": \"praf\",\n      \"properties\": {\n        \"dtype\": \"category\",\n        \"num_unique_values\": 3,\n        \"samples\": [\n          \"low\",\n          \"medium\",\n          \"high\"\n        ],\n        \"semantic_type\": \"\",\n        \"description\": \"\"\n      }\n    },\n    {\n      \"column\": \"pmek\",\n      \"properties\": {\n        \"dtype\": \"category\",\n        \"num_unique_values\": 3,\n        \"samples\": [\n          \"low\",\n          \"high\",\n          \"medium\"\n        ],\n        \"semantic_type\": \"\",\n        \"description\": \"\"\n      }\n    },\n    {\n      \"column\": \"plcg\",\n      \"properties\": {\n        \"dtype\": \"category\",\n        \"num_unique_values\": 3,\n        \"samples\": [\n          \"low\",\n          \"medium\",\n          \"high\"\n        ],\n        \"semantic_type\": \"\",\n        \"description\": \"\"\n      }\n    },\n    {\n      \"column\": \"PIP2\",\n      \"properties\": {\n        \"dtype\": \"category\",\n        \"num_unique_values\": 3,\n        \"samples\": [\n          \"low\",\n          \"high\",\n          \"medium\"\n        ],\n        \"semantic_type\": \"\",\n        \"description\": \"\"\n      }\n    },\n    {\n      \"column\": \"PIP3\",\n      \"properties\": {\n        \"dtype\": \"category\",\n        \"num_unique_values\": 3,\n        \"samples\": [\n          \"high\",\n          \"low\",\n          \"medium\"\n        ],\n        \"semantic_type\": \"\",\n        \"description\": \"\"\n      }\n    },\n    {\n      \"column\": \"p44.42\",\n      \"properties\": {\n        \"dtype\": \"category\",\n        \"num_unique_values\": 3,\n        \"samples\": [\n          \"low\",\n          \"medium\",\n          \"high\"\n        ],\n        \"semantic_type\": \"\",\n        \"description\": \"\"\n      }\n    },\n    {\n      \"column\": \"pakts473\",\n      \"properties\": {\n        \"dtype\": \"category\",\n        \"num_unique_values\": 3,\n        \"samples\": [\n          \"low\",\n          \"medium\",\n          \"high\"\n        ],\n        \"semantic_type\": \"\",\n        \"description\": \"\"\n      }\n    },\n    {\n      \"column\": \"PKA\",\n      \"properties\": {\n        \"dtype\": \"category\",\n        \"num_unique_values\": 3,\n        \"samples\": [\n          \"medium\",\n          \"low\",\n          \"high\"\n        ],\n        \"semantic_type\": \"\",\n        \"description\": \"\"\n      }\n    },\n    {\n      \"column\": \"PKC\",\n      \"properties\": {\n        \"dtype\": \"category\",\n        \"num_unique_values\": 3,\n        \"samples\": [\n          \"medium\",\n          \"low\",\n          \"high\"\n        ],\n        \"semantic_type\": \"\",\n        \"description\": \"\"\n      }\n    },\n    {\n      \"column\": \"P38\",\n      \"properties\": {\n        \"dtype\": \"category\",\n        \"num_unique_values\": 3,\n        \"samples\": [\n          \"high\",\n          \"low\",\n          \"medium\"\n        ],\n        \"semantic_type\": \"\",\n        \"description\": \"\"\n      }\n    },\n    {\n      \"column\": \"pjnk\",\n      \"properties\": {\n        \"dtype\": \"category\",\n        \"num_unique_values\": 3,\n        \"samples\": [\n          \"high\",\n          \"medium\",\n          \"low\"\n        ],\n        \"semantic_type\": \"\",\n        \"description\": \"\"\n      }\n    },\n    {\n      \"column\": \"expt\",\n      \"properties\": {\n        \"dtype\": \"category\",\n        \"num_unique_values\": 9,\n        \"samples\": [\n          \"8_pma\",\n          \"2_cd3cd28icam2\",\n          \"6_cd3cd28+u0126\"\n        ],\n        \"semantic_type\": \"\",\n        \"description\": \"\"\n      }\n    }\n  ]\n}"
            }
          },
          "metadata": {},
          "execution_count": 31
        }
      ]
    },
    {
      "cell_type": "markdown",
      "source": [
        "How many distinct experiments are there?  Use `pandas.DataFrame.drop_duplicates` on the `expt` column of the data frame."
      ],
      "metadata": {
        "id": "KDWO4g3zP21a"
      }
    },
    {
      "cell_type": "code",
      "source": [
        "discret_data[\"expt\"].drop_duplicates()"
      ],
      "metadata": {
        "colab": {
          "base_uri": "https://localhost:8080/"
        },
        "id": "9vPv-v6qPwN8",
        "outputId": "396c5f92-ffdd-47f7-bb6c-ed0631c7eec7"
      },
      "execution_count": null,
      "outputs": [
        {
          "output_type": "execute_result",
          "data": {
            "text/plain": [
              "0                1_cd3cd28\n",
              "853         2_cd3cd28icam2\n",
              "1755    3_cd3cd28+aktinhib\n",
              "2666       4_cd3cd28+g0076\n",
              "3389     5_cd3cd28+psitect\n",
              "4199       6_cd3cd28+u0126\n",
              "4998          7_cd3cd28+ly\n",
              "5846                 8_pma\n",
              "6759              9_b2camp\n",
              "Name: expt, dtype: object"
            ]
          },
          "metadata": {},
          "execution_count": 32
        }
      ]
    },
    {
      "cell_type": "markdown",
      "metadata": {
        "id": "4SUNioIUfOfD"
      },
      "source": [
        "Define a function `log_prob_network_prior` that computes a log probability prior for a graph structure, based on the vertex degree distribution. The function should take a single argument `network`, of type `numpy.ndarray`.  Details on how to implement the function are given as comments below."
      ]
    },
    {
      "cell_type": "code",
      "metadata": {
        "id": "c8e7ep6_fOfE"
      },
      "source": [
        "def log_prob_network_prior(network: np.ndarray):\n",
        "    # Compute a vector `degarray` of floating point values for the degree\n",
        "    # of each vertex.\n",
        "    degarray = np.array(np.sum(network, axis=0) + np.sum(network, axis=1),\n",
        "                        dtype='float')\n",
        "\n",
        "    # The log probability is the logarithm of the product (over all vertices) of\n",
        "    # the single-vertex power-law degree distribution, which we will define as\n",
        "    # `1/(1+k)^2`.  Remember that the log of the product is the sum of the logs,\n",
        "    # so you can just compute this as `numpy.sum` of `numpy.log` of\n",
        "    # `numpy.power(1.0 + degarray, -2)`\n",
        "    return np.sum(np.log(np.power(1.0 + degarray, -2)))"
      ],
      "execution_count": null,
      "outputs": []
    },
    {
      "cell_type": "markdown",
      "metadata": {
        "id": "UwgMtelyfOfL"
      },
      "source": [
        "Define a vectorized log-factorial function `lfactorial`, that takes an argument `n` of type `numpy.ndarray`. Use the fact that `factorial(n) = gamma(n+1)`, where `gamma` means the gamma function. Note that we can compute log gamma as `scipy.special.gammaln`. Can you speculate why we are not implementing factorial directly, and instead computing log factorial?"
      ]
    },
    {
      "cell_type": "code",
      "metadata": {
        "id": "ETqmdkLCfOfM"
      },
      "source": [
        "def lfactorial(n):\n",
        "    return scipy.special.gammaln(n+1)"
      ],
      "execution_count": null,
      "outputs": []
    },
    {
      "cell_type": "markdown",
      "metadata": {
        "id": "j7EmO-z5TIkE"
      },
      "source": [
        "Test out your `lfactorial` function by running it on `np.array([1,2,3,4,5])` and exponentiating the result using `numpy.exp`. Did you get what you expect?"
      ]
    },
    {
      "cell_type": "code",
      "metadata": {
        "id": "JF1z9_dXTOxR",
        "colab": {
          "base_uri": "https://localhost:8080/"
        },
        "outputId": "58da83dc-c57f-41bb-e929-2354dbb2aa5e"
      },
      "source": [
        "np.exp(lfactorial(np.array(range(1,6))))"
      ],
      "execution_count": null,
      "outputs": [
        {
          "output_type": "execute_result",
          "data": {
            "text/plain": [
              "array([  1.,   2.,   6.,  24., 120.])"
            ]
          },
          "metadata": {},
          "execution_count": 35
        }
      ]
    },
    {
      "cell_type": "markdown",
      "metadata": {
        "id": "jzoGz6FXfOfR"
      },
      "source": [
        "Define a log likelihood function for a single vertex, based on Theorem 1 in the 1992 article in *Machine Learning* by Cooper & Herskovits. Note:  we are using igraph's adjacency matrix format which is the transpose of Newman's adjacency matrix definition!"
      ]
    },
    {
      "cell_type": "code",
      "metadata": {
        "id": "2E-8KY7FfOfS"
      },
      "source": [
        "def log_likelihood_network_vertex(network: np.ndarray,\n",
        "                                  vertex: int,\n",
        "                                  discret_data: pd.DataFrame):\n",
        "\n",
        "    # network is a NxN numpy matrix (N = 11 vertices)\n",
        "    # vertex is an integer vertex ID\n",
        "    # discret_data is the discretized data (N = 11 vertices, M = 7466 samples)\n",
        "\n",
        "    # get the ids of the parent of vertex `vertex` by finding which row\n",
        "    # numbers of `network` have a value 1, in column `vertex`\n",
        "    parents_vertex = np.where(network[:,vertex]==1)[0].tolist()\n",
        "    # make a new list `all_vertices` as a copy of `parents_vertex`\n",
        "    all_vertices = parents_vertex.copy()\n",
        "    # add the child vertex `vertex` to `all_vertices`\n",
        "    all_vertices.append(vertex)\n",
        "\n",
        "    # Using `pandas.DataFrame.iloc`, subset the dataframe `discret_data` in\n",
        "    # order to select the columns `all_vertices`, as a new dataframe `df1`.\n",
        "    df1 = discret_data.iloc[:, all_vertices]\n",
        "\n",
        "    # in `df1`, rename the vertex column to `vertex`; note that `vertex`\n",
        "    # will be the rightmost column at this point\n",
        "    df1.columns = [*df1.columns[:-1], \"vertex\"]\n",
        "\n",
        "    # get a list of column names of `df1`, as variable `col_names`\n",
        "    col_names = df1.columns.values.tolist()\n",
        "\n",
        "    # By chaining method calls to `pandas.DataFrame.groupby`,\n",
        "    # `pandas.core.groupby.generic.DataFrameGroupBy.size`, and\n",
        "    # `pandas.Series.reset_index`, count the number of times\n",
        "    # each unique row appears in the dataframe `df1`,\n",
        "    # and name resulting row-counts column `count`; replace\n",
        "    # `df1` with the result of this triple-chain of method calls\n",
        "    df1 = df1.groupby(col_names).size().reset_index(name='count')\n",
        "\n",
        "    # in `df1`, make a new column called `countfactorial` that will contain\n",
        "    # the log of the factorial of the value in the `count` column (which you\n",
        "    # should compute using your vectorized log-factorial function)\n",
        "    df1[\"countfactorial\"] = lfactorial(df1[\"count\"].values)\n",
        "\n",
        "    # using `pandas.DataFrame.drop`drop the \"count\" column from `df1`\n",
        "    # (don't forget to specify `axis=1`)\n",
        "    df1 = df1.drop(\"count\", axis=1)\n",
        "\n",
        "    # if parents_vertex is nonempty:\n",
        "    if parents_vertex:\n",
        "        # compute the number of parent vertices, as variable `num_parents`\n",
        "        num_parents = len(parents_vertex)\n",
        "\n",
        "        # Using `range` and `pandas.DataFrame.columns` and\n",
        "        # `pandas.DataFrame.groupby` (with `as_index=False`), and\n",
        "        # `pandas.core.groupby.generic.DataFrameGroupBy.sum` (with\n",
        "        # `numeric_only=True` for the `sum` method call),\n",
        "        # for each combination of states of the parent vertices, sum the\n",
        "        # `countfactorial` column over all states of `vertex`\n",
        "        nijkdf = df1.groupby(by=df1.columns[range(0, num_parents)].tolist(),\n",
        "                             as_index=False).sum(numeric_only=True)\n",
        "\n",
        "        # sanity-check that there is no longer a column `vertex` in `df1`,\n",
        "        # using an assertion\n",
        "        assert 'vertex' not in nijkdf.columns.tolist()\n",
        "\n",
        "        # create a dataframe `df3` containing the subset of columns of\n",
        "        # `discret_data` corresponding to the parent vertices of `vertex`\n",
        "        df3 = discret_data.iloc[:, parents_vertex]\n",
        "\n",
        "        # starting from `df3`, create a dataframe `nijdf` containing\n",
        "        # the counts of unique rows, by chaining together method calls\n",
        "        # `pandas.DataFrame.groupby` (with `by=df3.columns.values.tolist()` and\n",
        "        # `as_index=False`), `pandas.core.groupby.generic.DataFrameGroupBy.sum`,\n",
        "        # and `pandas.DataFrame.reset_index`.\n",
        "        nijdf = df3.groupby(by=df3.columns.values.tolist(),\n",
        "                            as_index=False).size().reset_index()\n",
        "\n",
        "        # set last column name of `nijdf` to `count` (see the trick using the\n",
        "        # unpacking operator above, where we set the name of the last column\n",
        "        # of dataframe `df1`)\n",
        "        nijdf.columns = [*nijdf.columns[:-1], \"count\"]\n",
        "\n",
        "        # in dataframe `nijdf`, make a new column `countfactorial` which will\n",
        "        # contain `log(2)` minus the log of the factorial of the sum of two and\n",
        "        # the value of the `counts` column of the same dataframe; in pseudocode:\n",
        "        #    countfactorial := log(2) - logfactorial(2 + count)\n",
        "        nijdf[\"countfactorial\"] = math.log(2) - lfactorial(2 + nijdf[\"count\"])\n",
        "\n",
        "        # drop the \"count\" column from `nijdf`, using `pandas.DataFrame.drop`\n",
        "        nijdf = nijdf.drop(\"count\", axis=1)\n",
        "\n",
        "        # use `pandas.DataFrame.merge` to join `nijdf` and `nijkdf` on the\n",
        "        # parent vertices (i.e., `nijkdf.columns[:-1]`), into two columns\n",
        "        # `countfactorial_x` and `countfactorial_y` in a single dataframe\n",
        "        # `nmerge` (use `how=\"outer\"` and `copy=False`, in the merge operation):\n",
        "        nmerge = nijdf.merge(nijkdf, how=\"outer\",\n",
        "                             on=nijkdf.columns[:-1].values.tolist(),\n",
        "                             copy=False)\n",
        "\n",
        "        # add the two columns `countfactorial_x` and `countfactorial_y` of\n",
        "        # dataframe `nmerge` and then perform a column-wise sum\n",
        "        # to get a single floating-point value; assign it to `llh_res`\n",
        "        llh_res = np.sum(nmerge[\"countfactorial_x\"] + nmerge[\"countfactorial_y\"])\n",
        "    else:\n",
        "        # we handle the case of no parent vertices specially, to simplify the code\n",
        "\n",
        "        # compute the number of rows of `dicreate_data`\n",
        "        M = discret_data.shape[0]\n",
        "\n",
        "        # compute log(2) - log((M+2)!) + (the columnwise sum of \"countfactorial\" in df1)\n",
        "        llh_res = math.log(2) - lfactorial(M + 2) + np.sum(df1[\"countfactorial\"].values)\n",
        "\n",
        "    return llh_res"
      ],
      "execution_count": null,
      "outputs": []
    },
    {
      "cell_type": "markdown",
      "metadata": {
        "id": "LcPb2bapfOfY"
      },
      "source": [
        "Define a log-posterior-probability function for the whole graph, using the per-vertex likelihood and the network structure prior:"
      ]
    },
    {
      "cell_type": "code",
      "metadata": {
        "id": "fZXDmlcUfOfZ"
      },
      "source": [
        "def log_posterior_prob_network(network: np.ndarray,\n",
        "                               discret_data: pd.DataFrame):\n",
        "    # get the count of vertices, as variable `Nvert`\n",
        "    Nvert = network.shape[1]\n",
        "\n",
        "    # use list comprehension to obtain the single-vertex log-likelihood for each\n",
        "    # vertex from 0...Nvert, and assign the resulting list to variable\n",
        "    # `lpvert_values`\n",
        "    lpvert_values = [log_likelihood_network_vertex(network, i, discret_data) for\n",
        "                     i in range(0, Nvert)]\n",
        "\n",
        "    # compute the joint prior probability on the network, by calling\n",
        "    # the function `log_prob_network_prior` and passing the `network` to it\n",
        "    log_joint_prior = log_prob_network_prior(network)\n",
        "\n",
        "    # compute the joint likelihood as the sum of values in the list `lpvert_values`\n",
        "    log_joint_likelihood = np.sum(np.array(lpvert_values))\n",
        "\n",
        "    # return the sum of the log-joint-likelihood and the log-joint-prior\n",
        "    return log_joint_likelihood + log_joint_prior"
      ],
      "execution_count": null,
      "outputs": []
    },
    {
      "cell_type": "markdown",
      "metadata": {
        "id": "M4FAFVS9fOfe"
      },
      "source": [
        "Define an adjacency matrix for the \"real\" network shown in Fig. 3A of the Sachs et al. article (not including the \"missed\" edges which are the dotted arcs)."
      ]
    },
    {
      "cell_type": "code",
      "metadata": {
        "scrolled": true,
        "id": "DQ20x_OkfOff"
      },
      "source": [
        "real_network_adj_np = np.zeros(shape=[11,11])\n",
        "molec_names = list(discret_data.columns)[0:11]\n",
        "real_network_adj_df = pd.DataFrame(real_network_adj_np, index=molec_names, columns=molec_names)\n",
        "real_network_adj_df[\"PKA\"][\"PKC\"] = 1\n",
        "real_network_adj_df[\"praf\"][\"PKC\"] = 1\n",
        "real_network_adj_df[\"pjnk\"][\"PKC\"] = 1\n",
        "real_network_adj_df[\"P38\"][\"PKC\"] = 1\n",
        "real_network_adj_df[\"pjnk\"][\"PKA\"] = 1\n",
        "real_network_adj_df[\"P38\"][\"PKA\"] = 1\n",
        "real_network_adj_df[\"praf\"][\"PKA\"] = 1\n",
        "real_network_adj_df[\"pmek\"][\"PKA\"] = 1\n",
        "real_network_adj_df[\"p44.42\"][\"PKA\"] = 1  # NOTE: p44.42 = ERK\n",
        "real_network_adj_df[\"pakts473\"][\"PKA\"] = 1\n",
        "real_network_adj_df[\"pakts473\"][\"p44.42\"] = 1\n",
        "real_network_adj_df[\"pmek\"][\"PKC\"] = 1\n",
        "real_network_adj_df[\"pmek\"][\"praf\"] = 1\n",
        "real_network_adj_df[\"p44.42\"][\"pmek\"] = 1\n",
        "real_network_adj_df[\"PIP2\"][\"plcg\"] = 1\n",
        "real_network_adj_df[\"PIP3\"][\"plcg\"] = 1\n",
        "real_network_adj_df[\"PIP2\"][\"PIP3\"] = 1\n",
        "real_network_adj = real_network_adj_df.values"
      ],
      "execution_count": null,
      "outputs": []
    },
    {
      "cell_type": "markdown",
      "metadata": {
        "id": "MpYwfreEEujl"
      },
      "source": [
        "Take a look at the dataframe that you have just created"
      ]
    },
    {
      "cell_type": "code",
      "metadata": {
        "id": "vqCF_1CtEm0V",
        "colab": {
          "base_uri": "https://localhost:8080/",
          "height": 394
        },
        "outputId": "5623365c-a42f-44a2-bf9b-6365bcdb59c4"
      },
      "source": [
        "real_network_adj_df"
      ],
      "execution_count": null,
      "outputs": [
        {
          "output_type": "execute_result",
          "data": {
            "text/plain": [
              "          praf  pmek  plcg  PIP2  PIP3  p44.42  pakts473  PKA  PKC  P38  pjnk\n",
              "praf       0.0   1.0   0.0   0.0   0.0     0.0       0.0  0.0  0.0  0.0   0.0\n",
              "pmek       0.0   0.0   0.0   0.0   0.0     1.0       0.0  0.0  0.0  0.0   0.0\n",
              "plcg       0.0   0.0   0.0   1.0   1.0     0.0       0.0  0.0  0.0  0.0   0.0\n",
              "PIP2       0.0   0.0   0.0   0.0   0.0     0.0       0.0  0.0  0.0  0.0   0.0\n",
              "PIP3       0.0   0.0   0.0   1.0   0.0     0.0       0.0  0.0  0.0  0.0   0.0\n",
              "p44.42     0.0   0.0   0.0   0.0   0.0     0.0       1.0  0.0  0.0  0.0   0.0\n",
              "pakts473   0.0   0.0   0.0   0.0   0.0     0.0       0.0  0.0  0.0  0.0   0.0\n",
              "PKA        1.0   1.0   0.0   0.0   0.0     1.0       1.0  0.0  0.0  1.0   1.0\n",
              "PKC        1.0   1.0   0.0   0.0   0.0     0.0       0.0  1.0  0.0  1.0   1.0\n",
              "P38        0.0   0.0   0.0   0.0   0.0     0.0       0.0  0.0  0.0  0.0   0.0\n",
              "pjnk       0.0   0.0   0.0   0.0   0.0     0.0       0.0  0.0  0.0  0.0   0.0"
            ],
            "text/html": [
              "\n",
              "  <div id=\"df-9de6816d-f8af-45b7-8262-80e982af9254\" class=\"colab-df-container\">\n",
              "    <div>\n",
              "<style scoped>\n",
              "    .dataframe tbody tr th:only-of-type {\n",
              "        vertical-align: middle;\n",
              "    }\n",
              "\n",
              "    .dataframe tbody tr th {\n",
              "        vertical-align: top;\n",
              "    }\n",
              "\n",
              "    .dataframe thead th {\n",
              "        text-align: right;\n",
              "    }\n",
              "</style>\n",
              "<table border=\"1\" class=\"dataframe\">\n",
              "  <thead>\n",
              "    <tr style=\"text-align: right;\">\n",
              "      <th></th>\n",
              "      <th>praf</th>\n",
              "      <th>pmek</th>\n",
              "      <th>plcg</th>\n",
              "      <th>PIP2</th>\n",
              "      <th>PIP3</th>\n",
              "      <th>p44.42</th>\n",
              "      <th>pakts473</th>\n",
              "      <th>PKA</th>\n",
              "      <th>PKC</th>\n",
              "      <th>P38</th>\n",
              "      <th>pjnk</th>\n",
              "    </tr>\n",
              "  </thead>\n",
              "  <tbody>\n",
              "    <tr>\n",
              "      <th>praf</th>\n",
              "      <td>0.0</td>\n",
              "      <td>1.0</td>\n",
              "      <td>0.0</td>\n",
              "      <td>0.0</td>\n",
              "      <td>0.0</td>\n",
              "      <td>0.0</td>\n",
              "      <td>0.0</td>\n",
              "      <td>0.0</td>\n",
              "      <td>0.0</td>\n",
              "      <td>0.0</td>\n",
              "      <td>0.0</td>\n",
              "    </tr>\n",
              "    <tr>\n",
              "      <th>pmek</th>\n",
              "      <td>0.0</td>\n",
              "      <td>0.0</td>\n",
              "      <td>0.0</td>\n",
              "      <td>0.0</td>\n",
              "      <td>0.0</td>\n",
              "      <td>1.0</td>\n",
              "      <td>0.0</td>\n",
              "      <td>0.0</td>\n",
              "      <td>0.0</td>\n",
              "      <td>0.0</td>\n",
              "      <td>0.0</td>\n",
              "    </tr>\n",
              "    <tr>\n",
              "      <th>plcg</th>\n",
              "      <td>0.0</td>\n",
              "      <td>0.0</td>\n",
              "      <td>0.0</td>\n",
              "      <td>1.0</td>\n",
              "      <td>1.0</td>\n",
              "      <td>0.0</td>\n",
              "      <td>0.0</td>\n",
              "      <td>0.0</td>\n",
              "      <td>0.0</td>\n",
              "      <td>0.0</td>\n",
              "      <td>0.0</td>\n",
              "    </tr>\n",
              "    <tr>\n",
              "      <th>PIP2</th>\n",
              "      <td>0.0</td>\n",
              "      <td>0.0</td>\n",
              "      <td>0.0</td>\n",
              "      <td>0.0</td>\n",
              "      <td>0.0</td>\n",
              "      <td>0.0</td>\n",
              "      <td>0.0</td>\n",
              "      <td>0.0</td>\n",
              "      <td>0.0</td>\n",
              "      <td>0.0</td>\n",
              "      <td>0.0</td>\n",
              "    </tr>\n",
              "    <tr>\n",
              "      <th>PIP3</th>\n",
              "      <td>0.0</td>\n",
              "      <td>0.0</td>\n",
              "      <td>0.0</td>\n",
              "      <td>1.0</td>\n",
              "      <td>0.0</td>\n",
              "      <td>0.0</td>\n",
              "      <td>0.0</td>\n",
              "      <td>0.0</td>\n",
              "      <td>0.0</td>\n",
              "      <td>0.0</td>\n",
              "      <td>0.0</td>\n",
              "    </tr>\n",
              "    <tr>\n",
              "      <th>p44.42</th>\n",
              "      <td>0.0</td>\n",
              "      <td>0.0</td>\n",
              "      <td>0.0</td>\n",
              "      <td>0.0</td>\n",
              "      <td>0.0</td>\n",
              "      <td>0.0</td>\n",
              "      <td>1.0</td>\n",
              "      <td>0.0</td>\n",
              "      <td>0.0</td>\n",
              "      <td>0.0</td>\n",
              "      <td>0.0</td>\n",
              "    </tr>\n",
              "    <tr>\n",
              "      <th>pakts473</th>\n",
              "      <td>0.0</td>\n",
              "      <td>0.0</td>\n",
              "      <td>0.0</td>\n",
              "      <td>0.0</td>\n",
              "      <td>0.0</td>\n",
              "      <td>0.0</td>\n",
              "      <td>0.0</td>\n",
              "      <td>0.0</td>\n",
              "      <td>0.0</td>\n",
              "      <td>0.0</td>\n",
              "      <td>0.0</td>\n",
              "    </tr>\n",
              "    <tr>\n",
              "      <th>PKA</th>\n",
              "      <td>1.0</td>\n",
              "      <td>1.0</td>\n",
              "      <td>0.0</td>\n",
              "      <td>0.0</td>\n",
              "      <td>0.0</td>\n",
              "      <td>1.0</td>\n",
              "      <td>1.0</td>\n",
              "      <td>0.0</td>\n",
              "      <td>0.0</td>\n",
              "      <td>1.0</td>\n",
              "      <td>1.0</td>\n",
              "    </tr>\n",
              "    <tr>\n",
              "      <th>PKC</th>\n",
              "      <td>1.0</td>\n",
              "      <td>1.0</td>\n",
              "      <td>0.0</td>\n",
              "      <td>0.0</td>\n",
              "      <td>0.0</td>\n",
              "      <td>0.0</td>\n",
              "      <td>0.0</td>\n",
              "      <td>1.0</td>\n",
              "      <td>0.0</td>\n",
              "      <td>1.0</td>\n",
              "      <td>1.0</td>\n",
              "    </tr>\n",
              "    <tr>\n",
              "      <th>P38</th>\n",
              "      <td>0.0</td>\n",
              "      <td>0.0</td>\n",
              "      <td>0.0</td>\n",
              "      <td>0.0</td>\n",
              "      <td>0.0</td>\n",
              "      <td>0.0</td>\n",
              "      <td>0.0</td>\n",
              "      <td>0.0</td>\n",
              "      <td>0.0</td>\n",
              "      <td>0.0</td>\n",
              "      <td>0.0</td>\n",
              "    </tr>\n",
              "    <tr>\n",
              "      <th>pjnk</th>\n",
              "      <td>0.0</td>\n",
              "      <td>0.0</td>\n",
              "      <td>0.0</td>\n",
              "      <td>0.0</td>\n",
              "      <td>0.0</td>\n",
              "      <td>0.0</td>\n",
              "      <td>0.0</td>\n",
              "      <td>0.0</td>\n",
              "      <td>0.0</td>\n",
              "      <td>0.0</td>\n",
              "      <td>0.0</td>\n",
              "    </tr>\n",
              "  </tbody>\n",
              "</table>\n",
              "</div>\n",
              "    <div class=\"colab-df-buttons\">\n",
              "\n",
              "  <div class=\"colab-df-container\">\n",
              "    <button class=\"colab-df-convert\" onclick=\"convertToInteractive('df-9de6816d-f8af-45b7-8262-80e982af9254')\"\n",
              "            title=\"Convert this dataframe to an interactive table.\"\n",
              "            style=\"display:none;\">\n",
              "\n",
              "  <svg xmlns=\"http://www.w3.org/2000/svg\" height=\"24px\" viewBox=\"0 -960 960 960\">\n",
              "    <path d=\"M120-120v-720h720v720H120Zm60-500h600v-160H180v160Zm220 220h160v-160H400v160Zm0 220h160v-160H400v160ZM180-400h160v-160H180v160Zm440 0h160v-160H620v160ZM180-180h160v-160H180v160Zm440 0h160v-160H620v160Z\"/>\n",
              "  </svg>\n",
              "    </button>\n",
              "\n",
              "  <style>\n",
              "    .colab-df-container {\n",
              "      display:flex;\n",
              "      gap: 12px;\n",
              "    }\n",
              "\n",
              "    .colab-df-convert {\n",
              "      background-color: #E8F0FE;\n",
              "      border: none;\n",
              "      border-radius: 50%;\n",
              "      cursor: pointer;\n",
              "      display: none;\n",
              "      fill: #1967D2;\n",
              "      height: 32px;\n",
              "      padding: 0 0 0 0;\n",
              "      width: 32px;\n",
              "    }\n",
              "\n",
              "    .colab-df-convert:hover {\n",
              "      background-color: #E2EBFA;\n",
              "      box-shadow: 0px 1px 2px rgba(60, 64, 67, 0.3), 0px 1px 3px 1px rgba(60, 64, 67, 0.15);\n",
              "      fill: #174EA6;\n",
              "    }\n",
              "\n",
              "    .colab-df-buttons div {\n",
              "      margin-bottom: 4px;\n",
              "    }\n",
              "\n",
              "    [theme=dark] .colab-df-convert {\n",
              "      background-color: #3B4455;\n",
              "      fill: #D2E3FC;\n",
              "    }\n",
              "\n",
              "    [theme=dark] .colab-df-convert:hover {\n",
              "      background-color: #434B5C;\n",
              "      box-shadow: 0px 1px 3px 1px rgba(0, 0, 0, 0.15);\n",
              "      filter: drop-shadow(0px 1px 2px rgba(0, 0, 0, 0.3));\n",
              "      fill: #FFFFFF;\n",
              "    }\n",
              "  </style>\n",
              "\n",
              "    <script>\n",
              "      const buttonEl =\n",
              "        document.querySelector('#df-9de6816d-f8af-45b7-8262-80e982af9254 button.colab-df-convert');\n",
              "      buttonEl.style.display =\n",
              "        google.colab.kernel.accessAllowed ? 'block' : 'none';\n",
              "\n",
              "      async function convertToInteractive(key) {\n",
              "        const element = document.querySelector('#df-9de6816d-f8af-45b7-8262-80e982af9254');\n",
              "        const dataTable =\n",
              "          await google.colab.kernel.invokeFunction('convertToInteractive',\n",
              "                                                    [key], {});\n",
              "        if (!dataTable) return;\n",
              "\n",
              "        const docLinkHtml = 'Like what you see? Visit the ' +\n",
              "          '<a target=\"_blank\" href=https://colab.research.google.com/notebooks/data_table.ipynb>data table notebook</a>'\n",
              "          + ' to learn more about interactive tables.';\n",
              "        element.innerHTML = '';\n",
              "        dataTable['output_type'] = 'display_data';\n",
              "        await google.colab.output.renderOutput(dataTable, element);\n",
              "        const docLink = document.createElement('div');\n",
              "        docLink.innerHTML = docLinkHtml;\n",
              "        element.appendChild(docLink);\n",
              "      }\n",
              "    </script>\n",
              "  </div>\n",
              "\n",
              "\n",
              "<div id=\"df-e5fc94e7-0413-4ff9-9b67-77cb97b19677\">\n",
              "  <button class=\"colab-df-quickchart\" onclick=\"quickchart('df-e5fc94e7-0413-4ff9-9b67-77cb97b19677')\"\n",
              "            title=\"Suggest charts\"\n",
              "            style=\"display:none;\">\n",
              "\n",
              "<svg xmlns=\"http://www.w3.org/2000/svg\" height=\"24px\"viewBox=\"0 0 24 24\"\n",
              "     width=\"24px\">\n",
              "    <g>\n",
              "        <path d=\"M19 3H5c-1.1 0-2 .9-2 2v14c0 1.1.9 2 2 2h14c1.1 0 2-.9 2-2V5c0-1.1-.9-2-2-2zM9 17H7v-7h2v7zm4 0h-2V7h2v10zm4 0h-2v-4h2v4z\"/>\n",
              "    </g>\n",
              "</svg>\n",
              "  </button>\n",
              "\n",
              "<style>\n",
              "  .colab-df-quickchart {\n",
              "      --bg-color: #E8F0FE;\n",
              "      --fill-color: #1967D2;\n",
              "      --hover-bg-color: #E2EBFA;\n",
              "      --hover-fill-color: #174EA6;\n",
              "      --disabled-fill-color: #AAA;\n",
              "      --disabled-bg-color: #DDD;\n",
              "  }\n",
              "\n",
              "  [theme=dark] .colab-df-quickchart {\n",
              "      --bg-color: #3B4455;\n",
              "      --fill-color: #D2E3FC;\n",
              "      --hover-bg-color: #434B5C;\n",
              "      --hover-fill-color: #FFFFFF;\n",
              "      --disabled-bg-color: #3B4455;\n",
              "      --disabled-fill-color: #666;\n",
              "  }\n",
              "\n",
              "  .colab-df-quickchart {\n",
              "    background-color: var(--bg-color);\n",
              "    border: none;\n",
              "    border-radius: 50%;\n",
              "    cursor: pointer;\n",
              "    display: none;\n",
              "    fill: var(--fill-color);\n",
              "    height: 32px;\n",
              "    padding: 0;\n",
              "    width: 32px;\n",
              "  }\n",
              "\n",
              "  .colab-df-quickchart:hover {\n",
              "    background-color: var(--hover-bg-color);\n",
              "    box-shadow: 0 1px 2px rgba(60, 64, 67, 0.3), 0 1px 3px 1px rgba(60, 64, 67, 0.15);\n",
              "    fill: var(--button-hover-fill-color);\n",
              "  }\n",
              "\n",
              "  .colab-df-quickchart-complete:disabled,\n",
              "  .colab-df-quickchart-complete:disabled:hover {\n",
              "    background-color: var(--disabled-bg-color);\n",
              "    fill: var(--disabled-fill-color);\n",
              "    box-shadow: none;\n",
              "  }\n",
              "\n",
              "  .colab-df-spinner {\n",
              "    border: 2px solid var(--fill-color);\n",
              "    border-color: transparent;\n",
              "    border-bottom-color: var(--fill-color);\n",
              "    animation:\n",
              "      spin 1s steps(1) infinite;\n",
              "  }\n",
              "\n",
              "  @keyframes spin {\n",
              "    0% {\n",
              "      border-color: transparent;\n",
              "      border-bottom-color: var(--fill-color);\n",
              "      border-left-color: var(--fill-color);\n",
              "    }\n",
              "    20% {\n",
              "      border-color: transparent;\n",
              "      border-left-color: var(--fill-color);\n",
              "      border-top-color: var(--fill-color);\n",
              "    }\n",
              "    30% {\n",
              "      border-color: transparent;\n",
              "      border-left-color: var(--fill-color);\n",
              "      border-top-color: var(--fill-color);\n",
              "      border-right-color: var(--fill-color);\n",
              "    }\n",
              "    40% {\n",
              "      border-color: transparent;\n",
              "      border-right-color: var(--fill-color);\n",
              "      border-top-color: var(--fill-color);\n",
              "    }\n",
              "    60% {\n",
              "      border-color: transparent;\n",
              "      border-right-color: var(--fill-color);\n",
              "    }\n",
              "    80% {\n",
              "      border-color: transparent;\n",
              "      border-right-color: var(--fill-color);\n",
              "      border-bottom-color: var(--fill-color);\n",
              "    }\n",
              "    90% {\n",
              "      border-color: transparent;\n",
              "      border-bottom-color: var(--fill-color);\n",
              "    }\n",
              "  }\n",
              "</style>\n",
              "\n",
              "  <script>\n",
              "    async function quickchart(key) {\n",
              "      const quickchartButtonEl =\n",
              "        document.querySelector('#' + key + ' button');\n",
              "      quickchartButtonEl.disabled = true;  // To prevent multiple clicks.\n",
              "      quickchartButtonEl.classList.add('colab-df-spinner');\n",
              "      try {\n",
              "        const charts = await google.colab.kernel.invokeFunction(\n",
              "            'suggestCharts', [key], {});\n",
              "      } catch (error) {\n",
              "        console.error('Error during call to suggestCharts:', error);\n",
              "      }\n",
              "      quickchartButtonEl.classList.remove('colab-df-spinner');\n",
              "      quickchartButtonEl.classList.add('colab-df-quickchart-complete');\n",
              "    }\n",
              "    (() => {\n",
              "      let quickchartButtonEl =\n",
              "        document.querySelector('#df-e5fc94e7-0413-4ff9-9b67-77cb97b19677 button');\n",
              "      quickchartButtonEl.style.display =\n",
              "        google.colab.kernel.accessAllowed ? 'block' : 'none';\n",
              "    })();\n",
              "  </script>\n",
              "</div>\n",
              "    </div>\n",
              "  </div>\n"
            ],
            "application/vnd.google.colaboratory.intrinsic+json": {
              "type": "dataframe",
              "variable_name": "real_network_adj_df",
              "summary": "{\n  \"name\": \"real_network_adj_df\",\n  \"rows\": 11,\n  \"fields\": [\n    {\n      \"column\": \"praf\",\n      \"properties\": {\n        \"dtype\": \"number\",\n        \"std\": 0.4045199174779452,\n        \"min\": 0.0,\n        \"max\": 1.0,\n        \"num_unique_values\": 2,\n        \"samples\": [\n          1.0,\n          0.0\n        ],\n        \"semantic_type\": \"\",\n        \"description\": \"\"\n      }\n    },\n    {\n      \"column\": \"pmek\",\n      \"properties\": {\n        \"dtype\": \"number\",\n        \"std\": 0.46709936649691375,\n        \"min\": 0.0,\n        \"max\": 1.0,\n        \"num_unique_values\": 2,\n        \"samples\": [\n          0.0,\n          1.0\n        ],\n        \"semantic_type\": \"\",\n        \"description\": \"\"\n      }\n    },\n    {\n      \"column\": \"plcg\",\n      \"properties\": {\n        \"dtype\": \"number\",\n        \"std\": 0.0,\n        \"min\": 0.0,\n        \"max\": 0.0,\n        \"num_unique_values\": 1,\n        \"samples\": [\n          0.0\n        ],\n        \"semantic_type\": \"\",\n        \"description\": \"\"\n      }\n    },\n    {\n      \"column\": \"PIP2\",\n      \"properties\": {\n        \"dtype\": \"number\",\n        \"std\": 0.4045199174779452,\n        \"min\": 0.0,\n        \"max\": 1.0,\n        \"num_unique_values\": 2,\n        \"samples\": [\n          1.0\n        ],\n        \"semantic_type\": \"\",\n        \"description\": \"\"\n      }\n    },\n    {\n      \"column\": \"PIP3\",\n      \"properties\": {\n        \"dtype\": \"number\",\n        \"std\": 0.3015113445777636,\n        \"min\": 0.0,\n        \"max\": 1.0,\n        \"num_unique_values\": 2,\n        \"samples\": [\n          1.0\n        ],\n        \"semantic_type\": \"\",\n        \"description\": \"\"\n      }\n    },\n    {\n      \"column\": \"p44.42\",\n      \"properties\": {\n        \"dtype\": \"number\",\n        \"std\": 0.4045199174779452,\n        \"min\": 0.0,\n        \"max\": 1.0,\n        \"num_unique_values\": 2,\n        \"samples\": [\n          1.0\n        ],\n        \"semantic_type\": \"\",\n        \"description\": \"\"\n      }\n    },\n    {\n      \"column\": \"pakts473\",\n      \"properties\": {\n        \"dtype\": \"number\",\n        \"std\": 0.4045199174779452,\n        \"min\": 0.0,\n        \"max\": 1.0,\n        \"num_unique_values\": 2,\n        \"samples\": [\n          1.0\n        ],\n        \"semantic_type\": \"\",\n        \"description\": \"\"\n      }\n    },\n    {\n      \"column\": \"PKA\",\n      \"properties\": {\n        \"dtype\": \"number\",\n        \"std\": 0.30151134457776363,\n        \"min\": 0.0,\n        \"max\": 1.0,\n        \"num_unique_values\": 2,\n        \"samples\": [\n          1.0\n        ],\n        \"semantic_type\": \"\",\n        \"description\": \"\"\n      }\n    },\n    {\n      \"column\": \"PKC\",\n      \"properties\": {\n        \"dtype\": \"number\",\n        \"std\": 0.0,\n        \"min\": 0.0,\n        \"max\": 0.0,\n        \"num_unique_values\": 1,\n        \"samples\": [\n          0.0\n        ],\n        \"semantic_type\": \"\",\n        \"description\": \"\"\n      }\n    },\n    {\n      \"column\": \"P38\",\n      \"properties\": {\n        \"dtype\": \"number\",\n        \"std\": 0.4045199174779452,\n        \"min\": 0.0,\n        \"max\": 1.0,\n        \"num_unique_values\": 2,\n        \"samples\": [\n          1.0\n        ],\n        \"semantic_type\": \"\",\n        \"description\": \"\"\n      }\n    },\n    {\n      \"column\": \"pjnk\",\n      \"properties\": {\n        \"dtype\": \"number\",\n        \"std\": 0.4045199174779452,\n        \"min\": 0.0,\n        \"max\": 1.0,\n        \"num_unique_values\": 2,\n        \"samples\": [\n          1.0\n        ],\n        \"semantic_type\": \"\",\n        \"description\": \"\"\n      }\n    }\n  ]\n}"
            }
          },
          "metadata": {},
          "execution_count": 39
        }
      ]
    },
    {
      "cell_type": "markdown",
      "metadata": {
        "id": "0Py4ukX7fOfj"
      },
      "source": [
        "Make an igraph network out of the adjacency matrix that you just created, and print the network summary and plot the network."
      ]
    },
    {
      "cell_type": "code",
      "metadata": {
        "id": "_5s79m4KfOfj",
        "colab": {
          "base_uri": "https://localhost:8080/",
          "height": 36
        },
        "outputId": "945ac49a-029a-4e0e-c5fb-21de01051d45"
      },
      "source": [
        "real_network_igraph = igraph.Graph.Adjacency(real_network_adj.tolist())\n",
        "real_network_igraph.summary()"
      ],
      "execution_count": null,
      "outputs": [
        {
          "output_type": "execute_result",
          "data": {
            "text/plain": [
              "'IGRAPH D--- 11 17 -- '"
            ],
            "application/vnd.google.colaboratory.intrinsic+json": {
              "type": "string"
            }
          },
          "metadata": {},
          "execution_count": 40
        }
      ]
    },
    {
      "cell_type": "markdown",
      "metadata": {
        "id": "CEmTRtGvEX0n"
      },
      "source": [
        "Draw the network (you may want to use a larger-than-usual bounding box, say, `bbox=[0, 0, 400, 400]`)."
      ]
    },
    {
      "cell_type": "code",
      "metadata": {
        "id": "Mj7sBqsuEa0w",
        "colab": {
          "base_uri": "https://localhost:8080/",
          "height": 555
        },
        "outputId": "cefd4b15-5792-4b1d-e323-a97275a5050a"
      },
      "source": [
        "igraph.drawing.plot(real_network_igraph, bbox=[0, 0, 400, 400],\n",
        "                    vertex_label=real_network_adj_df.columns.tolist())"
      ],
      "execution_count": null,
      "outputs": [
        {
          "output_type": "execute_result",
          "data": {
            "text/plain": [
              "<igraph.drawing.cairo.plot.CairoPlot at 0x7b90348887f0>"
            ],
            "image/svg+xml": "<?xml version=\"1.0\" encoding=\"UTF-8\"?>\n<svg xmlns=\"http://www.w3.org/2000/svg\" xmlns:xlink=\"http://www.w3.org/1999/xlink\" width=\"400pt\" height=\"400pt\" viewBox=\"0 0 400 400\" version=\"1.1\">\n<defs>\n<g>\n<symbol overflow=\"visible\" id=\"glyph0-0\">\n<path style=\"stroke:none;\" d=\"M 0.46875 0 L 0.46875 -9.328125 L 4.1875 -9.328125 L 4.1875 0 Z M 0.9375 -0.46875 L 3.71875 -0.46875 L 3.71875 -8.859375 L 0.9375 -8.859375 Z M 0.9375 -0.46875 \"/>\n</symbol>\n<symbol overflow=\"visible\" id=\"glyph0-1\">\n<path style=\"stroke:none;\" d=\"M 7.453125 -3.734375 C 7.453125 -3.171875 7.40625 -2.648438 7.3125 -2.171875 C 7.21875 -1.703125 7.066406 -1.296875 6.859375 -0.953125 C 6.648438 -0.609375 6.375 -0.335938 6.03125 -0.140625 C 5.695312 0.046875 5.273438 0.140625 4.765625 0.140625 C 4.515625 0.140625 4.273438 0.113281 4.046875 0.0625 C 3.828125 0.0195312 3.617188 -0.046875 3.421875 -0.140625 C 3.222656 -0.242188 3.046875 -0.375 2.890625 -0.53125 C 2.742188 -0.695312 2.617188 -0.894531 2.515625 -1.125 L 2.46875 -1.125 C 2.476562 -1.113281 2.484375 -1.070312 2.484375 -1 C 2.484375 -0.925781 2.484375 -0.835938 2.484375 -0.734375 C 2.492188 -0.628906 2.5 -0.507812 2.5 -0.375 C 2.5 -0.25 2.5 -0.117188 2.5 0.015625 L 2.5 2.90625 L 1.265625 2.90625 L 1.265625 -5.859375 C 1.265625 -6.046875 1.265625 -6.222656 1.265625 -6.390625 C 1.265625 -6.554688 1.257812 -6.707031 1.25 -6.84375 C 1.25 -6.976562 1.242188 -7.09375 1.234375 -7.1875 C 1.234375 -7.28125 1.226562 -7.347656 1.21875 -7.390625 L 2.421875 -7.390625 C 2.421875 -7.378906 2.425781 -7.332031 2.4375 -7.25 C 2.445312 -7.164062 2.453125 -7.0625 2.453125 -6.9375 C 2.460938 -6.820312 2.46875 -6.695312 2.46875 -6.5625 C 2.476562 -6.425781 2.484375 -6.300781 2.484375 -6.1875 L 2.515625 -6.1875 C 2.628906 -6.414062 2.757812 -6.617188 2.90625 -6.796875 C 3.050781 -6.972656 3.210938 -7.113281 3.390625 -7.21875 C 3.578125 -7.332031 3.78125 -7.414062 4 -7.46875 C 4.226562 -7.519531 4.484375 -7.546875 4.765625 -7.546875 C 5.273438 -7.546875 5.695312 -7.453125 6.03125 -7.265625 C 6.375 -7.085938 6.648438 -6.832031 6.859375 -6.5 C 7.066406 -6.164062 7.21875 -5.765625 7.3125 -5.296875 C 7.40625 -4.828125 7.453125 -4.304688 7.453125 -3.734375 Z M 6.1875 -3.734375 C 6.1875 -4.191406 6.15625 -4.597656 6.09375 -4.953125 C 6.039062 -5.304688 5.945312 -5.601562 5.8125 -5.84375 C 5.675781 -6.09375 5.5 -6.28125 5.28125 -6.40625 C 5.0625 -6.53125 4.785156 -6.59375 4.453125 -6.59375 C 4.179688 -6.59375 3.925781 -6.550781 3.6875 -6.46875 C 3.457031 -6.382812 3.253906 -6.234375 3.078125 -6.015625 C 2.898438 -5.796875 2.757812 -5.488281 2.65625 -5.09375 C 2.550781 -4.695312 2.5 -4.191406 2.5 -3.578125 C 2.5 -3.054688 2.539062 -2.613281 2.625 -2.25 C 2.707031 -1.894531 2.832031 -1.609375 3 -1.390625 C 3.164062 -1.171875 3.367188 -1.007812 3.609375 -0.90625 C 3.847656 -0.8125 4.125 -0.765625 4.4375 -0.765625 C 4.769531 -0.765625 5.046875 -0.828125 5.265625 -0.953125 C 5.492188 -1.085938 5.675781 -1.28125 5.8125 -1.53125 C 5.945312 -1.789062 6.039062 -2.101562 6.09375 -2.46875 C 6.15625 -2.832031 6.1875 -3.253906 6.1875 -3.734375 Z M 6.1875 -3.734375 \"/>\n</symbol>\n<symbol overflow=\"visible\" id=\"glyph0-2\">\n<path style=\"stroke:none;\" d=\"M 7.140625 -6.28125 C 6.929688 -6.3125 6.707031 -6.335938 6.46875 -6.359375 C 6.238281 -6.390625 5.976562 -6.40625 5.6875 -6.40625 C 5.3125 -6.40625 4.96875 -6.328125 4.65625 -6.171875 C 4.351562 -6.015625 4.097656 -5.800781 3.890625 -5.53125 C 3.679688 -5.269531 3.519531 -4.960938 3.40625 -4.609375 C 3.289062 -4.253906 3.234375 -3.875 3.234375 -3.46875 L 3.234375 0 L 2.015625 0 L 2.015625 -4.796875 C 2.015625 -5.046875 2 -5.300781 1.96875 -5.5625 C 1.9375 -5.832031 1.898438 -6.082031 1.859375 -6.3125 C 1.828125 -6.550781 1.789062 -6.765625 1.75 -6.953125 C 1.71875 -7.140625 1.6875 -7.285156 1.65625 -7.390625 L 2.828125 -7.390625 C 2.859375 -7.285156 2.890625 -7.160156 2.921875 -7.015625 C 2.953125 -6.878906 2.984375 -6.734375 3.015625 -6.578125 C 3.046875 -6.421875 3.070312 -6.265625 3.09375 -6.109375 C 3.125 -5.960938 3.144531 -5.820312 3.15625 -5.6875 L 3.1875 -5.6875 C 3.3125 -5.96875 3.441406 -6.222656 3.578125 -6.453125 C 3.722656 -6.679688 3.890625 -6.875 4.078125 -7.03125 C 4.273438 -7.195312 4.503906 -7.320312 4.765625 -7.40625 C 5.035156 -7.488281 5.359375 -7.53125 5.734375 -7.53125 C 5.992188 -7.53125 6.242188 -7.519531 6.484375 -7.5 C 6.734375 -7.476562 6.953125 -7.453125 7.140625 -7.421875 Z M 7.140625 -6.28125 \"/>\n</symbol>\n<symbol overflow=\"visible\" id=\"glyph0-3\">\n<path style=\"stroke:none;\" d=\"M 7.53125 -0.765625 C 7.59375 -0.765625 7.65625 -0.765625 7.71875 -0.765625 C 7.789062 -0.773438 7.863281 -0.789062 7.9375 -0.8125 L 7.9375 -0.046875 C 7.78125 -0.00390625 7.625 0.0195312 7.46875 0.03125 C 7.3125 0.0507812 7.148438 0.0625 6.984375 0.0625 C 6.742188 0.0625 6.539062 0.0351562 6.375 -0.015625 C 6.207031 -0.078125 6.070312 -0.171875 5.96875 -0.296875 C 5.863281 -0.429688 5.785156 -0.585938 5.734375 -0.765625 C 5.679688 -0.953125 5.648438 -1.171875 5.640625 -1.421875 L 5.59375 -1.421875 C 5.46875 -1.179688 5.328125 -0.960938 5.171875 -0.765625 C 5.015625 -0.578125 4.832031 -0.414062 4.625 -0.28125 C 4.425781 -0.144531 4.195312 -0.0390625 3.9375 0.03125 C 3.6875 0.101562 3.390625 0.140625 3.046875 0.140625 C 2.328125 0.140625 1.785156 -0.0546875 1.421875 -0.453125 C 1.054688 -0.847656 0.875 -1.382812 0.875 -2.0625 C 0.875 -2.550781 0.960938 -2.953125 1.140625 -3.265625 C 1.328125 -3.578125 1.566406 -3.820312 1.859375 -4 C 2.148438 -4.175781 2.476562 -4.300781 2.84375 -4.375 C 3.21875 -4.445312 3.597656 -4.484375 3.984375 -4.484375 L 5.59375 -4.515625 L 5.59375 -4.921875 C 5.59375 -5.222656 5.5625 -5.476562 5.5 -5.6875 C 5.4375 -5.90625 5.34375 -6.078125 5.21875 -6.203125 C 5.09375 -6.335938 4.929688 -6.4375 4.734375 -6.5 C 4.546875 -6.5625 4.328125 -6.59375 4.078125 -6.59375 C 3.847656 -6.59375 3.640625 -6.578125 3.453125 -6.546875 C 3.265625 -6.515625 3.101562 -6.453125 2.96875 -6.359375 C 2.84375 -6.273438 2.738281 -6.15625 2.65625 -6 C 2.570312 -5.84375 2.515625 -5.648438 2.484375 -5.421875 L 1.203125 -5.53125 C 1.242188 -5.820312 1.328125 -6.085938 1.453125 -6.328125 C 1.578125 -6.578125 1.753906 -6.789062 1.984375 -6.96875 C 2.210938 -7.144531 2.5 -7.28125 2.84375 -7.375 C 3.1875 -7.476562 3.601562 -7.53125 4.09375 -7.53125 C 5.007812 -7.53125 5.695312 -7.316406 6.15625 -6.890625 C 6.613281 -6.460938 6.84375 -5.847656 6.84375 -5.046875 L 6.84375 -1.859375 C 6.84375 -1.492188 6.890625 -1.21875 6.984375 -1.03125 C 7.078125 -0.851562 7.257812 -0.765625 7.53125 -0.765625 Z M 3.359375 -0.796875 C 3.742188 -0.796875 4.070312 -0.867188 4.34375 -1.015625 C 4.625 -1.160156 4.851562 -1.34375 5.03125 -1.5625 C 5.21875 -1.78125 5.359375 -2.019531 5.453125 -2.28125 C 5.546875 -2.550781 5.59375 -2.804688 5.59375 -3.046875 L 5.59375 -3.65625 L 4.296875 -3.625 C 4.046875 -3.613281 3.789062 -3.59375 3.53125 -3.5625 C 3.28125 -3.53125 3.050781 -3.457031 2.84375 -3.34375 C 2.644531 -3.238281 2.484375 -3.082031 2.359375 -2.875 C 2.234375 -2.664062 2.171875 -2.390625 2.171875 -2.046875 C 2.171875 -1.671875 2.269531 -1.367188 2.46875 -1.140625 C 2.675781 -0.910156 2.972656 -0.796875 3.359375 -0.796875 Z M 3.359375 -0.796875 \"/>\n</symbol>\n<symbol overflow=\"visible\" id=\"glyph0-4\">\n<path style=\"stroke:none;\" d=\"M 3.96875 -6.421875 L 3.96875 0 L 2.734375 0 L 2.734375 -6.421875 L 0.9375 -6.421875 L 0.9375 -7.390625 L 2.734375 -7.390625 L 2.734375 -7.5625 C 2.734375 -8.03125 2.785156 -8.425781 2.890625 -8.75 C 2.992188 -9.070312 3.15625 -9.335938 3.375 -9.546875 C 3.601562 -9.753906 3.898438 -9.90625 4.265625 -10 C 4.628906 -10.09375 5.070312 -10.140625 5.59375 -10.140625 C 5.726562 -10.140625 5.882812 -10.132812 6.0625 -10.125 C 6.25 -10.125 6.429688 -10.113281 6.609375 -10.09375 C 6.796875 -10.082031 6.96875 -10.066406 7.125 -10.046875 C 7.289062 -10.035156 7.421875 -10.019531 7.515625 -10 L 7.515625 -9.015625 C 7.429688 -9.023438 7.304688 -9.035156 7.140625 -9.046875 C 6.972656 -9.066406 6.800781 -9.082031 6.625 -9.09375 C 6.445312 -9.101562 6.273438 -9.109375 6.109375 -9.109375 C 5.941406 -9.117188 5.816406 -9.125 5.734375 -9.125 C 5.429688 -9.125 5.164062 -9.097656 4.9375 -9.046875 C 4.71875 -9.003906 4.535156 -8.921875 4.390625 -8.796875 C 4.242188 -8.679688 4.132812 -8.515625 4.0625 -8.296875 C 4 -8.085938 3.96875 -7.8125 3.96875 -7.46875 L 3.96875 -7.390625 L 7.328125 -7.390625 L 7.328125 -6.421875 Z M 3.96875 -6.421875 \"/>\n</symbol>\n<symbol overflow=\"visible\" id=\"glyph0-5\">\n<path style=\"stroke:none;\" d=\"M 3.625 0 L 3.625 -4.6875 C 3.625 -5.050781 3.609375 -5.351562 3.578125 -5.59375 C 3.554688 -5.832031 3.515625 -6.023438 3.453125 -6.171875 C 3.390625 -6.328125 3.304688 -6.429688 3.203125 -6.484375 C 3.109375 -6.546875 2.988281 -6.578125 2.84375 -6.578125 C 2.695312 -6.578125 2.5625 -6.519531 2.4375 -6.40625 C 2.320312 -6.289062 2.222656 -6.125 2.140625 -5.90625 C 2.054688 -5.695312 1.988281 -5.441406 1.9375 -5.140625 C 1.894531 -4.847656 1.875 -4.519531 1.875 -4.15625 L 1.875 0 L 0.71875 0 L 0.71875 -5.8125 C 0.71875 -5.96875 0.71875 -6.128906 0.71875 -6.296875 C 0.71875 -6.472656 0.710938 -6.632812 0.703125 -6.78125 C 0.703125 -6.9375 0.695312 -7.066406 0.6875 -7.171875 C 0.6875 -7.285156 0.679688 -7.359375 0.671875 -7.390625 L 1.703125 -7.390625 C 1.703125 -7.367188 1.703125 -7.3125 1.703125 -7.21875 C 1.710938 -7.125 1.71875 -7.015625 1.71875 -6.890625 C 1.726562 -6.773438 1.734375 -6.65625 1.734375 -6.53125 C 1.734375 -6.40625 1.734375 -6.296875 1.734375 -6.203125 L 1.75 -6.203125 C 1.8125 -6.378906 1.878906 -6.546875 1.953125 -6.703125 C 2.035156 -6.867188 2.132812 -7.015625 2.25 -7.140625 C 2.375 -7.265625 2.515625 -7.359375 2.671875 -7.421875 C 2.828125 -7.492188 3.015625 -7.53125 3.234375 -7.53125 C 3.628906 -7.53125 3.925781 -7.421875 4.125 -7.203125 C 4.320312 -6.984375 4.460938 -6.644531 4.546875 -6.1875 L 4.5625 -6.1875 C 4.644531 -6.40625 4.734375 -6.597656 4.828125 -6.765625 C 4.929688 -6.929688 5.046875 -7.070312 5.171875 -7.1875 C 5.296875 -7.300781 5.441406 -7.382812 5.609375 -7.4375 C 5.773438 -7.5 5.96875 -7.53125 6.1875 -7.53125 C 6.457031 -7.53125 6.6875 -7.476562 6.875 -7.375 C 7.070312 -7.28125 7.226562 -7.128906 7.34375 -6.921875 C 7.46875 -6.710938 7.554688 -6.441406 7.609375 -6.109375 C 7.660156 -5.785156 7.6875 -5.390625 7.6875 -4.921875 L 7.6875 0 L 6.53125 0 L 6.53125 -4.6875 C 6.53125 -5.050781 6.515625 -5.351562 6.484375 -5.59375 C 6.460938 -5.832031 6.421875 -6.023438 6.359375 -6.171875 C 6.296875 -6.328125 6.210938 -6.429688 6.109375 -6.484375 C 6.015625 -6.546875 5.894531 -6.578125 5.75 -6.578125 C 5.457031 -6.578125 5.222656 -6.382812 5.046875 -6 C 4.867188 -5.625 4.78125 -5.050781 4.78125 -4.28125 L 4.78125 0 Z M 3.625 0 \"/>\n</symbol>\n<symbol overflow=\"visible\" id=\"glyph0-6\">\n<path style=\"stroke:none;\" d=\"M 2.203125 -3.4375 C 2.203125 -3.050781 2.242188 -2.691406 2.328125 -2.359375 C 2.421875 -2.035156 2.550781 -1.753906 2.71875 -1.515625 C 2.894531 -1.285156 3.109375 -1.101562 3.359375 -0.96875 C 3.617188 -0.84375 3.921875 -0.78125 4.265625 -0.78125 C 4.515625 -0.78125 4.742188 -0.804688 4.953125 -0.859375 C 5.160156 -0.921875 5.347656 -1.003906 5.515625 -1.109375 C 5.691406 -1.210938 5.835938 -1.332031 5.953125 -1.46875 C 6.066406 -1.601562 6.148438 -1.753906 6.203125 -1.921875 L 7.28125 -1.609375 C 7.207031 -1.410156 7.097656 -1.207031 6.953125 -1 C 6.804688 -0.789062 6.613281 -0.601562 6.375 -0.4375 C 6.132812 -0.269531 5.835938 -0.128906 5.484375 -0.015625 C 5.140625 0.0859375 4.734375 0.140625 4.265625 0.140625 C 3.734375 0.140625 3.257812 0.0546875 2.84375 -0.109375 C 2.4375 -0.273438 2.085938 -0.519531 1.796875 -0.84375 C 1.515625 -1.164062 1.296875 -1.566406 1.140625 -2.046875 C 0.984375 -2.535156 0.90625 -3.101562 0.90625 -3.75 C 0.90625 -4.457031 0.992188 -5.050781 1.171875 -5.53125 C 1.359375 -6.019531 1.601562 -6.410156 1.90625 -6.703125 C 2.207031 -7.003906 2.554688 -7.21875 2.953125 -7.34375 C 3.359375 -7.46875 3.78125 -7.53125 4.21875 -7.53125 C 4.8125 -7.53125 5.3125 -7.429688 5.71875 -7.234375 C 6.132812 -7.046875 6.472656 -6.78125 6.734375 -6.4375 C 6.992188 -6.09375 7.179688 -5.679688 7.296875 -5.203125 C 7.421875 -4.722656 7.484375 -4.191406 7.484375 -3.609375 L 7.484375 -3.4375 Z M 4.234375 -6.625 C 4.023438 -6.625 3.804688 -6.585938 3.578125 -6.515625 C 3.347656 -6.453125 3.132812 -6.335938 2.9375 -6.171875 C 2.738281 -6.003906 2.570312 -5.773438 2.4375 -5.484375 C 2.300781 -5.191406 2.226562 -4.820312 2.21875 -4.375 L 6.203125 -4.375 C 6.171875 -4.8125 6.09375 -5.171875 5.96875 -5.453125 C 5.851562 -5.742188 5.707031 -5.972656 5.53125 -6.140625 C 5.351562 -6.316406 5.148438 -6.441406 4.921875 -6.515625 C 4.703125 -6.585938 4.472656 -6.625 4.234375 -6.625 Z M 4.234375 -6.625 \"/>\n</symbol>\n<symbol overflow=\"visible\" id=\"glyph0-7\">\n<path style=\"stroke:none;\" d=\"M 6.25 0 L 3.75 -3.40625 L 2.84375 -2.734375 L 2.84375 0 L 1.609375 0 L 1.609375 -10.140625 L 2.84375 -10.140625 L 2.84375 -3.8125 L 6.09375 -7.390625 L 7.53125 -7.390625 L 4.53125 -4.21875 L 7.6875 0 Z M 6.25 0 \"/>\n</symbol>\n<symbol overflow=\"visible\" id=\"glyph0-8\">\n<path style=\"stroke:none;\" d=\"M 5.03125 -0.96875 L 7.625 -0.96875 L 7.625 0 L 0.921875 0 L 0.921875 -0.96875 L 3.796875 -0.96875 L 3.796875 -9.171875 L 1.828125 -9.171875 L 1.828125 -10.140625 L 5.03125 -10.140625 Z M 5.03125 -0.96875 \"/>\n</symbol>\n<symbol overflow=\"visible\" id=\"glyph0-9\">\n<path style=\"stroke:none;\" d=\"M 0.890625 -3.703125 C 0.890625 -4.441406 0.988281 -5.054688 1.1875 -5.546875 C 1.382812 -6.046875 1.640625 -6.441406 1.953125 -6.734375 C 2.273438 -7.023438 2.640625 -7.226562 3.046875 -7.34375 C 3.460938 -7.46875 3.890625 -7.53125 4.328125 -7.53125 C 4.765625 -7.53125 5.160156 -7.472656 5.515625 -7.359375 C 5.867188 -7.242188 6.171875 -7.085938 6.421875 -6.890625 C 6.671875 -6.691406 6.875 -6.457031 7.03125 -6.1875 C 7.195312 -5.925781 7.3125 -5.640625 7.375 -5.328125 L 6.0625 -5.234375 C 5.988281 -5.648438 5.804688 -5.972656 5.515625 -6.203125 C 5.222656 -6.441406 4.804688 -6.5625 4.265625 -6.5625 C 3.867188 -6.5625 3.535156 -6.5 3.265625 -6.375 C 3.003906 -6.25 2.789062 -6.066406 2.625 -5.828125 C 2.46875 -5.585938 2.351562 -5.289062 2.28125 -4.9375 C 2.21875 -4.59375 2.1875 -4.191406 2.1875 -3.734375 C 2.1875 -3.273438 2.21875 -2.863281 2.28125 -2.5 C 2.351562 -2.144531 2.46875 -1.835938 2.625 -1.578125 C 2.789062 -1.328125 3.003906 -1.132812 3.265625 -1 C 3.535156 -0.875 3.867188 -0.8125 4.265625 -0.8125 C 4.753906 -0.8125 5.160156 -0.929688 5.484375 -1.171875 C 5.804688 -1.410156 6.003906 -1.78125 6.078125 -2.28125 L 7.390625 -2.203125 C 7.347656 -1.898438 7.25 -1.601562 7.09375 -1.3125 C 6.9375 -1.03125 6.726562 -0.78125 6.46875 -0.5625 C 6.207031 -0.351562 5.894531 -0.179688 5.53125 -0.046875 C 5.175781 0.078125 4.769531 0.140625 4.3125 0.140625 C 3.6875 0.140625 3.15625 0.0390625 2.71875 -0.15625 C 2.289062 -0.351562 1.941406 -0.625 1.671875 -0.96875 C 1.398438 -1.3125 1.203125 -1.71875 1.078125 -2.1875 C 0.953125 -2.65625 0.890625 -3.160156 0.890625 -3.703125 Z M 0.890625 -3.703125 \"/>\n</symbol>\n<symbol overflow=\"visible\" id=\"glyph0-10\">\n<path style=\"stroke:none;\" d=\"M 4.203125 2.90625 C 3.796875 2.90625 3.4375 2.859375 3.125 2.765625 C 2.8125 2.679688 2.539062 2.554688 2.3125 2.390625 C 2.082031 2.234375 1.898438 2.039062 1.765625 1.8125 C 1.628906 1.59375 1.53125 1.347656 1.46875 1.078125 L 2.734375 0.90625 C 2.804688 1.25 2.96875 1.507812 3.21875 1.6875 C 3.476562 1.875 3.820312 1.96875 4.25 1.96875 C 4.507812 1.96875 4.738281 1.925781 4.9375 1.84375 C 5.144531 1.769531 5.320312 1.644531 5.46875 1.46875 C 5.625 1.300781 5.738281 1.082031 5.8125 0.8125 C 5.894531 0.539062 5.9375 0.207031 5.9375 -0.1875 L 5.9375 -1.515625 L 5.921875 -1.515625 C 5.835938 -1.328125 5.726562 -1.144531 5.59375 -0.96875 C 5.457031 -0.800781 5.296875 -0.648438 5.109375 -0.515625 C 4.921875 -0.390625 4.703125 -0.285156 4.453125 -0.203125 C 4.203125 -0.117188 3.910156 -0.078125 3.578125 -0.078125 C 3.117188 -0.078125 2.722656 -0.148438 2.390625 -0.296875 C 2.066406 -0.453125 1.796875 -0.679688 1.578125 -0.984375 C 1.367188 -1.296875 1.21875 -1.679688 1.125 -2.140625 C 1.03125 -2.597656 0.984375 -3.132812 0.984375 -3.75 C 0.984375 -4.351562 1.03125 -4.882812 1.125 -5.34375 C 1.21875 -5.8125 1.375 -6.203125 1.59375 -6.515625 C 1.8125 -6.835938 2.09375 -7.082031 2.4375 -7.25 C 2.78125 -7.425781 3.207031 -7.515625 3.71875 -7.515625 C 4.226562 -7.515625 4.671875 -7.394531 5.046875 -7.15625 C 5.429688 -6.914062 5.726562 -6.570312 5.9375 -6.125 L 5.953125 -6.125 C 5.953125 -6.238281 5.953125 -6.367188 5.953125 -6.515625 C 5.960938 -6.660156 5.972656 -6.796875 5.984375 -6.921875 C 5.992188 -7.046875 6.003906 -7.148438 6.015625 -7.234375 C 6.023438 -7.328125 6.03125 -7.378906 6.03125 -7.390625 L 7.203125 -7.390625 C 7.203125 -7.347656 7.195312 -7.28125 7.1875 -7.1875 C 7.1875 -7.09375 7.179688 -6.972656 7.171875 -6.828125 C 7.171875 -6.691406 7.171875 -6.539062 7.171875 -6.375 C 7.171875 -6.207031 7.171875 -6.035156 7.171875 -5.859375 L 7.171875 -0.21875 C 7.171875 0.8125 6.925781 1.585938 6.4375 2.109375 C 5.957031 2.640625 5.210938 2.90625 4.203125 2.90625 Z M 5.9375 -3.765625 C 5.9375 -4.285156 5.878906 -4.722656 5.765625 -5.078125 C 5.660156 -5.441406 5.519531 -5.734375 5.34375 -5.953125 C 5.164062 -6.179688 4.957031 -6.34375 4.71875 -6.4375 C 4.488281 -6.539062 4.253906 -6.59375 4.015625 -6.59375 C 3.710938 -6.59375 3.445312 -6.539062 3.21875 -6.4375 C 3 -6.34375 2.816406 -6.179688 2.671875 -5.953125 C 2.523438 -5.722656 2.414062 -5.429688 2.34375 -5.078125 C 2.28125 -4.722656 2.25 -4.285156 2.25 -3.765625 C 2.25 -3.234375 2.28125 -2.789062 2.34375 -2.4375 C 2.414062 -2.082031 2.523438 -1.796875 2.671875 -1.578125 C 2.816406 -1.367188 3 -1.21875 3.21875 -1.125 C 3.4375 -1.03125 3.695312 -0.984375 4 -0.984375 C 4.238281 -0.984375 4.472656 -1.03125 4.703125 -1.125 C 4.941406 -1.226562 5.148438 -1.390625 5.328125 -1.609375 C 5.515625 -1.828125 5.660156 -2.113281 5.765625 -2.46875 C 5.878906 -2.820312 5.9375 -3.253906 5.9375 -3.765625 Z M 5.9375 -3.765625 \"/>\n</symbol>\n<symbol overflow=\"visible\" id=\"glyph0-11\">\n<path style=\"stroke:none;\" d=\"M 7.65625 -6.453125 C 7.65625 -6.078125 7.585938 -5.710938 7.453125 -5.359375 C 7.316406 -5.003906 7.109375 -4.6875 6.828125 -4.40625 C 6.554688 -4.132812 6.210938 -3.914062 5.796875 -3.75 C 5.378906 -3.59375 4.890625 -3.515625 4.328125 -3.515625 L 2.40625 -3.515625 L 2.40625 0 L 1.109375 0 L 1.109375 -9.21875 L 4.25 -9.21875 C 4.820312 -9.21875 5.316406 -9.148438 5.734375 -9.015625 C 6.160156 -8.890625 6.515625 -8.703125 6.796875 -8.453125 C 7.078125 -8.210938 7.289062 -7.921875 7.4375 -7.578125 C 7.582031 -7.242188 7.65625 -6.867188 7.65625 -6.453125 Z M 6.34375 -6.4375 C 6.34375 -7.007812 6.15625 -7.441406 5.78125 -7.734375 C 5.40625 -8.023438 4.84375 -8.171875 4.09375 -8.171875 L 2.40625 -8.171875 L 2.40625 -4.546875 L 4.15625 -4.546875 C 4.519531 -4.546875 4.835938 -4.59375 5.109375 -4.6875 C 5.390625 -4.789062 5.617188 -4.925781 5.796875 -5.09375 C 5.984375 -5.257812 6.117188 -5.457031 6.203125 -5.6875 C 6.296875 -5.925781 6.34375 -6.175781 6.34375 -6.4375 Z M 6.34375 -6.4375 \"/>\n</symbol>\n<symbol overflow=\"visible\" id=\"glyph0-12\">\n<path style=\"stroke:none;\" d=\"M 1.375 -9.21875 L 7 -9.21875 L 7 -8.15625 L 4.84375 -8.15625 L 4.84375 -1.0625 L 7 -1.0625 L 7 0 L 1.375 0 L 1.375 -1.0625 L 3.546875 -1.0625 L 3.546875 -8.15625 L 1.375 -8.15625 Z M 1.375 -9.21875 \"/>\n</symbol>\n<symbol overflow=\"visible\" id=\"glyph0-13\">\n<path style=\"stroke:none;\" d=\"M 0.984375 0 L 0.984375 -0.796875 C 1.179688 -1.242188 1.441406 -1.648438 1.765625 -2.015625 C 2.097656 -2.390625 2.453125 -2.742188 2.828125 -3.078125 C 3.203125 -3.410156 3.578125 -3.726562 3.953125 -4.03125 C 4.328125 -4.332031 4.664062 -4.628906 4.96875 -4.921875 C 5.269531 -5.210938 5.515625 -5.507812 5.703125 -5.8125 C 5.898438 -6.113281 6 -6.4375 6 -6.78125 C 6 -7.050781 5.953125 -7.285156 5.859375 -7.484375 C 5.773438 -7.679688 5.648438 -7.84375 5.484375 -7.96875 C 5.328125 -8.101562 5.132812 -8.203125 4.90625 -8.265625 C 4.6875 -8.328125 4.441406 -8.359375 4.171875 -8.359375 C 3.929688 -8.359375 3.703125 -8.320312 3.484375 -8.25 C 3.273438 -8.1875 3.085938 -8.082031 2.921875 -7.9375 C 2.765625 -7.800781 2.632812 -7.628906 2.53125 -7.421875 C 2.4375 -7.222656 2.375 -6.992188 2.34375 -6.734375 L 1.09375 -6.84375 C 1.132812 -7.1875 1.226562 -7.507812 1.375 -7.8125 C 1.519531 -8.125 1.71875 -8.394531 1.96875 -8.625 C 2.21875 -8.851562 2.523438 -9.03125 2.890625 -9.15625 C 3.265625 -9.289062 3.691406 -9.359375 4.171875 -9.359375 C 4.648438 -9.359375 5.078125 -9.300781 5.453125 -9.1875 C 5.835938 -9.082031 6.164062 -8.925781 6.4375 -8.71875 C 6.707031 -8.507812 6.910156 -8.242188 7.046875 -7.921875 C 7.191406 -7.609375 7.265625 -7.25 7.265625 -6.84375 C 7.265625 -6.414062 7.164062 -6.019531 6.96875 -5.65625 C 6.769531 -5.289062 6.515625 -4.941406 6.203125 -4.609375 C 5.898438 -4.285156 5.5625 -3.972656 5.1875 -3.671875 C 4.8125 -3.378906 4.445312 -3.085938 4.09375 -2.796875 C 3.738281 -2.503906 3.414062 -2.210938 3.125 -1.921875 C 2.832031 -1.628906 2.613281 -1.320312 2.46875 -1 L 7.40625 -1 L 7.40625 0 Z M 0.984375 0 \"/>\n</symbol>\n<symbol overflow=\"visible\" id=\"glyph0-14\">\n<path style=\"stroke:none;\" d=\"M 7.515625 -2.53125 C 7.515625 -2.113281 7.441406 -1.738281 7.296875 -1.40625 C 7.148438 -1.082031 6.9375 -0.804688 6.65625 -0.578125 C 6.382812 -0.347656 6.046875 -0.171875 5.640625 -0.046875 C 5.234375 0.078125 4.769531 0.140625 4.25 0.140625 C 3.65625 0.140625 3.148438 0.0664062 2.734375 -0.078125 C 2.328125 -0.234375 1.988281 -0.429688 1.71875 -0.671875 C 1.457031 -0.921875 1.257812 -1.195312 1.125 -1.5 C 1 -1.8125 0.914062 -2.132812 0.875 -2.46875 L 2.140625 -2.59375 C 2.179688 -2.332031 2.25 -2.097656 2.34375 -1.890625 C 2.445312 -1.679688 2.582031 -1.5 2.75 -1.34375 C 2.914062 -1.195312 3.125 -1.082031 3.375 -1 C 3.625 -0.914062 3.914062 -0.875 4.25 -0.875 C 4.863281 -0.875 5.347656 -1.019531 5.703125 -1.3125 C 6.054688 -1.601562 6.234375 -2.023438 6.234375 -2.578125 C 6.234375 -2.878906 6.15625 -3.132812 6 -3.34375 C 5.84375 -3.550781 5.644531 -3.710938 5.40625 -3.828125 C 5.175781 -3.953125 4.921875 -4.035156 4.640625 -4.078125 C 4.367188 -4.128906 4.117188 -4.15625 3.890625 -4.15625 L 3.1875 -4.15625 L 3.1875 -5.234375 L 3.859375 -5.234375 C 4.085938 -5.234375 4.328125 -5.257812 4.578125 -5.3125 C 4.828125 -5.375 5.054688 -5.46875 5.265625 -5.59375 C 5.472656 -5.71875 5.644531 -5.878906 5.78125 -6.078125 C 5.914062 -6.285156 5.984375 -6.53125 5.984375 -6.8125 C 5.984375 -7.300781 5.832031 -7.679688 5.53125 -7.953125 C 5.226562 -8.222656 4.773438 -8.359375 4.171875 -8.359375 C 3.628906 -8.359375 3.191406 -8.21875 2.859375 -7.9375 C 2.523438 -7.65625 2.332031 -7.265625 2.28125 -6.765625 L 1.046875 -6.859375 C 1.085938 -7.285156 1.195312 -7.65625 1.375 -7.96875 C 1.5625 -8.28125 1.796875 -8.539062 2.078125 -8.75 C 2.359375 -8.957031 2.675781 -9.109375 3.03125 -9.203125 C 3.394531 -9.304688 3.78125 -9.359375 4.1875 -9.359375 C 4.726562 -9.359375 5.191406 -9.296875 5.578125 -9.171875 C 5.960938 -9.046875 6.273438 -8.875 6.515625 -8.65625 C 6.765625 -8.4375 6.945312 -8.175781 7.0625 -7.875 C 7.1875 -7.582031 7.25 -7.273438 7.25 -6.953125 C 7.25 -6.691406 7.207031 -6.441406 7.125 -6.203125 C 7.039062 -5.972656 6.914062 -5.757812 6.75 -5.5625 C 6.582031 -5.375 6.367188 -5.207031 6.109375 -5.0625 C 5.859375 -4.914062 5.566406 -4.804688 5.234375 -4.734375 L 5.234375 -4.703125 C 5.609375 -4.671875 5.9375 -4.582031 6.21875 -4.4375 C 6.5 -4.300781 6.734375 -4.132812 6.921875 -3.9375 C 7.117188 -3.738281 7.265625 -3.519531 7.359375 -3.28125 C 7.460938 -3.039062 7.515625 -2.789062 7.515625 -2.53125 Z M 7.515625 -2.53125 \"/>\n</symbol>\n<symbol overflow=\"visible\" id=\"glyph0-15\">\n<path style=\"stroke:none;\" d=\"M 6.40625 -2.1875 L 6.40625 0 L 5.171875 0 L 5.171875 -2.1875 L 0.703125 -2.1875 L 0.703125 -3.140625 L 5.046875 -9.21875 L 6.40625 -9.21875 L 6.40625 -3.15625 L 7.6875 -3.15625 L 7.6875 -2.1875 Z M 5.171875 -7.890625 L 1.75 -3.15625 L 5.171875 -3.15625 Z M 5.171875 -7.890625 \"/>\n</symbol>\n<symbol overflow=\"visible\" id=\"glyph0-16\">\n<path style=\"stroke:none;\" d=\"M 3.390625 0 L 3.390625 -2.046875 L 5 -2.046875 L 5 0 Z M 3.390625 0 \"/>\n</symbol>\n<symbol overflow=\"visible\" id=\"glyph0-17\">\n<path style=\"stroke:none;\" d=\"M 1.296875 -6.421875 L 1.296875 -7.390625 L 2.46875 -7.390625 L 2.859375 -9.328125 L 3.671875 -9.328125 L 3.671875 -7.390625 L 6.625 -7.390625 L 6.625 -6.421875 L 3.671875 -6.421875 L 3.671875 -1.96875 C 3.671875 -1.601562 3.769531 -1.332031 3.96875 -1.15625 C 4.164062 -0.988281 4.484375 -0.90625 4.921875 -0.90625 C 5.109375 -0.90625 5.296875 -0.910156 5.484375 -0.921875 C 5.679688 -0.941406 5.867188 -0.960938 6.046875 -0.984375 C 6.222656 -1.015625 6.390625 -1.039062 6.546875 -1.0625 C 6.703125 -1.09375 6.835938 -1.117188 6.953125 -1.140625 L 6.953125 -0.203125 C 6.847656 -0.179688 6.71875 -0.148438 6.5625 -0.109375 C 6.40625 -0.078125 6.226562 -0.0390625 6.03125 0 C 5.832031 0.03125 5.613281 0.0546875 5.375 0.078125 C 5.144531 0.0976562 4.90625 0.109375 4.65625 0.109375 C 3.925781 0.109375 3.375 -0.046875 3 -0.359375 C 2.632812 -0.671875 2.453125 -1.164062 2.453125 -1.84375 L 2.453125 -6.421875 Z M 1.296875 -6.421875 \"/>\n</symbol>\n<symbol overflow=\"visible\" id=\"glyph0-18\">\n<path style=\"stroke:none;\" d=\"M 7.25 -2.109375 C 7.25 -1.765625 7.179688 -1.453125 7.046875 -1.171875 C 6.910156 -0.898438 6.710938 -0.664062 6.453125 -0.46875 C 6.203125 -0.269531 5.890625 -0.117188 5.515625 -0.015625 C 5.148438 0.0859375 4.726562 0.140625 4.25 0.140625 C 3.820312 0.140625 3.4375 0.109375 3.09375 0.046875 C 2.75 -0.015625 2.445312 -0.113281 2.1875 -0.25 C 1.925781 -0.394531 1.707031 -0.582031 1.53125 -0.8125 C 1.351562 -1.050781 1.222656 -1.347656 1.140625 -1.703125 L 2.234375 -1.90625 C 2.285156 -1.65625 2.367188 -1.457031 2.484375 -1.3125 C 2.609375 -1.164062 2.753906 -1.050781 2.921875 -0.96875 C 3.097656 -0.894531 3.296875 -0.84375 3.515625 -0.8125 C 3.742188 -0.789062 3.988281 -0.78125 4.25 -0.78125 C 4.507812 -0.78125 4.75 -0.796875 4.96875 -0.828125 C 5.195312 -0.867188 5.394531 -0.9375 5.5625 -1.03125 C 5.726562 -1.125 5.859375 -1.242188 5.953125 -1.390625 C 6.046875 -1.546875 6.09375 -1.734375 6.09375 -1.953125 C 6.09375 -2.179688 6.035156 -2.363281 5.921875 -2.5 C 5.804688 -2.632812 5.644531 -2.75 5.4375 -2.84375 C 5.238281 -2.945312 5 -3.03125 4.71875 -3.09375 C 4.445312 -3.164062 4.148438 -3.242188 3.828125 -3.328125 C 3.535156 -3.410156 3.242188 -3.492188 2.953125 -3.578125 C 2.671875 -3.671875 2.414062 -3.789062 2.1875 -3.9375 C 1.96875 -4.082031 1.785156 -4.269531 1.640625 -4.5 C 1.503906 -4.726562 1.4375 -5.019531 1.4375 -5.375 C 1.4375 -6.039062 1.675781 -6.5625 2.15625 -6.9375 C 2.644531 -7.320312 3.347656 -7.515625 4.265625 -7.515625 C 4.617188 -7.515625 4.953125 -7.476562 5.265625 -7.40625 C 5.585938 -7.34375 5.867188 -7.238281 6.109375 -7.09375 C 6.359375 -6.957031 6.566406 -6.773438 6.734375 -6.546875 C 6.898438 -6.316406 7.015625 -6.046875 7.078125 -5.734375 L 5.96875 -5.59375 C 5.9375 -5.800781 5.867188 -5.96875 5.765625 -6.09375 C 5.660156 -6.226562 5.53125 -6.332031 5.375 -6.40625 C 5.21875 -6.476562 5.046875 -6.523438 4.859375 -6.546875 C 4.671875 -6.578125 4.472656 -6.59375 4.265625 -6.59375 C 3.140625 -6.59375 2.578125 -6.25 2.578125 -5.5625 C 2.578125 -5.351562 2.625 -5.179688 2.71875 -5.046875 C 2.820312 -4.921875 2.960938 -4.8125 3.140625 -4.71875 C 3.316406 -4.632812 3.53125 -4.5625 3.78125 -4.5 C 4.03125 -4.445312 4.300781 -4.378906 4.59375 -4.296875 C 4.882812 -4.222656 5.1875 -4.140625 5.5 -4.046875 C 5.8125 -3.953125 6.097656 -3.820312 6.359375 -3.65625 C 6.617188 -3.5 6.832031 -3.296875 7 -3.046875 C 7.164062 -2.804688 7.25 -2.492188 7.25 -2.109375 Z M 7.25 -2.109375 \"/>\n</symbol>\n<symbol overflow=\"visible\" id=\"glyph0-19\">\n<path style=\"stroke:none;\" d=\"M 7.3125 -8.265625 C 6.875 -7.640625 6.457031 -6.988281 6.0625 -6.3125 C 5.675781 -5.644531 5.332031 -4.960938 5.03125 -4.265625 C 4.738281 -3.578125 4.503906 -2.875 4.328125 -2.15625 C 4.160156 -1.445312 4.078125 -0.726562 4.078125 0 L 2.796875 0 C 2.796875 -0.71875 2.882812 -1.4375 3.0625 -2.15625 C 3.25 -2.875 3.492188 -3.582031 3.796875 -4.28125 C 4.097656 -4.976562 4.445312 -5.660156 4.84375 -6.328125 C 5.25 -6.992188 5.675781 -7.628906 6.125 -8.234375 L 1.078125 -8.234375 L 1.078125 -9.21875 L 7.3125 -9.21875 Z M 7.3125 -8.265625 \"/>\n</symbol>\n<symbol overflow=\"visible\" id=\"glyph0-20\">\n<path style=\"stroke:none;\" d=\"M 6.859375 0 L 3.53125 -4.359375 L 2.40625 -3.203125 L 2.40625 0 L 1.109375 0 L 1.109375 -9.21875 L 2.40625 -9.21875 L 2.40625 -4.625 L 6.328125 -9.21875 L 7.859375 -9.21875 L 4.421875 -5.3125 L 8.390625 0 Z M 6.859375 0 \"/>\n</symbol>\n<symbol overflow=\"visible\" id=\"glyph0-21\">\n<path style=\"stroke:none;\" d=\"M 7.0625 0 L 6.125 -2.609375 L 2.28125 -2.609375 L 1.34375 0 L 0 0 L 3.484375 -9.21875 L 4.96875 -9.21875 L 8.390625 0 Z M 4.796875 -6.515625 C 4.734375 -6.691406 4.671875 -6.867188 4.609375 -7.046875 C 4.546875 -7.222656 4.488281 -7.390625 4.4375 -7.546875 C 4.382812 -7.710938 4.335938 -7.851562 4.296875 -7.96875 C 4.253906 -8.09375 4.226562 -8.179688 4.21875 -8.234375 C 4.195312 -8.179688 4.164062 -8.09375 4.125 -7.96875 C 4.09375 -7.84375 4.050781 -7.703125 4 -7.546875 C 3.945312 -7.390625 3.890625 -7.222656 3.828125 -7.046875 C 3.773438 -6.867188 3.71875 -6.691406 3.65625 -6.515625 L 2.625 -3.625 L 5.796875 -3.625 Z M 4.796875 -6.515625 \"/>\n</symbol>\n<symbol overflow=\"visible\" id=\"glyph0-22\">\n<path style=\"stroke:none;\" d=\"M 2.140625 -4.65625 C 2.140625 -4.0625 2.1875 -3.53125 2.28125 -3.0625 C 2.375 -2.601562 2.515625 -2.210938 2.703125 -1.890625 C 2.898438 -1.578125 3.144531 -1.335938 3.4375 -1.171875 C 3.738281 -1.003906 4.097656 -0.921875 4.515625 -0.921875 C 4.804688 -0.921875 5.066406 -0.972656 5.296875 -1.078125 C 5.523438 -1.191406 5.726562 -1.335938 5.90625 -1.515625 C 6.09375 -1.691406 6.25 -1.894531 6.375 -2.125 C 6.507812 -2.363281 6.625 -2.601562 6.71875 -2.84375 L 7.8125 -2.40625 C 7.675781 -2.082031 7.515625 -1.769531 7.328125 -1.46875 C 7.148438 -1.164062 6.925781 -0.894531 6.65625 -0.65625 C 6.394531 -0.414062 6.085938 -0.222656 5.734375 -0.078125 C 5.378906 0.0664062 4.96875 0.140625 4.5 0.140625 C 3.863281 0.140625 3.3125 0.0234375 2.84375 -0.203125 C 2.375 -0.429688 1.984375 -0.753906 1.671875 -1.171875 C 1.367188 -1.597656 1.140625 -2.101562 0.984375 -2.6875 C 0.835938 -3.28125 0.765625 -3.9375 0.765625 -4.65625 C 0.765625 -5.414062 0.835938 -6.085938 0.984375 -6.671875 C 1.128906 -7.253906 1.351562 -7.742188 1.65625 -8.140625 C 1.957031 -8.546875 2.335938 -8.847656 2.796875 -9.046875 C 3.265625 -9.253906 3.8125 -9.359375 4.4375 -9.359375 C 4.894531 -9.359375 5.296875 -9.296875 5.640625 -9.171875 C 5.992188 -9.046875 6.296875 -8.878906 6.546875 -8.671875 C 6.796875 -8.460938 7.007812 -8.21875 7.1875 -7.9375 C 7.363281 -7.664062 7.507812 -7.378906 7.625 -7.078125 L 6.46875 -6.625 C 6.40625 -6.84375 6.3125 -7.050781 6.1875 -7.25 C 6.070312 -7.445312 5.929688 -7.625 5.765625 -7.78125 C 5.597656 -7.9375 5.40625 -8.0625 5.1875 -8.15625 C 4.96875 -8.25 4.71875 -8.296875 4.4375 -8.296875 C 4.03125 -8.296875 3.679688 -8.21875 3.390625 -8.0625 C 3.109375 -7.90625 2.875 -7.671875 2.6875 -7.359375 C 2.5 -7.054688 2.359375 -6.675781 2.265625 -6.21875 C 2.179688 -5.769531 2.140625 -5.25 2.140625 -4.65625 Z M 2.140625 -4.65625 \"/>\n</symbol>\n<symbol overflow=\"visible\" id=\"glyph0-23\">\n<path style=\"stroke:none;\" d=\"M 7.484375 -2.578125 C 7.484375 -2.203125 7.414062 -1.847656 7.28125 -1.515625 C 7.15625 -1.179688 6.957031 -0.890625 6.6875 -0.640625 C 6.425781 -0.398438 6.085938 -0.207031 5.671875 -0.0625 C 5.253906 0.0703125 4.765625 0.140625 4.203125 0.140625 C 3.628906 0.140625 3.132812 0.0703125 2.71875 -0.0625 C 2.3125 -0.207031 1.972656 -0.398438 1.703125 -0.640625 C 1.429688 -0.890625 1.226562 -1.175781 1.09375 -1.5 C 0.96875 -1.832031 0.90625 -2.191406 0.90625 -2.578125 C 0.90625 -2.898438 0.957031 -3.191406 1.0625 -3.453125 C 1.175781 -3.710938 1.320312 -3.9375 1.5 -4.125 C 1.675781 -4.320312 1.878906 -4.476562 2.109375 -4.59375 C 2.347656 -4.707031 2.585938 -4.785156 2.828125 -4.828125 L 2.828125 -4.859375 C 2.554688 -4.921875 2.316406 -5.019531 2.109375 -5.15625 C 1.898438 -5.300781 1.722656 -5.46875 1.578125 -5.65625 C 1.429688 -5.851562 1.320312 -6.066406 1.25 -6.296875 C 1.175781 -6.523438 1.140625 -6.757812 1.140625 -7 C 1.140625 -7.3125 1.203125 -7.609375 1.328125 -7.890625 C 1.460938 -8.171875 1.65625 -8.421875 1.90625 -8.640625 C 2.164062 -8.859375 2.484375 -9.03125 2.859375 -9.15625 C 3.234375 -9.289062 3.671875 -9.359375 4.171875 -9.359375 C 4.691406 -9.359375 5.144531 -9.289062 5.53125 -9.15625 C 5.914062 -9.03125 6.234375 -8.859375 6.484375 -8.640625 C 6.742188 -8.421875 6.929688 -8.164062 7.046875 -7.875 C 7.171875 -7.59375 7.234375 -7.296875 7.234375 -6.984375 C 7.234375 -6.742188 7.195312 -6.507812 7.125 -6.28125 C 7.050781 -6.0625 6.941406 -5.851562 6.796875 -5.65625 C 6.648438 -5.46875 6.472656 -5.300781 6.265625 -5.15625 C 6.054688 -5.019531 5.8125 -4.925781 5.53125 -4.875 L 5.53125 -4.84375 C 5.8125 -4.800781 6.066406 -4.71875 6.296875 -4.59375 C 6.535156 -4.476562 6.742188 -4.320312 6.921875 -4.125 C 7.097656 -3.9375 7.234375 -3.710938 7.328125 -3.453125 C 7.429688 -3.191406 7.484375 -2.898438 7.484375 -2.578125 Z M 5.96875 -6.921875 C 5.96875 -7.128906 5.9375 -7.328125 5.875 -7.515625 C 5.8125 -7.703125 5.707031 -7.863281 5.5625 -8 C 5.425781 -8.132812 5.242188 -8.242188 5.015625 -8.328125 C 4.785156 -8.410156 4.503906 -8.453125 4.171875 -8.453125 C 3.847656 -8.453125 3.570312 -8.410156 3.34375 -8.328125 C 3.125 -8.242188 2.941406 -8.132812 2.796875 -8 C 2.648438 -7.863281 2.546875 -7.703125 2.484375 -7.515625 C 2.421875 -7.328125 2.390625 -7.128906 2.390625 -6.921875 C 2.390625 -6.753906 2.414062 -6.578125 2.46875 -6.390625 C 2.519531 -6.203125 2.609375 -6.03125 2.734375 -5.875 C 2.867188 -5.71875 3.050781 -5.585938 3.28125 -5.484375 C 3.519531 -5.378906 3.820312 -5.328125 4.1875 -5.328125 C 4.570312 -5.328125 4.878906 -5.378906 5.109375 -5.484375 C 5.347656 -5.585938 5.53125 -5.71875 5.65625 -5.875 C 5.78125 -6.03125 5.863281 -6.203125 5.90625 -6.390625 C 5.945312 -6.578125 5.96875 -6.753906 5.96875 -6.921875 Z M 6.203125 -2.703125 C 6.203125 -2.910156 6.171875 -3.113281 6.109375 -3.3125 C 6.046875 -3.507812 5.9375 -3.691406 5.78125 -3.859375 C 5.625 -4.023438 5.414062 -4.15625 5.15625 -4.25 C 4.894531 -4.351562 4.566406 -4.40625 4.171875 -4.40625 C 3.804688 -4.40625 3.5 -4.351562 3.25 -4.25 C 3 -4.15625 2.796875 -4.023438 2.640625 -3.859375 C 2.484375 -3.691406 2.367188 -3.503906 2.296875 -3.296875 C 2.222656 -3.097656 2.1875 -2.890625 2.1875 -2.671875 C 2.1875 -2.398438 2.222656 -2.148438 2.296875 -1.921875 C 2.367188 -1.691406 2.484375 -1.492188 2.640625 -1.328125 C 2.796875 -1.160156 3.003906 -1.023438 3.265625 -0.921875 C 3.523438 -0.828125 3.84375 -0.78125 4.21875 -0.78125 C 4.59375 -0.78125 4.90625 -0.828125 5.15625 -0.921875 C 5.40625 -1.015625 5.609375 -1.144531 5.765625 -1.3125 C 5.921875 -1.488281 6.03125 -1.691406 6.09375 -1.921875 C 6.164062 -2.160156 6.203125 -2.421875 6.203125 -2.703125 Z M 6.203125 -2.703125 \"/>\n</symbol>\n<symbol overflow=\"visible\" id=\"glyph0-24\">\n<path style=\"stroke:none;\" d=\"M 5.71875 0.1875 C 5.71875 0.6875 5.632812 1.109375 5.46875 1.453125 C 5.3125 1.796875 5.097656 2.078125 4.828125 2.296875 C 4.554688 2.515625 4.242188 2.671875 3.890625 2.765625 C 3.535156 2.859375 3.160156 2.90625 2.765625 2.90625 C 2.578125 2.90625 2.390625 2.894531 2.203125 2.875 C 2.015625 2.863281 1.832031 2.84375 1.65625 2.8125 C 1.488281 2.789062 1.332031 2.757812 1.1875 2.71875 C 1.039062 2.6875 0.910156 2.648438 0.796875 2.609375 L 0.796875 1.65625 C 0.898438 1.675781 1.019531 1.695312 1.15625 1.71875 C 1.289062 1.75 1.441406 1.773438 1.609375 1.796875 C 1.773438 1.828125 1.945312 1.847656 2.125 1.859375 C 2.300781 1.878906 2.484375 1.890625 2.671875 1.890625 C 2.921875 1.890625 3.15625 1.859375 3.375 1.796875 C 3.601562 1.734375 3.796875 1.628906 3.953125 1.484375 C 4.117188 1.347656 4.25 1.171875 4.34375 0.953125 C 4.4375 0.734375 4.484375 0.472656 4.484375 0.171875 L 4.484375 -6.421875 L 1.703125 -6.421875 L 1.703125 -7.390625 L 5.71875 -7.390625 Z M 4.34375 -8.828125 L 4.34375 -10.140625 L 5.71875 -10.140625 L 5.71875 -8.828125 Z M 4.34375 -8.828125 \"/>\n</symbol>\n<symbol overflow=\"visible\" id=\"glyph0-25\">\n<path style=\"stroke:none;\" d=\"M 5.9375 0 L 5.9375 -4.75 C 5.9375 -5.113281 5.894531 -5.410156 5.8125 -5.640625 C 5.738281 -5.878906 5.632812 -6.066406 5.5 -6.203125 C 5.375 -6.347656 5.21875 -6.445312 5.03125 -6.5 C 4.851562 -6.550781 4.65625 -6.578125 4.4375 -6.578125 C 4.164062 -6.578125 3.910156 -6.523438 3.671875 -6.421875 C 3.441406 -6.328125 3.238281 -6.179688 3.0625 -5.984375 C 2.882812 -5.785156 2.742188 -5.546875 2.640625 -5.265625 C 2.546875 -4.984375 2.5 -4.65625 2.5 -4.28125 L 2.5 0 L 1.265625 0 L 1.265625 -5.8125 C 1.265625 -5.96875 1.265625 -6.128906 1.265625 -6.296875 C 1.265625 -6.472656 1.257812 -6.632812 1.25 -6.78125 C 1.25 -6.9375 1.242188 -7.066406 1.234375 -7.171875 C 1.234375 -7.285156 1.226562 -7.359375 1.21875 -7.390625 L 2.390625 -7.390625 C 2.390625 -7.367188 2.390625 -7.304688 2.390625 -7.203125 C 2.398438 -7.109375 2.40625 -6.992188 2.40625 -6.859375 C 2.414062 -6.734375 2.421875 -6.601562 2.421875 -6.46875 C 2.429688 -6.332031 2.4375 -6.21875 2.4375 -6.125 L 2.46875 -6.125 C 2.570312 -6.34375 2.695312 -6.535156 2.84375 -6.703125 C 2.988281 -6.878906 3.160156 -7.023438 3.359375 -7.140625 C 3.554688 -7.265625 3.773438 -7.359375 4.015625 -7.421875 C 4.253906 -7.492188 4.523438 -7.53125 4.828125 -7.53125 C 5.203125 -7.53125 5.535156 -7.476562 5.828125 -7.375 C 6.117188 -7.28125 6.363281 -7.128906 6.5625 -6.921875 C 6.757812 -6.710938 6.910156 -6.441406 7.015625 -6.109375 C 7.117188 -5.785156 7.171875 -5.390625 7.171875 -4.921875 L 7.171875 0 Z M 5.9375 0 \"/>\n</symbol>\n</g>\n</defs>\n<g id=\"surface14\">\n<rect x=\"0\" y=\"0\" width=\"400\" height=\"400\" style=\"fill:rgb(100%,100%,100%);fill-opacity:1;stroke:none;\"/>\n<path style=\"fill:none;stroke-width:1;stroke-linecap:butt;stroke-linejoin:miter;stroke:rgb(26.666667%,26.666667%,26.666667%);stroke-opacity:1;stroke-miterlimit:10;\" d=\"M 268.183594 201.386719 L 206.972656 169.390625 \"/>\n<path style=\" stroke:none;fill-rule:nonzero;fill:rgb(26.666667%,26.666667%,26.666667%);fill-opacity:1;\" d=\"M 194.332031 162.78125 L 209.121094 165.285156 L 204.828125 173.5 L 194.332031 162.78125 \"/>\n<path style=\"fill:none;stroke-width:1;stroke-linecap:butt;stroke-linejoin:miter;stroke:rgb(26.666667%,26.666667%,26.666667%);stroke-opacity:1;stroke-miterlimit:10;\" d=\"M 185.46875 158.152344 L 121.582031 109.816406 \"/>\n<path style=\" stroke:none;fill-rule:nonzero;fill:rgb(26.666667%,26.666667%,26.666667%);fill-opacity:1;\" d=\"M 110.207031 101.210938 L 124.378906 106.121094 L 118.785156 113.511719 L 110.207031 101.210938 \"/>\n<path style=\"fill:none;stroke-width:1;stroke-linecap:butt;stroke-linejoin:miter;stroke:rgb(26.666667%,26.666667%,26.666667%);stroke-opacity:1;stroke-miterlimit:10;\" d=\"M 114.367188 380 L 102.808594 336.152344 \"/>\n<path style=\" stroke:none;fill-rule:nonzero;fill:rgb(26.666667%,26.666667%,26.666667%);fill-opacity:1;\" d=\"M 99.171875 322.359375 L 107.289062 334.972656 L 98.324219 337.335938 L 99.171875 322.359375 \"/>\n<path style=\"fill:none;stroke-width:1;stroke-linecap:butt;stroke-linejoin:miter;stroke:rgb(26.666667%,26.666667%,26.666667%);stroke-opacity:1;stroke-miterlimit:10;\" d=\"M 114.367188 380 L 41.746094 344.054688 \"/>\n<path style=\" stroke:none;fill-rule:nonzero;fill:rgb(26.666667%,26.666667%,26.666667%);fill-opacity:1;\" d=\"M 28.960938 337.726562 L 43.804688 339.902344 L 39.691406 348.210938 L 28.960938 337.726562 \"/>\n<path style=\"fill:none;stroke-width:1;stroke-linecap:butt;stroke-linejoin:miter;stroke:rgb(26.666667%,26.666667%,26.666667%);stroke-opacity:1;stroke-miterlimit:10;\" d=\"M 20 333.292969 L 73.1875 318.992188 \"/>\n<path style=\" stroke:none;fill-rule:nonzero;fill:rgb(26.666667%,26.666667%,26.666667%);fill-opacity:1;\" d=\"M 86.964844 315.285156 L 74.390625 323.46875 L 71.984375 314.515625 L 86.964844 315.285156 \"/>\n<path style=\"fill:none;stroke-width:1;stroke-linecap:butt;stroke-linejoin:miter;stroke:rgb(26.666667%,26.666667%,26.666667%);stroke-opacity:1;stroke-miterlimit:10;\" d=\"M 102.230469 95.175781 L 111.410156 43.886719 \"/>\n<path style=\" stroke:none;fill-rule:nonzero;fill:rgb(26.666667%,26.666667%,26.666667%);fill-opacity:1;\" d=\"M 113.925781 29.84375 L 115.972656 44.703125 L 106.847656 43.070312 L 113.925781 29.84375 \"/>\n<path style=\"fill:none;stroke-width:1;stroke-linecap:butt;stroke-linejoin:miter;stroke:rgb(26.666667%,26.666667%,26.666667%);stroke-opacity:1;stroke-miterlimit:10;\" d=\"M 229.964844 91.976562 L 260.179688 178.476562 \"/>\n<path style=\" stroke:none;fill-rule:nonzero;fill:rgb(26.666667%,26.666667%,26.666667%);fill-opacity:1;\" d=\"M 264.886719 191.945312 L 255.804688 180.007812 L 264.554688 176.949219 L 264.886719 191.945312 \"/>\n<path style=\"fill:none;stroke-width:1;stroke-linecap:butt;stroke-linejoin:miter;stroke:rgb(26.666667%,26.666667%,26.666667%);stroke-opacity:1;stroke-miterlimit:10;\" d=\"M 229.964844 91.976562 L 199.007812 138.011719 \"/>\n<path style=\" stroke:none;fill-rule:nonzero;fill:rgb(26.666667%,26.666667%,26.666667%);fill-opacity:1;\" d=\"M 191.050781 149.851562 L 195.164062 135.425781 L 202.855469 140.601562 L 191.050781 149.851562 \"/>\n<path style=\"fill:none;stroke-width:1;stroke-linecap:butt;stroke-linejoin:miter;stroke:rgb(26.666667%,26.666667%,26.666667%);stroke-opacity:1;stroke-miterlimit:10;\" d=\"M 229.964844 91.976562 L 126.492188 94.570312 \"/>\n<path style=\" stroke:none;fill-rule:nonzero;fill:rgb(26.666667%,26.666667%,26.666667%);fill-opacity:1;\" d=\"M 112.230469 94.925781 L 126.375 89.933594 L 126.605469 99.203125 L 112.230469 94.925781 \"/>\n<path style=\"fill:none;stroke-width:1;stroke-linecap:butt;stroke-linejoin:miter;stroke:rgb(26.666667%,26.666667%,26.666667%);stroke-opacity:1;stroke-miterlimit:10;\" d=\"M 229.964844 91.976562 L 136.21875 32.933594 \"/>\n<path style=\" stroke:none;fill-rule:nonzero;fill:rgb(26.666667%,26.666667%,26.666667%);fill-opacity:1;\" d=\"M 124.148438 25.328125 L 138.6875 29.011719 L 133.75 36.855469 L 124.148438 25.328125 \"/>\n<path style=\"fill:none;stroke-width:1;stroke-linecap:butt;stroke-linejoin:miter;stroke:rgb(26.666667%,26.666667%,26.666667%);stroke-opacity:1;stroke-miterlimit:10;\" d=\"M 229.964844 91.976562 L 290.3125 44.390625 \"/>\n<path style=\" stroke:none;fill-rule:nonzero;fill:rgb(26.666667%,26.666667%,26.666667%);fill-opacity:1;\" d=\"M 301.511719 35.554688 L 293.179688 48.027344 L 287.441406 40.75 L 301.511719 35.554688 \"/>\n<path style=\"fill:none;stroke-width:1;stroke-linecap:butt;stroke-linejoin:miter;stroke:rgb(26.666667%,26.666667%,26.666667%);stroke-opacity:1;stroke-miterlimit:10;\" d=\"M 229.964844 91.976562 L 356.40625 122.414062 \"/>\n<path style=\" stroke:none;fill-rule:nonzero;fill:rgb(26.666667%,26.666667%,26.666667%);fill-opacity:1;\" d=\"M 370.277344 125.753906 L 355.324219 126.921875 L 357.492188 117.910156 L 370.277344 125.753906 \"/>\n<path style=\"fill:none;stroke-width:1;stroke-linecap:butt;stroke-linejoin:miter;stroke:rgb(26.666667%,26.666667%,26.666667%);stroke-opacity:1;stroke-miterlimit:10;\" d=\"M 300.234375 128.253906 L 277.925781 179.160156 \"/>\n<path style=\" stroke:none;fill-rule:nonzero;fill:rgb(26.666667%,26.666667%,26.666667%);fill-opacity:1;\" d=\"M 272.195312 192.226562 L 273.679688 177.300781 L 282.167969 181.023438 L 272.195312 192.226562 \"/>\n<path style=\"fill:none;stroke-width:1;stroke-linecap:butt;stroke-linejoin:miter;stroke:rgb(26.666667%,26.666667%,26.666667%);stroke-opacity:1;stroke-miterlimit:10;\" d=\"M 300.234375 128.253906 L 208.949219 152.035156 \"/>\n<path style=\" stroke:none;fill-rule:nonzero;fill:rgb(26.666667%,26.666667%,26.666667%);fill-opacity:1;\" d=\"M 195.144531 155.628906 L 207.78125 147.546875 L 210.121094 156.519531 L 195.144531 155.628906 \"/>\n<path style=\"fill:none;stroke-width:1;stroke-linecap:butt;stroke-linejoin:miter;stroke:rgb(26.666667%,26.666667%,26.666667%);stroke-opacity:1;stroke-miterlimit:10;\" d=\"M 300.234375 128.253906 L 251.527344 103.109375 \"/>\n<path style=\" stroke:none;fill-rule:nonzero;fill:rgb(26.666667%,26.666667%,26.666667%);fill-opacity:1;\" d=\"M 238.851562 96.566406 L 253.652344 98.988281 L 249.398438 107.226562 L 238.851562 96.566406 \"/>\n<path style=\"fill:none;stroke-width:1;stroke-linecap:butt;stroke-linejoin:miter;stroke:rgb(26.666667%,26.666667%,26.666667%);stroke-opacity:1;stroke-miterlimit:10;\" d=\"M 300.234375 128.253906 L 307.132812 53.527344 \"/>\n<path style=\" stroke:none;fill-rule:nonzero;fill:rgb(26.666667%,26.666667%,26.666667%);fill-opacity:1;\" d=\"M 308.445312 39.320312 L 311.75 53.953125 L 302.519531 53.101562 L 308.445312 39.320312 \"/>\n<path style=\"fill:none;stroke-width:1;stroke-linecap:butt;stroke-linejoin:miter;stroke:rgb(26.666667%,26.666667%,26.666667%);stroke-opacity:1;stroke-miterlimit:10;\" d=\"M 300.234375 128.253906 L 355.734375 128.144531 \"/>\n<path style=\" stroke:none;fill-rule:nonzero;fill:rgb(26.666667%,26.666667%,26.666667%);fill-opacity:1;\" d=\"M 370 128.113281 L 355.742188 132.777344 L 355.726562 123.507812 L 370 128.113281 \"/>\n<path style=\"fill-rule:nonzero;fill:rgb(100%,0%,0%);fill-opacity:1;stroke-width:1;stroke-linecap:butt;stroke-linejoin:miter;stroke:rgb(0%,0%,0%);stroke-opacity:1;stroke-miterlimit:10;\" d=\"M 278.183594 201.386719 C 278.183594 206.910156 273.707031 211.386719 268.183594 211.386719 C 262.660156 211.386719 258.183594 206.910156 258.183594 201.386719 C 258.183594 195.863281 262.660156 191.386719 268.183594 191.386719 C 273.707031 191.386719 278.183594 195.863281 278.183594 201.386719 \"/>\n<path style=\"fill-rule:nonzero;fill:rgb(100%,0%,0%);fill-opacity:1;stroke-width:1;stroke-linecap:butt;stroke-linejoin:miter;stroke:rgb(0%,0%,0%);stroke-opacity:1;stroke-miterlimit:10;\" d=\"M 195.46875 158.152344 C 195.46875 163.671875 190.992188 168.152344 185.46875 168.152344 C 179.945312 168.152344 175.46875 163.671875 175.46875 158.152344 C 175.46875 152.628906 179.945312 148.152344 185.46875 148.152344 C 190.992188 148.152344 195.46875 152.628906 195.46875 158.152344 \"/>\n<path style=\"fill-rule:nonzero;fill:rgb(100%,0%,0%);fill-opacity:1;stroke-width:1;stroke-linecap:butt;stroke-linejoin:miter;stroke:rgb(0%,0%,0%);stroke-opacity:1;stroke-miterlimit:10;\" d=\"M 124.367188 380 C 124.367188 385.523438 119.890625 390 114.367188 390 C 108.847656 390 104.367188 385.523438 104.367188 380 C 104.367188 374.476562 108.847656 370 114.367188 370 C 119.890625 370 124.367188 374.476562 124.367188 380 \"/>\n<path style=\"fill-rule:nonzero;fill:rgb(100%,0%,0%);fill-opacity:1;stroke-width:1;stroke-linecap:butt;stroke-linejoin:miter;stroke:rgb(0%,0%,0%);stroke-opacity:1;stroke-miterlimit:10;\" d=\"M 106.621094 312.691406 C 106.621094 318.214844 102.144531 322.691406 96.621094 322.691406 C 91.097656 322.691406 86.621094 318.214844 86.621094 312.691406 C 86.621094 307.167969 91.097656 302.691406 96.621094 302.691406 C 102.144531 302.691406 106.621094 307.167969 106.621094 312.691406 \"/>\n<path style=\"fill-rule:nonzero;fill:rgb(100%,0%,0%);fill-opacity:1;stroke-width:1;stroke-linecap:butt;stroke-linejoin:miter;stroke:rgb(0%,0%,0%);stroke-opacity:1;stroke-miterlimit:10;\" d=\"M 30 333.292969 C 30 338.8125 25.523438 343.292969 20 343.292969 C 14.476562 343.292969 10 338.8125 10 333.292969 C 10 327.769531 14.476562 323.292969 20 323.292969 C 25.523438 323.292969 30 327.769531 30 333.292969 \"/>\n<path style=\"fill-rule:nonzero;fill:rgb(100%,0%,0%);fill-opacity:1;stroke-width:1;stroke-linecap:butt;stroke-linejoin:miter;stroke:rgb(0%,0%,0%);stroke-opacity:1;stroke-miterlimit:10;\" d=\"M 112.230469 95.175781 C 112.230469 100.699219 107.753906 105.175781 102.230469 105.175781 C 96.710938 105.175781 92.230469 100.699219 92.230469 95.175781 C 92.230469 89.652344 96.710938 85.175781 102.230469 85.175781 C 107.753906 85.175781 112.230469 89.652344 112.230469 95.175781 \"/>\n<path style=\"fill-rule:nonzero;fill:rgb(100%,0%,0%);fill-opacity:1;stroke-width:1;stroke-linecap:butt;stroke-linejoin:miter;stroke:rgb(0%,0%,0%);stroke-opacity:1;stroke-miterlimit:10;\" d=\"M 125.6875 20 C 125.6875 25.523438 121.207031 30 115.6875 30 C 110.164062 30 105.6875 25.523438 105.6875 20 C 105.6875 14.476562 110.164062 10 115.6875 10 C 121.207031 10 125.6875 14.476562 125.6875 20 \"/>\n<path style=\"fill-rule:nonzero;fill:rgb(100%,0%,0%);fill-opacity:1;stroke-width:1;stroke-linecap:butt;stroke-linejoin:miter;stroke:rgb(0%,0%,0%);stroke-opacity:1;stroke-miterlimit:10;\" d=\"M 239.964844 91.976562 C 239.964844 97.5 235.488281 101.976562 229.964844 101.976562 C 224.441406 101.976562 219.964844 97.5 219.964844 91.976562 C 219.964844 86.453125 224.441406 81.976562 229.964844 81.976562 C 235.488281 81.976562 239.964844 86.453125 239.964844 91.976562 \"/>\n<path style=\"fill-rule:nonzero;fill:rgb(100%,0%,0%);fill-opacity:1;stroke-width:1;stroke-linecap:butt;stroke-linejoin:miter;stroke:rgb(0%,0%,0%);stroke-opacity:1;stroke-miterlimit:10;\" d=\"M 310.234375 128.253906 C 310.234375 133.777344 305.757812 138.253906 300.234375 138.253906 C 294.710938 138.253906 290.234375 133.777344 290.234375 128.253906 C 290.234375 122.730469 294.710938 118.253906 300.234375 118.253906 C 305.757812 118.253906 310.234375 122.730469 310.234375 128.253906 \"/>\n<path style=\"fill-rule:nonzero;fill:rgb(100%,0%,0%);fill-opacity:1;stroke-width:1;stroke-linecap:butt;stroke-linejoin:miter;stroke:rgb(0%,0%,0%);stroke-opacity:1;stroke-miterlimit:10;\" d=\"M 319.367188 29.363281 C 319.367188 34.886719 314.886719 39.363281 309.367188 39.363281 C 303.84375 39.363281 299.367188 34.886719 299.367188 29.363281 C 299.367188 23.839844 303.84375 19.363281 309.367188 19.363281 C 314.886719 19.363281 319.367188 23.839844 319.367188 29.363281 \"/>\n<path style=\"fill-rule:nonzero;fill:rgb(100%,0%,0%);fill-opacity:1;stroke-width:1;stroke-linecap:butt;stroke-linejoin:miter;stroke:rgb(0%,0%,0%);stroke-opacity:1;stroke-miterlimit:10;\" d=\"M 390 128.09375 C 390 133.617188 385.523438 138.09375 380 138.09375 C 374.476562 138.09375 370 133.617188 370 128.09375 C 370 122.570312 374.476562 118.09375 380 118.09375 C 385.523438 118.09375 390 122.570312 390 128.09375 \"/>\n<g style=\"fill:rgb(0%,0%,0%);fill-opacity:1;\">\n  <use xlink:href=\"#glyph0-1\" x=\"251.210938\" y=\"208.558594\"/>\n  <use xlink:href=\"#glyph0-2\" x=\"259.612305\" y=\"208.558594\"/>\n  <use xlink:href=\"#glyph0-3\" x=\"268.013672\" y=\"208.558594\"/>\n  <use xlink:href=\"#glyph0-4\" x=\"276.415039\" y=\"208.558594\"/>\n</g>\n<g style=\"fill:rgb(0%,0%,0%);fill-opacity:1;\">\n  <use xlink:href=\"#glyph0-1\" x=\"168.410156\" y=\"165.324219\"/>\n  <use xlink:href=\"#glyph0-5\" x=\"176.811523\" y=\"165.324219\"/>\n  <use xlink:href=\"#glyph0-6\" x=\"185.212891\" y=\"165.324219\"/>\n  <use xlink:href=\"#glyph0-7\" x=\"193.614258\" y=\"165.324219\"/>\n</g>\n<g style=\"fill:rgb(0%,0%,0%);fill-opacity:1;\">\n  <use xlink:href=\"#glyph0-1\" x=\"97.550781\" y=\"387.175781\"/>\n  <use xlink:href=\"#glyph0-8\" x=\"105.952148\" y=\"387.175781\"/>\n  <use xlink:href=\"#glyph0-9\" x=\"114.353516\" y=\"387.175781\"/>\n  <use xlink:href=\"#glyph0-10\" x=\"122.754883\" y=\"387.175781\"/>\n</g>\n<g style=\"fill:rgb(0%,0%,0%);fill-opacity:1;\">\n  <use xlink:href=\"#glyph0-11\" x=\"79.761719\" y=\"319.476562\"/>\n  <use xlink:href=\"#glyph0-12\" x=\"88.163086\" y=\"319.476562\"/>\n  <use xlink:href=\"#glyph0-11\" x=\"96.564453\" y=\"319.476562\"/>\n  <use xlink:href=\"#glyph0-13\" x=\"104.96582\" y=\"319.476562\"/>\n</g>\n<g style=\"fill:rgb(0%,0%,0%);fill-opacity:1;\">\n  <use xlink:href=\"#glyph0-11\" x=\"3.085938\" y=\"340.074219\"/>\n  <use xlink:href=\"#glyph0-12\" x=\"11.487305\" y=\"340.074219\"/>\n  <use xlink:href=\"#glyph0-11\" x=\"19.888672\" y=\"340.074219\"/>\n  <use xlink:href=\"#glyph0-14\" x=\"28.290039\" y=\"340.074219\"/>\n</g>\n<g style=\"fill:rgb(0%,0%,0%);fill-opacity:1;\">\n  <use xlink:href=\"#glyph0-1\" x=\"76.910156\" y=\"101.960938\"/>\n  <use xlink:href=\"#glyph0-15\" x=\"85.311523\" y=\"101.960938\"/>\n  <use xlink:href=\"#glyph0-15\" x=\"93.712891\" y=\"101.960938\"/>\n  <use xlink:href=\"#glyph0-16\" x=\"102.114258\" y=\"101.960938\"/>\n  <use xlink:href=\"#glyph0-15\" x=\"110.515625\" y=\"101.960938\"/>\n  <use xlink:href=\"#glyph0-13\" x=\"118.916992\" y=\"101.960938\"/>\n</g>\n<g style=\"fill:rgb(0%,0%,0%);fill-opacity:1;\">\n  <use xlink:href=\"#glyph0-1\" x=\"81.914062\" y=\"27.175781\"/>\n  <use xlink:href=\"#glyph0-3\" x=\"90.31543\" y=\"27.175781\"/>\n  <use xlink:href=\"#glyph0-7\" x=\"98.716797\" y=\"27.175781\"/>\n  <use xlink:href=\"#glyph0-17\" x=\"107.118164\" y=\"27.175781\"/>\n  <use xlink:href=\"#glyph0-18\" x=\"115.519531\" y=\"27.175781\"/>\n  <use xlink:href=\"#glyph0-15\" x=\"123.920898\" y=\"27.175781\"/>\n  <use xlink:href=\"#glyph0-19\" x=\"132.322266\" y=\"27.175781\"/>\n  <use xlink:href=\"#glyph0-14\" x=\"140.723633\" y=\"27.175781\"/>\n</g>\n<g style=\"fill:rgb(0%,0%,0%);fill-opacity:1;\">\n  <use xlink:href=\"#glyph0-11\" x=\"216.8125\" y=\"98.691406\"/>\n  <use xlink:href=\"#glyph0-20\" x=\"225.213867\" y=\"98.691406\"/>\n  <use xlink:href=\"#glyph0-21\" x=\"233.615234\" y=\"98.691406\"/>\n</g>\n<g style=\"fill:rgb(0%,0%,0%);fill-opacity:1;\">\n  <use xlink:href=\"#glyph0-11\" x=\"287.378906\" y=\"135.039062\"/>\n  <use xlink:href=\"#glyph0-20\" x=\"295.780273\" y=\"135.039062\"/>\n  <use xlink:href=\"#glyph0-22\" x=\"304.181641\" y=\"135.039062\"/>\n</g>\n<g style=\"fill:rgb(0%,0%,0%);fill-opacity:1;\">\n  <use xlink:href=\"#glyph0-11\" x=\"296.671875\" y=\"36.148438\"/>\n  <use xlink:href=\"#glyph0-14\" x=\"305.073242\" y=\"36.148438\"/>\n  <use xlink:href=\"#glyph0-23\" x=\"313.474609\" y=\"36.148438\"/>\n</g>\n<g style=\"fill:rgb(0%,0%,0%);fill-opacity:1;\">\n  <use xlink:href=\"#glyph0-1\" x=\"362.941406\" y=\"135.269531\"/>\n  <use xlink:href=\"#glyph0-24\" x=\"371.342773\" y=\"135.269531\"/>\n  <use xlink:href=\"#glyph0-25\" x=\"379.744141\" y=\"135.269531\"/>\n  <use xlink:href=\"#glyph0-7\" x=\"388.145508\" y=\"135.269531\"/>\n</g>\n</g>\n</svg>\n"
          },
          "metadata": {
            "image/svg+xml": {
              "isolated": true
            }
          },
          "execution_count": 41
        }
      ]
    },
    {
      "cell_type": "markdown",
      "metadata": {
        "id": "QvhWKGQdfOfp"
      },
      "source": [
        "Compute the log posterior probability of the real network `real_network_adj` from Sachs *et al.* Figure 3A, using your function `log_posterior_prob_network`."
      ]
    },
    {
      "cell_type": "code",
      "metadata": {
        "id": "lOVZtQV9fOfp",
        "colab": {
          "base_uri": "https://localhost:8080/"
        },
        "outputId": "946634a2-e608-4594-a223-127644fcfa1c"
      },
      "source": [
        "lp_real = log_posterior_prob_network(real_network_adj, discret_data)\n",
        "print(f\"{lp_real:0.2f}\")"
      ],
      "execution_count": null,
      "outputs": [
        {
          "output_type": "stream",
          "name": "stdout",
          "text": [
            "-84131.03\n"
          ]
        }
      ]
    },
    {
      "cell_type": "markdown",
      "metadata": {
        "id": "GH0q5PQifOfu"
      },
      "source": [
        "Generate 1000 random rewirings of the network -- eliminating any rewired digraphs that contain cycles -- and for each randomly rewired network compute the log posterior probability. Use `igraph.Graph.rewire_edges(prob=1, loops=False, multiple=False)` to randomly rewire the graph. Make sure to make a copy of the graph before you rewire it. Check that the rewired graph is a DAG using `igraph.Graph.is_dag()`. If it is a DAG, compute the log posterior probability of the network using `log_posterior_prob_network`. You can get the adjacency matrix for the random graph as a numpy array using `numpy.array(randgraph.get_adjacency().data)`  "
      ]
    },
    {
      "cell_type": "code",
      "metadata": {
        "id": "7xyjTUdLfOfv"
      },
      "source": [
        "lprobs_rand = []\n",
        "for _ in range(0, 1000):\n",
        "    graphcopy = real_network_igraph.copy()\n",
        "    graphcopy.rewire_edges(prob=1, loops=False, multiple=False)\n",
        "    if graphcopy.is_dag():\n",
        "        lprobs_rand.append(log_posterior_prob_network(np.array(graphcopy.get_adjacency().data),\n",
        "                                                      discret_data))"
      ],
      "execution_count": null,
      "outputs": []
    },
    {
      "cell_type": "markdown",
      "metadata": {
        "id": "rCc12CNbfOfz"
      },
      "source": [
        "Histogram the log ratio of the \"real\" network's posterior probability to the posterior probabilities of each of the random networks. Does it appear that the published network is a reasonable approximation to the maximum *a posteriori* (MAP) estimate?  "
      ]
    },
    {
      "cell_type": "code",
      "metadata": {
        "id": "muXdhv1wfOf0",
        "colab": {
          "base_uri": "https://localhost:8080/",
          "height": 450
        },
        "outputId": "dc504300-e71d-44d2-e795-15575bd9c002"
      },
      "source": [
        "import matplotlib.pyplot\n",
        "plt.hist(lp_real - lprobs_rand)\n",
        "plt.xlabel(\"log(P(G_real|D)/P(G_rand|D))\")\n",
        "plt.ylabel(\"Frequency\")\n",
        "plt.show()"
      ],
      "execution_count": null,
      "outputs": [
        {
          "output_type": "display_data",
          "data": {
            "text/plain": [
              "<Figure size 640x480 with 1 Axes>"
            ],
            "image/png": "[encoded data removed]"
          },
          "metadata": {}
        }
      ]
    }
  ]
}