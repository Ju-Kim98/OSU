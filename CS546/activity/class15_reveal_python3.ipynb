{
  "nbformat": 4,
  "nbformat_minor": 0,
  "metadata": {
    "kernelspec": {
      "display_name": "Python 3",
      "language": "python",
      "name": "python3"
    },
    "language_info": {
      "codemirror_mode": {
        "name": "ipython",
        "version": 3
      },
      "file_extension": ".py",
      "mimetype": "text/x-python",
      "name": "python",
      "nbconvert_exporter": "python",
      "pygments_lexer": "ipython3",
      "version": "3.6.9"
    },
    "colab": {
      "provenance": []
    }
  },
  "cells": [
    {
      "cell_type": "markdown",
      "metadata": {
        "id": "t47_iPbZt_hh"
      },
      "source": [
        "# Class 15:  joint entropy and the REVEAL algorithm"
      ]
    },
    {
      "cell_type": "markdown",
      "metadata": {
        "id": "Qf_-tCUOt_hn"
      },
      "source": [
        "We'll use the bladder cancer gene expression data to test out the REVEAL algorithm. First, we'll load the data and filter to include only genes for which the median log2 expression level is > 14.  That should give us 13 genes to work with (to keep running times reasonable for an in-class notebook). We'll use a \"dynamic programming\"-type approach in which we store the joint entropy of *G*+*X* at stage *i-1* of the algorithm, and use that stored joint entropy to get\n",
        "the joint entropy of *X* at stage *i*."
      ]
    },
    {
      "cell_type": "markdown",
      "metadata": {
        "id": "LoAML248t_hr"
      },
      "source": [
        "Import the Python modules that we will need for this exercise"
      ]
    },
    {
      "cell_type": "code",
      "metadata": {
        "id": "SQVcvi70t_hw"
      },
      "source": [
        "import pandas as pd\n",
        "import numpy as np\n",
        "import itertools\n",
        "import pprint"
      ],
      "execution_count": null,
      "outputs": []
    },
    {
      "cell_type": "markdown",
      "metadata": {
        "id": "awT7MfH4wWVs"
      },
      "source": [
        "Download the file https://csx46.s3-us-west-2.amazonaws.com/bladder_cancer_genes_tcga.txt to the local file `bladder_cancer_genes_tcga.txt`"
      ]
    },
    {
      "cell_type": "code",
      "metadata": {
        "id": "vPnqTWpvwVkP",
        "outputId": "a7bfd987-d443-4be6-d0ad-6ad19d680a3d",
        "colab": {
          "base_uri": "https://localhost:8080/"
        }
      },
      "source": [
        "!curl https://csx46.s3-us-west-2.amazonaws.com/bladder_cancer_genes_tcga.txt > bladder_cancer_genes_tcga.txt"
      ],
      "execution_count": null,
      "outputs": [
        {
          "output_type": "stream",
          "name": "stdout",
          "text": [
            "  % Total    % Received % Xferd  Average Speed   Time    Time     Time  Current\n",
            "                                 Dload  Upload   Total   Spent    Left  Speed\n",
            "100 29.9M  100 29.9M    0     0  17.0M      0  0:00:01  0:00:01 --:--:-- 17.0M\n"
          ]
        }
      ]
    },
    {
      "cell_type": "markdown",
      "metadata": {
        "id": "5aDtafFIt_h7"
      },
      "source": [
        "Load the data file `bladder_cancer_genes_tcga.txt` into a `pandas.DataFrame`, convert it to a `numpy.ndarray` matrix, and print the matrix dimensions"
      ]
    },
    {
      "cell_type": "code",
      "metadata": {
        "id": "2lmg-quOt_h8",
        "outputId": "924de92e-f150-4be2-c290-ebdd06ac56cf",
        "colab": {
          "base_uri": "https://localhost:8080/"
        }
      },
      "source": [
        "gene_matrix_for_network_df = pd.read_csv(\"bladder_cancer_genes_tcga.txt\", sep=\"\\t\")\n",
        "gene_matrix_for_network = gene_matrix_for_network_df.values\n",
        "print(gene_matrix_for_network.shape)"
      ],
      "execution_count": null,
      "outputs": [
        {
          "output_type": "stream",
          "name": "stdout",
          "text": [
            "(4473, 414)\n"
          ]
        }
      ]
    },
    {
      "cell_type": "markdown",
      "metadata": {
        "id": "FzKKC5mNt_iG"
      },
      "source": [
        "Filter the matrix to include only rows for which the column-wise median is > 14; matrix should now be 13 x 414 (print the shape in order to check it)."
      ]
    },
    {
      "cell_type": "code",
      "metadata": {
        "id": "JoOu2R1Zt_iH",
        "outputId": "17ab48cf-526c-4ea2-84c7-4fdd4d8e1ac9",
        "colab": {
          "base_uri": "https://localhost:8080/"
        }
      },
      "source": [
        "genes_keep = np.where(np.median(gene_matrix_for_network, axis=1) > 14)\n",
        "matrix_filt = gene_matrix_for_network[genes_keep, ][0]\n",
        "print(matrix_filt.shape)\n",
        "N, M = matrix_filt.shape"
      ],
      "execution_count": null,
      "outputs": [
        {
          "output_type": "stream",
          "name": "stdout",
          "text": [
            "(13, 414)\n"
          ]
        }
      ]
    },
    {
      "cell_type": "markdown",
      "metadata": {
        "id": "gZpBEwcvt_iN"
      },
      "source": [
        "Binarize the gene expression matrix using the mean value as a breakpoint, turning it into a NxM matrix of booleans (`True`/`False`).  Call it `gene_matrix_binarized`.   Use `numpy.tile` and `numpy.mean` and `transpose`."
      ]
    },
    {
      "cell_type": "code",
      "metadata": {
        "id": "d6fvB4n_t_iP",
        "outputId": "10d9097b-ae22-4d4b-ab44-d4bd72b5d926",
        "colab": {
          "base_uri": "https://localhost:8080/"
        }
      },
      "source": [
        "gene_matrix_binarized = np.tile(np.mean(matrix_filt, axis=1),(M,1)).transpose() < matrix_filt\n",
        "print(gene_matrix_binarized.shape)"
      ],
      "execution_count": null,
      "outputs": [
        {
          "output_type": "stream",
          "name": "stdout",
          "text": [
            "(13, 414)\n"
          ]
        }
      ]
    },
    {
      "cell_type": "markdown",
      "metadata": {
        "id": "A1VY65g0t_iU"
      },
      "source": [
        "Print the first four columns of the first four rows of your matrix, as a sanity check."
      ]
    },
    {
      "cell_type": "code",
      "metadata": {
        "id": "Oar7d7xht_iV",
        "outputId": "df10b787-e164-4eb7-9727-ab6cb2527352",
        "colab": {
          "base_uri": "https://localhost:8080/"
        }
      },
      "source": [
        "gene_matrix_binarized[0:4, 0:4]"
      ],
      "execution_count": null,
      "outputs": [
        {
          "output_type": "execute_result",
          "data": {
            "text/plain": [
              "array([[False,  True, False, False],\n",
              "       [False,  True, False, False],\n",
              "       [ True,  True,  True, False],\n",
              "       [False,  True, False, False]])"
            ]
          },
          "metadata": {},
          "execution_count": 6
        }
      ]
    },
    {
      "cell_type": "markdown",
      "metadata": {
        "id": "9agxvCput_ib"
      },
      "source": [
        "The core part of the REVEAL algorithm is a function that can compute the joint entropy of a collection of binary (TRUE/FALSE) vectors X1, X2, ..., Xn (where length(X1) = length(Xi) = M).\n",
        "Write a function `entropy_multiple_vecs` that takes as its input a nxM matrix (where n is the number of variables, i.e., genes, and M is the number of samples in which gene expression was measured). The function should use the log2 definition of the Shannon entropy. It should return the joint entropy H(X1, X2, ..., Xn) as a scalar numeric value. I have created a skeleton version of this function for you, in which you can fill in the code. I have also created some test code that you can use to test your function, below."
      ]
    },
    {
      "cell_type": "code",
      "metadata": {
        "id": "pHRlztQht_ib"
      },
      "source": [
        "def entropy_multiple_vecs(binary_vecs: np.array):\n",
        "    ## use shape to get the numbers of rows and columns as [n,M]\n",
        "    [n, M] = binary_vecs.shape\n",
        "\n",
        "    # make a \"M x n\" dataframe from the transpose of the matrix binary_vecs\n",
        "    binary_df = pd.DataFrame(binary_vecs.transpose())\n",
        "\n",
        "    # use the groupby method to obtain a data frame of counts of unique occurrences of the 2^n possible logical states\n",
        "    binary_df_counts = binary_df.groupby(binary_df.columns.values.tolist()).size().values\n",
        "\n",
        "    # divide the matrix of counts by M, to get a probability matrix\n",
        "    probvec = binary_df_counts/M\n",
        "\n",
        "    # compute the shannon entropy using the formula\n",
        "    hvec = -probvec*np.log2(probvec)\n",
        "    return np.sum(hvec)"
      ],
      "execution_count": null,
      "outputs": []
    },
    {
      "cell_type": "markdown",
      "metadata": {
        "id": "fUZt41kIt_if"
      },
      "source": [
        "This test case should produce the value 3.47:"
      ]
    },
    {
      "cell_type": "code",
      "metadata": {
        "id": "0GumPruqt_if",
        "outputId": "529dad8b-c947-492f-fe12-e89b65ad53a1",
        "colab": {
          "base_uri": "https://localhost:8080/"
        }
      },
      "source": [
        "print(f\"{entropy_multiple_vecs(gene_matrix_binarized[0:4,]):0.2f}\")"
      ],
      "execution_count": null,
      "outputs": [
        {
          "output_type": "stream",
          "name": "stdout",
          "text": [
            "3.47\n"
          ]
        }
      ]
    },
    {
      "cell_type": "markdown",
      "metadata": {
        "id": "gMI9k08Lt_ii"
      },
      "source": [
        "## Example implementation of the REVEAL algorithm:\n",
        "In this exercise, we will implement the REVEAL algorithm up to Stage 3."
      ]
    },
    {
      "cell_type": "markdown",
      "metadata": {
        "id": "m9Gm2dyozoO0"
      },
      "source": [
        "Define a constant `ratio_thresh` that will control the threshold for the conditional entropy of a gene given its candidate regulator(s); if that conditional entropy is below `ratio_thresh` times the"
      ]
    },
    {
      "cell_type": "code",
      "metadata": {
        "id": "kW4lfojm3FYj"
      },
      "source": [
        "ratio_thresh = 0.1"
      ],
      "execution_count": null,
      "outputs": []
    },
    {
      "cell_type": "markdown",
      "metadata": {
        "id": "-SO_W-HY3XlE"
      },
      "source": [
        "Initialize a list of length *N*, called `regulators`. Initialize all entries of the list to `None`. As the algorithm progresses, this will become a list-of-sets that gives the regulators for each gene. So, the final state of this variable is basically the output of the REVEAL algorithm."
      ]
    },
    {
      "cell_type": "code",
      "metadata": {
        "id": "vbTY5YI83iyq"
      },
      "source": [
        "regulators = [None]*N"
      ],
      "execution_count": null,
      "outputs": []
    },
    {
      "cell_type": "markdown",
      "metadata": {
        "id": "bUCU7hikH2hz"
      },
      "source": [
        "We will control the limit on the number of stages of the REVEAL algorithm that will run, using an integer constant `max_stage`; set it to 3."
      ]
    },
    {
      "cell_type": "code",
      "metadata": {
        "id": "Aerb7SVlH0_B"
      },
      "source": [
        "max_stage = 3"
      ],
      "execution_count": null,
      "outputs": []
    },
    {
      "cell_type": "markdown",
      "metadata": {
        "id": "rl20ZMJ3JY3j"
      },
      "source": [
        "Create a list `entropies_for_stages` of length *N*, initialized with `None` values. Go through all the stage values from 0 to `max_stage-1` (inclusive), and in each case, create a numpy array with shape `[N]*(stage + 1)`\n",
        "and initialize all entries in the numpy array to `np.nan`.\n",
        "Save that array in entry `stage` in `entropies_for_stages`."
      ]
    },
    {
      "cell_type": "code",
      "metadata": {
        "scrolled": false,
        "id": "Yke7eMiEt_ij",
        "colab": {
          "base_uri": "https://localhost:8080/"
        },
        "outputId": "6adaf9a4-6d9b-42fc-8aa0-100be7763e5c"
      },
      "source": [
        "entropies_for_stages = [None]*N\n",
        "\n",
        "# for `stage` in `0...(max_stage)`: (inclusive)\n",
        "for stage in range(0, max_stage + 1):\n",
        "    # define a variable `shape` with value `[N]*(stage + 1)`\n",
        "    shape = [N]*(stage + 1)\n",
        "\n",
        "    # make a numpy array `stage_entropies` of shape `shape` and fill it with `np.nan`\n",
        "    stage_entropies = np.empty(shape)\n",
        "    stage_entropies[:] = np.nan\n",
        "\n",
        "    # save `stage_entropies` as entry `stage` in `entropies_for_stages`\n",
        "    entropies_for_stages[stage] = stage_entropies\n",
        "\n",
        "    print(f\"for entry {stage}, the array shape is: {stage_entropies.shape}\")"
      ],
      "execution_count": null,
      "outputs": [
        {
          "output_type": "stream",
          "name": "stdout",
          "text": [
            "for entry 0, the array shape is: (13,)\n",
            "for entry 1, the array shape is: (13, 13)\n",
            "for entry 2, the array shape is: (13, 13, 13)\n",
            "for entry 3, the array shape is: (13, 13, 13, 13)\n"
          ]
        }
      ]
    },
    {
      "cell_type": "markdown",
      "metadata": {
        "id": "rLCr1qtOLnDs"
      },
      "source": [
        "Loop over all genes, and for each integer gene index *i*, extract the slice `[i,:,None]` from `gene_matrix_binarized` (which extracts an array of shape `(414,1)`), take its transpose, and compute `entropy_multiple_vecs` on it. Use the resulting value to fill entry `i` of `entropies_for_stages[0]`.  After that loop is complete, print `entropies_for_stages[0]` to sanity-check how it looks."
      ]
    },
    {
      "cell_type": "code",
      "metadata": {
        "id": "vLqgP6DDd3x4",
        "colab": {
          "base_uri": "https://localhost:8080/"
        },
        "outputId": "94a11fbd-77fb-42ca-e435-73ce30d4f0bf"
      },
      "source": [
        "for i in range(0,N):\n",
        "    single_row_matrix = gene_matrix_binarized[i,:,None].transpose()\n",
        "    entropies_for_stages[0][i] = entropy_multiple_vecs(single_row_matrix)\n",
        "entropies_for_stages[0]"
      ],
      "execution_count": null,
      "outputs": [
        {
          "output_type": "execute_result",
          "data": {
            "text/plain": [
              "array([0.98579539, 0.95033767, 0.99892231, 0.99957909, 0.94459118,\n",
              "       0.99256314, 0.99715307, 0.99973063, 0.99973063, 0.99939387,\n",
              "       0.99107606, 0.99998317, 0.99715307])"
            ]
          },
          "metadata": {},
          "execution_count": 13
        }
      ]
    },
    {
      "cell_type": "markdown",
      "metadata": {
        "id": "DPsKSQwiIiqK"
      },
      "source": [
        "Create a set `all_genes` of length *N* and initialize it to the values 1..*N-1*."
      ]
    },
    {
      "cell_type": "code",
      "metadata": {
        "id": "y-NZUthBItwb"
      },
      "source": [
        "all_genes = set(range(0, N))"
      ],
      "execution_count": null,
      "outputs": []
    },
    {
      "cell_type": "markdown",
      "metadata": {
        "id": "SEua5tq82dF9"
      },
      "source": [
        "Create a set `genes_to_fit`, that will initially contain all the values 0,...,*N-1*. Each time the algorithm discovers the regulators for some gene *i*, element *i* will be removed from this set, as the algorithm proceeds. Here, we are just initializing the set."
      ]
    },
    {
      "cell_type": "code",
      "metadata": {
        "id": "ZfA3zTcP2dbi"
      },
      "source": [
        "genes_to_fit = set(range(0,N))"
      ],
      "execution_count": null,
      "outputs": []
    },
    {
      "cell_type": "markdown",
      "metadata": {
        "id": "vzUpuyN9xgM-"
      },
      "source": [
        "Now, let's implement REVEAL. It starts out quite easily: just loop over stages. Then there is an inner loop over genes in the set `genes_to_fit`. Within that loop, things get more... interesting. See the comments inline."
      ]
    },
    {
      "cell_type": "code",
      "metadata": {
        "id": "rTFM3g52t_in",
        "colab": {
          "base_uri": "https://localhost:8080/"
        },
        "outputId": "683da51a-4df5-4164-efa7-a32e5287d2e2"
      },
      "source": [
        "# for `stage` in `1...(max_stage + 1)`:\n",
        "for stage in range(1, max_stage + 1):\n",
        "    print(f\"starting stage {stage}..., wish me luck\")\n",
        "    # we will be removing items from `genes_to_fit` inside this loop, so iterate\n",
        "    # on a copy of the set (for all elements of `genes_to_fit.copy()` as `gene`):\n",
        "    for gene in genes_to_fit.copy():\n",
        "        print(f\"trying to find regulators for gene {gene}\")\n",
        "        # get the marginal entropy for gene `gene`; this is just a lookup\n",
        "        # from entry `gene` in the array `entropies_for_stages[0]`.\n",
        "        HG = entropies_for_stages[0][gene]\n",
        "\n",
        "        # construct a set `poss_regs` of possible regulators for `gene`, as the\n",
        "        # set difference of `all_genes` and a singleton set `{gene}`.\n",
        "        poss_regs = all_genes - {gene}\n",
        "\n",
        "        # create a list `poss_regs_combs` of all possible combinations of `stage`\n",
        "        # genes from the set `poss_regs`, using `itertools.combinations`.\n",
        "        poss_regs_combs = [list(x) for x in itertools.combinations(poss_regs, stage)]\n",
        "\n",
        "        # create a numpy array of length `len(poss_regs_combs)` called `HX`;\n",
        "        # initialize its values to `np.nan`\n",
        "        HX = np.empty(len(poss_regs_combs))\n",
        "        HX[:] = np.nan\n",
        "\n",
        "        # create a numpy array of length `len(poss_regs_combs)` called `HGX`;\n",
        "        # initialize its values to `np.nan`\n",
        "        HGX = np.empty(len(poss_regs_combs))\n",
        "        HGX[:] = np.nan\n",
        "\n",
        "        for i in range(0, len(poss_regs_combs)):\n",
        "            # get element `i` from `poss_regs_combs`, and assign it to `poss_regs_comb`\n",
        "            poss_regs_comb = poss_regs_combs[i]\n",
        "\n",
        "            # index into the numpy array `entropies_for_stages[stage - 1]`\n",
        "            # using tuple(sorted(poss_regs_comb)), and assign to `HXval`\n",
        "            HXval = entropies_for_stages[stage - 1][tuple(sorted(poss_regs_comb))]\n",
        "\n",
        "            # if HXval is `np.nan`, compute it from scratch by calling\n",
        "            # `entropy_multiple_vecs` on the result of indexing\n",
        "            # `gene_matrix_binarized` with `[poss_regs_comb, :]`:\n",
        "            if np.isnan(HXval):\n",
        "                HXval = entropy_multiple_vecs(gene_matrix_binarized[poss_regs_comb,:])\n",
        "\n",
        "            # store `HXval` in position `i` in `HX`\n",
        "            HX[i] = HXval\n",
        "\n",
        "            # make a sorted list `regs` from `[gene] + poss_regs_comb`\n",
        "            regs = sorted([gene] + poss_regs_comb)\n",
        "\n",
        "            # compute the joint entropy on `gene_matrix_binarized[regs, :]`\n",
        "            # and assign it to `HGXval`\n",
        "            HGXval = entropy_multiple_vecs(gene_matrix_binarized[regs, :])\n",
        "\n",
        "            # store `HGXval` at position `i` in `HGX`\n",
        "            HGX[i] = HGXval\n",
        "\n",
        "            # store `HGXval` at index `tuple(regs)` in the numpy array\n",
        "            # `entropies_for_stages[stage]`, if the array contains `np.nan`\n",
        "            # at that position currently:\n",
        "            if np.isnan(entropies_for_stages[stage][tuple(regs)]):\n",
        "                entropies_for_stages[stage][tuple(regs)] = HGXval\n",
        "\n",
        "        # compute `np.min` of the array `HGX - HX` and store as `min_value`\n",
        "        min_value = np.min(HGX - HX)\n",
        "\n",
        "        # if `HG - min_value` is greater than or equal to `ratio_thresh * HG`:\n",
        "        if HG - min_value >= ratio_thresh * HG:\n",
        "            # get the index of the minimum value of `HGX-HX` as `min_pos`\n",
        "            min_pos = np.argmin(HGX - HX)\n",
        "\n",
        "            # assign the value `poss_regs_combs[min_pos]` to `regulators[gene]`.\n",
        "            regulators[gene] = poss_regs_combs[min_pos]\n",
        "\n",
        "            print(f\"success! the regulators for gene {gene} are {regulators[gene]}\")\n",
        "\n",
        "            # remove `gene` from `genes_to_fit`\n",
        "            genes_to_fit.remove(gene)\n",
        "\n"
      ],
      "execution_count": null,
      "outputs": [
        {
          "output_type": "stream",
          "name": "stdout",
          "text": [
            "starting stage 1..., wish me luck\n",
            "trying to find regulators for gene 0\n",
            "success! the regulators for gene 0 are [1]\n",
            "trying to find regulators for gene 1\n",
            "success! the regulators for gene 1 are [0]\n",
            "trying to find regulators for gene 2\n",
            "success! the regulators for gene 2 are [8]\n",
            "trying to find regulators for gene 3\n",
            "trying to find regulators for gene 4\n",
            "trying to find regulators for gene 5\n",
            "trying to find regulators for gene 6\n",
            "success! the regulators for gene 6 are [7]\n",
            "trying to find regulators for gene 7\n",
            "success! the regulators for gene 7 are [6]\n",
            "trying to find regulators for gene 8\n",
            "success! the regulators for gene 8 are [2]\n",
            "trying to find regulators for gene 9\n",
            "trying to find regulators for gene 10\n",
            "success! the regulators for gene 10 are [11]\n",
            "trying to find regulators for gene 11\n",
            "success! the regulators for gene 11 are [10]\n",
            "trying to find regulators for gene 12\n",
            "starting stage 2..., wish me luck\n",
            "trying to find regulators for gene 3\n",
            "trying to find regulators for gene 4\n",
            "trying to find regulators for gene 5\n",
            "trying to find regulators for gene 9\n",
            "trying to find regulators for gene 12\n",
            "starting stage 3..., wish me luck\n",
            "trying to find regulators for gene 3\n",
            "trying to find regulators for gene 4\n",
            "trying to find regulators for gene 5\n",
            "trying to find regulators for gene 9\n",
            "success! the regulators for gene 9 are [7, 8, 10]\n",
            "trying to find regulators for gene 12\n",
            "success! the regulators for gene 12 are [1, 6, 9]\n"
          ]
        }
      ]
    },
    {
      "cell_type": "markdown",
      "metadata": {
        "id": "0ef8Z6-msFxe"
      },
      "source": [
        "Pretty-print (using `pprint.pprint`) `list(enumerate(regulators))` to see the results"
      ]
    },
    {
      "cell_type": "code",
      "metadata": {
        "id": "fuQFqKBCt_iu",
        "colab": {
          "base_uri": "https://localhost:8080/"
        },
        "outputId": "ae12ca59-f509-42c4-fc2c-9f31e7ba5600"
      },
      "source": [
        "pprint.pprint(list(enumerate(regulators)))"
      ],
      "execution_count": null,
      "outputs": [
        {
          "output_type": "stream",
          "name": "stdout",
          "text": [
            "[(0, [1]),\n",
            " (1, [0]),\n",
            " (2, [8]),\n",
            " (3, None),\n",
            " (4, None),\n",
            " (5, None),\n",
            " (6, [7]),\n",
            " (7, [6]),\n",
            " (8, [2]),\n",
            " (9, [7, 8, 10]),\n",
            " (10, [11]),\n",
            " (11, [10]),\n",
            " (12, [1, 6, 9])]\n"
          ]
        }
      ]
    }
  ]
}