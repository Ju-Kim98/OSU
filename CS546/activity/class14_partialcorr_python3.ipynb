{
  "nbformat": 4,
  "nbformat_minor": 0,
  "metadata": {
    "kernelspec": {
      "display_name": "Python 3",
      "language": "python",
      "name": "python3"
    },
    "language_info": {
      "codemirror_mode": {
        "name": "ipython",
        "version": 3
      },
      "file_extension": ".py",
      "mimetype": "text/x-python",
      "name": "python",
      "nbconvert_exporter": "python",
      "pygments_lexer": "ipython3",
      "version": "3.6.9"
    },
    "colab": {
      "provenance": []
    }
  },
  "cells": [
    {
      "cell_type": "markdown",
      "metadata": {
        "id": "--BA7UQ1Hj41"
      },
      "source": [
        "# CSX46 - Class Session 14 - Partial correlation network\n",
        "\n",
        "In this class session we will continue with analyzing the tumor gene expression dataset from the NIH human bladder cancer cohort (*M*=414 tumors), building on what we learned in Class Session 13 (Correlation Network).  In order to keep the analysis simple&ast;, in this notebook will restrict our analysis to a set of *N*=164 genes that are very highly expressed in bladder cancer. Using the 164&nbsp;✖️&nbsp;414 matrix of transcript abundance measurements, we will construct a network based on gene-gene partial correlation coefficients. We will also compare the distribution of partial correlation coefficients to the distribution of Pearson correlation coefficients. Do you think they will be different?  In what way would you expect them to be different?\n",
        "\n",
        "&ast; Here, \"simple\" means that the covariance matrix will be nonsingular, so that we can obtain the partial correlation matrix by inversion."
      ]
    },
    {
      "cell_type": "markdown",
      "metadata": {
        "id": "VF0ELnYDHj45"
      },
      "source": [
        "We'll import all of the python modules that we will need for this exercise"
      ]
    },
    {
      "cell_type": "code",
      "metadata": {
        "id": "9-n974HJHj45",
        "outputId": "f6a39e5d-a016-488b-aa03-0192b14421d1",
        "colab": {
          "base_uri": "https://localhost:8080/"
        }
      },
      "source": [
        "import pandas as pd  ## data file loading\n",
        "import numpy as np\n",
        "import matplotlib.pyplot as plt\n",
        "import sklearn.covariance, scipy.stats, math\n",
        "!pip install python-igraph\n",
        "import igraph  ## for network visualization and finding components"
      ],
      "execution_count": null,
      "outputs": [
        {
          "output_type": "stream",
          "name": "stdout",
          "text": [
            "Collecting python-igraph\n",
            "  Downloading python_igraph-0.11.4-py3-none-any.whl (9.1 kB)\n",
            "Collecting igraph==0.11.4 (from python-igraph)\n",
            "  Downloading igraph-0.11.4-cp39-abi3-manylinux_2_17_x86_64.manylinux2014_x86_64.whl (3.3 MB)\n",
            "\u001b[2K     \u001b[90m━━━━━━━━━━━━━━━━━━━━━━━━━━━━━━━━━━━━━━━━\u001b[0m \u001b[32m3.3/3.3 MB\u001b[0m \u001b[31m8.9 MB/s\u001b[0m eta \u001b[36m0:00:00\u001b[0m\n",
            "\u001b[?25hCollecting texttable>=1.6.2 (from igraph==0.11.4->python-igraph)\n",
            "  Downloading texttable-1.7.0-py2.py3-none-any.whl (10 kB)\n",
            "Installing collected packages: texttable, igraph, python-igraph\n",
            "Successfully installed igraph-0.11.4 python-igraph-0.11.4 texttable-1.7.0\n"
          ]
        }
      ]
    },
    {
      "cell_type": "markdown",
      "metadata": {
        "id": "31kw76FhIhY2"
      },
      "source": [
        "Download the file https://csx46.s3-us-west-2.amazonaws.com/bladder_cancer_genes_tcga.txt to the local file `bladder_cancer_genes_tcga.txt`"
      ]
    },
    {
      "cell_type": "code",
      "metadata": {
        "id": "7sJOn5k5IiXG",
        "outputId": "89d2f2ce-bbe4-410d-c24e-175f238a28bd",
        "colab": {
          "base_uri": "https://localhost:8080/"
        }
      },
      "source": [
        "!curl https://csx46.s3-us-west-2.amazonaws.com/bladder_cancer_genes_tcga.txt > bladder_cancer_genes_tcga.txt"
      ],
      "execution_count": null,
      "outputs": [
        {
          "output_type": "stream",
          "name": "stdout",
          "text": [
            "  % Total    % Received % Xferd  Average Speed   Time    Time     Time  Current\n",
            "                                 Dload  Upload   Total   Spent    Left  Speed\n",
            "100 29.9M  100 29.9M    0     0  21.2M      0  0:00:01  0:00:01 --:--:-- 21.2M\n"
          ]
        }
      ]
    },
    {
      "cell_type": "markdown",
      "metadata": {
        "id": "ZwGhK_wuHj5F"
      },
      "source": [
        "Read the tab-deliminted text file of gene expression measurements (rows correspond to genes, columns correspond to bladder tumor samples). (use Pandas, `pandas.read.csv`, and `as_matrix`). As always, sanity check that the file that you loaded has the expected dimensions (4,473 x 414) using `shape`."
      ]
    },
    {
      "cell_type": "code",
      "metadata": {
        "id": "4_Zg7kpyHj5H"
      },
      "source": [
        "gene_matrix_for_network_df = pd.read_csv(\"bladder_cancer_genes_tcga.txt\", sep=\"\\t\")"
      ],
      "execution_count": null,
      "outputs": []
    },
    {
      "cell_type": "markdown",
      "metadata": {
        "id": "2KDdiIdVHj5N"
      },
      "source": [
        "Convert your data frame to a numpy matrix, using the `pandas.DataFrame.values` attribute."
      ]
    },
    {
      "cell_type": "code",
      "metadata": {
        "id": "OE7FO1r-Hj5O"
      },
      "source": [
        "gene_matrix_for_network = gene_matrix_for_network_df.values"
      ],
      "execution_count": null,
      "outputs": []
    },
    {
      "cell_type": "markdown",
      "metadata": {
        "id": "Bhnn8bohHj5U"
      },
      "source": [
        "As always, sanity check that the file that you loaded has the expected dimensions (4,473 x 414) using `shape`."
      ]
    },
    {
      "cell_type": "code",
      "metadata": {
        "id": "PyU1IqgRHj5U",
        "outputId": "a52fda67-6117-42ed-9718-de3adb7a4882",
        "colab": {
          "base_uri": "https://localhost:8080/"
        }
      },
      "source": [
        "print(gene_matrix_for_network.shape)"
      ],
      "execution_count": null,
      "outputs": [
        {
          "output_type": "stream",
          "name": "stdout",
          "text": [
            "(4473, 414)\n"
          ]
        }
      ]
    },
    {
      "cell_type": "markdown",
      "metadata": {
        "id": "es9Sox83Hj5a"
      },
      "source": [
        "Compute the median expression level for each row of your matrix"
      ]
    },
    {
      "cell_type": "code",
      "metadata": {
        "id": "O4SjGVGAHj5b"
      },
      "source": [
        "genes_median_expression = np.median(gene_matrix_for_network, axis=1)"
      ],
      "execution_count": null,
      "outputs": []
    },
    {
      "cell_type": "markdown",
      "metadata": {
        "id": "XBgrUe8tHj5f"
      },
      "source": [
        "Filter the matrix to include only rows for which the gene's median expression is > 12; matrix should now be 164 x 414; this will enable us to easily compute the partial correlation matrix using the inverse of the covariance matrix. Print the size of the filtered matrix, as a sanity check."
      ]
    },
    {
      "cell_type": "code",
      "metadata": {
        "id": "O2WSujdMHj5g"
      },
      "source": [
        "gene_matrix_np = np.array(gene_matrix_for_network)\n",
        "genes_keep = np.where(genes_median_expression > 12)\n",
        "matrix_filt = gene_matrix_np[genes_keep]\n",
        "N = matrix_filt.shape[0]"
      ],
      "execution_count": null,
      "outputs": []
    },
    {
      "cell_type": "markdown",
      "metadata": {
        "id": "ffTAIq6wHj5j"
      },
      "source": [
        "Print the shape of your filtered matrix, as a sanity check.  It should be 164x414 (164 genes by 414 tumor samples)."
      ]
    },
    {
      "cell_type": "code",
      "metadata": {
        "id": "eYWqHhqsHj5k",
        "outputId": "49ccc19d-7f04-40a5-dc03-2937835203c9",
        "colab": {
          "base_uri": "https://localhost:8080/"
        }
      },
      "source": [
        "matrix_filt.shape"
      ],
      "execution_count": null,
      "outputs": [
        {
          "output_type": "execute_result",
          "data": {
            "text/plain": [
              "(164, 414)"
            ]
          },
          "metadata": {},
          "execution_count": 8
        }
      ]
    },
    {
      "cell_type": "markdown",
      "metadata": {
        "id": "fngtDVUNHj5n"
      },
      "source": [
        "Compute the 164 x 164 matrix of gene-gene Pearson correlation coefficients, using `numpy.corrcoef` (this function treats each *row* as a random variable, so you don't have to do any transposing of the matrix, unlike the situation in R)."
      ]
    },
    {
      "cell_type": "code",
      "metadata": {
        "id": "-vgo7mH7Hj5p"
      },
      "source": [
        "matrix_cor = np.corrcoef(matrix_filt)"
      ],
      "execution_count": null,
      "outputs": []
    },
    {
      "cell_type": "markdown",
      "metadata": {
        "id": "yL5HsVQgHj5s"
      },
      "source": [
        "Compute the sample covariance matrix using `sklearn.covariance.empirical_covariance` (from the `sklearn.covariance` package, . Make sure you take the transpose of the `matrix_filt` matrix before passing it to the `empirical_covariance` function."
      ]
    },
    {
      "cell_type": "code",
      "metadata": {
        "id": "46s90R9fHj5s"
      },
      "source": [
        "matrix_cov = sklearn.covariance.empirical_covariance(np.matrix.transpose(matrix_filt))"
      ],
      "execution_count": null,
      "outputs": []
    },
    {
      "cell_type": "markdown",
      "metadata": {
        "id": "K4NzCD3mPkRY"
      },
      "source": [
        "Check if `matrix_cov` is nonsingular by using `numpy.linalg.matrix_rank`. (Note: if we could do numerically exact arithmetic on the matrix, we could instead compute the determinant and check if it is nonzero, but when we are using floating-point arithmetic, in practice we wind up with a super-small number for the determinant, and it is difficult to assess whether that small number is meaningfully different from zero). Is the sample covariance matrix full rank?"
      ]
    },
    {
      "cell_type": "code",
      "metadata": {
        "id": "c6FNeXiMPrAX",
        "outputId": "4541d680-1cdd-4fa4-fa90-4731568abbb0",
        "colab": {
          "base_uri": "https://localhost:8080/"
        }
      },
      "source": [
        "np.linalg.matrix_rank(matrix_cov)"
      ],
      "execution_count": null,
      "outputs": [
        {
          "output_type": "execute_result",
          "data": {
            "text/plain": [
              "164"
            ]
          },
          "metadata": {},
          "execution_count": 11
        }
      ]
    },
    {
      "cell_type": "markdown",
      "metadata": {
        "id": "9y4LFtfYHj5w"
      },
      "source": [
        "Use `numpy.linalg.inv` to get the sample precision matrix as the multiplicative inverse of the sample covariance matrix. (NOTE: we can only do this using `numpy.linalg.inv` in cases where the covariance matrix is nonsingular, which we arranged by selecting fewer genes than there are tumor samples in the dataset from which the sample covariance matrix was computed)."
      ]
    },
    {
      "cell_type": "code",
      "metadata": {
        "id": "D6ALxotSHj5x"
      },
      "source": [
        "matrix_cov_inv = np.linalg.inv(matrix_cov)"
      ],
      "execution_count": null,
      "outputs": []
    },
    {
      "cell_type": "markdown",
      "metadata": {
        "id": "jjDIA1E-Hj50"
      },
      "source": [
        "Recall from today's lecture that the full partial correlation matrix is the negative of the sample precision matrix, with each (i,j) entry rescaled by the square root of the sample variance of variable i and the sample variance of variable j. Use a double for loop to \"scale\" the negative of the precision matrix, which will give you the partial correlation. Print the dimensions of the matrix you get back, as a sanity check."
      ]
    },
    {
      "cell_type": "code",
      "metadata": {
        "id": "if86Cv_bHj50",
        "outputId": "4d2841cb-4fb8-4de6-e696-08c8dfb1f6d9",
        "colab": {
          "base_uri": "https://localhost:8080/"
        }
      },
      "source": [
        "matrix_pcor = -matrix_cov_inv\n",
        "for i in range(N):\n",
        "    for j in range(N):\n",
        "        matrix_pcor[i,j] /= np.sqrt(matrix_cov_inv[i,i]*matrix_cov_inv[j,j])\n",
        "print(matrix_pcor.shape)"
      ],
      "execution_count": null,
      "outputs": [
        {
          "output_type": "stream",
          "name": "stdout",
          "text": [
            "(164, 164)\n"
          ]
        }
      ]
    },
    {
      "cell_type": "markdown",
      "metadata": {
        "id": "X2AKKya1Hj55"
      },
      "source": [
        "Get the correlation coefficients and the partial correlation coefficients of the lower triangle of the matrix (not including the diagonal), as two vectors `cor_values` and `pcor_values`; your resulting vectors should each have length 13,366.  You will want to use `numpy.tri` and `numpy.where` (see class session 13 exercise)"
      ]
    },
    {
      "cell_type": "code",
      "metadata": {
        "id": "aRc38r9tHj56",
        "outputId": "37a65307-01d3-4168-faad-6f6bc5b9081e",
        "colab": {
          "base_uri": "https://localhost:8080/"
        }
      },
      "source": [
        "cor_values = matrix_cor[np.where(np.tri(*matrix_cor.shape, k=-1))]\n",
        "pcor_values = matrix_pcor[np.where(np.tri(*matrix_pcor.shape, k=-1))]\n",
        "print(len(cor_values))\n",
        "print(len(pcor_values))"
      ],
      "execution_count": null,
      "outputs": [
        {
          "output_type": "stream",
          "name": "stdout",
          "text": [
            "13366\n",
            "13366\n"
          ]
        }
      ]
    },
    {
      "cell_type": "markdown",
      "metadata": {
        "id": "Xhb1bDN6Hj59"
      },
      "source": [
        "plot the histograms of the correlation coefficients (upper triangle only) and the partial correlation coefficients, on the same plot using alpha blending (refer to class session 10 exercise)"
      ]
    },
    {
      "cell_type": "code",
      "metadata": {
        "id": "LwTIBLh2Hj5-",
        "outputId": "0470812e-4a98-40ae-b818-b44b90274c9f",
        "colab": {
          "base_uri": "https://localhost:8080/",
          "height": 449
        }
      },
      "source": [
        "plt.hist(cor_values, density=True, alpha=0.5, label=\"cor\")\n",
        "plt.hist(pcor_values, density=True, alpha=0.5, label=\"pcor\")\n",
        "plt.legend(loc=\"upper left\")\n",
        "plt.xlabel(\"R\")\n",
        "plt.ylabel(\"frequency\")\n",
        "plt.show()"
      ],
      "execution_count": null,
      "outputs": [
        {
          "output_type": "display_data",
          "data": {
            "text/plain": [
              "<Figure size 640x480 with 1 Axes>"
            ],
            "image/png": "[encoded data removed]"
          },
          "metadata": {}
        }
      ]
    },
    {
      "cell_type": "markdown",
      "metadata": {
        "id": "d2hHvDujHj6B"
      },
      "source": [
        "Fisher transform the partial correlation values, using `numpy.log`:"
      ]
    },
    {
      "cell_type": "code",
      "metadata": {
        "id": "gMYD_zkvHj6C"
      },
      "source": [
        "z_scores = 0.5*np.log((1+pcor_values)/\n",
        "                      (1-pcor_values))"
      ],
      "execution_count": null,
      "outputs": []
    },
    {
      "cell_type": "markdown",
      "metadata": {
        "id": "stK3xnslHj6E"
      },
      "source": [
        "Compute a *p*-value for each gene pair (upper triangle only), using the fact that sqrt(*M*-*N*-5) times the fisher *Z* sore should be approximately univariate normal (with zero mean) under the null hypothesis that a given gene pair's measurements (conditioned on the measurements for all the other 162 genes) are independent. You will want to use `scipy.stats.norm.cdf`, `numpy.abs`, and `math.sqrt` function (see class session 13 exercise)."
      ]
    },
    {
      "cell_type": "code",
      "metadata": {
        "id": "ks0cdhxvHj6F"
      },
      "source": [
        "M = gene_matrix_for_network_df.shape[1]\n",
        "\n",
        "P_values = 2.0*scipy.stats.norm.cdf(-np.abs(z_scores)*(math.sqrt((M-N-5))))"
      ],
      "execution_count": null,
      "outputs": []
    },
    {
      "cell_type": "markdown",
      "metadata": {
        "id": "m6cO6rVmHj6I"
      },
      "source": [
        "How many gene pairs have a *P* value-less than 0.01? (use `numpy.where` and `len`)"
      ]
    },
    {
      "cell_type": "code",
      "metadata": {
        "id": "Ohq5iTSpHj6I",
        "outputId": "26ab6f76-1023-47ac-e466-f512ace78cf1",
        "colab": {
          "base_uri": "https://localhost:8080/"
        }
      },
      "source": [
        "len(np.where(P_values < 0.01)[0])"
      ],
      "execution_count": null,
      "outputs": [
        {
          "output_type": "execute_result",
          "data": {
            "text/plain": [
              "706"
            ]
          },
          "metadata": {},
          "execution_count": 18
        }
      ]
    },
    {
      "cell_type": "markdown",
      "metadata": {
        "id": "4shHYEbwHj6L"
      },
      "source": [
        "What are the sizes of the components in the undirected graph whose edges have *P*&nbsp;<&nbsp;0.05 in the statistical test that you did?  You will need to use `zip`, `tolist`, `list`, and `igraph.Graph.TupleList` (see class session 13 exercise). Print the usual graph summary."
      ]
    },
    {
      "cell_type": "code",
      "metadata": {
        "id": "gmSL_W2JHj6L",
        "outputId": "35146bd3-81b6-48a6-d9b4-030d783f2659",
        "colab": {
          "base_uri": "https://localhost:8080/",
          "height": 35
        }
      },
      "source": [
        "inds_tri = np.where(np.tri(*matrix_pcor.shape, k=-1))\n",
        "inds_sig = np.where(P_values < 0.01)\n",
        "graph_edge_list = list(zip(inds_tri[1][inds_sig].tolist(),\n",
        "                           inds_tri[0][inds_sig].tolist()))\n",
        "final_network = igraph.Graph.TupleList(graph_edge_list, directed=False)\n",
        "final_network.summary()"
      ],
      "execution_count": null,
      "outputs": [
        {
          "output_type": "execute_result",
          "data": {
            "text/plain": [
              "'IGRAPH UN-- 164 706 -- \\n+ attr: name (v)'"
            ],
            "application/vnd.google.colaboratory.intrinsic+json": {
              "type": "string"
            }
          },
          "metadata": {},
          "execution_count": 19
        }
      ]
    },
    {
      "cell_type": "markdown",
      "metadata": {
        "id": "ypVYj5ZsHj6P"
      },
      "source": [
        "Plot the graph degree distribution on log-log scale (see HW 1 and Notebook 3)."
      ]
    },
    {
      "cell_type": "code",
      "metadata": {
        "id": "v3RzSueuHj6P",
        "outputId": "03a8ae1b-5116-4e2d-9683-c3a7b192e4ad",
        "colab": {
          "base_uri": "https://localhost:8080/",
          "height": 454
        }
      },
      "source": [
        "degree_dist = final_network.degree_distribution()\n",
        "xs, ys = zip(*[(left, count) for left, _, count in degree_dist.bins()])\n",
        "plt.loglog(xs, ys, marker=\"o\")\n",
        "plt.xlabel(\"k\")\n",
        "plt.ylabel(\"N(k)\")\n",
        "plt.show()"
      ],
      "execution_count": null,
      "outputs": [
        {
          "output_type": "display_data",
          "data": {
            "text/plain": [
              "<Figure size 640x480 with 1 Axes>"
            ],
            "image/png": "[encoded data removed]"
          },
          "metadata": {}
        }
      ]
    }
  ]
}