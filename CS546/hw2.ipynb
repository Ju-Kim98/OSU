{
  "nbformat": 4,
  "nbformat_minor": 0,
  "metadata": {
    "kernelspec": {
      "display_name": "Python 3",
      "language": "python",
      "name": "python3"
    },
    "language_info": {
      "codemirror_mode": {
        "name": "ipython",
        "version": 3
      },
      "file_extension": ".py",
      "mimetype": "text/x-python",
      "name": "python",
      "nbconvert_exporter": "python",
      "pygments_lexer": "ipython3",
      "version": "3.7.3"
    },
    "colab": {
      "provenance": []
    }
  },
  "cells": [
    {
      "cell_type": "markdown",
      "metadata": {
        "id": "_3PRcNfDrKpX"
      },
      "source": [
        "# CSX46 Homework Assignment 2\n",
        "\n",
        "### JuHyun Kim\n",
        "\n"
      ]
    },
    {
      "cell_type": "markdown",
      "metadata": {
        "id": "hMTf9-GAsrze"
      },
      "source": [
        "In this homework assignment you will be analyzing a gene regulatory network for the bacterial model species *E.&nbsp;coli*."
      ]
    },
    {
      "cell_type": "markdown",
      "metadata": {
        "id": "Q6JYL1qvrcNg"
      },
      "source": [
        "\n",
        "Install cairo and igraph; import cairo, igraph, pandas, matplotlib, numpy, random, and itertools"
      ]
    },
    {
      "cell_type": "code",
      "metadata": {
        "id": "kTyvAckkra3C",
        "outputId": "ca077efb-f28d-4542-b431-c880ce0db50d",
        "colab": {
          "base_uri": "https://localhost:8080/"
        }
      },
      "source": [
        "!apt-get install libcairo2-dev libjpeg-dev libgif-dev\n",
        "!pip install pycairo\n",
        "import cairo\n",
        "!pip install python-igraph\n",
        "import igraph\n",
        "import pandas as pd\n",
        "import matplotlib\n",
        "import numpy as np\n",
        "import random, itertools"
      ],
      "execution_count": 2,
      "outputs": [
        {
          "output_type": "stream",
          "name": "stdout",
          "text": [
            "Reading package lists... Done\n",
            "Building dependency tree... Done\n",
            "Reading state information... Done\n",
            "libgif-dev is already the newest version (5.1.9-2build2).\n",
            "libgif-dev set to manually installed.\n",
            "libjpeg-dev is already the newest version (8c-2ubuntu10).\n",
            "libjpeg-dev set to manually installed.\n",
            "The following additional packages will be installed:\n",
            "  libblkid-dev libcairo-script-interpreter2 libffi-dev libglib2.0-dev libglib2.0-dev-bin libice-dev\n",
            "  liblzo2-2 libmount-dev libpixman-1-dev libselinux1-dev libsepol-dev libsm-dev libxcb-render0-dev\n",
            "  libxcb-shm0-dev\n",
            "Suggested packages:\n",
            "  libcairo2-doc libgirepository1.0-dev libglib2.0-doc libgdk-pixbuf2.0-bin | libgdk-pixbuf2.0-dev\n",
            "  libxml2-utils libice-doc libsm-doc\n",
            "The following NEW packages will be installed:\n",
            "  libblkid-dev libcairo-script-interpreter2 libcairo2-dev libffi-dev libglib2.0-dev\n",
            "  libglib2.0-dev-bin libice-dev liblzo2-2 libmount-dev libpixman-1-dev libselinux1-dev libsepol-dev\n",
            "  libsm-dev libxcb-render0-dev libxcb-shm0-dev\n",
            "0 upgraded, 15 newly installed, 0 to remove and 35 not upgraded.\n",
            "Need to get 3,839 kB of archives.\n",
            "After this operation, 19.8 MB of additional disk space will be used.\n",
            "Get:1 http://archive.ubuntu.com/ubuntu jammy/main amd64 liblzo2-2 amd64 2.10-2build3 [53.7 kB]\n",
            "Get:2 http://archive.ubuntu.com/ubuntu jammy/main amd64 libcairo-script-interpreter2 amd64 1.16.0-5ubuntu2 [62.0 kB]\n",
            "Get:3 http://archive.ubuntu.com/ubuntu jammy/main amd64 libice-dev amd64 2:1.0.10-1build2 [51.4 kB]\n",
            "Get:4 http://archive.ubuntu.com/ubuntu jammy/main amd64 libsm-dev amd64 2:1.2.3-1build2 [18.1 kB]\n",
            "Get:5 http://archive.ubuntu.com/ubuntu jammy-updates/main amd64 libpixman-1-dev amd64 0.40.0-1ubuntu0.22.04.1 [280 kB]\n",
            "Get:6 http://archive.ubuntu.com/ubuntu jammy/main amd64 libxcb-render0-dev amd64 1.14-3ubuntu3 [19.6 kB]\n",
            "Get:7 http://archive.ubuntu.com/ubuntu jammy/main amd64 libxcb-shm0-dev amd64 1.14-3ubuntu3 [6,848 B]\n",
            "Get:8 http://archive.ubuntu.com/ubuntu jammy/main amd64 libffi-dev amd64 3.4.2-4 [63.7 kB]\n",
            "Get:9 http://archive.ubuntu.com/ubuntu jammy-updates/main amd64 libglib2.0-dev-bin amd64 2.72.4-0ubuntu2.2 [117 kB]\n",
            "Get:10 http://archive.ubuntu.com/ubuntu jammy/main amd64 libblkid-dev amd64 2.37.2-4ubuntu3 [185 kB]\n",
            "Get:11 http://archive.ubuntu.com/ubuntu jammy/main amd64 libsepol-dev amd64 3.3-1build1 [378 kB]\n",
            "Get:12 http://archive.ubuntu.com/ubuntu jammy/main amd64 libselinux1-dev amd64 3.3-1build2 [158 kB]\n",
            "Get:13 http://archive.ubuntu.com/ubuntu jammy/main amd64 libmount-dev amd64 2.37.2-4ubuntu3 [14.5 kB]\n",
            "Get:14 http://archive.ubuntu.com/ubuntu jammy-updates/main amd64 libglib2.0-dev amd64 2.72.4-0ubuntu2.2 [1,739 kB]\n",
            "Get:15 http://archive.ubuntu.com/ubuntu jammy/main amd64 libcairo2-dev amd64 1.16.0-5ubuntu2 [692 kB]\n",
            "Fetched 3,839 kB in 3s (1,220 kB/s)\n",
            "Selecting previously unselected package liblzo2-2:amd64.\n",
            "(Reading database ... 121749 files and directories currently installed.)\n",
            "Preparing to unpack .../00-liblzo2-2_2.10-2build3_amd64.deb ...\n",
            "Unpacking liblzo2-2:amd64 (2.10-2build3) ...\n",
            "Selecting previously unselected package libcairo-script-interpreter2:amd64.\n",
            "Preparing to unpack .../01-libcairo-script-interpreter2_1.16.0-5ubuntu2_amd64.deb ...\n",
            "Unpacking libcairo-script-interpreter2:amd64 (1.16.0-5ubuntu2) ...\n",
            "Selecting previously unselected package libice-dev:amd64.\n",
            "Preparing to unpack .../02-libice-dev_2%3a1.0.10-1build2_amd64.deb ...\n",
            "Unpacking libice-dev:amd64 (2:1.0.10-1build2) ...\n",
            "Selecting previously unselected package libsm-dev:amd64.\n",
            "Preparing to unpack .../03-libsm-dev_2%3a1.2.3-1build2_amd64.deb ...\n",
            "Unpacking libsm-dev:amd64 (2:1.2.3-1build2) ...\n",
            "Selecting previously unselected package libpixman-1-dev:amd64.\n",
            "Preparing to unpack .../04-libpixman-1-dev_0.40.0-1ubuntu0.22.04.1_amd64.deb ...\n",
            "Unpacking libpixman-1-dev:amd64 (0.40.0-1ubuntu0.22.04.1) ...\n",
            "Selecting previously unselected package libxcb-render0-dev:amd64.\n",
            "Preparing to unpack .../05-libxcb-render0-dev_1.14-3ubuntu3_amd64.deb ...\n",
            "Unpacking libxcb-render0-dev:amd64 (1.14-3ubuntu3) ...\n",
            "Selecting previously unselected package libxcb-shm0-dev:amd64.\n",
            "Preparing to unpack .../06-libxcb-shm0-dev_1.14-3ubuntu3_amd64.deb ...\n",
            "Unpacking libxcb-shm0-dev:amd64 (1.14-3ubuntu3) ...\n",
            "Selecting previously unselected package libffi-dev:amd64.\n",
            "Preparing to unpack .../07-libffi-dev_3.4.2-4_amd64.deb ...\n",
            "Unpacking libffi-dev:amd64 (3.4.2-4) ...\n",
            "Selecting previously unselected package libglib2.0-dev-bin.\n",
            "Preparing to unpack .../08-libglib2.0-dev-bin_2.72.4-0ubuntu2.2_amd64.deb ...\n",
            "Unpacking libglib2.0-dev-bin (2.72.4-0ubuntu2.2) ...\n",
            "Selecting previously unselected package libblkid-dev:amd64.\n",
            "Preparing to unpack .../09-libblkid-dev_2.37.2-4ubuntu3_amd64.deb ...\n",
            "Unpacking libblkid-dev:amd64 (2.37.2-4ubuntu3) ...\n",
            "Selecting previously unselected package libsepol-dev:amd64.\n",
            "Preparing to unpack .../10-libsepol-dev_3.3-1build1_amd64.deb ...\n",
            "Unpacking libsepol-dev:amd64 (3.3-1build1) ...\n",
            "Selecting previously unselected package libselinux1-dev:amd64.\n",
            "Preparing to unpack .../11-libselinux1-dev_3.3-1build2_amd64.deb ...\n",
            "Unpacking libselinux1-dev:amd64 (3.3-1build2) ...\n",
            "Selecting previously unselected package libmount-dev:amd64.\n",
            "Preparing to unpack .../12-libmount-dev_2.37.2-4ubuntu3_amd64.deb ...\n",
            "Unpacking libmount-dev:amd64 (2.37.2-4ubuntu3) ...\n",
            "Selecting previously unselected package libglib2.0-dev:amd64.\n",
            "Preparing to unpack .../13-libglib2.0-dev_2.72.4-0ubuntu2.2_amd64.deb ...\n",
            "Unpacking libglib2.0-dev:amd64 (2.72.4-0ubuntu2.2) ...\n",
            "Selecting previously unselected package libcairo2-dev:amd64.\n",
            "Preparing to unpack .../14-libcairo2-dev_1.16.0-5ubuntu2_amd64.deb ...\n",
            "Unpacking libcairo2-dev:amd64 (1.16.0-5ubuntu2) ...\n",
            "Setting up libglib2.0-dev-bin (2.72.4-0ubuntu2.2) ...\n",
            "Setting up libblkid-dev:amd64 (2.37.2-4ubuntu3) ...\n",
            "Setting up libpixman-1-dev:amd64 (0.40.0-1ubuntu0.22.04.1) ...\n",
            "Setting up libice-dev:amd64 (2:1.0.10-1build2) ...\n",
            "Setting up libsm-dev:amd64 (2:1.2.3-1build2) ...\n",
            "Setting up liblzo2-2:amd64 (2.10-2build3) ...\n",
            "Setting up libffi-dev:amd64 (3.4.2-4) ...\n",
            "Setting up libxcb-shm0-dev:amd64 (1.14-3ubuntu3) ...\n",
            "Setting up libsepol-dev:amd64 (3.3-1build1) ...\n",
            "Setting up libxcb-render0-dev:amd64 (1.14-3ubuntu3) ...\n",
            "Setting up libcairo-script-interpreter2:amd64 (1.16.0-5ubuntu2) ...\n",
            "Setting up libselinux1-dev:amd64 (3.3-1build2) ...\n",
            "Setting up libmount-dev:amd64 (2.37.2-4ubuntu3) ...\n",
            "Setting up libglib2.0-dev:amd64 (2.72.4-0ubuntu2.2) ...\n",
            "Processing triggers for libglib2.0-0:amd64 (2.72.4-0ubuntu2.2) ...\n",
            "Processing triggers for libc-bin (2.35-0ubuntu3.4) ...\n",
            "/sbin/ldconfig.real: /usr/local/lib/libtbbmalloc.so.2 is not a symbolic link\n",
            "\n",
            "/sbin/ldconfig.real: /usr/local/lib/libtbbmalloc_proxy.so.2 is not a symbolic link\n",
            "\n",
            "/sbin/ldconfig.real: /usr/local/lib/libtbb.so.12 is not a symbolic link\n",
            "\n",
            "/sbin/ldconfig.real: /usr/local/lib/libtbbbind.so.3 is not a symbolic link\n",
            "\n",
            "/sbin/ldconfig.real: /usr/local/lib/libtbbbind_2_5.so.3 is not a symbolic link\n",
            "\n",
            "/sbin/ldconfig.real: /usr/local/lib/libtbbbind_2_0.so.3 is not a symbolic link\n",
            "\n",
            "Processing triggers for man-db (2.10.2-1) ...\n",
            "Setting up libcairo2-dev:amd64 (1.16.0-5ubuntu2) ...\n",
            "Collecting pycairo\n",
            "  Downloading pycairo-1.26.0.tar.gz (346 kB)\n",
            "\u001b[2K     \u001b[90m━━━━━━━━━━━━━━━━━━━━━━━━━━━━━━━━━━━━━━━━\u001b[0m \u001b[32m346.9/346.9 kB\u001b[0m \u001b[31m9.0 MB/s\u001b[0m eta \u001b[36m0:00:00\u001b[0m\n",
            "\u001b[?25h  Installing build dependencies ... \u001b[?25l\u001b[?25hdone\n",
            "  Getting requirements to build wheel ... \u001b[?25l\u001b[?25hdone\n",
            "  Installing backend dependencies ... \u001b[?25l\u001b[?25hdone\n",
            "  Preparing metadata (pyproject.toml) ... \u001b[?25l\u001b[?25hdone\n",
            "Building wheels for collected packages: pycairo\n",
            "  Building wheel for pycairo (pyproject.toml) ... \u001b[?25l\u001b[?25hdone\n",
            "  Created wheel for pycairo: filename=pycairo-1.26.0-cp310-cp310-linux_x86_64.whl size=320923 sha256=7912addf376be987b1b9a095a16112e8d986b8ac79dc259acb68f635977943c4\n",
            "  Stored in directory: /root/.cache/pip/wheels/e3/46/83/453eb7915b034ce1a9fee5a6023def2030633f6a73dc6d2de8\n",
            "Successfully built pycairo\n",
            "Installing collected packages: pycairo\n",
            "Successfully installed pycairo-1.26.0\n",
            "Collecting python-igraph\n",
            "  Downloading python_igraph-0.11.4-py3-none-any.whl (9.1 kB)\n",
            "Collecting igraph==0.11.4 (from python-igraph)\n",
            "  Downloading igraph-0.11.4-cp39-abi3-manylinux_2_17_x86_64.manylinux2014_x86_64.whl (3.3 MB)\n",
            "\u001b[2K     \u001b[90m━━━━━━━━━━━━━━━━━━━━━━━━━━━━━━━━━━━━━━━━\u001b[0m \u001b[32m3.3/3.3 MB\u001b[0m \u001b[31m43.5 MB/s\u001b[0m eta \u001b[36m0:00:00\u001b[0m\n",
            "\u001b[?25hCollecting texttable>=1.6.2 (from igraph==0.11.4->python-igraph)\n",
            "  Downloading texttable-1.7.0-py2.py3-none-any.whl (10 kB)\n",
            "Installing collected packages: texttable, igraph, python-igraph\n",
            "Successfully installed igraph-0.11.4 python-igraph-0.11.4 texttable-1.7.0\n"
          ]
        }
      ]
    },
    {
      "cell_type": "markdown",
      "metadata": {
        "id": "5Jp5cpGZr2qH"
      },
      "source": [
        "You will also need to download the file `ecolitfnet.txt` from the CSX46 S3 bucket, from the URL [https://csx46.s3-us-west-2.amazonaws.com/ecolitfnet.txt](https://csx46.s3-us-west-2.amazonaws.com/ecolitfnet.txt). In case you want to check that you have a complete and uncorrupted version of the file, here is it's MD5 checksum: 89d3688fca40e34cff23f4c2b703e427."
      ]
    },
    {
      "cell_type": "code",
      "metadata": {
        "id": "N9x5kJOOsIXP",
        "outputId": "e32cb0ed-f24e-4d77-ad84-88060bee64df",
        "colab": {
          "base_uri": "https://localhost:8080/"
        }
      },
      "source": [
        "!wget https://csx46.s3-us-west-2.amazonaws.com/ecolitfnet.txt -O ecolitfnet.txt"
      ],
      "execution_count": 5,
      "outputs": [
        {
          "output_type": "stream",
          "name": "stdout",
          "text": [
            "--2024-02-23 21:06:52--  https://csx46.s3-us-west-2.amazonaws.com/ecolitfnet.txt\n",
            "Resolving csx46.s3-us-west-2.amazonaws.com (csx46.s3-us-west-2.amazonaws.com)... 52.92.225.210, 52.218.152.121, 3.5.80.161, ...\n",
            "Connecting to csx46.s3-us-west-2.amazonaws.com (csx46.s3-us-west-2.amazonaws.com)|52.92.225.210|:443... connected.\n",
            "HTTP request sent, awaiting response... 200 OK\n",
            "Length: 2381 (2.3K) [text/plain]\n",
            "Saving to: ‘ecolitfnet.txt’\n",
            "\n",
            "\recolitfnet.txt        0%[                    ]       0  --.-KB/s               \recolitfnet.txt      100%[===================>]   2.33K  --.-KB/s    in 0s      \n",
            "\n",
            "2024-02-23 21:06:52 (33.1 MB/s) - ‘ecolitfnet.txt’ saved [2381/2381]\n",
            "\n"
          ]
        }
      ]
    },
    {
      "cell_type": "markdown",
      "metadata": {
        "id": "8Q3-SatVHu7C"
      },
      "source": [
        "For consistency of results, go ahead and set the random number seed to 1337"
      ]
    },
    {
      "cell_type": "code",
      "metadata": {
        "id": "8V7vlosCHyBN"
      },
      "source": [
        "random.seed(1337)"
      ],
      "execution_count": 6,
      "outputs": []
    },
    {
      "cell_type": "markdown",
      "metadata": {
        "id": "5TLhKv8trKpa"
      },
      "source": [
        "Load in the *E.&nbsp;coli* operon-operon network (gene regulatory network) data in edge-list format; display the first six lines of data as a sanity check. Use `pandas.read_csv` and `pandas.DataFrame.head`."
      ]
    },
    {
      "cell_type": "code",
      "metadata": {
        "id": "noIejf8BrKpb",
        "outputId": "b4a8ab56-816b-48d6-c353-18300f270d15",
        "colab": {
          "base_uri": "https://localhost:8080/",
          "height": 237
        }
      },
      "source": [
        "edge_list_df = pd.read_csv(\"ecolitfnet.txt\", sep=\"\\t\", names=[\"source\",\"target\"])\n",
        "edge_list_df.shape\n",
        "edge_list_df.head(n=6)"
      ],
      "execution_count": 7,
      "outputs": [
        {
          "output_type": "execute_result",
          "data": {
            "text/plain": [
              "  source target\n",
              "0    ADA   AIDB\n",
              "1   ADIY   GADX\n",
              "2   ALLR   ALLS\n",
              "3   ARCA   BETI\n",
              "4   ARCA   DPIA\n",
              "5   ARCA    FNR"
            ],
            "text/html": [
              "\n",
              "  <div id=\"df-8014cd1d-643f-414a-a478-feef91612a7f\" class=\"colab-df-container\">\n",
              "    <div>\n",
              "<style scoped>\n",
              "    .dataframe tbody tr th:only-of-type {\n",
              "        vertical-align: middle;\n",
              "    }\n",
              "\n",
              "    .dataframe tbody tr th {\n",
              "        vertical-align: top;\n",
              "    }\n",
              "\n",
              "    .dataframe thead th {\n",
              "        text-align: right;\n",
              "    }\n",
              "</style>\n",
              "<table border=\"1\" class=\"dataframe\">\n",
              "  <thead>\n",
              "    <tr style=\"text-align: right;\">\n",
              "      <th></th>\n",
              "      <th>source</th>\n",
              "      <th>target</th>\n",
              "    </tr>\n",
              "  </thead>\n",
              "  <tbody>\n",
              "    <tr>\n",
              "      <th>0</th>\n",
              "      <td>ADA</td>\n",
              "      <td>AIDB</td>\n",
              "    </tr>\n",
              "    <tr>\n",
              "      <th>1</th>\n",
              "      <td>ADIY</td>\n",
              "      <td>GADX</td>\n",
              "    </tr>\n",
              "    <tr>\n",
              "      <th>2</th>\n",
              "      <td>ALLR</td>\n",
              "      <td>ALLS</td>\n",
              "    </tr>\n",
              "    <tr>\n",
              "      <th>3</th>\n",
              "      <td>ARCA</td>\n",
              "      <td>BETI</td>\n",
              "    </tr>\n",
              "    <tr>\n",
              "      <th>4</th>\n",
              "      <td>ARCA</td>\n",
              "      <td>DPIA</td>\n",
              "    </tr>\n",
              "    <tr>\n",
              "      <th>5</th>\n",
              "      <td>ARCA</td>\n",
              "      <td>FNR</td>\n",
              "    </tr>\n",
              "  </tbody>\n",
              "</table>\n",
              "</div>\n",
              "    <div class=\"colab-df-buttons\">\n",
              "\n",
              "  <div class=\"colab-df-container\">\n",
              "    <button class=\"colab-df-convert\" onclick=\"convertToInteractive('df-8014cd1d-643f-414a-a478-feef91612a7f')\"\n",
              "            title=\"Convert this dataframe to an interactive table.\"\n",
              "            style=\"display:none;\">\n",
              "\n",
              "  <svg xmlns=\"http://www.w3.org/2000/svg\" height=\"24px\" viewBox=\"0 -960 960 960\">\n",
              "    <path d=\"M120-120v-720h720v720H120Zm60-500h600v-160H180v160Zm220 220h160v-160H400v160Zm0 220h160v-160H400v160ZM180-400h160v-160H180v160Zm440 0h160v-160H620v160ZM180-180h160v-160H180v160Zm440 0h160v-160H620v160Z\"/>\n",
              "  </svg>\n",
              "    </button>\n",
              "\n",
              "  <style>\n",
              "    .colab-df-container {\n",
              "      display:flex;\n",
              "      gap: 12px;\n",
              "    }\n",
              "\n",
              "    .colab-df-convert {\n",
              "      background-color: #E8F0FE;\n",
              "      border: none;\n",
              "      border-radius: 50%;\n",
              "      cursor: pointer;\n",
              "      display: none;\n",
              "      fill: #1967D2;\n",
              "      height: 32px;\n",
              "      padding: 0 0 0 0;\n",
              "      width: 32px;\n",
              "    }\n",
              "\n",
              "    .colab-df-convert:hover {\n",
              "      background-color: #E2EBFA;\n",
              "      box-shadow: 0px 1px 2px rgba(60, 64, 67, 0.3), 0px 1px 3px 1px rgba(60, 64, 67, 0.15);\n",
              "      fill: #174EA6;\n",
              "    }\n",
              "\n",
              "    .colab-df-buttons div {\n",
              "      margin-bottom: 4px;\n",
              "    }\n",
              "\n",
              "    [theme=dark] .colab-df-convert {\n",
              "      background-color: #3B4455;\n",
              "      fill: #D2E3FC;\n",
              "    }\n",
              "\n",
              "    [theme=dark] .colab-df-convert:hover {\n",
              "      background-color: #434B5C;\n",
              "      box-shadow: 0px 1px 3px 1px rgba(0, 0, 0, 0.15);\n",
              "      filter: drop-shadow(0px 1px 2px rgba(0, 0, 0, 0.3));\n",
              "      fill: #FFFFFF;\n",
              "    }\n",
              "  </style>\n",
              "\n",
              "    <script>\n",
              "      const buttonEl =\n",
              "        document.querySelector('#df-8014cd1d-643f-414a-a478-feef91612a7f button.colab-df-convert');\n",
              "      buttonEl.style.display =\n",
              "        google.colab.kernel.accessAllowed ? 'block' : 'none';\n",
              "\n",
              "      async function convertToInteractive(key) {\n",
              "        const element = document.querySelector('#df-8014cd1d-643f-414a-a478-feef91612a7f');\n",
              "        const dataTable =\n",
              "          await google.colab.kernel.invokeFunction('convertToInteractive',\n",
              "                                                    [key], {});\n",
              "        if (!dataTable) return;\n",
              "\n",
              "        const docLinkHtml = 'Like what you see? Visit the ' +\n",
              "          '<a target=\"_blank\" href=https://colab.research.google.com/notebooks/data_table.ipynb>data table notebook</a>'\n",
              "          + ' to learn more about interactive tables.';\n",
              "        element.innerHTML = '';\n",
              "        dataTable['output_type'] = 'display_data';\n",
              "        await google.colab.output.renderOutput(dataTable, element);\n",
              "        const docLink = document.createElement('div');\n",
              "        docLink.innerHTML = docLinkHtml;\n",
              "        element.appendChild(docLink);\n",
              "      }\n",
              "    </script>\n",
              "  </div>\n",
              "\n",
              "\n",
              "<div id=\"df-8e0db177-25c6-4f39-8d9f-879a0f4ec8d5\">\n",
              "  <button class=\"colab-df-quickchart\" onclick=\"quickchart('df-8e0db177-25c6-4f39-8d9f-879a0f4ec8d5')\"\n",
              "            title=\"Suggest charts\"\n",
              "            style=\"display:none;\">\n",
              "\n",
              "<svg xmlns=\"http://www.w3.org/2000/svg\" height=\"24px\"viewBox=\"0 0 24 24\"\n",
              "     width=\"24px\">\n",
              "    <g>\n",
              "        <path d=\"M19 3H5c-1.1 0-2 .9-2 2v14c0 1.1.9 2 2 2h14c1.1 0 2-.9 2-2V5c0-1.1-.9-2-2-2zM9 17H7v-7h2v7zm4 0h-2V7h2v10zm4 0h-2v-4h2v4z\"/>\n",
              "    </g>\n",
              "</svg>\n",
              "  </button>\n",
              "\n",
              "<style>\n",
              "  .colab-df-quickchart {\n",
              "      --bg-color: #E8F0FE;\n",
              "      --fill-color: #1967D2;\n",
              "      --hover-bg-color: #E2EBFA;\n",
              "      --hover-fill-color: #174EA6;\n",
              "      --disabled-fill-color: #AAA;\n",
              "      --disabled-bg-color: #DDD;\n",
              "  }\n",
              "\n",
              "  [theme=dark] .colab-df-quickchart {\n",
              "      --bg-color: #3B4455;\n",
              "      --fill-color: #D2E3FC;\n",
              "      --hover-bg-color: #434B5C;\n",
              "      --hover-fill-color: #FFFFFF;\n",
              "      --disabled-bg-color: #3B4455;\n",
              "      --disabled-fill-color: #666;\n",
              "  }\n",
              "\n",
              "  .colab-df-quickchart {\n",
              "    background-color: var(--bg-color);\n",
              "    border: none;\n",
              "    border-radius: 50%;\n",
              "    cursor: pointer;\n",
              "    display: none;\n",
              "    fill: var(--fill-color);\n",
              "    height: 32px;\n",
              "    padding: 0;\n",
              "    width: 32px;\n",
              "  }\n",
              "\n",
              "  .colab-df-quickchart:hover {\n",
              "    background-color: var(--hover-bg-color);\n",
              "    box-shadow: 0 1px 2px rgba(60, 64, 67, 0.3), 0 1px 3px 1px rgba(60, 64, 67, 0.15);\n",
              "    fill: var(--button-hover-fill-color);\n",
              "  }\n",
              "\n",
              "  .colab-df-quickchart-complete:disabled,\n",
              "  .colab-df-quickchart-complete:disabled:hover {\n",
              "    background-color: var(--disabled-bg-color);\n",
              "    fill: var(--disabled-fill-color);\n",
              "    box-shadow: none;\n",
              "  }\n",
              "\n",
              "  .colab-df-spinner {\n",
              "    border: 2px solid var(--fill-color);\n",
              "    border-color: transparent;\n",
              "    border-bottom-color: var(--fill-color);\n",
              "    animation:\n",
              "      spin 1s steps(1) infinite;\n",
              "  }\n",
              "\n",
              "  @keyframes spin {\n",
              "    0% {\n",
              "      border-color: transparent;\n",
              "      border-bottom-color: var(--fill-color);\n",
              "      border-left-color: var(--fill-color);\n",
              "    }\n",
              "    20% {\n",
              "      border-color: transparent;\n",
              "      border-left-color: var(--fill-color);\n",
              "      border-top-color: var(--fill-color);\n",
              "    }\n",
              "    30% {\n",
              "      border-color: transparent;\n",
              "      border-left-color: var(--fill-color);\n",
              "      border-top-color: var(--fill-color);\n",
              "      border-right-color: var(--fill-color);\n",
              "    }\n",
              "    40% {\n",
              "      border-color: transparent;\n",
              "      border-right-color: var(--fill-color);\n",
              "      border-top-color: var(--fill-color);\n",
              "    }\n",
              "    60% {\n",
              "      border-color: transparent;\n",
              "      border-right-color: var(--fill-color);\n",
              "    }\n",
              "    80% {\n",
              "      border-color: transparent;\n",
              "      border-right-color: var(--fill-color);\n",
              "      border-bottom-color: var(--fill-color);\n",
              "    }\n",
              "    90% {\n",
              "      border-color: transparent;\n",
              "      border-bottom-color: var(--fill-color);\n",
              "    }\n",
              "  }\n",
              "</style>\n",
              "\n",
              "  <script>\n",
              "    async function quickchart(key) {\n",
              "      const quickchartButtonEl =\n",
              "        document.querySelector('#' + key + ' button');\n",
              "      quickchartButtonEl.disabled = true;  // To prevent multiple clicks.\n",
              "      quickchartButtonEl.classList.add('colab-df-spinner');\n",
              "      try {\n",
              "        const charts = await google.colab.kernel.invokeFunction(\n",
              "            'suggestCharts', [key], {});\n",
              "      } catch (error) {\n",
              "        console.error('Error during call to suggestCharts:', error);\n",
              "      }\n",
              "      quickchartButtonEl.classList.remove('colab-df-spinner');\n",
              "      quickchartButtonEl.classList.add('colab-df-quickchart-complete');\n",
              "    }\n",
              "    (() => {\n",
              "      let quickchartButtonEl =\n",
              "        document.querySelector('#df-8e0db177-25c6-4f39-8d9f-879a0f4ec8d5 button');\n",
              "      quickchartButtonEl.style.display =\n",
              "        google.colab.kernel.accessAllowed ? 'block' : 'none';\n",
              "    })();\n",
              "  </script>\n",
              "</div>\n",
              "    </div>\n",
              "  </div>\n"
            ],
            "application/vnd.google.colaboratory.intrinsic+json": {
              "type": "dataframe",
              "variable_name": "edge_list_df",
              "summary": "{\n  \"name\": \"edge_list_df\",\n  \"rows\": 261,\n  \"fields\": [\n    {\n      \"column\": \"source\",\n      \"properties\": {\n        \"dtype\": \"category\",\n        \"num_unique_values\": 76,\n        \"samples\": [\n          \"ARGP\",\n          \"LEXA\",\n          \"CRP\"\n        ],\n        \"semantic_type\": \"\",\n        \"description\": \"\"\n      }\n    },\n    {\n      \"column\": \"target\",\n      \"properties\": {\n        \"dtype\": \"category\",\n        \"num_unique_values\": 106,\n        \"samples\": [\n          \"TRER\",\n          \"DNAA\",\n          \"DPIA\"\n        ],\n        \"semantic_type\": \"\",\n        \"description\": \"\"\n      }\n    }\n  ]\n}"
            }
          },
          "metadata": {},
          "execution_count": 7
        }
      ]
    },
    {
      "cell_type": "markdown",
      "metadata": {
        "id": "jjnGmubprKpo"
      },
      "source": [
        "Make an igraph directed graph from the network; print a graph summary as a sanity check.  You will need to use `igraph.Graph.TupleList` and `summary`."
      ]
    },
    {
      "cell_type": "code",
      "metadata": {
        "id": "77jgl9y2rKpq",
        "outputId": "5f2c13bb-ec2a-4b5b-a119-13c291c183d5",
        "colab": {
          "base_uri": "https://localhost:8080/",
          "height": 35
        }
      },
      "source": [
        "edge_list_graph = igraph.Graph.TupleList(edge_list_df[[\"source\",\"target\"]].values.tolist(), directed=True)\n",
        "edge_list_graph.summary()"
      ],
      "execution_count": 8,
      "outputs": [
        {
          "output_type": "execute_result",
          "data": {
            "text/plain": [
              "'IGRAPH DN-- 133 261 -- \\n+ attr: name (v)'"
            ],
            "application/vnd.google.colaboratory.intrinsic+json": {
              "type": "string"
            }
          },
          "metadata": {},
          "execution_count": 8
        }
      ]
    },
    {
      "cell_type": "markdown",
      "source": [
        "# Part I: Three-vertex motif analysis"
      ],
      "metadata": {
        "id": "2mZFRf_AI3a7"
      }
    },
    {
      "cell_type": "markdown",
      "source": [
        "## Question 1\n",
        "\n",
        "_There are 13 different types of connected 3-vertex motifs (“isomorphism classes”) for a digraph. Which one of these motifs is most frequent in the E. coli regulatory network?_"
      ],
      "metadata": {
        "id": "am-3SGNNI7oc"
      }
    },
    {
      "cell_type": "markdown",
      "metadata": {
        "id": "8oD1EGNIrKpx"
      },
      "source": [
        "Obtain the counts of all three-vertex motifs in the graph. You will need to use the `motifs_randesu` method in `igraph.Graph`."
      ]
    },
    {
      "cell_type": "code",
      "source": [
        "motif_counts = edge_list_graph.motifs_randesu(size=3,cut_prob = None, callback = None)\n",
        "max_motif_count = np.nanmax(motif_counts)\n",
        "\n",
        "print(\"the most frequently occuring three-vertex motif is motif class:\",motif_counts.index(max_motif_count))\n",
        "print(\"which had a count of\", max_motif_count)"
      ],
      "metadata": {
        "colab": {
          "base_uri": "https://localhost:8080/"
        },
        "id": "DAhiFPSI6S3L",
        "outputId": "c44899ab-3d08-4985-92f6-485dcd88b69a"
      },
      "execution_count": 21,
      "outputs": [
        {
          "output_type": "stream",
          "name": "stdout",
          "text": [
            "the most frequently occuring three-vertex motif is motif class: 6\n",
            "which had a count of 1676.0\n"
          ]
        }
      ]
    },
    {
      "cell_type": "markdown",
      "source": [
        "## Answer to Question 1:\n",
        "From looking at the position in the list of motif counts, the most frequently occuring three-vertex motif is motif \"Class 6\", which had a count of 1,676."
      ],
      "metadata": {
        "id": "Rnl9Ew6QJaAU"
      }
    },
    {
      "cell_type": "markdown",
      "source": [
        "## Question 2, part A\n",
        "\n",
        "_Which one of these motifs has a count of 47 in the regulatory network?_"
      ],
      "metadata": {
        "id": "LFjTqDYeJtgg"
      }
    },
    {
      "cell_type": "markdown",
      "source": [
        "## Answer to Question 2, part A\n",
        "\n",
        "From the results above, the motif with count 47 on the \"real graph\" is Class 7. Manually create an `igraph.Graph` directed graph object with three vertices, and then plot the graph. Make sure that the graph that you created looks like the three-vertex \"Class 7\" motif graph shown in the Canvas assignment for this homework."
      ],
      "metadata": {
        "id": "_zIZmpTAJ5BU"
      }
    },
    {
      "cell_type": "code",
      "source": [
        "g = igraph.Graph(directed=True)\n",
        "\n",
        "# Add 3 vertice\n",
        "g.add_vertices(3)\n",
        "\n",
        "# Add edges according to the \"Class 7\" motif\n",
        "# The motif has a triangle shape with one vertex pointing to both of the other two\n",
        "g.add_edges([(0, 1), (1, 2), (0, 2)])\n",
        "\n",
        "# Define the layout\n",
        "layout = g.layout_circle()  # This places the vertices in a circular layout\n",
        "\n",
        "# Plot the graph\n",
        "igraph.plot(g, layout=layout, vertex_label=range(g.vcount()), bbox=(300, 300), margin=20)"
      ],
      "metadata": {
        "colab": {
          "base_uri": "https://localhost:8080/",
          "height": 420
        },
        "id": "oCZHcWDs_smq",
        "outputId": "584b5484-e46d-4789-b165-7ccc3fada99b"
      },
      "execution_count": 87,
      "outputs": [
        {
          "output_type": "execute_result",
          "data": {
            "text/plain": [
              "<igraph.drawing.cairo.plot.CairoPlot at 0x7c8a4be4f190>"
            ],
            "image/svg+xml": "<?xml version=\"1.0\" encoding=\"UTF-8\"?>\n<svg xmlns=\"http://www.w3.org/2000/svg\" xmlns:xlink=\"http://www.w3.org/1999/xlink\" width=\"300pt\" height=\"300pt\" viewBox=\"0 0 300 300\" version=\"1.1\">\n<defs>\n<g>\n<symbol overflow=\"visible\" id=\"glyph0-0\">\n<path style=\"stroke:none;\" d=\"M 0.46875 0 L 0.46875 -9.328125 L 4.1875 -9.328125 L 4.1875 0 Z M 0.9375 -0.46875 L 3.71875 -0.46875 L 3.71875 -8.859375 L 0.9375 -8.859375 Z M 0.9375 -0.46875 \"/>\n</symbol>\n<symbol overflow=\"visible\" id=\"glyph0-1\">\n<path style=\"stroke:none;\" d=\"M 7.546875 -4.609375 C 7.546875 -3.722656 7.457031 -2.976562 7.28125 -2.375 C 7.101562 -1.769531 6.863281 -1.28125 6.5625 -0.90625 C 6.257812 -0.53125 5.898438 -0.257812 5.484375 -0.09375 C 5.078125 0.0625 4.640625 0.140625 4.171875 0.140625 C 3.703125 0.140625 3.265625 0.0625 2.859375 -0.09375 C 2.453125 -0.257812 2.097656 -0.53125 1.796875 -0.90625 C 1.503906 -1.28125 1.269531 -1.769531 1.09375 -2.375 C 0.925781 -2.976562 0.84375 -3.722656 0.84375 -4.609375 C 0.84375 -5.546875 0.925781 -6.316406 1.09375 -6.921875 C 1.269531 -7.535156 1.507812 -8.019531 1.8125 -8.375 C 2.113281 -8.738281 2.46875 -8.992188 2.875 -9.140625 C 3.289062 -9.285156 3.738281 -9.359375 4.21875 -9.359375 C 4.675781 -9.359375 5.109375 -9.285156 5.515625 -9.140625 C 5.921875 -8.992188 6.269531 -8.738281 6.5625 -8.375 C 6.863281 -8.019531 7.101562 -7.535156 7.28125 -6.921875 C 7.457031 -6.316406 7.546875 -5.546875 7.546875 -4.609375 Z M 6.296875 -4.609375 C 6.296875 -5.335938 6.25 -5.941406 6.15625 -6.421875 C 6.0625 -6.910156 5.925781 -7.296875 5.75 -7.578125 C 5.570312 -7.867188 5.351562 -8.070312 5.09375 -8.1875 C 4.832031 -8.3125 4.539062 -8.375 4.21875 -8.375 C 3.875 -8.375 3.566406 -8.3125 3.296875 -8.1875 C 3.035156 -8.0625 2.8125 -7.851562 2.625 -7.5625 C 2.445312 -7.28125 2.3125 -6.898438 2.21875 -6.421875 C 2.132812 -5.941406 2.09375 -5.335938 2.09375 -4.609375 C 2.09375 -3.910156 2.140625 -3.320312 2.234375 -2.84375 C 2.328125 -2.363281 2.460938 -1.976562 2.640625 -1.6875 C 2.816406 -1.394531 3.035156 -1.1875 3.296875 -1.0625 C 3.554688 -0.9375 3.851562 -0.875 4.1875 -0.875 C 4.507812 -0.875 4.800781 -0.9375 5.0625 -1.0625 C 5.320312 -1.1875 5.539062 -1.394531 5.71875 -1.6875 C 5.90625 -1.976562 6.046875 -2.363281 6.140625 -2.84375 C 6.242188 -3.320312 6.296875 -3.910156 6.296875 -4.609375 Z M 3.390625 -3.796875 L 3.390625 -5.5 L 5 -5.5 L 5 -3.796875 Z M 3.390625 -3.796875 \"/>\n</symbol>\n<symbol overflow=\"visible\" id=\"glyph0-2\">\n<path style=\"stroke:none;\" d=\"M 1.078125 0 L 1.078125 -0.984375 L 4.078125 -0.984375 L 4.078125 -7.96875 C 3.984375 -7.789062 3.828125 -7.617188 3.609375 -7.453125 C 3.390625 -7.296875 3.140625 -7.15625 2.859375 -7.03125 C 2.578125 -6.914062 2.273438 -6.820312 1.953125 -6.75 C 1.628906 -6.675781 1.316406 -6.640625 1.015625 -6.640625 L 1.015625 -7.65625 C 1.347656 -7.65625 1.675781 -7.691406 2 -7.765625 C 2.332031 -7.847656 2.640625 -7.957031 2.921875 -8.09375 C 3.203125 -8.238281 3.453125 -8.40625 3.671875 -8.59375 C 3.890625 -8.78125 4.054688 -8.988281 4.171875 -9.21875 L 5.3125 -9.21875 L 5.3125 -0.984375 L 7.71875 -0.984375 L 7.71875 0 Z M 1.078125 0 \"/>\n</symbol>\n<symbol overflow=\"visible\" id=\"glyph0-3\">\n<path style=\"stroke:none;\" d=\"M 0.984375 0 L 0.984375 -0.796875 C 1.179688 -1.242188 1.441406 -1.648438 1.765625 -2.015625 C 2.097656 -2.390625 2.453125 -2.742188 2.828125 -3.078125 C 3.203125 -3.410156 3.578125 -3.726562 3.953125 -4.03125 C 4.328125 -4.332031 4.664062 -4.628906 4.96875 -4.921875 C 5.269531 -5.210938 5.515625 -5.507812 5.703125 -5.8125 C 5.898438 -6.113281 6 -6.4375 6 -6.78125 C 6 -7.050781 5.953125 -7.285156 5.859375 -7.484375 C 5.773438 -7.679688 5.648438 -7.84375 5.484375 -7.96875 C 5.328125 -8.101562 5.132812 -8.203125 4.90625 -8.265625 C 4.6875 -8.328125 4.441406 -8.359375 4.171875 -8.359375 C 3.929688 -8.359375 3.703125 -8.320312 3.484375 -8.25 C 3.273438 -8.1875 3.085938 -8.082031 2.921875 -7.9375 C 2.765625 -7.800781 2.632812 -7.628906 2.53125 -7.421875 C 2.4375 -7.222656 2.375 -6.992188 2.34375 -6.734375 L 1.09375 -6.84375 C 1.132812 -7.1875 1.226562 -7.507812 1.375 -7.8125 C 1.519531 -8.125 1.71875 -8.394531 1.96875 -8.625 C 2.21875 -8.851562 2.523438 -9.03125 2.890625 -9.15625 C 3.265625 -9.289062 3.691406 -9.359375 4.171875 -9.359375 C 4.648438 -9.359375 5.078125 -9.300781 5.453125 -9.1875 C 5.835938 -9.082031 6.164062 -8.925781 6.4375 -8.71875 C 6.707031 -8.507812 6.910156 -8.242188 7.046875 -7.921875 C 7.191406 -7.609375 7.265625 -7.25 7.265625 -6.84375 C 7.265625 -6.414062 7.164062 -6.019531 6.96875 -5.65625 C 6.769531 -5.289062 6.515625 -4.941406 6.203125 -4.609375 C 5.898438 -4.285156 5.5625 -3.972656 5.1875 -3.671875 C 4.8125 -3.378906 4.445312 -3.085938 4.09375 -2.796875 C 3.738281 -2.503906 3.414062 -2.210938 3.125 -1.921875 C 2.832031 -1.628906 2.613281 -1.320312 2.46875 -1 L 7.40625 -1 L 7.40625 0 Z M 0.984375 0 \"/>\n</symbol>\n</g>\n</defs>\n<g id=\"surface26\">\n<rect x=\"0\" y=\"0\" width=\"300\" height=\"300\" style=\"fill:rgb(100%,100%,100%);fill-opacity:1;stroke:none;\"/>\n<path style=\"fill:none;stroke-width:1;stroke-linecap:butt;stroke-linejoin:miter;stroke:rgb(26.666667%,26.666667%,26.666667%);stroke-opacity:1;stroke-miterlimit:10;\" d=\"M 280 150 L 41.703125 269.148438 \"/>\n<path style=\" stroke:none;fill-rule:nonzero;fill:rgb(26.666667%,26.666667%,26.666667%);fill-opacity:1;\" d=\"M 28.945312 275.527344 L 39.632812 265.003906 L 43.777344 273.292969 L 28.945312 275.527344 \"/>\n<path style=\"fill:none;stroke-width:1;stroke-linecap:butt;stroke-linejoin:miter;stroke:rgb(26.666667%,26.666667%,26.666667%);stroke-opacity:1;stroke-miterlimit:10;\" d=\"M 20 280 L 20 44.265625 \"/>\n<path style=\" stroke:none;fill-rule:nonzero;fill:rgb(26.666667%,26.666667%,26.666667%);fill-opacity:1;\" d=\"M 20 30 L 24.636719 44.265625 L 15.363281 44.265625 L 20 30 \"/>\n<path style=\"fill:none;stroke-width:1;stroke-linecap:butt;stroke-linejoin:miter;stroke:rgb(26.666667%,26.666667%,26.666667%);stroke-opacity:1;stroke-miterlimit:10;\" d=\"M 280 150 L 41.703125 30.851562 \"/>\n<path style=\" stroke:none;fill-rule:nonzero;fill:rgb(26.666667%,26.666667%,26.666667%);fill-opacity:1;\" d=\"M 28.945312 24.472656 L 43.777344 26.707031 L 39.632812 34.996094 L 28.945312 24.472656 \"/>\n<path style=\"fill-rule:nonzero;fill:rgb(100%,0%,0%);fill-opacity:1;stroke-width:1;stroke-linecap:butt;stroke-linejoin:miter;stroke:rgb(0%,0%,0%);stroke-opacity:1;stroke-miterlimit:10;\" d=\"M 290 150 C 290 155.523438 285.523438 160 280 160 C 274.476562 160 270 155.523438 270 150 C 270 144.476562 274.476562 140 280 140 C 285.523438 140 290 144.476562 290 150 \"/>\n<path style=\"fill-rule:nonzero;fill:rgb(100%,0%,0%);fill-opacity:1;stroke-width:1;stroke-linecap:butt;stroke-linejoin:miter;stroke:rgb(0%,0%,0%);stroke-opacity:1;stroke-miterlimit:10;\" d=\"M 30 280 C 30 285.523438 25.523438 290 20 290 C 14.476562 290 10 285.523438 10 280 C 10 274.476562 14.476562 270 20 270 C 25.523438 270 30 274.476562 30 280 \"/>\n<path style=\"fill-rule:nonzero;fill:rgb(100%,0%,0%);fill-opacity:1;stroke-width:1;stroke-linecap:butt;stroke-linejoin:miter;stroke:rgb(0%,0%,0%);stroke-opacity:1;stroke-miterlimit:10;\" d=\"M 30 20 C 30 25.523438 25.523438 30 20 30 C 14.476562 30 10 25.523438 10 20 C 10 14.476562 14.476562 10 20 10 C 25.523438 10 30 14.476562 30 20 \"/>\n<g style=\"fill:rgb(0%,0%,0%);fill-opacity:1;\">\n  <use xlink:href=\"#glyph0-1\" x=\"275.804688\" y=\"156.785156\"/>\n</g>\n<g style=\"fill:rgb(0%,0%,0%);fill-opacity:1;\">\n  <use xlink:href=\"#glyph0-2\" x=\"15.632812\" y=\"286.710938\"/>\n</g>\n<g style=\"fill:rgb(0%,0%,0%);fill-opacity:1;\">\n  <use xlink:href=\"#glyph0-3\" x=\"15.804688\" y=\"26.785156\"/>\n</g>\n</g>\n</svg>\n"
          },
          "metadata": {
            "image/svg+xml": {
              "isolated": true
            }
          },
          "execution_count": 87
        }
      ]
    },
    {
      "cell_type": "markdown",
      "source": [
        "Now, call the `igraph.Graph.isoclass` method on the three-vertex igraph graph that you just created. It should return 7."
      ],
      "metadata": {
        "id": "RIJamgxB8HWJ"
      }
    },
    {
      "cell_type": "code",
      "metadata": {
        "id": "PhXw63wWwbLp",
        "colab": {
          "base_uri": "https://localhost:8080/"
        },
        "outputId": "c629efa1-3098-4bc7-9d4b-9fb283c86012"
      },
      "source": [
        "# print the isomorphism class\n",
        "edge_list_graph.motifs_randesu(size = 3, cut_prob = None, callback = None).index(47)\n"
      ],
      "execution_count": 55,
      "outputs": [
        {
          "output_type": "execute_result",
          "data": {
            "text/plain": [
              "7"
            ]
          },
          "metadata": {},
          "execution_count": 55
        }
      ]
    },
    {
      "cell_type": "markdown",
      "source": [
        "## Question 2, part B\n",
        "\n",
        "_What are the mean and standard deviation of the MM counts for the 10,000 random networks?_"
      ],
      "metadata": {
        "id": "9AjpPVpCKMNO"
      }
    },
    {
      "cell_type": "markdown",
      "metadata": {
        "id": "GPpi5RzIrKp4"
      },
      "source": [
        "Get motif counts for 10,000 different randomizations of the network.  You will need to use a `for` loop, `igraph.Graph.copy`, `igraph.Graph.rewire`, and `append`.  You can specify n=1000 for the rewiring.  You can use `itertools.repeat` to perform 10,000 loops if you like."
      ]
    },
    {
      "cell_type": "code",
      "source": [
        "real_motif_counts = edge_list_graph.motifs_randesu(size=3)  #original motif counts\n",
        "random_motif_counts = []\n",
        "for i in range(10000):\n",
        "  random_graph = edge_list_graph.copy()\n",
        "  random_graph.rewire(n=1000)\n",
        "  random_motif_counts.append(random_graph.motifs_randesu(size=3))\n",
        "random_motif_counts = np.array(random_motif_counts)"
      ],
      "metadata": {
        "id": "lCuVBdKoKmQt"
      },
      "execution_count": 41,
      "outputs": []
    },
    {
      "cell_type": "markdown",
      "metadata": {
        "id": "-IQXDlahrKp_"
      },
      "source": [
        "For each motif type, compute the mean and standard deviation of the counts of appearances of the motif in each of the 10,000 randomly rewired graphs. You will need to use the `numpy.mean` and `numpy.std` functions."
      ]
    },
    {
      "cell_type": "code",
      "metadata": {
        "id": "zWt63O25rKqA",
        "colab": {
          "base_uri": "https://localhost:8080/"
        },
        "outputId": "9e433195-b1ef-4d42-9c3e-acaa77788ccf"
      },
      "source": [
        "mean_random_motifs = np.mean(random_motif_counts, axis=0)\n",
        "standard_random_motifs = np.std(random_motif_counts, axis=0)\n",
        "print(\"mean random motifs: \", mean_random_motifs)\n",
        "print(\"standard random motif: \", standard_random_motifs)"
      ],
      "execution_count": 56,
      "outputs": [
        {
          "output_type": "stream",
          "name": "stdout",
          "text": [
            "mean random motifs:  [          nan           nan 3.6129130e+02           nan 3.0314960e+02\n",
            " 6.8842000e+00 1.7642071e+03 5.7281500e+01 6.2660000e-01 1.8723700e+01\n",
            " 4.9700000e-02 7.9200000e-01 3.4020000e-01 8.7130000e-01 1.4300000e-02\n",
            " 0.0000000e+00]\n",
            "standard random motif:  [        nan         nan 10.92273978         nan 27.32552689  7.32991067\n",
            " 22.4506884   9.25421297  1.07115472 21.41175281  0.23287316  0.9630867\n",
            "  0.74489191  1.97897355  0.1203973   0.        ]\n"
          ]
        }
      ]
    },
    {
      "cell_type": "markdown",
      "metadata": {
        "id": "8dk0GdavrKqL"
      },
      "source": [
        "Print out the mean and the standard deviation of the numbers of feed-forward loops (FFLs) in random networks. Print the number of FFLs on the real network. The FFL should be at index position 7 (starting from zero!) of the vector returned from `motifs_randesu`.\n",
        "\n",
        "## Answer to Question 2, Part B"
      ]
    },
    {
      "cell_type": "code",
      "metadata": {
        "id": "TqtRuYcMrKqL",
        "colab": {
          "base_uri": "https://localhost:8080/"
        },
        "outputId": "c68beb7f-f79c-4352-9152-da89526ccb60"
      },
      "source": [
        "ffl_index = 7\n",
        "mean_ffl_random = mean_random_motifs[ffl_index]\n",
        "standard_ffl_random = standard_random_motifs[ffl_index]\n",
        "real_ffl_count = real_motif_counts[ffl_index]\n",
        "\n",
        "print(f\"Mean FFL count in random networks: {mean_ffl_random}\")\n",
        "print(f\"Standard deviation of FFL count in random networks: {standard_ffl_random}\")\n",
        "print(f\"FFL count in the real network: {real_ffl_count}\")\n"
      ],
      "execution_count": 44,
      "outputs": [
        {
          "output_type": "stream",
          "name": "stdout",
          "text": [
            "Mean FFL count in random networks: 57.2815\n",
            "Standard deviation of FFL count in random networks: 9.254212973019344\n",
            "FFL count in the real network: 47\n"
          ]
        }
      ]
    },
    {
      "cell_type": "markdown",
      "source": [
        "## Question 3\n",
        "\n",
        "_What is the Z-score for enrichment of the MM count for the real network vs. the ensemble of random networks?  Does this Z-score correspond to a statistically significant positive enrichment?_"
      ],
      "metadata": {
        "id": "IZ5SvLETKfNs"
      }
    },
    {
      "cell_type": "markdown",
      "metadata": {
        "id": "lURw1g-NrKqG"
      },
      "source": [
        "For each motif type, obtain the *Z* score for the number of appearances of the motif in the real network, vs. in the randomly rewired networks. Note, some of the motif counts are all zero, so we will set NumPy to ignore divide-by-zero errors before we do the vector element-wise division operation."
      ]
    },
    {
      "cell_type": "code",
      "metadata": {
        "id": "lRZp053GrKqG"
      },
      "source": [
        "np.seterr(divide='ignore')\n",
        "\n",
        "# add code to compute the z-score\n",
        "z_score = (47 - mean_random_motifs) / standard_random_motifs\n"
      ],
      "execution_count": 60,
      "outputs": []
    },
    {
      "cell_type": "markdown",
      "source": [
        "Print the _z_-score for the FFL\n",
        "\n",
        "## Answer to Question 3"
      ],
      "metadata": {
        "id": "8NBhEOUiKksU"
      }
    },
    {
      "cell_type": "code",
      "source": [
        "z_score_ffl = z_score[ffl_index]\n",
        "print(f\"Z-score for FFL motif enrichment: {z_score_ffl}\")"
      ],
      "metadata": {
        "id": "N0hAd_dWKkH0",
        "colab": {
          "base_uri": "https://localhost:8080/"
        },
        "outputId": "f7040f15-d401-4d92-e3d1-9e1ff9822d83"
      },
      "execution_count": 61,
      "outputs": [
        {
          "output_type": "stream",
          "name": "stdout",
          "text": [
            "Z-score for FFL motif enrichment: -1.1110074978796913\n"
          ]
        }
      ]
    },
    {
      "cell_type": "markdown",
      "source": [
        "## Question 4.\n",
        "\n",
        "_What is the ratio of the MM count for the real network to the average MM count for the random networks?_"
      ],
      "metadata": {
        "id": "8TeCd6RdK4D9"
      }
    },
    {
      "cell_type": "markdown",
      "source": [
        "Print out the ratio of the FFL count for the real network, to the average FFL count for the random networks\n",
        "\n",
        "## Answer to Question 4"
      ],
      "metadata": {
        "id": "S_rl8yisLF_N"
      }
    },
    {
      "cell_type": "code",
      "source": [
        "ffl_ratio = 47/mean_ffl_random\n",
        "ffl_ratio"
      ],
      "metadata": {
        "id": "FbOb2aT_LKZL",
        "colab": {
          "base_uri": "https://localhost:8080/"
        },
        "outputId": "b0444616-5e78-484d-f91d-4609639f77e4"
      },
      "execution_count": 65,
      "outputs": [
        {
          "output_type": "execute_result",
          "data": {
            "text/plain": [
              "0.8205092394577655"
            ]
          },
          "metadata": {},
          "execution_count": 65
        }
      ]
    },
    {
      "cell_type": "markdown",
      "source": [
        "## Question 5.\n",
        "\n",
        "_How does ratio compare to the same ratio for the data in Table 1 in Shen-Orr et al., Nature Genetics, 2002?_"
      ],
      "metadata": {
        "id": "NXwVNY43LYiI"
      }
    },
    {
      "cell_type": "markdown",
      "source": [
        "Adding up the first two rows of Table 1 in Shen-Orr et al., we get a count of 40 FFLs in the real network vs. an average of 6.9 in the randomized networks. Print the ratio:\n",
        "\n",
        "## Answer to Question 5"
      ],
      "metadata": {
        "id": "MVwC68fPLemm"
      }
    },
    {
      "cell_type": "code",
      "source": [
        "#Table1 in Shen-Orr et al.\n",
        "#Structure                    (mean ± s.d.)    P value\n",
        "#Coherent feedforward loop 34   4.4 ± 3        P < 0.001\n",
        "#Incoherent feedforward loop 6  2.5 ± 2        P ∼ 0.03\n",
        "\n",
        "shen_orr_real_ffl_count = 34+6  #40\n",
        "shen_orr_random_ffl_mean = 4.4+2.5\n",
        "\n",
        "# Ratio from Shen-Orr et al.\n",
        "shen_orr_ratio = shen_orr_real_ffl_count / shen_orr_random_ffl_mean\n",
        "\n",
        "print(f\"Shen-Orr et al. ratio: {shen_orr_ratio}\")\n",
        "print(f\"mine ffl ratio: {ffl_ratio}\")"
      ],
      "metadata": {
        "id": "2RF-tgtXLnYz",
        "colab": {
          "base_uri": "https://localhost:8080/"
        },
        "outputId": "d4b84a2f-cc0a-428d-87ea-08d4f625a00a"
      },
      "execution_count": 83,
      "outputs": [
        {
          "output_type": "stream",
          "name": "stdout",
          "text": [
            "Shen-Orr et al. ratio: 5.797101449275362\n",
            "mine ffl ratio: 0.8205092394577655\n"
          ]
        }
      ]
    },
    {
      "cell_type": "markdown",
      "source": [
        "## Question 6\n",
        "\n",
        "_Given the modest ratio of the MM frequency in the real network vs. randomly shuffled network, should we entertain the possibility that the high frequency of MMs in the real network could be a consequence of the degree distribution rather than evolution specifically “favoring” FFLs as a building block for gene regulatory networks?_"
      ],
      "metadata": {
        "id": "fxEphJtnL2UN"
      }
    },
    {
      "cell_type": "markdown",
      "source": [
        "## Answer to Question 6:\n"
      ],
      "metadata": {
        "id": "Z1_VpZauL5_k"
      }
    },
    {
      "cell_type": "markdown",
      "source": [
        "Yes, If the frequency of FFLs in the real network is only modestly higher than in randomized networks that preserve the degree distribution, this could suggest that the degree distribution itself may play a significant role in the emergence of such motifs. In other words, it may not necessarily be that evolution is selecting for FFLs specifically; rather, FFLs could be a byproduct of the way that genes tend to regulate each other in a network with a particular degree distribution."
      ],
      "metadata": {
        "id": "eW2k2PUDO0PX"
      }
    },
    {
      "cell_type": "markdown",
      "source": [
        "# Part II. Four-vertex motif analysis"
      ],
      "metadata": {
        "id": "EenCquASQyWT"
      }
    },
    {
      "cell_type": "markdown",
      "source": [
        "## Question 1\n",
        "\n",
        "_What is the count of this four-vertex motif in the E. coli gene regulatory network?_"
      ],
      "metadata": {
        "id": "WP5VQATJQ2GH"
      }
    },
    {
      "cell_type": "markdown",
      "metadata": {
        "id": "9vCdePy1rKqQ"
      },
      "source": [
        "Figure out the isomorphism class of the network shown in the assignment in Canvas.  You'll want to build an edge-list tuple-list and then an igraph `Graph` object using `Graph.TupleList` (make sure to specify a directed graph!), and then use the `igraph.Graph.isoclass` method."
      ]
    },
    {
      "cell_type": "code",
      "metadata": {
        "id": "NHXVOfbPrKqR",
        "colab": {
          "base_uri": "https://localhost:8080/"
        },
        "outputId": "de165a88-fda2-44b1-81e8-90249dfd103f"
      },
      "source": [
        "four_vertex_motif = igraph.Graph.TupleList([(1,3),(1,4),(2,3),(2,4)], directed=True)\n",
        "four_vertex_motif.isoclass()"
      ],
      "execution_count": 70,
      "outputs": [
        {
          "output_type": "execute_result",
          "data": {
            "text/plain": [
              "19"
            ]
          },
          "metadata": {},
          "execution_count": 70
        }
      ]
    },
    {
      "cell_type": "markdown",
      "metadata": {
        "collapsed": true,
        "id": "mJ-AogZmrKqU"
      },
      "source": [
        "Compute the number of appearances of this four-vertex motif in the real network, using `motifs` with `size=4`.\n",
        "\n",
        "## Answer to Question 1"
      ]
    },
    {
      "cell_type": "code",
      "metadata": {
        "id": "nRfHAbY5rKqV",
        "outputId": "bc1b9663-8cab-4631-93ca-e69ffde582bc",
        "colab": {
          "base_uri": "https://localhost:8080/"
        }
      },
      "source": [
        "edge_list_graph.motifs_randesu(size=4)[19]"
      ],
      "execution_count": 75,
      "outputs": [
        {
          "output_type": "execute_result",
          "data": {
            "text/plain": [
              "297"
            ]
          },
          "metadata": {},
          "execution_count": 75
        }
      ]
    },
    {
      "cell_type": "markdown",
      "source": [
        "## Question 2\n",
        "\n",
        "_What are the average (and standard deviation) of the counts of this motif in 10,000 randomly shuffled networks?_\n",
        "\n",
        "(you can compute this similarly to what you did for the three- vertex motifs above)."
      ],
      "metadata": {
        "id": "Xm8i-HoBlOTC"
      }
    },
    {
      "cell_type": "markdown",
      "metadata": {
        "id": "F6qoJLgkrKqY"
      },
      "source": [
        "Get the mean and standard deviation for the count of four-vertex motifs in 10,000 randomly rewired graphs.  You will need to use a `for` loop, `igraph.Graph.copy`, `igraph.Graph.rewire`, and `list.append`.  You can specify *n*=1,000 for the rewiring."
      ]
    },
    {
      "cell_type": "code",
      "metadata": {
        "id": "Du-Qr71LrKqZ"
      },
      "source": [
        "four_ver_motif_count = []\n",
        "for i in range(10000):\n",
        "  random_graph = edge_list_graph.copy()\n",
        "  random_graph.rewire(n=1000)\n",
        "  four_ver_motif_count.append(random_graph.motifs_randesu(size=4)[19])\n",
        "\n",
        "four_ver_motif_count = np.array(four_ver_motif_count)\n"
      ],
      "execution_count": 76,
      "outputs": []
    },
    {
      "cell_type": "markdown",
      "source": [
        "Use `numpy.mean` and `numpy.stdev` to compute the mean and standard deviation of the counts of this motif on the randomly rewired graphs.\n",
        "\n",
        "## Answer to Question 2"
      ],
      "metadata": {
        "id": "LorM-ypERMPM"
      }
    },
    {
      "cell_type": "code",
      "source": [
        "mean_four_ver_motif = np.mean(four_ver_motif_count)\n",
        "std_four_ver_motif = np.std(four_ver_motif_count)"
      ],
      "metadata": {
        "id": "F8adOb0vRbH2"
      },
      "execution_count": 77,
      "outputs": []
    },
    {
      "cell_type": "markdown",
      "source": [
        "## Question 3\n",
        "\n",
        "_What is the *Z*-score for enrichment of this four-vertex motif?  Is it significant?_"
      ],
      "metadata": {
        "id": "un3jtnGYlRCF"
      }
    },
    {
      "cell_type": "markdown",
      "metadata": {
        "id": "X0GXFzozrKqc"
      },
      "source": [
        "Print out the mean number of 4-vertex dense overlapping region (DOR) motifs for the random networks, the standard deviation, and the *Z* score for the DOR motif count in the real graph vs. the random graphs. You'll need to use `numpy.array`, `numpy.mean`, and `numpy.std`.\n",
        "\n",
        "## Answer to Question 3"
      ]
    },
    {
      "cell_type": "code",
      "metadata": {
        "id": "-80c2XQPrKqd",
        "colab": {
          "base_uri": "https://localhost:8080/"
        },
        "outputId": "22358d0a-0455-4f8f-9c02-93fe4f125455"
      },
      "source": [
        "real_four_ver_motif = edge_list_graph.motifs_randesu(size=4)[19]\n",
        "z_four_ver_motif = (real_four_ver_motif - mean_four_ver_motif) / std_four_ver_motif\n",
        "\n",
        "# Print the results\n",
        "print(f\"Mean count in random networks: {mean_four_ver_motif}\")\n",
        "print(f\"Standard deviation in random networks: {std_four_ver_motif}\")\n",
        "print(f\"Count in the real network: {real_four_ver_motif}\")\n",
        "print(f\"Z-score for enrichment: {z_four_ver_motif}\")"
      ],
      "execution_count": 78,
      "outputs": [
        {
          "output_type": "stream",
          "name": "stdout",
          "text": [
            "Mean count in random networks: 176.8852\n",
            "Standard deviation in random networks: 37.894712308711355\n",
            "Count in the real network: 297\n",
            "Z-score for enrichment: 3.169698163202248\n"
          ]
        }
      ]
    },
    {
      "cell_type": "markdown",
      "source": [
        "## Question 4\n",
        "\n",
        "_What is the ratio of the count in the real network to the average count for the random networks?  How does this ratio compare to the ratio that you obtain from Table 1 from Shen-Orr et al.? Are they consistent? Does this suggest that Shen-Orr’s actual network randomization procedure is possibly not consistent with their description in the Methods section of their paper, i.e., that it may have had some kind of error? (if you are interested in this topic, see the paper by Konagurthu and Lesk, BMC Systems Biology, 2008, 2:73 [Konagurthu_BMCSystBiol_2008.pdf](https://drive.google.com/file/d/1yO-ZXc0SZpwsLFyr_14n3AsP1T-PjAYu/view?usp=share_link)_\n",
        "\n",
        "## Answer to Question 4"
      ],
      "metadata": {
        "id": "t8SR9Fx8ld1P"
      }
    },
    {
      "cell_type": "code",
      "source": [
        "ratio_real = 297/mean_four_ver_motif\n",
        "ratio_real"
      ],
      "metadata": {
        "colab": {
          "base_uri": "https://localhost:8080/"
        },
        "id": "Je_2SNOpWWxS",
        "outputId": "67f23f17-3c71-4676-be04-8371c37de80e"
      },
      "execution_count": 79,
      "outputs": [
        {
          "output_type": "execute_result",
          "data": {
            "text/plain": [
              "1.679055115973524"
            ]
          },
          "metadata": {},
          "execution_count": 79
        }
      ]
    },
    {
      "cell_type": "code",
      "source": [
        "#Table1\n",
        "#Paris of operons regulated by same two transcription factors\n",
        "shen_ratio = 203/57\n",
        "shen_ratio"
      ],
      "metadata": {
        "colab": {
          "base_uri": "https://localhost:8080/"
        },
        "id": "_TLYI4WaY6uL",
        "outputId": "6a27d702-f93e-42b9-ef74-6019c625122c"
      },
      "execution_count": 82,
      "outputs": [
        {
          "output_type": "execute_result",
          "data": {
            "text/plain": [
              "3.56140350877193"
            ]
          },
          "metadata": {},
          "execution_count": 82
        }
      ]
    },
    {
      "cell_type": "markdown",
      "source": [
        "The ratio is 1.679 of the count in the real network to average count for the random networks I got.\n",
        "The ratio from Shen-Orr et al. Table 1 is 3.561.\n",
        "The difference between the two ratios shows that the overrepresentation of the four-vertex motif in the real network is less pronounced than the structures studied by paper. Consequently, without analyzing the same motif types and employing identical network randomization procedures, it is not possible to draw firm conclusions about the consistency of paper's randomization methodology or the evolutionary significance of the motifs in question.   \n",
        "\n"
      ],
      "metadata": {
        "id": "Q0f2eWUNlrMU"
      }
    },
    {
      "cell_type": "code",
      "source": [],
      "metadata": {
        "id": "uVm9fRNpb5gD"
      },
      "execution_count": null,
      "outputs": []
    }
  ]
}