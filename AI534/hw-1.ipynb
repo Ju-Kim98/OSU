{
  "cells": [
    {
      "cell_type": "code",
      "source": [
        "import pandas as pd"
      ],
      "outputs": [],
      "execution_count": 72,
      "metadata": {}
    },
    {
      "cell_type": "code",
      "source": [
        "import numpy as np"
      ],
      "outputs": [],
      "execution_count": 73,
      "metadata": {}
    },
    {
      "cell_type": "code",
      "source": [
        "train_data = pd.read_csv(\"income.train.txt.5k\", header=None)\n",
        "dev_data = pd.read_csv(\"income.dev.txt\", header=None)"
      ],
      "outputs": [],
      "execution_count": 74,
      "metadata": {}
    },
    {
      "cell_type": "code",
      "source": [
        "column_names = [\"age\", \"sector\", \"education\", \"marital-status\", \"occupation\", \"race\", \"sex\", \"hours-per-week\", \"country-of-origin\", \"target\"]\n",
        "train_data.columns = column_names\n",
        "dev_data.columns = column_names"
      ],
      "outputs": [],
      "execution_count": 75,
      "metadata": {}
    },
    {
      "cell_type": "code",
      "source": [
        "train_data"
      ],
      "outputs": [
        {
          "output_type": "execute_result",
          "execution_count": 76,
          "data": {
            "text/html": "<div>\n<style scoped>\n    .dataframe tbody tr th:only-of-type {\n        vertical-align: middle;\n    }\n\n    .dataframe tbody tr th {\n        vertical-align: top;\n    }\n\n    .dataframe thead th {\n        text-align: right;\n    }\n</style>\n<table border=\"1\" class=\"dataframe\">\n  <thead>\n    <tr style=\"text-align: right;\">\n      <th></th>\n      <th>age</th>\n      <th>sector</th>\n      <th>education</th>\n      <th>marital-status</th>\n      <th>occupation</th>\n      <th>race</th>\n      <th>sex</th>\n      <th>hours-per-week</th>\n      <th>country-of-origin</th>\n      <th>target</th>\n    </tr>\n  </thead>\n  <tbody>\n    <tr>\n      <th>0</th>\n      <td>50</td>\n      <td>Self-emp-not-inc</td>\n      <td>Bachelors</td>\n      <td>Married-civ-spouse</td>\n      <td>Exec-managerial</td>\n      <td>White</td>\n      <td>Male</td>\n      <td>13</td>\n      <td>United-States</td>\n      <td>&lt;=50K</td>\n    </tr>\n    <tr>\n      <th>1</th>\n      <td>38</td>\n      <td>Private</td>\n      <td>HS-grad</td>\n      <td>Divorced</td>\n      <td>Handlers-cleaners</td>\n      <td>White</td>\n      <td>Male</td>\n      <td>40</td>\n      <td>United-States</td>\n      <td>&lt;=50K</td>\n    </tr>\n    <tr>\n      <th>2</th>\n      <td>53</td>\n      <td>Private</td>\n      <td>11th</td>\n      <td>Married-civ-spouse</td>\n      <td>Handlers-cleaners</td>\n      <td>Black</td>\n      <td>Male</td>\n      <td>40</td>\n      <td>United-States</td>\n      <td>&lt;=50K</td>\n    </tr>\n    <tr>\n      <th>3</th>\n      <td>28</td>\n      <td>Private</td>\n      <td>Bachelors</td>\n      <td>Married-civ-spouse</td>\n      <td>Prof-specialty</td>\n      <td>Black</td>\n      <td>Female</td>\n      <td>40</td>\n      <td>Cuba</td>\n      <td>&lt;=50K</td>\n    </tr>\n    <tr>\n      <th>4</th>\n      <td>37</td>\n      <td>Private</td>\n      <td>Masters</td>\n      <td>Married-civ-spouse</td>\n      <td>Exec-managerial</td>\n      <td>White</td>\n      <td>Female</td>\n      <td>40</td>\n      <td>United-States</td>\n      <td>&lt;=50K</td>\n    </tr>\n    <tr>\n      <th>5</th>\n      <td>49</td>\n      <td>Private</td>\n      <td>9th</td>\n      <td>Married-spouse-absent</td>\n      <td>Other-service</td>\n      <td>Black</td>\n      <td>Female</td>\n      <td>16</td>\n      <td>Jamaica</td>\n      <td>&lt;=50K</td>\n    </tr>\n    <tr>\n      <th>6</th>\n      <td>52</td>\n      <td>Self-emp-not-inc</td>\n      <td>HS-grad</td>\n      <td>Married-civ-spouse</td>\n      <td>Exec-managerial</td>\n      <td>White</td>\n      <td>Male</td>\n      <td>45</td>\n      <td>United-States</td>\n      <td>&gt;50K</td>\n    </tr>\n    <tr>\n      <th>7</th>\n      <td>31</td>\n      <td>Private</td>\n      <td>Masters</td>\n      <td>Never-married</td>\n      <td>Prof-specialty</td>\n      <td>White</td>\n      <td>Female</td>\n      <td>50</td>\n      <td>United-States</td>\n      <td>&gt;50K</td>\n    </tr>\n    <tr>\n      <th>8</th>\n      <td>42</td>\n      <td>Private</td>\n      <td>Bachelors</td>\n      <td>Married-civ-spouse</td>\n      <td>Exec-managerial</td>\n      <td>White</td>\n      <td>Male</td>\n      <td>40</td>\n      <td>United-States</td>\n      <td>&gt;50K</td>\n    </tr>\n    <tr>\n      <th>9</th>\n      <td>37</td>\n      <td>Private</td>\n      <td>Some-college</td>\n      <td>Married-civ-spouse</td>\n      <td>Exec-managerial</td>\n      <td>Black</td>\n      <td>Male</td>\n      <td>80</td>\n      <td>United-States</td>\n      <td>&gt;50K</td>\n    </tr>\n    <tr>\n      <th>10</th>\n      <td>30</td>\n      <td>State-gov</td>\n      <td>Bachelors</td>\n      <td>Married-civ-spouse</td>\n      <td>Prof-specialty</td>\n      <td>Asian-Pac-Islander</td>\n      <td>Male</td>\n      <td>40</td>\n      <td>India</td>\n      <td>&gt;50K</td>\n    </tr>\n    <tr>\n      <th>11</th>\n      <td>23</td>\n      <td>Private</td>\n      <td>Bachelors</td>\n      <td>Never-married</td>\n      <td>Adm-clerical</td>\n      <td>White</td>\n      <td>Female</td>\n      <td>30</td>\n      <td>United-States</td>\n      <td>&lt;=50K</td>\n    </tr>\n    <tr>\n      <th>12</th>\n      <td>32</td>\n      <td>Private</td>\n      <td>Assoc-acdm</td>\n      <td>Never-married</td>\n      <td>Sales</td>\n      <td>Black</td>\n      <td>Male</td>\n      <td>50</td>\n      <td>United-States</td>\n      <td>&lt;=50K</td>\n    </tr>\n    <tr>\n      <th>13</th>\n      <td>34</td>\n      <td>Private</td>\n      <td>7th-8th</td>\n      <td>Married-civ-spouse</td>\n      <td>Transport-moving</td>\n      <td>Amer-Indian-Eskimo</td>\n      <td>Male</td>\n      <td>45</td>\n      <td>Mexico</td>\n      <td>&lt;=50K</td>\n    </tr>\n    <tr>\n      <th>14</th>\n      <td>25</td>\n      <td>Self-emp-not-inc</td>\n      <td>HS-grad</td>\n      <td>Never-married</td>\n      <td>Farming-fishing</td>\n      <td>White</td>\n      <td>Male</td>\n      <td>35</td>\n      <td>United-States</td>\n      <td>&lt;=50K</td>\n    </tr>\n    <tr>\n      <th>15</th>\n      <td>32</td>\n      <td>Private</td>\n      <td>HS-grad</td>\n      <td>Never-married</td>\n      <td>Machine-op-inspct</td>\n      <td>White</td>\n      <td>Male</td>\n      <td>40</td>\n      <td>United-States</td>\n      <td>&lt;=50K</td>\n    </tr>\n    <tr>\n      <th>16</th>\n      <td>38</td>\n      <td>Private</td>\n      <td>11th</td>\n      <td>Married-civ-spouse</td>\n      <td>Sales</td>\n      <td>White</td>\n      <td>Male</td>\n      <td>50</td>\n      <td>United-States</td>\n      <td>&lt;=50K</td>\n    </tr>\n    <tr>\n      <th>17</th>\n      <td>43</td>\n      <td>Self-emp-not-inc</td>\n      <td>Masters</td>\n      <td>Divorced</td>\n      <td>Exec-managerial</td>\n      <td>White</td>\n      <td>Female</td>\n      <td>45</td>\n      <td>United-States</td>\n      <td>&gt;50K</td>\n    </tr>\n    <tr>\n      <th>18</th>\n      <td>35</td>\n      <td>Federal-gov</td>\n      <td>9th</td>\n      <td>Married-civ-spouse</td>\n      <td>Farming-fishing</td>\n      <td>Black</td>\n      <td>Male</td>\n      <td>40</td>\n      <td>United-States</td>\n      <td>&lt;=50K</td>\n    </tr>\n    <tr>\n      <th>19</th>\n      <td>43</td>\n      <td>Private</td>\n      <td>11th</td>\n      <td>Married-civ-spouse</td>\n      <td>Transport-moving</td>\n      <td>White</td>\n      <td>Male</td>\n      <td>40</td>\n      <td>United-States</td>\n      <td>&lt;=50K</td>\n    </tr>\n    <tr>\n      <th>20</th>\n      <td>59</td>\n      <td>Private</td>\n      <td>HS-grad</td>\n      <td>Divorced</td>\n      <td>Tech-support</td>\n      <td>White</td>\n      <td>Female</td>\n      <td>40</td>\n      <td>United-States</td>\n      <td>&lt;=50K</td>\n    </tr>\n    <tr>\n      <th>21</th>\n      <td>56</td>\n      <td>Local-gov</td>\n      <td>Bachelors</td>\n      <td>Married-civ-spouse</td>\n      <td>Tech-support</td>\n      <td>White</td>\n      <td>Male</td>\n      <td>40</td>\n      <td>United-States</td>\n      <td>&gt;50K</td>\n    </tr>\n    <tr>\n      <th>22</th>\n      <td>19</td>\n      <td>Private</td>\n      <td>HS-grad</td>\n      <td>Never-married</td>\n      <td>Craft-repair</td>\n      <td>White</td>\n      <td>Male</td>\n      <td>40</td>\n      <td>United-States</td>\n      <td>&lt;=50K</td>\n    </tr>\n    <tr>\n      <th>23</th>\n      <td>39</td>\n      <td>Private</td>\n      <td>HS-grad</td>\n      <td>Divorced</td>\n      <td>Exec-managerial</td>\n      <td>White</td>\n      <td>Male</td>\n      <td>80</td>\n      <td>United-States</td>\n      <td>&lt;=50K</td>\n    </tr>\n    <tr>\n      <th>24</th>\n      <td>49</td>\n      <td>Private</td>\n      <td>HS-grad</td>\n      <td>Married-civ-spouse</td>\n      <td>Craft-repair</td>\n      <td>White</td>\n      <td>Male</td>\n      <td>40</td>\n      <td>United-States</td>\n      <td>&lt;=50K</td>\n    </tr>\n    <tr>\n      <th>25</th>\n      <td>23</td>\n      <td>Local-gov</td>\n      <td>Assoc-acdm</td>\n      <td>Never-married</td>\n      <td>Protective-serv</td>\n      <td>White</td>\n      <td>Male</td>\n      <td>52</td>\n      <td>United-States</td>\n      <td>&lt;=50K</td>\n    </tr>\n    <tr>\n      <th>26</th>\n      <td>20</td>\n      <td>Private</td>\n      <td>Some-college</td>\n      <td>Never-married</td>\n      <td>Sales</td>\n      <td>Black</td>\n      <td>Male</td>\n      <td>44</td>\n      <td>United-States</td>\n      <td>&lt;=50K</td>\n    </tr>\n    <tr>\n      <th>27</th>\n      <td>45</td>\n      <td>Private</td>\n      <td>Bachelors</td>\n      <td>Divorced</td>\n      <td>Exec-managerial</td>\n      <td>White</td>\n      <td>Male</td>\n      <td>40</td>\n      <td>United-States</td>\n      <td>&lt;=50K</td>\n    </tr>\n    <tr>\n      <th>28</th>\n      <td>30</td>\n      <td>Federal-gov</td>\n      <td>Some-college</td>\n      <td>Married-civ-spouse</td>\n      <td>Adm-clerical</td>\n      <td>White</td>\n      <td>Male</td>\n      <td>40</td>\n      <td>United-States</td>\n      <td>&lt;=50K</td>\n    </tr>\n    <tr>\n      <th>29</th>\n      <td>22</td>\n      <td>State-gov</td>\n      <td>Some-college</td>\n      <td>Married-civ-spouse</td>\n      <td>Other-service</td>\n      <td>Black</td>\n      <td>Male</td>\n      <td>15</td>\n      <td>United-States</td>\n      <td>&lt;=50K</td>\n    </tr>\n    <tr>\n      <th>...</th>\n      <td>...</td>\n      <td>...</td>\n      <td>...</td>\n      <td>...</td>\n      <td>...</td>\n      <td>...</td>\n      <td>...</td>\n      <td>...</td>\n      <td>...</td>\n      <td>...</td>\n    </tr>\n    <tr>\n      <th>4970</th>\n      <td>65</td>\n      <td>Private</td>\n      <td>HS-grad</td>\n      <td>Married-civ-spouse</td>\n      <td>Sales</td>\n      <td>White</td>\n      <td>Male</td>\n      <td>40</td>\n      <td>United-States</td>\n      <td>&gt;50K</td>\n    </tr>\n    <tr>\n      <th>4971</th>\n      <td>39</td>\n      <td>Self-emp-not-inc</td>\n      <td>HS-grad</td>\n      <td>Married-civ-spouse</td>\n      <td>Sales</td>\n      <td>White</td>\n      <td>Male</td>\n      <td>50</td>\n      <td>United-States</td>\n      <td>&gt;50K</td>\n    </tr>\n    <tr>\n      <th>4972</th>\n      <td>23</td>\n      <td>Private</td>\n      <td>Some-college</td>\n      <td>Never-married</td>\n      <td>Tech-support</td>\n      <td>White</td>\n      <td>Male</td>\n      <td>40</td>\n      <td>United-States</td>\n      <td>&lt;=50K</td>\n    </tr>\n    <tr>\n      <th>4973</th>\n      <td>29</td>\n      <td>Self-emp-not-inc</td>\n      <td>Assoc-acdm</td>\n      <td>Married-civ-spouse</td>\n      <td>Sales</td>\n      <td>White</td>\n      <td>Male</td>\n      <td>50</td>\n      <td>United-States</td>\n      <td>&lt;=50K</td>\n    </tr>\n    <tr>\n      <th>4974</th>\n      <td>57</td>\n      <td>Self-emp-not-inc</td>\n      <td>10th</td>\n      <td>Divorced</td>\n      <td>Exec-managerial</td>\n      <td>White</td>\n      <td>Male</td>\n      <td>60</td>\n      <td>United-States</td>\n      <td>&gt;50K</td>\n    </tr>\n    <tr>\n      <th>4975</th>\n      <td>47</td>\n      <td>Private</td>\n      <td>Some-college</td>\n      <td>Widowed</td>\n      <td>Other-service</td>\n      <td>White</td>\n      <td>Female</td>\n      <td>35</td>\n      <td>United-States</td>\n      <td>&lt;=50K</td>\n    </tr>\n    <tr>\n      <th>4976</th>\n      <td>51</td>\n      <td>Local-gov</td>\n      <td>HS-grad</td>\n      <td>Married-civ-spouse</td>\n      <td>Transport-moving</td>\n      <td>Black</td>\n      <td>Male</td>\n      <td>60</td>\n      <td>United-States</td>\n      <td>&lt;=50K</td>\n    </tr>\n    <tr>\n      <th>4977</th>\n      <td>34</td>\n      <td>Private</td>\n      <td>HS-grad</td>\n      <td>Married-civ-spouse</td>\n      <td>Handlers-cleaners</td>\n      <td>Black</td>\n      <td>Male</td>\n      <td>40</td>\n      <td>United-States</td>\n      <td>&lt;=50K</td>\n    </tr>\n    <tr>\n      <th>4978</th>\n      <td>52</td>\n      <td>Private</td>\n      <td>HS-grad</td>\n      <td>Married-civ-spouse</td>\n      <td>Exec-managerial</td>\n      <td>White</td>\n      <td>Male</td>\n      <td>60</td>\n      <td>United-States</td>\n      <td>&gt;50K</td>\n    </tr>\n    <tr>\n      <th>4979</th>\n      <td>29</td>\n      <td>Private</td>\n      <td>HS-grad</td>\n      <td>Married-civ-spouse</td>\n      <td>Prof-specialty</td>\n      <td>White</td>\n      <td>Male</td>\n      <td>40</td>\n      <td>United-States</td>\n      <td>&gt;50K</td>\n    </tr>\n    <tr>\n      <th>4980</th>\n      <td>29</td>\n      <td>Private</td>\n      <td>HS-grad</td>\n      <td>Married-civ-spouse</td>\n      <td>Craft-repair</td>\n      <td>White</td>\n      <td>Male</td>\n      <td>40</td>\n      <td>United-States</td>\n      <td>&lt;=50K</td>\n    </tr>\n    <tr>\n      <th>4981</th>\n      <td>25</td>\n      <td>Local-gov</td>\n      <td>Some-college</td>\n      <td>Married-civ-spouse</td>\n      <td>Farming-fishing</td>\n      <td>White</td>\n      <td>Male</td>\n      <td>40</td>\n      <td>United-States</td>\n      <td>&lt;=50K</td>\n    </tr>\n    <tr>\n      <th>4982</th>\n      <td>21</td>\n      <td>Private</td>\n      <td>Some-college</td>\n      <td>Never-married</td>\n      <td>Other-service</td>\n      <td>White</td>\n      <td>Female</td>\n      <td>40</td>\n      <td>United-States</td>\n      <td>&lt;=50K</td>\n    </tr>\n    <tr>\n      <th>4983</th>\n      <td>38</td>\n      <td>Private</td>\n      <td>Bachelors</td>\n      <td>Married-spouse-absent</td>\n      <td>Prof-specialty</td>\n      <td>White</td>\n      <td>Female</td>\n      <td>40</td>\n      <td>United-States</td>\n      <td>&lt;=50K</td>\n    </tr>\n    <tr>\n      <th>4984</th>\n      <td>55</td>\n      <td>Self-emp-not-inc</td>\n      <td>HS-grad</td>\n      <td>Married-civ-spouse</td>\n      <td>Sales</td>\n      <td>White</td>\n      <td>Male</td>\n      <td>50</td>\n      <td>United-States</td>\n      <td>&gt;50K</td>\n    </tr>\n    <tr>\n      <th>4985</th>\n      <td>61</td>\n      <td>Self-emp-inc</td>\n      <td>Bachelors</td>\n      <td>Separated</td>\n      <td>Sales</td>\n      <td>White</td>\n      <td>Female</td>\n      <td>30</td>\n      <td>United-States</td>\n      <td>&lt;=50K</td>\n    </tr>\n    <tr>\n      <th>4986</th>\n      <td>27</td>\n      <td>Local-gov</td>\n      <td>Assoc-voc</td>\n      <td>Never-married</td>\n      <td>Adm-clerical</td>\n      <td>White</td>\n      <td>Male</td>\n      <td>43</td>\n      <td>United-States</td>\n      <td>&lt;=50K</td>\n    </tr>\n    <tr>\n      <th>4987</th>\n      <td>78</td>\n      <td>Self-emp-not-inc</td>\n      <td>Bachelors</td>\n      <td>Never-married</td>\n      <td>Exec-managerial</td>\n      <td>White</td>\n      <td>Male</td>\n      <td>20</td>\n      <td>United-States</td>\n      <td>&gt;50K</td>\n    </tr>\n    <tr>\n      <th>4988</th>\n      <td>40</td>\n      <td>Private</td>\n      <td>HS-grad</td>\n      <td>Married-civ-spouse</td>\n      <td>Transport-moving</td>\n      <td>White</td>\n      <td>Male</td>\n      <td>40</td>\n      <td>United-States</td>\n      <td>&gt;50K</td>\n    </tr>\n    <tr>\n      <th>4989</th>\n      <td>26</td>\n      <td>Self-emp-not-inc</td>\n      <td>7th-8th</td>\n      <td>Married-civ-spouse</td>\n      <td>Transport-moving</td>\n      <td>White</td>\n      <td>Male</td>\n      <td>75</td>\n      <td>United-States</td>\n      <td>&lt;=50K</td>\n    </tr>\n    <tr>\n      <th>4990</th>\n      <td>43</td>\n      <td>Private</td>\n      <td>HS-grad</td>\n      <td>Married-civ-spouse</td>\n      <td>Other-service</td>\n      <td>Asian-Pac-Islander</td>\n      <td>Male</td>\n      <td>60</td>\n      <td>Japan</td>\n      <td>&lt;=50K</td>\n    </tr>\n    <tr>\n      <th>4991</th>\n      <td>25</td>\n      <td>Private</td>\n      <td>Assoc-voc</td>\n      <td>Married-civ-spouse</td>\n      <td>Tech-support</td>\n      <td>White</td>\n      <td>Male</td>\n      <td>40</td>\n      <td>Mexico</td>\n      <td>&lt;=50K</td>\n    </tr>\n    <tr>\n      <th>4992</th>\n      <td>26</td>\n      <td>Self-emp-not-inc</td>\n      <td>Some-college</td>\n      <td>Never-married</td>\n      <td>Other-service</td>\n      <td>White</td>\n      <td>Female</td>\n      <td>48</td>\n      <td>United-States</td>\n      <td>&lt;=50K</td>\n    </tr>\n    <tr>\n      <th>4993</th>\n      <td>43</td>\n      <td>Self-emp-inc</td>\n      <td>HS-grad</td>\n      <td>Married-civ-spouse</td>\n      <td>Sales</td>\n      <td>White</td>\n      <td>Male</td>\n      <td>68</td>\n      <td>United-States</td>\n      <td>&gt;50K</td>\n    </tr>\n    <tr>\n      <th>4994</th>\n      <td>25</td>\n      <td>Private</td>\n      <td>Some-college</td>\n      <td>Never-married</td>\n      <td>Other-service</td>\n      <td>White</td>\n      <td>Male</td>\n      <td>40</td>\n      <td>Poland</td>\n      <td>&lt;=50K</td>\n    </tr>\n    <tr>\n      <th>4995</th>\n      <td>22</td>\n      <td>Private</td>\n      <td>Some-college</td>\n      <td>Never-married</td>\n      <td>Adm-clerical</td>\n      <td>Black</td>\n      <td>Female</td>\n      <td>30</td>\n      <td>Jamaica</td>\n      <td>&lt;=50K</td>\n    </tr>\n    <tr>\n      <th>4996</th>\n      <td>52</td>\n      <td>Self-emp-not-inc</td>\n      <td>HS-grad</td>\n      <td>Married-civ-spouse</td>\n      <td>Craft-repair</td>\n      <td>White</td>\n      <td>Male</td>\n      <td>55</td>\n      <td>United-States</td>\n      <td>&gt;50K</td>\n    </tr>\n    <tr>\n      <th>4997</th>\n      <td>61</td>\n      <td>Private</td>\n      <td>HS-grad</td>\n      <td>Married-civ-spouse</td>\n      <td>Adm-clerical</td>\n      <td>White</td>\n      <td>Female</td>\n      <td>5</td>\n      <td>United-States</td>\n      <td>&lt;=50K</td>\n    </tr>\n    <tr>\n      <th>4998</th>\n      <td>42</td>\n      <td>Private</td>\n      <td>Bachelors</td>\n      <td>Never-married</td>\n      <td>Sales</td>\n      <td>White</td>\n      <td>Male</td>\n      <td>40</td>\n      <td>United-States</td>\n      <td>&lt;=50K</td>\n    </tr>\n    <tr>\n      <th>4999</th>\n      <td>21</td>\n      <td>Private</td>\n      <td>Assoc-voc</td>\n      <td>Never-married</td>\n      <td>Adm-clerical</td>\n      <td>White</td>\n      <td>Female</td>\n      <td>40</td>\n      <td>United-States</td>\n      <td>&lt;=50K</td>\n    </tr>\n  </tbody>\n</table>\n<p>5000 rows × 10 columns</p>\n</div>",
            "text/plain": "      age             sector      education          marital-status  \\\n0      50   Self-emp-not-inc      Bachelors      Married-civ-spouse   \n1      38            Private        HS-grad                Divorced   \n2      53            Private           11th      Married-civ-spouse   \n3      28            Private      Bachelors      Married-civ-spouse   \n4      37            Private        Masters      Married-civ-spouse   \n5      49            Private            9th   Married-spouse-absent   \n6      52   Self-emp-not-inc        HS-grad      Married-civ-spouse   \n7      31            Private        Masters           Never-married   \n8      42            Private      Bachelors      Married-civ-spouse   \n9      37            Private   Some-college      Married-civ-spouse   \n10     30          State-gov      Bachelors      Married-civ-spouse   \n11     23            Private      Bachelors           Never-married   \n12     32            Private     Assoc-acdm           Never-married   \n13     34            Private        7th-8th      Married-civ-spouse   \n14     25   Self-emp-not-inc        HS-grad           Never-married   \n15     32            Private        HS-grad           Never-married   \n16     38            Private           11th      Married-civ-spouse   \n17     43   Self-emp-not-inc        Masters                Divorced   \n18     35        Federal-gov            9th      Married-civ-spouse   \n19     43            Private           11th      Married-civ-spouse   \n20     59            Private        HS-grad                Divorced   \n21     56          Local-gov      Bachelors      Married-civ-spouse   \n22     19            Private        HS-grad           Never-married   \n23     39            Private        HS-grad                Divorced   \n24     49            Private        HS-grad      Married-civ-spouse   \n25     23          Local-gov     Assoc-acdm           Never-married   \n26     20            Private   Some-college           Never-married   \n27     45            Private      Bachelors                Divorced   \n28     30        Federal-gov   Some-college      Married-civ-spouse   \n29     22          State-gov   Some-college      Married-civ-spouse   \n...   ...                ...            ...                     ...   \n4970   65            Private        HS-grad      Married-civ-spouse   \n4971   39   Self-emp-not-inc        HS-grad      Married-civ-spouse   \n4972   23            Private   Some-college           Never-married   \n4973   29   Self-emp-not-inc     Assoc-acdm      Married-civ-spouse   \n4974   57   Self-emp-not-inc           10th                Divorced   \n4975   47            Private   Some-college                 Widowed   \n4976   51          Local-gov        HS-grad      Married-civ-spouse   \n4977   34            Private        HS-grad      Married-civ-spouse   \n4978   52            Private        HS-grad      Married-civ-spouse   \n4979   29            Private        HS-grad      Married-civ-spouse   \n4980   29            Private        HS-grad      Married-civ-spouse   \n4981   25          Local-gov   Some-college      Married-civ-spouse   \n4982   21            Private   Some-college           Never-married   \n4983   38            Private      Bachelors   Married-spouse-absent   \n4984   55   Self-emp-not-inc        HS-grad      Married-civ-spouse   \n4985   61       Self-emp-inc      Bachelors               Separated   \n4986   27          Local-gov      Assoc-voc           Never-married   \n4987   78   Self-emp-not-inc      Bachelors           Never-married   \n4988   40            Private        HS-grad      Married-civ-spouse   \n4989   26   Self-emp-not-inc        7th-8th      Married-civ-spouse   \n4990   43            Private        HS-grad      Married-civ-spouse   \n4991   25            Private      Assoc-voc      Married-civ-spouse   \n4992   26   Self-emp-not-inc   Some-college           Never-married   \n4993   43       Self-emp-inc        HS-grad      Married-civ-spouse   \n4994   25            Private   Some-college           Never-married   \n4995   22            Private   Some-college           Never-married   \n4996   52   Self-emp-not-inc        HS-grad      Married-civ-spouse   \n4997   61            Private        HS-grad      Married-civ-spouse   \n4998   42            Private      Bachelors           Never-married   \n4999   21            Private      Assoc-voc           Never-married   \n\n              occupation                 race      sex  hours-per-week  \\\n0        Exec-managerial                White     Male              13   \n1      Handlers-cleaners                White     Male              40   \n2      Handlers-cleaners                Black     Male              40   \n3         Prof-specialty                Black   Female              40   \n4        Exec-managerial                White   Female              40   \n5          Other-service                Black   Female              16   \n6        Exec-managerial                White     Male              45   \n7         Prof-specialty                White   Female              50   \n8        Exec-managerial                White     Male              40   \n9        Exec-managerial                Black     Male              80   \n10        Prof-specialty   Asian-Pac-Islander     Male              40   \n11          Adm-clerical                White   Female              30   \n12                 Sales                Black     Male              50   \n13      Transport-moving   Amer-Indian-Eskimo     Male              45   \n14       Farming-fishing                White     Male              35   \n15     Machine-op-inspct                White     Male              40   \n16                 Sales                White     Male              50   \n17       Exec-managerial                White   Female              45   \n18       Farming-fishing                Black     Male              40   \n19      Transport-moving                White     Male              40   \n20          Tech-support                White   Female              40   \n21          Tech-support                White     Male              40   \n22          Craft-repair                White     Male              40   \n23       Exec-managerial                White     Male              80   \n24          Craft-repair                White     Male              40   \n25       Protective-serv                White     Male              52   \n26                 Sales                Black     Male              44   \n27       Exec-managerial                White     Male              40   \n28          Adm-clerical                White     Male              40   \n29         Other-service                Black     Male              15   \n...                  ...                  ...      ...             ...   \n4970               Sales                White     Male              40   \n4971               Sales                White     Male              50   \n4972        Tech-support                White     Male              40   \n4973               Sales                White     Male              50   \n4974     Exec-managerial                White     Male              60   \n4975       Other-service                White   Female              35   \n4976    Transport-moving                Black     Male              60   \n4977   Handlers-cleaners                Black     Male              40   \n4978     Exec-managerial                White     Male              60   \n4979      Prof-specialty                White     Male              40   \n4980        Craft-repair                White     Male              40   \n4981     Farming-fishing                White     Male              40   \n4982       Other-service                White   Female              40   \n4983      Prof-specialty                White   Female              40   \n4984               Sales                White     Male              50   \n4985               Sales                White   Female              30   \n4986        Adm-clerical                White     Male              43   \n4987     Exec-managerial                White     Male              20   \n4988    Transport-moving                White     Male              40   \n4989    Transport-moving                White     Male              75   \n4990       Other-service   Asian-Pac-Islander     Male              60   \n4991        Tech-support                White     Male              40   \n4992       Other-service                White   Female              48   \n4993               Sales                White     Male              68   \n4994       Other-service                White     Male              40   \n4995        Adm-clerical                Black   Female              30   \n4996        Craft-repair                White     Male              55   \n4997        Adm-clerical                White   Female               5   \n4998               Sales                White     Male              40   \n4999        Adm-clerical                White   Female              40   \n\n     country-of-origin  target  \n0        United-States   <=50K  \n1        United-States   <=50K  \n2        United-States   <=50K  \n3                 Cuba   <=50K  \n4        United-States   <=50K  \n5              Jamaica   <=50K  \n6        United-States    >50K  \n7        United-States    >50K  \n8        United-States    >50K  \n9        United-States    >50K  \n10               India    >50K  \n11       United-States   <=50K  \n12       United-States   <=50K  \n13              Mexico   <=50K  \n14       United-States   <=50K  \n15       United-States   <=50K  \n16       United-States   <=50K  \n17       United-States    >50K  \n18       United-States   <=50K  \n19       United-States   <=50K  \n20       United-States   <=50K  \n21       United-States    >50K  \n22       United-States   <=50K  \n23       United-States   <=50K  \n24       United-States   <=50K  \n25       United-States   <=50K  \n26       United-States   <=50K  \n27       United-States   <=50K  \n28       United-States   <=50K  \n29       United-States   <=50K  \n...                ...     ...  \n4970     United-States    >50K  \n4971     United-States    >50K  \n4972     United-States   <=50K  \n4973     United-States   <=50K  \n4974     United-States    >50K  \n4975     United-States   <=50K  \n4976     United-States   <=50K  \n4977     United-States   <=50K  \n4978     United-States    >50K  \n4979     United-States    >50K  \n4980     United-States   <=50K  \n4981     United-States   <=50K  \n4982     United-States   <=50K  \n4983     United-States   <=50K  \n4984     United-States    >50K  \n4985     United-States   <=50K  \n4986     United-States   <=50K  \n4987     United-States    >50K  \n4988     United-States    >50K  \n4989     United-States   <=50K  \n4990             Japan   <=50K  \n4991            Mexico   <=50K  \n4992     United-States   <=50K  \n4993     United-States    >50K  \n4994            Poland   <=50K  \n4995           Jamaica   <=50K  \n4996     United-States    >50K  \n4997     United-States   <=50K  \n4998     United-States   <=50K  \n4999     United-States   <=50K  \n\n[5000 rows x 10 columns]"
          },
          "metadata": {}
        }
      ],
      "execution_count": 76,
      "metadata": {}
    },
    {
      "cell_type": "code",
      "source": [
        "dev_data"
      ],
      "outputs": [
        {
          "output_type": "execute_result",
          "execution_count": 77,
          "data": {
            "text/html": "<div>\n<style scoped>\n    .dataframe tbody tr th:only-of-type {\n        vertical-align: middle;\n    }\n\n    .dataframe tbody tr th {\n        vertical-align: top;\n    }\n\n    .dataframe thead th {\n        text-align: right;\n    }\n</style>\n<table border=\"1\" class=\"dataframe\">\n  <thead>\n    <tr style=\"text-align: right;\">\n      <th></th>\n      <th>age</th>\n      <th>sector</th>\n      <th>education</th>\n      <th>marital-status</th>\n      <th>occupation</th>\n      <th>race</th>\n      <th>sex</th>\n      <th>hours-per-week</th>\n      <th>country-of-origin</th>\n      <th>target</th>\n    </tr>\n  </thead>\n  <tbody>\n    <tr>\n      <th>0</th>\n      <td>45</td>\n      <td>Federal-gov</td>\n      <td>Bachelors</td>\n      <td>Married-civ-spouse</td>\n      <td>Adm-clerical</td>\n      <td>White</td>\n      <td>Male</td>\n      <td>45</td>\n      <td>United-States</td>\n      <td>&lt;=50K</td>\n    </tr>\n    <tr>\n      <th>1</th>\n      <td>33</td>\n      <td>Private</td>\n      <td>5th-6th</td>\n      <td>Married-spouse-absent</td>\n      <td>Transport-moving</td>\n      <td>Other</td>\n      <td>Male</td>\n      <td>20</td>\n      <td>El-Salvador</td>\n      <td>&lt;=50K</td>\n    </tr>\n    <tr>\n      <th>2</th>\n      <td>19</td>\n      <td>Private</td>\n      <td>Some-college</td>\n      <td>Never-married</td>\n      <td>Transport-moving</td>\n      <td>White</td>\n      <td>Male</td>\n      <td>40</td>\n      <td>United-States</td>\n      <td>&lt;=50K</td>\n    </tr>\n    <tr>\n      <th>3</th>\n      <td>47</td>\n      <td>Private</td>\n      <td>11th</td>\n      <td>Divorced</td>\n      <td>Other-service</td>\n      <td>White</td>\n      <td>Female</td>\n      <td>15</td>\n      <td>United-States</td>\n      <td>&lt;=50K</td>\n    </tr>\n    <tr>\n      <th>4</th>\n      <td>30</td>\n      <td>Local-gov</td>\n      <td>HS-grad</td>\n      <td>Married-civ-spouse</td>\n      <td>Protective-serv</td>\n      <td>White</td>\n      <td>Male</td>\n      <td>40</td>\n      <td>United-States</td>\n      <td>&gt;50K</td>\n    </tr>\n    <tr>\n      <th>5</th>\n      <td>37</td>\n      <td>Private</td>\n      <td>Bachelors</td>\n      <td>Separated</td>\n      <td>Other-service</td>\n      <td>White</td>\n      <td>Male</td>\n      <td>70</td>\n      <td>England</td>\n      <td>&lt;=50K</td>\n    </tr>\n    <tr>\n      <th>6</th>\n      <td>35</td>\n      <td>Private</td>\n      <td>HS-grad</td>\n      <td>Married-civ-spouse</td>\n      <td>Adm-clerical</td>\n      <td>White</td>\n      <td>Male</td>\n      <td>40</td>\n      <td>United-States</td>\n      <td>&lt;=50K</td>\n    </tr>\n    <tr>\n      <th>7</th>\n      <td>33</td>\n      <td>Private</td>\n      <td>HS-grad</td>\n      <td>Married-civ-spouse</td>\n      <td>Other-service</td>\n      <td>White</td>\n      <td>Female</td>\n      <td>25</td>\n      <td>United-States</td>\n      <td>&lt;=50K</td>\n    </tr>\n    <tr>\n      <th>8</th>\n      <td>40</td>\n      <td>Private</td>\n      <td>Some-college</td>\n      <td>Married-civ-spouse</td>\n      <td>Sales</td>\n      <td>White</td>\n      <td>Male</td>\n      <td>60</td>\n      <td>United-States</td>\n      <td>&gt;50K</td>\n    </tr>\n    <tr>\n      <th>9</th>\n      <td>54</td>\n      <td>Federal-gov</td>\n      <td>Some-college</td>\n      <td>Divorced</td>\n      <td>Adm-clerical</td>\n      <td>White</td>\n      <td>Female</td>\n      <td>40</td>\n      <td>United-States</td>\n      <td>&lt;=50K</td>\n    </tr>\n    <tr>\n      <th>10</th>\n      <td>32</td>\n      <td>Private</td>\n      <td>Bachelors</td>\n      <td>Never-married</td>\n      <td>Prof-specialty</td>\n      <td>White</td>\n      <td>Male</td>\n      <td>50</td>\n      <td>United-States</td>\n      <td>&lt;=50K</td>\n    </tr>\n    <tr>\n      <th>11</th>\n      <td>38</td>\n      <td>Private</td>\n      <td>Some-college</td>\n      <td>Married-civ-spouse</td>\n      <td>Handlers-cleaners</td>\n      <td>White</td>\n      <td>Female</td>\n      <td>35</td>\n      <td>United-States</td>\n      <td>&lt;=50K</td>\n    </tr>\n    <tr>\n      <th>12</th>\n      <td>70</td>\n      <td>Private</td>\n      <td>Some-college</td>\n      <td>Divorced</td>\n      <td>Farming-fishing</td>\n      <td>Asian-Pac-Islander</td>\n      <td>Male</td>\n      <td>40</td>\n      <td>Vietnam</td>\n      <td>&lt;=50K</td>\n    </tr>\n    <tr>\n      <th>13</th>\n      <td>44</td>\n      <td>Private</td>\n      <td>Bachelors</td>\n      <td>Never-married</td>\n      <td>Adm-clerical</td>\n      <td>White</td>\n      <td>Female</td>\n      <td>37</td>\n      <td>United-States</td>\n      <td>&lt;=50K</td>\n    </tr>\n    <tr>\n      <th>14</th>\n      <td>66</td>\n      <td>Private</td>\n      <td>Bachelors</td>\n      <td>Married-civ-spouse</td>\n      <td>Craft-repair</td>\n      <td>Asian-Pac-Islander</td>\n      <td>Male</td>\n      <td>30</td>\n      <td>Philippines</td>\n      <td>&lt;=50K</td>\n    </tr>\n    <tr>\n      <th>15</th>\n      <td>40</td>\n      <td>Private</td>\n      <td>HS-grad</td>\n      <td>Married-civ-spouse</td>\n      <td>Farming-fishing</td>\n      <td>Black</td>\n      <td>Male</td>\n      <td>40</td>\n      <td>United-States</td>\n      <td>&lt;=50K</td>\n    </tr>\n    <tr>\n      <th>16</th>\n      <td>40</td>\n      <td>Private</td>\n      <td>HS-grad</td>\n      <td>Married-civ-spouse</td>\n      <td>Craft-repair</td>\n      <td>Black</td>\n      <td>Male</td>\n      <td>40</td>\n      <td>United-States</td>\n      <td>&lt;=50K</td>\n    </tr>\n    <tr>\n      <th>17</th>\n      <td>56</td>\n      <td>State-gov</td>\n      <td>Bachelors</td>\n      <td>Married-civ-spouse</td>\n      <td>Exec-managerial</td>\n      <td>White</td>\n      <td>Male</td>\n      <td>40</td>\n      <td>United-States</td>\n      <td>&lt;=50K</td>\n    </tr>\n    <tr>\n      <th>18</th>\n      <td>22</td>\n      <td>Private</td>\n      <td>HS-grad</td>\n      <td>Divorced</td>\n      <td>Sales</td>\n      <td>White</td>\n      <td>Female</td>\n      <td>33</td>\n      <td>United-States</td>\n      <td>&lt;=50K</td>\n    </tr>\n    <tr>\n      <th>19</th>\n      <td>17</td>\n      <td>Private</td>\n      <td>12th</td>\n      <td>Never-married</td>\n      <td>Handlers-cleaners</td>\n      <td>White</td>\n      <td>Male</td>\n      <td>20</td>\n      <td>United-States</td>\n      <td>&lt;=50K</td>\n    </tr>\n    <tr>\n      <th>20</th>\n      <td>39</td>\n      <td>Private</td>\n      <td>HS-grad</td>\n      <td>Divorced</td>\n      <td>Other-service</td>\n      <td>White</td>\n      <td>Male</td>\n      <td>40</td>\n      <td>United-States</td>\n      <td>&lt;=50K</td>\n    </tr>\n    <tr>\n      <th>21</th>\n      <td>56</td>\n      <td>Local-gov</td>\n      <td>Some-college</td>\n      <td>Married-civ-spouse</td>\n      <td>Craft-repair</td>\n      <td>White</td>\n      <td>Male</td>\n      <td>41</td>\n      <td>United-States</td>\n      <td>&gt;50K</td>\n    </tr>\n    <tr>\n      <th>22</th>\n      <td>30</td>\n      <td>Private</td>\n      <td>HS-grad</td>\n      <td>Married-civ-spouse</td>\n      <td>Handlers-cleaners</td>\n      <td>White</td>\n      <td>Male</td>\n      <td>66</td>\n      <td>United-States</td>\n      <td>&lt;=50K</td>\n    </tr>\n    <tr>\n      <th>23</th>\n      <td>90</td>\n      <td>Private</td>\n      <td>HS-grad</td>\n      <td>Never-married</td>\n      <td>Other-service</td>\n      <td>White</td>\n      <td>Female</td>\n      <td>24</td>\n      <td>United-States</td>\n      <td>&lt;=50K</td>\n    </tr>\n    <tr>\n      <th>24</th>\n      <td>42</td>\n      <td>Self-emp-not-inc</td>\n      <td>10th</td>\n      <td>Widowed</td>\n      <td>Transport-moving</td>\n      <td>White</td>\n      <td>Male</td>\n      <td>35</td>\n      <td>United-States</td>\n      <td>&lt;=50K</td>\n    </tr>\n    <tr>\n      <th>25</th>\n      <td>23</td>\n      <td>Private</td>\n      <td>11th</td>\n      <td>Divorced</td>\n      <td>Other-service</td>\n      <td>White</td>\n      <td>Female</td>\n      <td>35</td>\n      <td>United-States</td>\n      <td>&lt;=50K</td>\n    </tr>\n    <tr>\n      <th>26</th>\n      <td>31</td>\n      <td>Private</td>\n      <td>Some-college</td>\n      <td>Never-married</td>\n      <td>Machine-op-inspct</td>\n      <td>White</td>\n      <td>Female</td>\n      <td>50</td>\n      <td>United-States</td>\n      <td>&lt;=50K</td>\n    </tr>\n    <tr>\n      <th>27</th>\n      <td>36</td>\n      <td>Private</td>\n      <td>11th</td>\n      <td>Separated</td>\n      <td>Machine-op-inspct</td>\n      <td>Black</td>\n      <td>Male</td>\n      <td>40</td>\n      <td>United-States</td>\n      <td>&lt;=50K</td>\n    </tr>\n    <tr>\n      <th>28</th>\n      <td>49</td>\n      <td>Local-gov</td>\n      <td>Masters</td>\n      <td>Married-civ-spouse</td>\n      <td>Adm-clerical</td>\n      <td>White</td>\n      <td>Male</td>\n      <td>40</td>\n      <td>United-States</td>\n      <td>&lt;=50K</td>\n    </tr>\n    <tr>\n      <th>29</th>\n      <td>23</td>\n      <td>Private</td>\n      <td>Some-college</td>\n      <td>Never-married</td>\n      <td>Sales</td>\n      <td>White</td>\n      <td>Female</td>\n      <td>40</td>\n      <td>United-States</td>\n      <td>&lt;=50K</td>\n    </tr>\n    <tr>\n      <th>...</th>\n      <td>...</td>\n      <td>...</td>\n      <td>...</td>\n      <td>...</td>\n      <td>...</td>\n      <td>...</td>\n      <td>...</td>\n      <td>...</td>\n      <td>...</td>\n      <td>...</td>\n    </tr>\n    <tr>\n      <th>970</th>\n      <td>34</td>\n      <td>Private</td>\n      <td>Bachelors</td>\n      <td>Divorced</td>\n      <td>Sales</td>\n      <td>White</td>\n      <td>Female</td>\n      <td>40</td>\n      <td>United-States</td>\n      <td>&lt;=50K</td>\n    </tr>\n    <tr>\n      <th>971</th>\n      <td>57</td>\n      <td>Private</td>\n      <td>HS-grad</td>\n      <td>Married-civ-spouse</td>\n      <td>Exec-managerial</td>\n      <td>White</td>\n      <td>Male</td>\n      <td>50</td>\n      <td>United-States</td>\n      <td>&lt;=50K</td>\n    </tr>\n    <tr>\n      <th>972</th>\n      <td>43</td>\n      <td>Self-emp-inc</td>\n      <td>Prof-school</td>\n      <td>Married-civ-spouse</td>\n      <td>Exec-managerial</td>\n      <td>White</td>\n      <td>Male</td>\n      <td>40</td>\n      <td>United-States</td>\n      <td>&gt;50K</td>\n    </tr>\n    <tr>\n      <th>973</th>\n      <td>45</td>\n      <td>Private</td>\n      <td>HS-grad</td>\n      <td>Married-civ-spouse</td>\n      <td>Machine-op-inspct</td>\n      <td>White</td>\n      <td>Male</td>\n      <td>52</td>\n      <td>United-States</td>\n      <td>&gt;50K</td>\n    </tr>\n    <tr>\n      <th>974</th>\n      <td>46</td>\n      <td>Private</td>\n      <td>Bachelors</td>\n      <td>Never-married</td>\n      <td>Other-service</td>\n      <td>White</td>\n      <td>Male</td>\n      <td>40</td>\n      <td>United-States</td>\n      <td>&lt;=50K</td>\n    </tr>\n    <tr>\n      <th>975</th>\n      <td>18</td>\n      <td>Private</td>\n      <td>11th</td>\n      <td>Never-married</td>\n      <td>Craft-repair</td>\n      <td>White</td>\n      <td>Male</td>\n      <td>5</td>\n      <td>United-States</td>\n      <td>&lt;=50K</td>\n    </tr>\n    <tr>\n      <th>976</th>\n      <td>44</td>\n      <td>Private</td>\n      <td>Bachelors</td>\n      <td>Married-civ-spouse</td>\n      <td>Adm-clerical</td>\n      <td>White</td>\n      <td>Male</td>\n      <td>45</td>\n      <td>United-States</td>\n      <td>&lt;=50K</td>\n    </tr>\n    <tr>\n      <th>977</th>\n      <td>49</td>\n      <td>Private</td>\n      <td>Some-college</td>\n      <td>Married-civ-spouse</td>\n      <td>Adm-clerical</td>\n      <td>White</td>\n      <td>Male</td>\n      <td>40</td>\n      <td>United-States</td>\n      <td>&lt;=50K</td>\n    </tr>\n    <tr>\n      <th>978</th>\n      <td>55</td>\n      <td>Private</td>\n      <td>Some-college</td>\n      <td>Divorced</td>\n      <td>Adm-clerical</td>\n      <td>White</td>\n      <td>Female</td>\n      <td>40</td>\n      <td>United-States</td>\n      <td>&lt;=50K</td>\n    </tr>\n    <tr>\n      <th>979</th>\n      <td>50</td>\n      <td>Private</td>\n      <td>11th</td>\n      <td>Divorced</td>\n      <td>Sales</td>\n      <td>White</td>\n      <td>Female</td>\n      <td>40</td>\n      <td>United-States</td>\n      <td>&lt;=50K</td>\n    </tr>\n    <tr>\n      <th>980</th>\n      <td>50</td>\n      <td>Self-emp-not-inc</td>\n      <td>Assoc-acdm</td>\n      <td>Never-married</td>\n      <td>Sales</td>\n      <td>White</td>\n      <td>Female</td>\n      <td>5</td>\n      <td>United-States</td>\n      <td>&lt;=50K</td>\n    </tr>\n    <tr>\n      <th>981</th>\n      <td>35</td>\n      <td>Private</td>\n      <td>Masters</td>\n      <td>Never-married</td>\n      <td>Sales</td>\n      <td>White</td>\n      <td>Female</td>\n      <td>40</td>\n      <td>United-States</td>\n      <td>&lt;=50K</td>\n    </tr>\n    <tr>\n      <th>982</th>\n      <td>29</td>\n      <td>Private</td>\n      <td>Bachelors</td>\n      <td>Never-married</td>\n      <td>Exec-managerial</td>\n      <td>White</td>\n      <td>Female</td>\n      <td>55</td>\n      <td>United-States</td>\n      <td>&lt;=50K</td>\n    </tr>\n    <tr>\n      <th>983</th>\n      <td>18</td>\n      <td>Private</td>\n      <td>12th</td>\n      <td>Never-married</td>\n      <td>Sales</td>\n      <td>White</td>\n      <td>Female</td>\n      <td>20</td>\n      <td>United-States</td>\n      <td>&lt;=50K</td>\n    </tr>\n    <tr>\n      <th>984</th>\n      <td>44</td>\n      <td>Local-gov</td>\n      <td>Some-college</td>\n      <td>Divorced</td>\n      <td>Other-service</td>\n      <td>White</td>\n      <td>Female</td>\n      <td>40</td>\n      <td>United-States</td>\n      <td>&lt;=50K</td>\n    </tr>\n    <tr>\n      <th>985</th>\n      <td>42</td>\n      <td>Self-emp-not-inc</td>\n      <td>Bachelors</td>\n      <td>Never-married</td>\n      <td>Farming-fishing</td>\n      <td>White</td>\n      <td>Male</td>\n      <td>35</td>\n      <td>United-States</td>\n      <td>&lt;=50K</td>\n    </tr>\n    <tr>\n      <th>986</th>\n      <td>34</td>\n      <td>Private</td>\n      <td>HS-grad</td>\n      <td>Married-civ-spouse</td>\n      <td>Machine-op-inspct</td>\n      <td>White</td>\n      <td>Male</td>\n      <td>45</td>\n      <td>United-States</td>\n      <td>&lt;=50K</td>\n    </tr>\n    <tr>\n      <th>987</th>\n      <td>42</td>\n      <td>Private</td>\n      <td>Some-college</td>\n      <td>Divorced</td>\n      <td>Machine-op-inspct</td>\n      <td>White</td>\n      <td>Female</td>\n      <td>40</td>\n      <td>United-States</td>\n      <td>&lt;=50K</td>\n    </tr>\n    <tr>\n      <th>988</th>\n      <td>54</td>\n      <td>State-gov</td>\n      <td>HS-grad</td>\n      <td>Married-civ-spouse</td>\n      <td>Prof-specialty</td>\n      <td>White</td>\n      <td>Male</td>\n      <td>40</td>\n      <td>United-States</td>\n      <td>&lt;=50K</td>\n    </tr>\n    <tr>\n      <th>989</th>\n      <td>26</td>\n      <td>Private</td>\n      <td>Some-college</td>\n      <td>Married-civ-spouse</td>\n      <td>Machine-op-inspct</td>\n      <td>Black</td>\n      <td>Male</td>\n      <td>40</td>\n      <td>United-States</td>\n      <td>&lt;=50K</td>\n    </tr>\n    <tr>\n      <th>990</th>\n      <td>41</td>\n      <td>Self-emp-not-inc</td>\n      <td>Some-college</td>\n      <td>Married-civ-spouse</td>\n      <td>Sales</td>\n      <td>White</td>\n      <td>Male</td>\n      <td>40</td>\n      <td>United-States</td>\n      <td>&lt;=50K</td>\n    </tr>\n    <tr>\n      <th>991</th>\n      <td>28</td>\n      <td>Federal-gov</td>\n      <td>Bachelors</td>\n      <td>Never-married</td>\n      <td>Prof-specialty</td>\n      <td>White</td>\n      <td>Male</td>\n      <td>50</td>\n      <td>United-States</td>\n      <td>&lt;=50K</td>\n    </tr>\n    <tr>\n      <th>992</th>\n      <td>48</td>\n      <td>Private</td>\n      <td>1st-4th</td>\n      <td>Married-civ-spouse</td>\n      <td>Machine-op-inspct</td>\n      <td>White</td>\n      <td>Male</td>\n      <td>40</td>\n      <td>Portugal</td>\n      <td>&lt;=50K</td>\n    </tr>\n    <tr>\n      <th>993</th>\n      <td>35</td>\n      <td>Private</td>\n      <td>Bachelors</td>\n      <td>Married-civ-spouse</td>\n      <td>Exec-managerial</td>\n      <td>White</td>\n      <td>Male</td>\n      <td>45</td>\n      <td>United-States</td>\n      <td>&lt;=50K</td>\n    </tr>\n    <tr>\n      <th>994</th>\n      <td>61</td>\n      <td>Private</td>\n      <td>HS-grad</td>\n      <td>Widowed</td>\n      <td>Craft-repair</td>\n      <td>Black</td>\n      <td>Female</td>\n      <td>50</td>\n      <td>United-States</td>\n      <td>&lt;=50K</td>\n    </tr>\n    <tr>\n      <th>995</th>\n      <td>37</td>\n      <td>Private</td>\n      <td>Prof-school</td>\n      <td>Married-civ-spouse</td>\n      <td>Prof-specialty</td>\n      <td>White</td>\n      <td>Male</td>\n      <td>45</td>\n      <td>United-States</td>\n      <td>&gt;50K</td>\n    </tr>\n    <tr>\n      <th>996</th>\n      <td>32</td>\n      <td>Private</td>\n      <td>Some-college</td>\n      <td>Never-married</td>\n      <td>Exec-managerial</td>\n      <td>White</td>\n      <td>Male</td>\n      <td>40</td>\n      <td>United-States</td>\n      <td>&lt;=50K</td>\n    </tr>\n    <tr>\n      <th>997</th>\n      <td>20</td>\n      <td>Private</td>\n      <td>HS-grad</td>\n      <td>Never-married</td>\n      <td>Machine-op-inspct</td>\n      <td>White</td>\n      <td>Male</td>\n      <td>40</td>\n      <td>United-States</td>\n      <td>&lt;=50K</td>\n    </tr>\n    <tr>\n      <th>998</th>\n      <td>22</td>\n      <td>Private</td>\n      <td>12th</td>\n      <td>Never-married</td>\n      <td>Protective-serv</td>\n      <td>Black</td>\n      <td>Male</td>\n      <td>35</td>\n      <td>United-States</td>\n      <td>&lt;=50K</td>\n    </tr>\n    <tr>\n      <th>999</th>\n      <td>58</td>\n      <td>Private</td>\n      <td>HS-grad</td>\n      <td>Widowed</td>\n      <td>Adm-clerical</td>\n      <td>White</td>\n      <td>Female</td>\n      <td>40</td>\n      <td>United-States</td>\n      <td>&lt;=50K</td>\n    </tr>\n  </tbody>\n</table>\n<p>1000 rows × 10 columns</p>\n</div>",
            "text/plain": "     age             sector      education          marital-status  \\\n0     45        Federal-gov      Bachelors      Married-civ-spouse   \n1     33            Private        5th-6th   Married-spouse-absent   \n2     19            Private   Some-college           Never-married   \n3     47            Private           11th                Divorced   \n4     30          Local-gov        HS-grad      Married-civ-spouse   \n5     37            Private      Bachelors               Separated   \n6     35            Private        HS-grad      Married-civ-spouse   \n7     33            Private        HS-grad      Married-civ-spouse   \n8     40            Private   Some-college      Married-civ-spouse   \n9     54        Federal-gov   Some-college                Divorced   \n10    32            Private      Bachelors           Never-married   \n11    38            Private   Some-college      Married-civ-spouse   \n12    70            Private   Some-college                Divorced   \n13    44            Private      Bachelors           Never-married   \n14    66            Private      Bachelors      Married-civ-spouse   \n15    40            Private        HS-grad      Married-civ-spouse   \n16    40            Private        HS-grad      Married-civ-spouse   \n17    56          State-gov      Bachelors      Married-civ-spouse   \n18    22            Private        HS-grad                Divorced   \n19    17            Private           12th           Never-married   \n20    39            Private        HS-grad                Divorced   \n21    56          Local-gov   Some-college      Married-civ-spouse   \n22    30            Private        HS-grad      Married-civ-spouse   \n23    90            Private        HS-grad           Never-married   \n24    42   Self-emp-not-inc           10th                 Widowed   \n25    23            Private           11th                Divorced   \n26    31            Private   Some-college           Never-married   \n27    36            Private           11th               Separated   \n28    49          Local-gov        Masters      Married-civ-spouse   \n29    23            Private   Some-college           Never-married   \n..   ...                ...            ...                     ...   \n970   34            Private      Bachelors                Divorced   \n971   57            Private        HS-grad      Married-civ-spouse   \n972   43       Self-emp-inc    Prof-school      Married-civ-spouse   \n973   45            Private        HS-grad      Married-civ-spouse   \n974   46            Private      Bachelors           Never-married   \n975   18            Private           11th           Never-married   \n976   44            Private      Bachelors      Married-civ-spouse   \n977   49            Private   Some-college      Married-civ-spouse   \n978   55            Private   Some-college                Divorced   \n979   50            Private           11th                Divorced   \n980   50   Self-emp-not-inc     Assoc-acdm           Never-married   \n981   35            Private        Masters           Never-married   \n982   29            Private      Bachelors           Never-married   \n983   18            Private           12th           Never-married   \n984   44          Local-gov   Some-college                Divorced   \n985   42   Self-emp-not-inc      Bachelors           Never-married   \n986   34            Private        HS-grad      Married-civ-spouse   \n987   42            Private   Some-college                Divorced   \n988   54          State-gov        HS-grad      Married-civ-spouse   \n989   26            Private   Some-college      Married-civ-spouse   \n990   41   Self-emp-not-inc   Some-college      Married-civ-spouse   \n991   28        Federal-gov      Bachelors           Never-married   \n992   48            Private        1st-4th      Married-civ-spouse   \n993   35            Private      Bachelors      Married-civ-spouse   \n994   61            Private        HS-grad                 Widowed   \n995   37            Private    Prof-school      Married-civ-spouse   \n996   32            Private   Some-college           Never-married   \n997   20            Private        HS-grad           Never-married   \n998   22            Private           12th           Never-married   \n999   58            Private        HS-grad                 Widowed   \n\n             occupation                 race      sex  hours-per-week  \\\n0          Adm-clerical                White     Male              45   \n1      Transport-moving                Other     Male              20   \n2      Transport-moving                White     Male              40   \n3         Other-service                White   Female              15   \n4       Protective-serv                White     Male              40   \n5         Other-service                White     Male              70   \n6          Adm-clerical                White     Male              40   \n7         Other-service                White   Female              25   \n8                 Sales                White     Male              60   \n9          Adm-clerical                White   Female              40   \n10       Prof-specialty                White     Male              50   \n11    Handlers-cleaners                White   Female              35   \n12      Farming-fishing   Asian-Pac-Islander     Male              40   \n13         Adm-clerical                White   Female              37   \n14         Craft-repair   Asian-Pac-Islander     Male              30   \n15      Farming-fishing                Black     Male              40   \n16         Craft-repair                Black     Male              40   \n17      Exec-managerial                White     Male              40   \n18                Sales                White   Female              33   \n19    Handlers-cleaners                White     Male              20   \n20        Other-service                White     Male              40   \n21         Craft-repair                White     Male              41   \n22    Handlers-cleaners                White     Male              66   \n23        Other-service                White   Female              24   \n24     Transport-moving                White     Male              35   \n25        Other-service                White   Female              35   \n26    Machine-op-inspct                White   Female              50   \n27    Machine-op-inspct                Black     Male              40   \n28         Adm-clerical                White     Male              40   \n29                Sales                White   Female              40   \n..                  ...                  ...      ...             ...   \n970               Sales                White   Female              40   \n971     Exec-managerial                White     Male              50   \n972     Exec-managerial                White     Male              40   \n973   Machine-op-inspct                White     Male              52   \n974       Other-service                White     Male              40   \n975        Craft-repair                White     Male               5   \n976        Adm-clerical                White     Male              45   \n977        Adm-clerical                White     Male              40   \n978        Adm-clerical                White   Female              40   \n979               Sales                White   Female              40   \n980               Sales                White   Female               5   \n981               Sales                White   Female              40   \n982     Exec-managerial                White   Female              55   \n983               Sales                White   Female              20   \n984       Other-service                White   Female              40   \n985     Farming-fishing                White     Male              35   \n986   Machine-op-inspct                White     Male              45   \n987   Machine-op-inspct                White   Female              40   \n988      Prof-specialty                White     Male              40   \n989   Machine-op-inspct                Black     Male              40   \n990               Sales                White     Male              40   \n991      Prof-specialty                White     Male              50   \n992   Machine-op-inspct                White     Male              40   \n993     Exec-managerial                White     Male              45   \n994        Craft-repair                Black   Female              50   \n995      Prof-specialty                White     Male              45   \n996     Exec-managerial                White     Male              40   \n997   Machine-op-inspct                White     Male              40   \n998     Protective-serv                Black     Male              35   \n999        Adm-clerical                White   Female              40   \n\n    country-of-origin  target  \n0       United-States   <=50K  \n1         El-Salvador   <=50K  \n2       United-States   <=50K  \n3       United-States   <=50K  \n4       United-States    >50K  \n5             England   <=50K  \n6       United-States   <=50K  \n7       United-States   <=50K  \n8       United-States    >50K  \n9       United-States   <=50K  \n10      United-States   <=50K  \n11      United-States   <=50K  \n12            Vietnam   <=50K  \n13      United-States   <=50K  \n14        Philippines   <=50K  \n15      United-States   <=50K  \n16      United-States   <=50K  \n17      United-States   <=50K  \n18      United-States   <=50K  \n19      United-States   <=50K  \n20      United-States   <=50K  \n21      United-States    >50K  \n22      United-States   <=50K  \n23      United-States   <=50K  \n24      United-States   <=50K  \n25      United-States   <=50K  \n26      United-States   <=50K  \n27      United-States   <=50K  \n28      United-States   <=50K  \n29      United-States   <=50K  \n..                ...     ...  \n970     United-States   <=50K  \n971     United-States   <=50K  \n972     United-States    >50K  \n973     United-States    >50K  \n974     United-States   <=50K  \n975     United-States   <=50K  \n976     United-States   <=50K  \n977     United-States   <=50K  \n978     United-States   <=50K  \n979     United-States   <=50K  \n980     United-States   <=50K  \n981     United-States   <=50K  \n982     United-States   <=50K  \n983     United-States   <=50K  \n984     United-States   <=50K  \n985     United-States   <=50K  \n986     United-States   <=50K  \n987     United-States   <=50K  \n988     United-States   <=50K  \n989     United-States   <=50K  \n990     United-States   <=50K  \n991     United-States   <=50K  \n992          Portugal   <=50K  \n993     United-States   <=50K  \n994     United-States   <=50K  \n995     United-States    >50K  \n996     United-States   <=50K  \n997     United-States   <=50K  \n998     United-States   <=50K  \n999     United-States   <=50K  \n\n[1000 rows x 10 columns]"
          },
          "metadata": {}
        }
      ],
      "execution_count": 77,
      "metadata": {}
    },
    {
      "cell_type": "code",
      "source": [
        "filtered_data = train_data[(train_data['age'] == 33) | (train_data['sector'] == 'Private')]   \n",
        "# OR(|) is work but why AND(&) not?????? it just shows column names"
      ],
      "outputs": [],
      "execution_count": 78,
      "metadata": {}
    },
    {
      "cell_type": "code",
      "source": [
        "filtered_data"
      ],
      "outputs": [
        {
          "output_type": "execute_result",
          "execution_count": 79,
          "data": {
            "text/html": "<div>\n<style scoped>\n    .dataframe tbody tr th:only-of-type {\n        vertical-align: middle;\n    }\n\n    .dataframe tbody tr th {\n        vertical-align: top;\n    }\n\n    .dataframe thead th {\n        text-align: right;\n    }\n</style>\n<table border=\"1\" class=\"dataframe\">\n  <thead>\n    <tr style=\"text-align: right;\">\n      <th></th>\n      <th>age</th>\n      <th>sector</th>\n      <th>education</th>\n      <th>marital-status</th>\n      <th>occupation</th>\n      <th>race</th>\n      <th>sex</th>\n      <th>hours-per-week</th>\n      <th>country-of-origin</th>\n      <th>target</th>\n    </tr>\n  </thead>\n  <tbody>\n    <tr>\n      <th>126</th>\n      <td>33</td>\n      <td>Private</td>\n      <td>Bachelors</td>\n      <td>Never-married</td>\n      <td>Exec-managerial</td>\n      <td>Asian-Pac-Islander</td>\n      <td>Female</td>\n      <td>40</td>\n      <td>Philippines</td>\n      <td>&lt;=50K</td>\n    </tr>\n    <tr>\n      <th>149</th>\n      <td>33</td>\n      <td>Private</td>\n      <td>Bachelors</td>\n      <td>Married-civ-spouse</td>\n      <td>Prof-specialty</td>\n      <td>White</td>\n      <td>Male</td>\n      <td>65</td>\n      <td>United-States</td>\n      <td>&lt;=50K</td>\n    </tr>\n    <tr>\n      <th>195</th>\n      <td>33</td>\n      <td>Private</td>\n      <td>Some-college</td>\n      <td>Divorced</td>\n      <td>Craft-repair</td>\n      <td>Other</td>\n      <td>Female</td>\n      <td>40</td>\n      <td>United-States</td>\n      <td>&lt;=50K</td>\n    </tr>\n    <tr>\n      <th>222</th>\n      <td>33</td>\n      <td>Private</td>\n      <td>Bachelors</td>\n      <td>Never-married</td>\n      <td>Prof-specialty</td>\n      <td>White</td>\n      <td>Female</td>\n      <td>45</td>\n      <td>United-States</td>\n      <td>&lt;=50K</td>\n    </tr>\n    <tr>\n      <th>223</th>\n      <td>33</td>\n      <td>Private</td>\n      <td>HS-grad</td>\n      <td>Married-civ-spouse</td>\n      <td>Craft-repair</td>\n      <td>White</td>\n      <td>Female</td>\n      <td>40</td>\n      <td>United-States</td>\n      <td>&gt;50K</td>\n    </tr>\n    <tr>\n      <th>291</th>\n      <td>33</td>\n      <td>Private</td>\n      <td>Bachelors</td>\n      <td>Married-civ-spouse</td>\n      <td>Exec-managerial</td>\n      <td>White</td>\n      <td>Male</td>\n      <td>40</td>\n      <td>United-States</td>\n      <td>&gt;50K</td>\n    </tr>\n    <tr>\n      <th>293</th>\n      <td>33</td>\n      <td>Private</td>\n      <td>Bachelors</td>\n      <td>Married-civ-spouse</td>\n      <td>Exec-managerial</td>\n      <td>White</td>\n      <td>Male</td>\n      <td>40</td>\n      <td>United-States</td>\n      <td>&gt;50K</td>\n    </tr>\n    <tr>\n      <th>314</th>\n      <td>33</td>\n      <td>Private</td>\n      <td>HS-grad</td>\n      <td>Married-civ-spouse</td>\n      <td>Craft-repair</td>\n      <td>White</td>\n      <td>Female</td>\n      <td>40</td>\n      <td>United-States</td>\n      <td>&lt;=50K</td>\n    </tr>\n    <tr>\n      <th>343</th>\n      <td>33</td>\n      <td>Private</td>\n      <td>Some-college</td>\n      <td>Divorced</td>\n      <td>Exec-managerial</td>\n      <td>White</td>\n      <td>Female</td>\n      <td>40</td>\n      <td>United-States</td>\n      <td>&lt;=50K</td>\n    </tr>\n    <tr>\n      <th>355</th>\n      <td>33</td>\n      <td>Private</td>\n      <td>10th</td>\n      <td>Never-married</td>\n      <td>Craft-repair</td>\n      <td>White</td>\n      <td>Female</td>\n      <td>35</td>\n      <td>United-States</td>\n      <td>&lt;=50K</td>\n    </tr>\n    <tr>\n      <th>362</th>\n      <td>33</td>\n      <td>Private</td>\n      <td>Masters</td>\n      <td>Married-civ-spouse</td>\n      <td>Prof-specialty</td>\n      <td>White</td>\n      <td>Male</td>\n      <td>50</td>\n      <td>United-States</td>\n      <td>&gt;50K</td>\n    </tr>\n    <tr>\n      <th>399</th>\n      <td>33</td>\n      <td>Private</td>\n      <td>Assoc-acdm</td>\n      <td>Married-civ-spouse</td>\n      <td>Craft-repair</td>\n      <td>White</td>\n      <td>Male</td>\n      <td>45</td>\n      <td>Portugal</td>\n      <td>&lt;=50K</td>\n    </tr>\n    <tr>\n      <th>411</th>\n      <td>33</td>\n      <td>Private</td>\n      <td>Bachelors</td>\n      <td>Never-married</td>\n      <td>Craft-repair</td>\n      <td>White</td>\n      <td>Male</td>\n      <td>20</td>\n      <td>United-States</td>\n      <td>&lt;=50K</td>\n    </tr>\n    <tr>\n      <th>459</th>\n      <td>33</td>\n      <td>Federal-gov</td>\n      <td>Assoc-voc</td>\n      <td>Divorced</td>\n      <td>Craft-repair</td>\n      <td>Black</td>\n      <td>Female</td>\n      <td>40</td>\n      <td>United-States</td>\n      <td>&gt;50K</td>\n    </tr>\n    <tr>\n      <th>521</th>\n      <td>33</td>\n      <td>Private</td>\n      <td>Some-college</td>\n      <td>Married-civ-spouse</td>\n      <td>Exec-managerial</td>\n      <td>White</td>\n      <td>Male</td>\n      <td>40</td>\n      <td>United-States</td>\n      <td>&gt;50K</td>\n    </tr>\n    <tr>\n      <th>528</th>\n      <td>33</td>\n      <td>Private</td>\n      <td>Bachelors</td>\n      <td>Married-civ-spouse</td>\n      <td>Exec-managerial</td>\n      <td>White</td>\n      <td>Male</td>\n      <td>60</td>\n      <td>United-States</td>\n      <td>&gt;50K</td>\n    </tr>\n    <tr>\n      <th>596</th>\n      <td>33</td>\n      <td>Private</td>\n      <td>HS-grad</td>\n      <td>Never-married</td>\n      <td>Other-service</td>\n      <td>White</td>\n      <td>Male</td>\n      <td>40</td>\n      <td>United-States</td>\n      <td>&lt;=50K</td>\n    </tr>\n    <tr>\n      <th>628</th>\n      <td>33</td>\n      <td>Local-gov</td>\n      <td>Bachelors</td>\n      <td>Never-married</td>\n      <td>Prof-specialty</td>\n      <td>White</td>\n      <td>Female</td>\n      <td>45</td>\n      <td>United-States</td>\n      <td>&lt;=50K</td>\n    </tr>\n    <tr>\n      <th>666</th>\n      <td>33</td>\n      <td>Private</td>\n      <td>Bachelors</td>\n      <td>Married-civ-spouse</td>\n      <td>Prof-specialty</td>\n      <td>White</td>\n      <td>Male</td>\n      <td>47</td>\n      <td>United-States</td>\n      <td>&gt;50K</td>\n    </tr>\n    <tr>\n      <th>716</th>\n      <td>33</td>\n      <td>Private</td>\n      <td>HS-grad</td>\n      <td>Married-civ-spouse</td>\n      <td>Machine-op-inspct</td>\n      <td>White</td>\n      <td>Male</td>\n      <td>40</td>\n      <td>United-States</td>\n      <td>&lt;=50K</td>\n    </tr>\n    <tr>\n      <th>734</th>\n      <td>33</td>\n      <td>Private</td>\n      <td>Some-college</td>\n      <td>Married-civ-spouse</td>\n      <td>Craft-repair</td>\n      <td>White</td>\n      <td>Female</td>\n      <td>60</td>\n      <td>United-States</td>\n      <td>&lt;=50K</td>\n    </tr>\n    <tr>\n      <th>770</th>\n      <td>33</td>\n      <td>Private</td>\n      <td>1st-4th</td>\n      <td>Married-spouse-absent</td>\n      <td>Priv-house-serv</td>\n      <td>White</td>\n      <td>Female</td>\n      <td>40</td>\n      <td>Guatemala</td>\n      <td>&lt;=50K</td>\n    </tr>\n    <tr>\n      <th>776</th>\n      <td>33</td>\n      <td>Private</td>\n      <td>HS-grad</td>\n      <td>Married-civ-spouse</td>\n      <td>Craft-repair</td>\n      <td>White</td>\n      <td>Male</td>\n      <td>30</td>\n      <td>United-States</td>\n      <td>&lt;=50K</td>\n    </tr>\n    <tr>\n      <th>792</th>\n      <td>33</td>\n      <td>Local-gov</td>\n      <td>10th</td>\n      <td>Divorced</td>\n      <td>Transport-moving</td>\n      <td>White</td>\n      <td>Male</td>\n      <td>40</td>\n      <td>United-States</td>\n      <td>&lt;=50K</td>\n    </tr>\n    <tr>\n      <th>793</th>\n      <td>33</td>\n      <td>Self-emp-not-inc</td>\n      <td>Bachelors</td>\n      <td>Married-civ-spouse</td>\n      <td>Exec-managerial</td>\n      <td>White</td>\n      <td>Male</td>\n      <td>40</td>\n      <td>United-States</td>\n      <td>&gt;50K</td>\n    </tr>\n    <tr>\n      <th>845</th>\n      <td>33</td>\n      <td>Private</td>\n      <td>Assoc-voc</td>\n      <td>Married-civ-spouse</td>\n      <td>Tech-support</td>\n      <td>White</td>\n      <td>Female</td>\n      <td>40</td>\n      <td>United-States</td>\n      <td>&gt;50K</td>\n    </tr>\n    <tr>\n      <th>921</th>\n      <td>33</td>\n      <td>Private</td>\n      <td>Bachelors</td>\n      <td>Married-civ-spouse</td>\n      <td>Sales</td>\n      <td>White</td>\n      <td>Female</td>\n      <td>45</td>\n      <td>United-States</td>\n      <td>&gt;50K</td>\n    </tr>\n    <tr>\n      <th>950</th>\n      <td>33</td>\n      <td>Private</td>\n      <td>Masters</td>\n      <td>Married-civ-spouse</td>\n      <td>Prof-specialty</td>\n      <td>White</td>\n      <td>Male</td>\n      <td>44</td>\n      <td>United-States</td>\n      <td>&gt;50K</td>\n    </tr>\n    <tr>\n      <th>963</th>\n      <td>33</td>\n      <td>Private</td>\n      <td>Bachelors</td>\n      <td>Married-civ-spouse</td>\n      <td>Sales</td>\n      <td>White</td>\n      <td>Male</td>\n      <td>60</td>\n      <td>United-States</td>\n      <td>&gt;50K</td>\n    </tr>\n    <tr>\n      <th>966</th>\n      <td>33</td>\n      <td>Private</td>\n      <td>HS-grad</td>\n      <td>Divorced</td>\n      <td>Adm-clerical</td>\n      <td>Black</td>\n      <td>Female</td>\n      <td>40</td>\n      <td>United-States</td>\n      <td>&lt;=50K</td>\n    </tr>\n    <tr>\n      <th>...</th>\n      <td>...</td>\n      <td>...</td>\n      <td>...</td>\n      <td>...</td>\n      <td>...</td>\n      <td>...</td>\n      <td>...</td>\n      <td>...</td>\n      <td>...</td>\n      <td>...</td>\n    </tr>\n    <tr>\n      <th>4133</th>\n      <td>33</td>\n      <td>State-gov</td>\n      <td>Masters</td>\n      <td>Never-married</td>\n      <td>Prof-specialty</td>\n      <td>Asian-Pac-Islander</td>\n      <td>Male</td>\n      <td>30</td>\n      <td>Japan</td>\n      <td>&lt;=50K</td>\n    </tr>\n    <tr>\n      <th>4139</th>\n      <td>33</td>\n      <td>Federal-gov</td>\n      <td>Some-college</td>\n      <td>Never-married</td>\n      <td>Exec-managerial</td>\n      <td>White</td>\n      <td>Male</td>\n      <td>50</td>\n      <td>United-States</td>\n      <td>&lt;=50K</td>\n    </tr>\n    <tr>\n      <th>4145</th>\n      <td>33</td>\n      <td>Federal-gov</td>\n      <td>Some-college</td>\n      <td>Married-civ-spouse</td>\n      <td>Exec-managerial</td>\n      <td>Black</td>\n      <td>Female</td>\n      <td>40</td>\n      <td>United-States</td>\n      <td>&gt;50K</td>\n    </tr>\n    <tr>\n      <th>4178</th>\n      <td>33</td>\n      <td>Self-emp-not-inc</td>\n      <td>1st-4th</td>\n      <td>Married-spouse-absent</td>\n      <td>Craft-repair</td>\n      <td>White</td>\n      <td>Male</td>\n      <td>40</td>\n      <td>Mexico</td>\n      <td>&lt;=50K</td>\n    </tr>\n    <tr>\n      <th>4182</th>\n      <td>33</td>\n      <td>Private</td>\n      <td>Doctorate</td>\n      <td>Never-married</td>\n      <td>Prof-specialty</td>\n      <td>White</td>\n      <td>Female</td>\n      <td>60</td>\n      <td>United-States</td>\n      <td>&gt;50K</td>\n    </tr>\n    <tr>\n      <th>4196</th>\n      <td>33</td>\n      <td>Private</td>\n      <td>HS-grad</td>\n      <td>Married-civ-spouse</td>\n      <td>Craft-repair</td>\n      <td>White</td>\n      <td>Male</td>\n      <td>40</td>\n      <td>United-States</td>\n      <td>&lt;=50K</td>\n    </tr>\n    <tr>\n      <th>4204</th>\n      <td>33</td>\n      <td>Private</td>\n      <td>HS-grad</td>\n      <td>Divorced</td>\n      <td>Machine-op-inspct</td>\n      <td>White</td>\n      <td>Female</td>\n      <td>40</td>\n      <td>United-States</td>\n      <td>&lt;=50K</td>\n    </tr>\n    <tr>\n      <th>4213</th>\n      <td>33</td>\n      <td>Private</td>\n      <td>Assoc-acdm</td>\n      <td>Married-spouse-absent</td>\n      <td>Craft-repair</td>\n      <td>White</td>\n      <td>Male</td>\n      <td>20</td>\n      <td>United-States</td>\n      <td>&lt;=50K</td>\n    </tr>\n    <tr>\n      <th>4365</th>\n      <td>33</td>\n      <td>Private</td>\n      <td>Bachelors</td>\n      <td>Married-civ-spouse</td>\n      <td>Exec-managerial</td>\n      <td>White</td>\n      <td>Female</td>\n      <td>32</td>\n      <td>United-States</td>\n      <td>&gt;50K</td>\n    </tr>\n    <tr>\n      <th>4419</th>\n      <td>33</td>\n      <td>Private</td>\n      <td>HS-grad</td>\n      <td>Married-civ-spouse</td>\n      <td>Prof-specialty</td>\n      <td>Amer-Indian-Eskimo</td>\n      <td>Male</td>\n      <td>48</td>\n      <td>United-States</td>\n      <td>&gt;50K</td>\n    </tr>\n    <tr>\n      <th>4473</th>\n      <td>33</td>\n      <td>State-gov</td>\n      <td>Some-college</td>\n      <td>Divorced</td>\n      <td>Other-service</td>\n      <td>Black</td>\n      <td>Female</td>\n      <td>40</td>\n      <td>United-States</td>\n      <td>&lt;=50K</td>\n    </tr>\n    <tr>\n      <th>4487</th>\n      <td>33</td>\n      <td>Private</td>\n      <td>HS-grad</td>\n      <td>Divorced</td>\n      <td>Adm-clerical</td>\n      <td>White</td>\n      <td>Male</td>\n      <td>40</td>\n      <td>United-States</td>\n      <td>&lt;=50K</td>\n    </tr>\n    <tr>\n      <th>4490</th>\n      <td>33</td>\n      <td>Private</td>\n      <td>HS-grad</td>\n      <td>Married-civ-spouse</td>\n      <td>Exec-managerial</td>\n      <td>Black</td>\n      <td>Male</td>\n      <td>50</td>\n      <td>United-States</td>\n      <td>&lt;=50K</td>\n    </tr>\n    <tr>\n      <th>4501</th>\n      <td>33</td>\n      <td>Private</td>\n      <td>Masters</td>\n      <td>Married-civ-spouse</td>\n      <td>Prof-specialty</td>\n      <td>White</td>\n      <td>Male</td>\n      <td>40</td>\n      <td>United-States</td>\n      <td>&gt;50K</td>\n    </tr>\n    <tr>\n      <th>4533</th>\n      <td>33</td>\n      <td>Private</td>\n      <td>Bachelors</td>\n      <td>Married-civ-spouse</td>\n      <td>Prof-specialty</td>\n      <td>White</td>\n      <td>Male</td>\n      <td>75</td>\n      <td>United-States</td>\n      <td>&gt;50K</td>\n    </tr>\n    <tr>\n      <th>4551</th>\n      <td>33</td>\n      <td>Local-gov</td>\n      <td>Bachelors</td>\n      <td>Never-married</td>\n      <td>Prof-specialty</td>\n      <td>White</td>\n      <td>Female</td>\n      <td>50</td>\n      <td>United-States</td>\n      <td>&gt;50K</td>\n    </tr>\n    <tr>\n      <th>4574</th>\n      <td>33</td>\n      <td>Local-gov</td>\n      <td>Assoc-acdm</td>\n      <td>Divorced</td>\n      <td>Protective-serv</td>\n      <td>White</td>\n      <td>Male</td>\n      <td>56</td>\n      <td>United-States</td>\n      <td>&lt;=50K</td>\n    </tr>\n    <tr>\n      <th>4598</th>\n      <td>33</td>\n      <td>Private</td>\n      <td>Bachelors</td>\n      <td>Married-civ-spouse</td>\n      <td>Transport-moving</td>\n      <td>White</td>\n      <td>Male</td>\n      <td>40</td>\n      <td>United-States</td>\n      <td>&lt;=50K</td>\n    </tr>\n    <tr>\n      <th>4607</th>\n      <td>33</td>\n      <td>Private</td>\n      <td>Some-college</td>\n      <td>Married-civ-spouse</td>\n      <td>Exec-managerial</td>\n      <td>White</td>\n      <td>Male</td>\n      <td>70</td>\n      <td>United-States</td>\n      <td>&gt;50K</td>\n    </tr>\n    <tr>\n      <th>4669</th>\n      <td>33</td>\n      <td>Private</td>\n      <td>Some-college</td>\n      <td>Married-civ-spouse</td>\n      <td>Craft-repair</td>\n      <td>White</td>\n      <td>Male</td>\n      <td>41</td>\n      <td>United-States</td>\n      <td>&gt;50K</td>\n    </tr>\n    <tr>\n      <th>4675</th>\n      <td>33</td>\n      <td>Private</td>\n      <td>HS-grad</td>\n      <td>Separated</td>\n      <td>Handlers-cleaners</td>\n      <td>White</td>\n      <td>Male</td>\n      <td>35</td>\n      <td>Puerto-Rico</td>\n      <td>&lt;=50K</td>\n    </tr>\n    <tr>\n      <th>4750</th>\n      <td>33</td>\n      <td>Private</td>\n      <td>9th</td>\n      <td>Married-civ-spouse</td>\n      <td>Machine-op-inspct</td>\n      <td>White</td>\n      <td>Male</td>\n      <td>50</td>\n      <td>United-States</td>\n      <td>&lt;=50K</td>\n    </tr>\n    <tr>\n      <th>4771</th>\n      <td>33</td>\n      <td>Private</td>\n      <td>Some-college</td>\n      <td>Never-married</td>\n      <td>Prof-specialty</td>\n      <td>Black</td>\n      <td>Male</td>\n      <td>40</td>\n      <td>United-States</td>\n      <td>&lt;=50K</td>\n    </tr>\n    <tr>\n      <th>4776</th>\n      <td>33</td>\n      <td>Private</td>\n      <td>Bachelors</td>\n      <td>Married-civ-spouse</td>\n      <td>Other-service</td>\n      <td>White</td>\n      <td>Female</td>\n      <td>40</td>\n      <td>United-States</td>\n      <td>&lt;=50K</td>\n    </tr>\n    <tr>\n      <th>4826</th>\n      <td>33</td>\n      <td>Private</td>\n      <td>HS-grad</td>\n      <td>Never-married</td>\n      <td>Other-service</td>\n      <td>Amer-Indian-Eskimo</td>\n      <td>Female</td>\n      <td>36</td>\n      <td>United-States</td>\n      <td>&lt;=50K</td>\n    </tr>\n    <tr>\n      <th>4844</th>\n      <td>33</td>\n      <td>Private</td>\n      <td>11th</td>\n      <td>Separated</td>\n      <td>Sales</td>\n      <td>White</td>\n      <td>Female</td>\n      <td>20</td>\n      <td>United-States</td>\n      <td>&lt;=50K</td>\n    </tr>\n    <tr>\n      <th>4872</th>\n      <td>33</td>\n      <td>Federal-gov</td>\n      <td>Bachelors</td>\n      <td>Married-civ-spouse</td>\n      <td>Adm-clerical</td>\n      <td>White</td>\n      <td>Male</td>\n      <td>42</td>\n      <td>United-States</td>\n      <td>&gt;50K</td>\n    </tr>\n    <tr>\n      <th>4889</th>\n      <td>33</td>\n      <td>Self-emp-inc</td>\n      <td>Masters</td>\n      <td>Married-civ-spouse</td>\n      <td>Craft-repair</td>\n      <td>White</td>\n      <td>Male</td>\n      <td>40</td>\n      <td>United-States</td>\n      <td>&lt;=50K</td>\n    </tr>\n    <tr>\n      <th>4892</th>\n      <td>33</td>\n      <td>Private</td>\n      <td>HS-grad</td>\n      <td>Married-civ-spouse</td>\n      <td>Transport-moving</td>\n      <td>White</td>\n      <td>Male</td>\n      <td>60</td>\n      <td>United-States</td>\n      <td>&lt;=50K</td>\n    </tr>\n    <tr>\n      <th>4963</th>\n      <td>33</td>\n      <td>Private</td>\n      <td>5th-6th</td>\n      <td>Married-civ-spouse</td>\n      <td>Farming-fishing</td>\n      <td>Asian-Pac-Islander</td>\n      <td>Male</td>\n      <td>40</td>\n      <td>Philippines</td>\n      <td>&lt;=50K</td>\n    </tr>\n  </tbody>\n</table>\n<p>130 rows × 10 columns</p>\n</div>",
            "text/plain": "      age             sector      education          marital-status  \\\n126    33            Private      Bachelors           Never-married   \n149    33            Private      Bachelors      Married-civ-spouse   \n195    33            Private   Some-college                Divorced   \n222    33            Private      Bachelors           Never-married   \n223    33            Private        HS-grad      Married-civ-spouse   \n291    33            Private      Bachelors      Married-civ-spouse   \n293    33            Private      Bachelors      Married-civ-spouse   \n314    33            Private        HS-grad      Married-civ-spouse   \n343    33            Private   Some-college                Divorced   \n355    33            Private           10th           Never-married   \n362    33            Private        Masters      Married-civ-spouse   \n399    33            Private     Assoc-acdm      Married-civ-spouse   \n411    33            Private      Bachelors           Never-married   \n459    33        Federal-gov      Assoc-voc                Divorced   \n521    33            Private   Some-college      Married-civ-spouse   \n528    33            Private      Bachelors      Married-civ-spouse   \n596    33            Private        HS-grad           Never-married   \n628    33          Local-gov      Bachelors           Never-married   \n666    33            Private      Bachelors      Married-civ-spouse   \n716    33            Private        HS-grad      Married-civ-spouse   \n734    33            Private   Some-college      Married-civ-spouse   \n770    33            Private        1st-4th   Married-spouse-absent   \n776    33            Private        HS-grad      Married-civ-spouse   \n792    33          Local-gov           10th                Divorced   \n793    33   Self-emp-not-inc      Bachelors      Married-civ-spouse   \n845    33            Private      Assoc-voc      Married-civ-spouse   \n921    33            Private      Bachelors      Married-civ-spouse   \n950    33            Private        Masters      Married-civ-spouse   \n963    33            Private      Bachelors      Married-civ-spouse   \n966    33            Private        HS-grad                Divorced   \n...   ...                ...            ...                     ...   \n4133   33          State-gov        Masters           Never-married   \n4139   33        Federal-gov   Some-college           Never-married   \n4145   33        Federal-gov   Some-college      Married-civ-spouse   \n4178   33   Self-emp-not-inc        1st-4th   Married-spouse-absent   \n4182   33            Private      Doctorate           Never-married   \n4196   33            Private        HS-grad      Married-civ-spouse   \n4204   33            Private        HS-grad                Divorced   \n4213   33            Private     Assoc-acdm   Married-spouse-absent   \n4365   33            Private      Bachelors      Married-civ-spouse   \n4419   33            Private        HS-grad      Married-civ-spouse   \n4473   33          State-gov   Some-college                Divorced   \n4487   33            Private        HS-grad                Divorced   \n4490   33            Private        HS-grad      Married-civ-spouse   \n4501   33            Private        Masters      Married-civ-spouse   \n4533   33            Private      Bachelors      Married-civ-spouse   \n4551   33          Local-gov      Bachelors           Never-married   \n4574   33          Local-gov     Assoc-acdm                Divorced   \n4598   33            Private      Bachelors      Married-civ-spouse   \n4607   33            Private   Some-college      Married-civ-spouse   \n4669   33            Private   Some-college      Married-civ-spouse   \n4675   33            Private        HS-grad               Separated   \n4750   33            Private            9th      Married-civ-spouse   \n4771   33            Private   Some-college           Never-married   \n4776   33            Private      Bachelors      Married-civ-spouse   \n4826   33            Private        HS-grad           Never-married   \n4844   33            Private           11th               Separated   \n4872   33        Federal-gov      Bachelors      Married-civ-spouse   \n4889   33       Self-emp-inc        Masters      Married-civ-spouse   \n4892   33            Private        HS-grad      Married-civ-spouse   \n4963   33            Private        5th-6th      Married-civ-spouse   \n\n              occupation                 race      sex  hours-per-week  \\\n126      Exec-managerial   Asian-Pac-Islander   Female              40   \n149       Prof-specialty                White     Male              65   \n195         Craft-repair                Other   Female              40   \n222       Prof-specialty                White   Female              45   \n223         Craft-repair                White   Female              40   \n291      Exec-managerial                White     Male              40   \n293      Exec-managerial                White     Male              40   \n314         Craft-repair                White   Female              40   \n343      Exec-managerial                White   Female              40   \n355         Craft-repair                White   Female              35   \n362       Prof-specialty                White     Male              50   \n399         Craft-repair                White     Male              45   \n411         Craft-repair                White     Male              20   \n459         Craft-repair                Black   Female              40   \n521      Exec-managerial                White     Male              40   \n528      Exec-managerial                White     Male              60   \n596        Other-service                White     Male              40   \n628       Prof-specialty                White   Female              45   \n666       Prof-specialty                White     Male              47   \n716    Machine-op-inspct                White     Male              40   \n734         Craft-repair                White   Female              60   \n770      Priv-house-serv                White   Female              40   \n776         Craft-repair                White     Male              30   \n792     Transport-moving                White     Male              40   \n793      Exec-managerial                White     Male              40   \n845         Tech-support                White   Female              40   \n921                Sales                White   Female              45   \n950       Prof-specialty                White     Male              44   \n963                Sales                White     Male              60   \n966         Adm-clerical                Black   Female              40   \n...                  ...                  ...      ...             ...   \n4133      Prof-specialty   Asian-Pac-Islander     Male              30   \n4139     Exec-managerial                White     Male              50   \n4145     Exec-managerial                Black   Female              40   \n4178        Craft-repair                White     Male              40   \n4182      Prof-specialty                White   Female              60   \n4196        Craft-repair                White     Male              40   \n4204   Machine-op-inspct                White   Female              40   \n4213        Craft-repair                White     Male              20   \n4365     Exec-managerial                White   Female              32   \n4419      Prof-specialty   Amer-Indian-Eskimo     Male              48   \n4473       Other-service                Black   Female              40   \n4487        Adm-clerical                White     Male              40   \n4490     Exec-managerial                Black     Male              50   \n4501      Prof-specialty                White     Male              40   \n4533      Prof-specialty                White     Male              75   \n4551      Prof-specialty                White   Female              50   \n4574     Protective-serv                White     Male              56   \n4598    Transport-moving                White     Male              40   \n4607     Exec-managerial                White     Male              70   \n4669        Craft-repair                White     Male              41   \n4675   Handlers-cleaners                White     Male              35   \n4750   Machine-op-inspct                White     Male              50   \n4771      Prof-specialty                Black     Male              40   \n4776       Other-service                White   Female              40   \n4826       Other-service   Amer-Indian-Eskimo   Female              36   \n4844               Sales                White   Female              20   \n4872        Adm-clerical                White     Male              42   \n4889        Craft-repair                White     Male              40   \n4892    Transport-moving                White     Male              60   \n4963     Farming-fishing   Asian-Pac-Islander     Male              40   \n\n     country-of-origin  target  \n126        Philippines   <=50K  \n149      United-States   <=50K  \n195      United-States   <=50K  \n222      United-States   <=50K  \n223      United-States    >50K  \n291      United-States    >50K  \n293      United-States    >50K  \n314      United-States   <=50K  \n343      United-States   <=50K  \n355      United-States   <=50K  \n362      United-States    >50K  \n399           Portugal   <=50K  \n411      United-States   <=50K  \n459      United-States    >50K  \n521      United-States    >50K  \n528      United-States    >50K  \n596      United-States   <=50K  \n628      United-States   <=50K  \n666      United-States    >50K  \n716      United-States   <=50K  \n734      United-States   <=50K  \n770          Guatemala   <=50K  \n776      United-States   <=50K  \n792      United-States   <=50K  \n793      United-States    >50K  \n845      United-States    >50K  \n921      United-States    >50K  \n950      United-States    >50K  \n963      United-States    >50K  \n966      United-States   <=50K  \n...                ...     ...  \n4133             Japan   <=50K  \n4139     United-States   <=50K  \n4145     United-States    >50K  \n4178            Mexico   <=50K  \n4182     United-States    >50K  \n4196     United-States   <=50K  \n4204     United-States   <=50K  \n4213     United-States   <=50K  \n4365     United-States    >50K  \n4419     United-States    >50K  \n4473     United-States   <=50K  \n4487     United-States   <=50K  \n4490     United-States   <=50K  \n4501     United-States    >50K  \n4533     United-States    >50K  \n4551     United-States    >50K  \n4574     United-States   <=50K  \n4598     United-States   <=50K  \n4607     United-States    >50K  \n4669     United-States    >50K  \n4675       Puerto-Rico   <=50K  \n4750     United-States   <=50K  \n4771     United-States   <=50K  \n4776     United-States   <=50K  \n4826     United-States   <=50K  \n4844     United-States   <=50K  \n4872     United-States    >50K  \n4889     United-States   <=50K  \n4892     United-States   <=50K  \n4963       Philippines   <=50K  \n\n[130 rows x 10 columns]"
          },
          "metadata": {}
        }
      ],
      "execution_count": 79,
      "metadata": {}
    },
    {
      "cell_type": "code",
      "source": [
        "encoded_data = pd.get_dummies(train_data, columns=['age','sector'])\n",
        "print(encoded_data)\n",
        "# the result is diff"
      ],
      "outputs": [
        {
          "output_type": "stream",
          "name": "stdout",
          "text": [
            "          education          marital-status          occupation  \\\n",
            "0         Bachelors      Married-civ-spouse     Exec-managerial   \n",
            "1           HS-grad                Divorced   Handlers-cleaners   \n",
            "2              11th      Married-civ-spouse   Handlers-cleaners   \n",
            "3         Bachelors      Married-civ-spouse      Prof-specialty   \n",
            "4           Masters      Married-civ-spouse     Exec-managerial   \n",
            "5               9th   Married-spouse-absent       Other-service   \n",
            "6           HS-grad      Married-civ-spouse     Exec-managerial   \n",
            "7           Masters           Never-married      Prof-specialty   \n",
            "8         Bachelors      Married-civ-spouse     Exec-managerial   \n",
            "9      Some-college      Married-civ-spouse     Exec-managerial   \n",
            "10        Bachelors      Married-civ-spouse      Prof-specialty   \n",
            "11        Bachelors           Never-married        Adm-clerical   \n",
            "12       Assoc-acdm           Never-married               Sales   \n",
            "13          7th-8th      Married-civ-spouse    Transport-moving   \n",
            "14          HS-grad           Never-married     Farming-fishing   \n",
            "15          HS-grad           Never-married   Machine-op-inspct   \n",
            "16             11th      Married-civ-spouse               Sales   \n",
            "17          Masters                Divorced     Exec-managerial   \n",
            "18              9th      Married-civ-spouse     Farming-fishing   \n",
            "19             11th      Married-civ-spouse    Transport-moving   \n",
            "20          HS-grad                Divorced        Tech-support   \n",
            "21        Bachelors      Married-civ-spouse        Tech-support   \n",
            "22          HS-grad           Never-married        Craft-repair   \n",
            "23          HS-grad                Divorced     Exec-managerial   \n",
            "24          HS-grad      Married-civ-spouse        Craft-repair   \n",
            "25       Assoc-acdm           Never-married     Protective-serv   \n",
            "26     Some-college           Never-married               Sales   \n",
            "27        Bachelors                Divorced     Exec-managerial   \n",
            "28     Some-college      Married-civ-spouse        Adm-clerical   \n",
            "29     Some-college      Married-civ-spouse       Other-service   \n",
            "...             ...                     ...                 ...   \n",
            "4970        HS-grad      Married-civ-spouse               Sales   \n",
            "4971        HS-grad      Married-civ-spouse               Sales   \n",
            "4972   Some-college           Never-married        Tech-support   \n",
            "4973     Assoc-acdm      Married-civ-spouse               Sales   \n",
            "4974           10th                Divorced     Exec-managerial   \n",
            "4975   Some-college                 Widowed       Other-service   \n",
            "4976        HS-grad      Married-civ-spouse    Transport-moving   \n",
            "4977        HS-grad      Married-civ-spouse   Handlers-cleaners   \n",
            "4978        HS-grad      Married-civ-spouse     Exec-managerial   \n",
            "4979        HS-grad      Married-civ-spouse      Prof-specialty   \n",
            "4980        HS-grad      Married-civ-spouse        Craft-repair   \n",
            "4981   Some-college      Married-civ-spouse     Farming-fishing   \n",
            "4982   Some-college           Never-married       Other-service   \n",
            "4983      Bachelors   Married-spouse-absent      Prof-specialty   \n",
            "4984        HS-grad      Married-civ-spouse               Sales   \n",
            "4985      Bachelors               Separated               Sales   \n",
            "4986      Assoc-voc           Never-married        Adm-clerical   \n",
            "4987      Bachelors           Never-married     Exec-managerial   \n",
            "4988        HS-grad      Married-civ-spouse    Transport-moving   \n",
            "4989        7th-8th      Married-civ-spouse    Transport-moving   \n",
            "4990        HS-grad      Married-civ-spouse       Other-service   \n",
            "4991      Assoc-voc      Married-civ-spouse        Tech-support   \n",
            "4992   Some-college           Never-married       Other-service   \n",
            "4993        HS-grad      Married-civ-spouse               Sales   \n",
            "4994   Some-college           Never-married       Other-service   \n",
            "4995   Some-college           Never-married        Adm-clerical   \n",
            "4996        HS-grad      Married-civ-spouse        Craft-repair   \n",
            "4997        HS-grad      Married-civ-spouse        Adm-clerical   \n",
            "4998      Bachelors           Never-married               Sales   \n",
            "4999      Assoc-voc           Never-married        Adm-clerical   \n",
            "\n",
            "                     race      sex  hours-per-week country-of-origin  target  \\\n",
            "0                   White     Male              13     United-States   <=50K   \n",
            "1                   White     Male              40     United-States   <=50K   \n",
            "2                   Black     Male              40     United-States   <=50K   \n",
            "3                   Black   Female              40              Cuba   <=50K   \n",
            "4                   White   Female              40     United-States   <=50K   \n",
            "5                   Black   Female              16           Jamaica   <=50K   \n",
            "6                   White     Male              45     United-States    >50K   \n",
            "7                   White   Female              50     United-States    >50K   \n",
            "8                   White     Male              40     United-States    >50K   \n",
            "9                   Black     Male              80     United-States    >50K   \n",
            "10     Asian-Pac-Islander     Male              40             India    >50K   \n",
            "11                  White   Female              30     United-States   <=50K   \n",
            "12                  Black     Male              50     United-States   <=50K   \n",
            "13     Amer-Indian-Eskimo     Male              45            Mexico   <=50K   \n",
            "14                  White     Male              35     United-States   <=50K   \n",
            "15                  White     Male              40     United-States   <=50K   \n",
            "16                  White     Male              50     United-States   <=50K   \n",
            "17                  White   Female              45     United-States    >50K   \n",
            "18                  Black     Male              40     United-States   <=50K   \n",
            "19                  White     Male              40     United-States   <=50K   \n",
            "20                  White   Female              40     United-States   <=50K   \n",
            "21                  White     Male              40     United-States    >50K   \n",
            "22                  White     Male              40     United-States   <=50K   \n",
            "23                  White     Male              80     United-States   <=50K   \n",
            "24                  White     Male              40     United-States   <=50K   \n",
            "25                  White     Male              52     United-States   <=50K   \n",
            "26                  Black     Male              44     United-States   <=50K   \n",
            "27                  White     Male              40     United-States   <=50K   \n",
            "28                  White     Male              40     United-States   <=50K   \n",
            "29                  Black     Male              15     United-States   <=50K   \n",
            "...                   ...      ...             ...               ...     ...   \n",
            "4970                White     Male              40     United-States    >50K   \n",
            "4971                White     Male              50     United-States    >50K   \n",
            "4972                White     Male              40     United-States   <=50K   \n",
            "4973                White     Male              50     United-States   <=50K   \n",
            "4974                White     Male              60     United-States    >50K   \n",
            "4975                White   Female              35     United-States   <=50K   \n",
            "4976                Black     Male              60     United-States   <=50K   \n",
            "4977                Black     Male              40     United-States   <=50K   \n",
            "4978                White     Male              60     United-States    >50K   \n",
            "4979                White     Male              40     United-States    >50K   \n",
            "4980                White     Male              40     United-States   <=50K   \n",
            "4981                White     Male              40     United-States   <=50K   \n",
            "4982                White   Female              40     United-States   <=50K   \n",
            "4983                White   Female              40     United-States   <=50K   \n",
            "4984                White     Male              50     United-States    >50K   \n",
            "4985                White   Female              30     United-States   <=50K   \n",
            "4986                White     Male              43     United-States   <=50K   \n",
            "4987                White     Male              20     United-States    >50K   \n",
            "4988                White     Male              40     United-States    >50K   \n",
            "4989                White     Male              75     United-States   <=50K   \n",
            "4990   Asian-Pac-Islander     Male              60             Japan   <=50K   \n",
            "4991                White     Male              40            Mexico   <=50K   \n",
            "4992                White   Female              48     United-States   <=50K   \n",
            "4993                White     Male              68     United-States    >50K   \n",
            "4994                White     Male              40            Poland   <=50K   \n",
            "4995                Black   Female              30           Jamaica   <=50K   \n",
            "4996                White     Male              55     United-States    >50K   \n",
            "4997                White   Female               5     United-States   <=50K   \n",
            "4998                White     Male              40     United-States   <=50K   \n",
            "4999                White   Female              40     United-States   <=50K   \n",
            "\n",
            "      age_17  age_18  ...  age_81  age_88  age_90  sector_ Federal-gov  \\\n",
            "0          0       0  ...       0       0       0                    0   \n",
            "1          0       0  ...       0       0       0                    0   \n",
            "2          0       0  ...       0       0       0                    0   \n",
            "3          0       0  ...       0       0       0                    0   \n",
            "4          0       0  ...       0       0       0                    0   \n",
            "5          0       0  ...       0       0       0                    0   \n",
            "6          0       0  ...       0       0       0                    0   \n",
            "7          0       0  ...       0       0       0                    0   \n",
            "8          0       0  ...       0       0       0                    0   \n",
            "9          0       0  ...       0       0       0                    0   \n",
            "10         0       0  ...       0       0       0                    0   \n",
            "11         0       0  ...       0       0       0                    0   \n",
            "12         0       0  ...       0       0       0                    0   \n",
            "13         0       0  ...       0       0       0                    0   \n",
            "14         0       0  ...       0       0       0                    0   \n",
            "15         0       0  ...       0       0       0                    0   \n",
            "16         0       0  ...       0       0       0                    0   \n",
            "17         0       0  ...       0       0       0                    0   \n",
            "18         0       0  ...       0       0       0                    1   \n",
            "19         0       0  ...       0       0       0                    0   \n",
            "20         0       0  ...       0       0       0                    0   \n",
            "21         0       0  ...       0       0       0                    0   \n",
            "22         0       0  ...       0       0       0                    0   \n",
            "23         0       0  ...       0       0       0                    0   \n",
            "24         0       0  ...       0       0       0                    0   \n",
            "25         0       0  ...       0       0       0                    0   \n",
            "26         0       0  ...       0       0       0                    0   \n",
            "27         0       0  ...       0       0       0                    0   \n",
            "28         0       0  ...       0       0       0                    1   \n",
            "29         0       0  ...       0       0       0                    0   \n",
            "...      ...     ...  ...     ...     ...     ...                  ...   \n",
            "4970       0       0  ...       0       0       0                    0   \n",
            "4971       0       0  ...       0       0       0                    0   \n",
            "4972       0       0  ...       0       0       0                    0   \n",
            "4973       0       0  ...       0       0       0                    0   \n",
            "4974       0       0  ...       0       0       0                    0   \n",
            "4975       0       0  ...       0       0       0                    0   \n",
            "4976       0       0  ...       0       0       0                    0   \n",
            "4977       0       0  ...       0       0       0                    0   \n",
            "4978       0       0  ...       0       0       0                    0   \n",
            "4979       0       0  ...       0       0       0                    0   \n",
            "4980       0       0  ...       0       0       0                    0   \n",
            "4981       0       0  ...       0       0       0                    0   \n",
            "4982       0       0  ...       0       0       0                    0   \n",
            "4983       0       0  ...       0       0       0                    0   \n",
            "4984       0       0  ...       0       0       0                    0   \n",
            "4985       0       0  ...       0       0       0                    0   \n",
            "4986       0       0  ...       0       0       0                    0   \n",
            "4987       0       0  ...       0       0       0                    0   \n",
            "4988       0       0  ...       0       0       0                    0   \n",
            "4989       0       0  ...       0       0       0                    0   \n",
            "4990       0       0  ...       0       0       0                    0   \n",
            "4991       0       0  ...       0       0       0                    0   \n",
            "4992       0       0  ...       0       0       0                    0   \n",
            "4993       0       0  ...       0       0       0                    0   \n",
            "4994       0       0  ...       0       0       0                    0   \n",
            "4995       0       0  ...       0       0       0                    0   \n",
            "4996       0       0  ...       0       0       0                    0   \n",
            "4997       0       0  ...       0       0       0                    0   \n",
            "4998       0       0  ...       0       0       0                    0   \n",
            "4999       0       0  ...       0       0       0                    0   \n",
            "\n",
            "      sector_ Local-gov  sector_ Private  sector_ Self-emp-inc  \\\n",
            "0                     0                0                     0   \n",
            "1                     0                1                     0   \n",
            "2                     0                1                     0   \n",
            "3                     0                1                     0   \n",
            "4                     0                1                     0   \n",
            "5                     0                1                     0   \n",
            "6                     0                0                     0   \n",
            "7                     0                1                     0   \n",
            "8                     0                1                     0   \n",
            "9                     0                1                     0   \n",
            "10                    0                0                     0   \n",
            "11                    0                1                     0   \n",
            "12                    0                1                     0   \n",
            "13                    0                1                     0   \n",
            "14                    0                0                     0   \n",
            "15                    0                1                     0   \n",
            "16                    0                1                     0   \n",
            "17                    0                0                     0   \n",
            "18                    0                0                     0   \n",
            "19                    0                1                     0   \n",
            "20                    0                1                     0   \n",
            "21                    1                0                     0   \n",
            "22                    0                1                     0   \n",
            "23                    0                1                     0   \n",
            "24                    0                1                     0   \n",
            "25                    1                0                     0   \n",
            "26                    0                1                     0   \n",
            "27                    0                1                     0   \n",
            "28                    0                0                     0   \n",
            "29                    0                0                     0   \n",
            "...                 ...              ...                   ...   \n",
            "4970                  0                1                     0   \n",
            "4971                  0                0                     0   \n",
            "4972                  0                1                     0   \n",
            "4973                  0                0                     0   \n",
            "4974                  0                0                     0   \n",
            "4975                  0                1                     0   \n",
            "4976                  1                0                     0   \n",
            "4977                  0                1                     0   \n",
            "4978                  0                1                     0   \n",
            "4979                  0                1                     0   \n",
            "4980                  0                1                     0   \n",
            "4981                  1                0                     0   \n",
            "4982                  0                1                     0   \n",
            "4983                  0                1                     0   \n",
            "4984                  0                0                     0   \n",
            "4985                  0                0                     1   \n",
            "4986                  1                0                     0   \n",
            "4987                  0                0                     0   \n",
            "4988                  0                1                     0   \n",
            "4989                  0                0                     0   \n",
            "4990                  0                1                     0   \n",
            "4991                  0                1                     0   \n",
            "4992                  0                0                     0   \n",
            "4993                  0                0                     1   \n",
            "4994                  0                1                     0   \n",
            "4995                  0                1                     0   \n",
            "4996                  0                0                     0   \n",
            "4997                  0                1                     0   \n",
            "4998                  0                1                     0   \n",
            "4999                  0                1                     0   \n",
            "\n",
            "      sector_ Self-emp-not-inc  sector_ State-gov  sector_ Without-pay  \n",
            "0                            1                  0                    0  \n",
            "1                            0                  0                    0  \n",
            "2                            0                  0                    0  \n",
            "3                            0                  0                    0  \n",
            "4                            0                  0                    0  \n",
            "5                            0                  0                    0  \n",
            "6                            1                  0                    0  \n",
            "7                            0                  0                    0  \n",
            "8                            0                  0                    0  \n",
            "9                            0                  0                    0  \n",
            "10                           0                  1                    0  \n",
            "11                           0                  0                    0  \n",
            "12                           0                  0                    0  \n",
            "13                           0                  0                    0  \n",
            "14                           1                  0                    0  \n",
            "15                           0                  0                    0  \n",
            "16                           0                  0                    0  \n",
            "17                           1                  0                    0  \n",
            "18                           0                  0                    0  \n",
            "19                           0                  0                    0  \n",
            "20                           0                  0                    0  \n",
            "21                           0                  0                    0  \n",
            "22                           0                  0                    0  \n",
            "23                           0                  0                    0  \n",
            "24                           0                  0                    0  \n",
            "25                           0                  0                    0  \n",
            "26                           0                  0                    0  \n",
            "27                           0                  0                    0  \n",
            "28                           0                  0                    0  \n",
            "29                           0                  1                    0  \n",
            "...                        ...                ...                  ...  \n",
            "4970                         0                  0                    0  \n",
            "4971                         1                  0                    0  \n",
            "4972                         0                  0                    0  \n",
            "4973                         1                  0                    0  \n",
            "4974                         1                  0                    0  \n",
            "4975                         0                  0                    0  \n",
            "4976                         0                  0                    0  \n",
            "4977                         0                  0                    0  \n",
            "4978                         0                  0                    0  \n",
            "4979                         0                  0                    0  \n",
            "4980                         0                  0                    0  \n",
            "4981                         0                  0                    0  \n",
            "4982                         0                  0                    0  \n",
            "4983                         0                  0                    0  \n",
            "4984                         1                  0                    0  \n",
            "4985                         0                  0                    0  \n",
            "4986                         0                  0                    0  \n",
            "4987                         1                  0                    0  \n",
            "4988                         0                  0                    0  \n",
            "4989                         1                  0                    0  \n",
            "4990                         0                  0                    0  \n",
            "4991                         0                  0                    0  \n",
            "4992                         1                  0                    0  \n",
            "4993                         0                  0                    0  \n",
            "4994                         0                  0                    0  \n",
            "4995                         0                  0                    0  \n",
            "4996                         1                  0                    0  \n",
            "4997                         0                  0                    0  \n",
            "4998                         0                  0                    0  \n",
            "4999                         0                  0                    0  \n",
            "\n",
            "[5000 rows x 82 columns]\n"
          ]
        }
      ],
      "execution_count": 80,
      "metadata": {}
    },
    {
      "cell_type": "code",
      "source": [
        "#Q2-3. Binarization in Scikit-Learn"
      ],
      "outputs": [],
      "execution_count": 81,
      "metadata": {}
    },
    {
      "cell_type": "code",
      "source": [
        "from sklearn.preprocessing import OneHotEncoder"
      ],
      "outputs": [],
      "execution_count": 82,
      "metadata": {}
    },
    {
      "cell_type": "code",
      "source": [
        "encoder = OneHotEncoder(sparse=False, handle_unknown='ignore')"
      ],
      "outputs": [],
      "execution_count": 83,
      "metadata": {}
    },
    {
      "cell_type": "code",
      "source": [
        "encoder.fit(train_data)"
      ],
      "outputs": [
        {
          "output_type": "execute_result",
          "execution_count": 84,
          "data": {
            "text/plain": "OneHotEncoder(categorical_features=None, categories=None,\n       dtype=<type 'numpy.float64'>, handle_unknown='ignore',\n       n_values=None, sparse=False)"
          },
          "metadata": {}
        }
      ],
      "execution_count": 84,
      "metadata": {}
    },
    {
      "cell_type": "code",
      "source": [
        "binary_data = encoder.transform(train_data)"
      ],
      "outputs": [],
      "execution_count": 85,
      "metadata": {}
    },
    {
      "cell_type": "code",
      "source": [
        "binary_data"
      ],
      "outputs": [
        {
          "output_type": "execute_result",
          "execution_count": 86,
          "data": {
            "text/plain": "array([[0., 0., 0., ..., 0., 1., 0.],\n       [0., 0., 0., ..., 0., 1., 0.],\n       [0., 0., 0., ..., 0., 1., 0.],\n       ...,\n       [0., 0., 0., ..., 0., 1., 0.],\n       [0., 0., 0., ..., 0., 1., 0.],\n       [0., 0., 0., ..., 0., 1., 0.]])"
          },
          "metadata": {}
        }
      ],
      "execution_count": 86,
      "metadata": {}
    },
    {
      "cell_type": "code",
      "source": [
        "encoder.get_feature_names()"
      ],
      "outputs": [
        {
          "output_type": "execute_result",
          "execution_count": 87,
          "data": {
            "text/plain": "array([u'x0_17', u'x0_18', u'x0_19', u'x0_20', u'x0_21', u'x0_22',\n       u'x0_23', u'x0_24', u'x0_25', u'x0_26', u'x0_27', u'x0_28',\n       u'x0_29', u'x0_30', u'x0_31', u'x0_32', u'x0_33', u'x0_34',\n       u'x0_35', u'x0_36', u'x0_37', u'x0_38', u'x0_39', u'x0_40',\n       u'x0_41', u'x0_42', u'x0_43', u'x0_44', u'x0_45', u'x0_46',\n       u'x0_47', u'x0_48', u'x0_49', u'x0_50', u'x0_51', u'x0_52',\n       u'x0_53', u'x0_54', u'x0_55', u'x0_56', u'x0_57', u'x0_58',\n       u'x0_59', u'x0_60', u'x0_61', u'x0_62', u'x0_63', u'x0_64',\n       u'x0_65', u'x0_66', u'x0_67', u'x0_68', u'x0_69', u'x0_70',\n       u'x0_71', u'x0_72', u'x0_73', u'x0_74', u'x0_75', u'x0_76',\n       u'x0_77', u'x0_78', u'x0_79', u'x0_80', u'x0_81', u'x0_88',\n       u'x0_90', u'x1_ Federal-gov', u'x1_ Local-gov', u'x1_ Private',\n       u'x1_ Self-emp-inc', u'x1_ Self-emp-not-inc', u'x1_ State-gov',\n       u'x1_ Without-pay', u'x2_ 10th', u'x2_ 11th', u'x2_ 12th',\n       u'x2_ 1st-4th', u'x2_ 5th-6th', u'x2_ 7th-8th', u'x2_ 9th',\n       u'x2_ Assoc-acdm', u'x2_ Assoc-voc', u'x2_ Bachelors',\n       u'x2_ Doctorate', u'x2_ HS-grad', u'x2_ Masters', u'x2_ Preschool',\n       u'x2_ Prof-school', u'x2_ Some-college', u'x3_ Divorced',\n       u'x3_ Married-AF-spouse', u'x3_ Married-civ-spouse',\n       u'x3_ Married-spouse-absent', u'x3_ Never-married',\n       u'x3_ Separated', u'x3_ Widowed', u'x4_ Adm-clerical',\n       u'x4_ Armed-Forces', u'x4_ Craft-repair', u'x4_ Exec-managerial',\n       u'x4_ Farming-fishing', u'x4_ Handlers-cleaners',\n       u'x4_ Machine-op-inspct', u'x4_ Other-service',\n       u'x4_ Priv-house-serv', u'x4_ Prof-specialty',\n       u'x4_ Protective-serv', u'x4_ Sales', u'x4_ Tech-support',\n       u'x4_ Transport-moving', u'x5_ Amer-Indian-Eskimo',\n       u'x5_ Asian-Pac-Islander', u'x5_ Black', u'x5_ Other',\n       u'x5_ White', u'x6_ Female', u'x6_ Male', u'x7_1', u'x7_2',\n       u'x7_3', u'x7_5', u'x7_6', u'x7_7', u'x7_8', u'x7_9', u'x7_10',\n       u'x7_11', u'x7_12', u'x7_13', u'x7_14', u'x7_15', u'x7_16',\n       u'x7_17', u'x7_18', u'x7_19', u'x7_20', u'x7_21', u'x7_22',\n       u'x7_24', u'x7_25', u'x7_26', u'x7_27', u'x7_28', u'x7_30',\n       u'x7_32', u'x7_33', u'x7_34', u'x7_35', u'x7_36', u'x7_37',\n       u'x7_38', u'x7_39', u'x7_40', u'x7_41', u'x7_42', u'x7_43',\n       u'x7_44', u'x7_45', u'x7_46', u'x7_47', u'x7_48', u'x7_49',\n       u'x7_50', u'x7_51', u'x7_52', u'x7_53', u'x7_54', u'x7_55',\n       u'x7_56', u'x7_57', u'x7_58', u'x7_59', u'x7_60', u'x7_62',\n       u'x7_63', u'x7_64', u'x7_65', u'x7_66', u'x7_68', u'x7_70',\n       u'x7_72', u'x7_75', u'x7_77', u'x7_78', u'x7_80', u'x7_84',\n       u'x7_85', u'x7_90', u'x7_98', u'x7_99', u'x8_ Cambodia',\n       u'x8_ Canada', u'x8_ China', u'x8_ Columbia', u'x8_ Cuba',\n       u'x8_ Dominican-Republic', u'x8_ Ecuador', u'x8_ El-Salvador',\n       u'x8_ England', u'x8_ France', u'x8_ Germany', u'x8_ Greece',\n       u'x8_ Guatemala', u'x8_ Haiti', u'x8_ Honduras', u'x8_ Hong',\n       u'x8_ India', u'x8_ Iran', u'x8_ Ireland', u'x8_ Italy',\n       u'x8_ Jamaica', u'x8_ Japan', u'x8_ Laos', u'x8_ Mexico',\n       u'x8_ Nicaragua', u'x8_ Outlying-US(Guam-USVI-etc)', u'x8_ Peru',\n       u'x8_ Philippines', u'x8_ Poland', u'x8_ Portugal',\n       u'x8_ Puerto-Rico', u'x8_ Scotland', u'x8_ South', u'x8_ Taiwan',\n       u'x8_ Thailand', u'x8_ Trinadad&Tobago', u'x8_ United-States',\n       u'x8_ Vietnam', u'x8_ Yugoslavia', u'x9_ <=50K', u'x9_ >50K'],\n      dtype=object)"
          },
          "metadata": {}
        }
      ],
      "execution_count": 87,
      "metadata": {}
    },
    {
      "cell_type": "code",
      "source": [
        "binary_data.shape"
      ],
      "outputs": [
        {
          "output_type": "execute_result",
          "execution_count": 88,
          "data": {
            "text/plain": "(5000L, 232L)"
          },
          "metadata": {}
        }
      ],
      "execution_count": 88,
      "metadata": {}
    },
    {
      "cell_type": "code",
      "source": [
        "#Q2-4. Fit k-NN via Scikit-Learn"
      ],
      "outputs": [],
      "execution_count": 89,
      "metadata": {}
    },
    {
      "cell_type": "code",
      "source": [
        "from sklearn.neighbors import KNeighborsClassifier"
      ],
      "outputs": [],
      "execution_count": 90,
      "metadata": {}
    },
    {
      "cell_type": "code",
      "source": [
        "from sklearn.metrics import accuracy_score"
      ],
      "outputs": [],
      "execution_count": 91,
      "metadata": {}
    },
    {
      "cell_type": "code",
      "source": [
        "# Encode categorical variables using OneHotEncoder\n",
        "X_train = encoder.fit_transform(train_data.drop(\"target\", axis=1))\n",
        "y_train = train_data[\"target\"]\n",
        "\n",
        "X_dev = encoder.transform(dev_data.drop(\"target\", axis=1))\n",
        "y_dev = dev_data[\"target\"]"
      ],
      "outputs": [],
      "execution_count": 92,
      "metadata": {}
    },
    {
      "cell_type": "code",
      "source": [
        "# Initialize variables to store the results\n",
        "best_dev_error = 100.0\n",
        "best_k = -1"
      ],
      "outputs": [],
      "execution_count": 93,
      "metadata": {}
    },
    {
      "cell_type": "code",
      "source": [
        "# Loop through odd values of k from 1 to 100\n",
        "for k in range(1, 101, 2):\n",
        "    kNN = KNeighborsClassifier(n_neighbors=k)\n",
        "    kNN.fit(X_train, y_train)\n",
        "    \n",
        "    # Predict on training and dev sets\n",
        "    train_preds = kNN.predict(X_train)\n",
        "    dev_preds = kNN.predict(X_dev)\n",
        "    \n",
        "    # Calculate error rates and positive rates\n",
        "    train_err = 100 * (1 - accuracy_score(y_train, train_preds))\n",
        "    dev_err = 100 * (1 - accuracy_score(y_dev, dev_preds))\n",
        "    train_pos_rate = 100 * (sum(train_preds == \">50K\") / len(train_preds))\n",
        "    dev_pos_rate = 100 * (sum(dev_preds == \">50K\") / len(dev_preds))\n",
        "    \n",
        "    # Update best error rate and k if necessary\n",
        "    if dev_err < best_dev_error:\n",
        "        best_dev_error = dev_err\n",
        "        best_k = k\n",
        "    \n",
        "    # Print results\n",
        "    print(k, train_err, train_pos_rate, dev_err, dev_pos_rate)\n",
        "\n",
        "print(\"best error rate on dev? which k achieves this best error rate? \\n\", best_dev_error, best_k)\n"
      ],
      "outputs": [
        {
          "output_type": "stream",
          "name": "stdout",
          "text": [
            "(1, 1.5199999999999991, 0, 23.5, 0)\n",
            "(3, 11.819999999999997, 0, 18.200000000000006, 0)\n",
            "(5, 14.559999999999995, 0, 16.900000000000006, 0)\n",
            "(7, 15.480000000000004, 0, 15.500000000000004, 0)\n",
            "(9, 16.32, 0, 16.700000000000003, 0)\n",
            "(11, 16.779999999999994, 0, 17.000000000000004, 0)\n",
            "(13, 16.779999999999994, 0, 16.1, 0)\n",
            "(15, 17.14, 0, 16.200000000000003, 0)\n",
            "(17, 17.32, 0, 16.400000000000002, 0)\n",
            "(19, 17.34, 0, 16.600000000000005, 0)\n",
            "(21, 17.459999999999997, 0, 15.900000000000002, 0)\n",
            "(23, 17.600000000000005, 0, 16.500000000000004, 0)\n",
            "(25, 17.300000000000004, 0, 16.400000000000002, 0)\n",
            "(27, 17.600000000000005, 0, 15.300000000000002, 0)\n",
            "(29, 17.259999999999998, 0, 15.700000000000003, 0)\n",
            "(31, 17.659999999999997, 0, 16.000000000000004, 0)\n",
            "(33, 17.679999999999996, 0, 16.400000000000002, 0)\n",
            "(35, 17.459999999999997, 0, 16.300000000000004, 0)\n",
            "(37, 17.64, 0, 16.400000000000002, 0)\n",
            "(39, 17.959999999999997, 0, 16.1, 0)\n",
            "(41, 17.820000000000004, 0, 15.800000000000002, 0)\n",
            "(43, 18.000000000000004, 0, 16.200000000000003, 0)\n",
            "(45, 17.720000000000002, 0, 16.000000000000004, 0)\n",
            "(47, 17.94, 0, 16.200000000000003, 0)\n",
            "(49, 17.900000000000006, 0, 16.500000000000004, 0)\n",
            "(51, 17.92, 0, 16.1, 0)\n",
            "(53, 17.84, 0, 16.000000000000004, 0)\n",
            "(55, 17.84, 0, 16.000000000000004, 0)\n",
            "(57, 17.800000000000004, 0, 15.900000000000002, 0)\n",
            "(59, 17.779999999999994, 0, 15.800000000000002, 0)\n",
            "(61, 17.64, 0, 16.000000000000004, 0)\n",
            "(63, 18.04, 0, 16.200000000000003, 0)\n",
            "(65, 17.979999999999997, 0, 16.500000000000004, 0)\n",
            "(67, 18.000000000000004, 0, 16.1, 0)\n",
            "(69, 17.92, 0, 16.300000000000004, 0)\n",
            "(71, 18.220000000000002, 0, 16.400000000000002, 0)\n",
            "(73, 18.300000000000004, 0, 16.1, 0)\n",
            "(75, 18.100000000000005, 0, 16.200000000000003, 0)\n",
            "(77, 18.120000000000005, 0, 16.200000000000003, 0)\n",
            "(79, 18.000000000000004, 0, 16.400000000000002, 0)\n",
            "(81, 18.100000000000005, 0, 16.400000000000002, 0)\n",
            "(83, 18.120000000000005, 0, 16.200000000000003, 0)\n",
            "(85, 18.259999999999998, 0, 16.300000000000004, 0)\n",
            "(87, 18.100000000000005, 0, 16.400000000000002, 0)\n",
            "(89, 18.259999999999998, 0, 16.000000000000004, 0)\n",
            "(91, 18.120000000000005, 0, 15.900000000000002, 0)\n",
            "(93, 18.240000000000002, 0, 16.1, 0)\n",
            "(95, 18.400000000000006, 0, 16.000000000000004, 0)\n",
            "(97, 18.159999999999997, 0, 15.700000000000003, 0)\n",
            "(99, 18.44, 0, 16.000000000000004, 0)\n",
            "('best error rate on dev? which k achieves this best error rate? \\n', 15.300000000000002, 27)\n"
          ]
        }
      ],
      "execution_count": 94,
      "metadata": {}
    },
    {
      "cell_type": "code",
      "source": [
        "from sklearn.compose import ColumnTransformer"
      ],
      "outputs": [],
      "execution_count": 95,
      "metadata": {}
    },
    {
      "cell_type": "code",
      "source": [
        "# Q3-1\n",
        "# Identify numerical and categorical colums\n",
        "numerical_columns = [\"age\",\"hours-per-week\"]\n",
        "categoical_columns = [col for col in column_names if col not in numerical_columns and col != \"target\"]"
      ],
      "outputs": [],
      "execution_count": 96,
      "metadata": {}
    },
    {
      "cell_type": "code",
      "source": [
        "# Instantiate  the preprocessing methods for numerical and categorical data\n",
        "num_processor = \"passthrough\"\n",
        "cat_processor = OneHotEncoder(sparse=False, handle_unknown=\"ignore\")"
      ],
      "outputs": [],
      "execution_count": 97,
      "metadata": {}
    },
    {
      "cell_type": "code",
      "source": [
        "#Create a ColumnTransformer\n",
        "preprocessor = ColumnTransformer([\n",
        "    (\"num\", num_processor, numerical_columns),\n",
        "    (\"cat\",cat_processor,categoical_columns)\n",
        "])"
      ],
      "outputs": [],
      "execution_count": 98,
      "metadata": {}
    },
    {
      "cell_type": "code",
      "source": [
        "preprocessor.fit(train_data)\n",
        "processed_train_data = preprocessor.transform(train_data)\n",
        "processed_train_data"
      ],
      "outputs": [
        {
          "output_type": "execute_result",
          "execution_count": 99,
          "data": {
            "text/plain": "array([[50., 13.,  0., ...,  1.,  0.,  0.],\n       [38., 40.,  0., ...,  1.,  0.,  0.],\n       [53., 40.,  0., ...,  1.,  0.,  0.],\n       ...,\n       [61.,  5.,  0., ...,  1.,  0.,  0.],\n       [42., 40.,  0., ...,  1.,  0.,  0.],\n       [21., 40.,  0., ...,  1.,  0.,  0.]])"
          },
          "metadata": {}
        }
      ],
      "execution_count": 99,
      "metadata": {}
    },
    {
      "cell_type": "code",
      "source": [
        "preprocessor.fit(dev_data)\n",
        "processed_dev_data = preprocessor.transform(dev_data)\n",
        "processed_dev_data"
      ],
      "outputs": [
        {
          "output_type": "execute_result",
          "execution_count": 100,
          "data": {
            "text/plain": "array([[45., 45.,  1., ...,  1.,  0.,  0.],\n       [33., 20.,  0., ...,  0.,  0.,  0.],\n       [19., 40.,  0., ...,  1.,  0.,  0.],\n       ...,\n       [20., 40.,  0., ...,  1.,  0.,  0.],\n       [22., 35.,  0., ...,  1.,  0.,  0.],\n       [58., 40.,  0., ...,  1.,  0.,  0.]])"
          },
          "metadata": {}
        }
      ],
      "execution_count": 100,
      "metadata": {}
    },
    {
      "cell_type": "code",
      "source": [
        "# Fit the preprocessor to the training data and transform\n",
        "X_re_train = preprocessor.fit_transform(train_data.drop(\"target\",axis=1))\n",
        "y_re_train = train_data[\"target\"]\n",
        "\n",
        "X_re_dev = preprocessor.transform(dev_data.drop(\"target\", axis=1))\n",
        "y_re_dev = dev_data[\"target\"]"
      ],
      "outputs": [],
      "execution_count": 101,
      "metadata": {}
    },
    {
      "cell_type": "code",
      "source": [
        "re_best_dev_error = 100.0\n",
        "re_best_k = -1"
      ],
      "outputs": [],
      "execution_count": 102,
      "metadata": {}
    },
    {
      "cell_type": "code",
      "source": [
        "for k in range(1,101,2):\n",
        "    knn = KNeighborsClassifier(n_neighbors=k)\n",
        "    knn.fit(X_re_train, y_re_train)\n",
        "    \n",
        "    train_preds = knn.predict(X_re_train)\n",
        "    dev_preds = knn.predict(X_re_dev)\n",
        "    \n",
        "    train_err = 100 * (1- accuracy_score(y_re_train, train_preds))\n",
        "    dev_err = 100 * (1 - accuracy_score(y_re_dev, dev_preds))\n",
        "    \n",
        "    if dev_err < re_best_dev_error:\n",
        "        re_best_dev_error = dev_err\n",
        "        re_best_k = k\n",
        "        \n",
        "    print(k, train_err, dev_err)\n",
        "    \n",
        "print(re_best_dev_error, re_best_k)"
      ],
      "outputs": [
        {
          "output_type": "stream",
          "name": "stdout",
          "text": [
            "(1, 1.5000000000000013, 26.8)\n",
            "(3, 12.819999999999999, 24.7)\n",
            "(5, 16.000000000000004, 23.299999999999997)\n",
            "(7, 16.859999999999996, 23.5)\n",
            "(9, 17.979999999999997, 22.599999999999998)\n",
            "(11, 18.54, 21.699999999999996)\n",
            "(13, 18.979999999999997, 23.0)\n",
            "(15, 19.259999999999998, 22.4)\n",
            "(17, 19.920000000000005, 21.9)\n",
            "(19, 19.620000000000005, 21.999999999999996)\n",
            "(21, 20.099999999999994, 22.099999999999998)\n",
            "(23, 20.399999999999995, 22.099999999999998)\n",
            "(25, 20.58, 22.199999999999996)\n",
            "(27, 20.499999999999996, 21.4)\n",
            "(29, 20.620000000000005, 22.599999999999998)\n",
            "(31, 20.66, 21.999999999999996)\n",
            "(33, 21.020000000000007, 21.699999999999996)\n",
            "(35, 21.060000000000002, 20.799999999999997)\n",
            "(37, 21.060000000000002, 21.799999999999997)\n",
            "(39, 21.919999999999995, 21.4)\n",
            "(41, 21.860000000000003, 21.099999999999998)\n",
            "(43, 21.78, 21.999999999999996)\n",
            "(45, 21.819999999999993, 21.4)\n",
            "(47, 22.140000000000004, 22.199999999999996)\n",
            "(49, 22.419999999999995, 21.999999999999996)\n",
            "(51, 22.26, 21.999999999999996)\n",
            "(53, 22.340000000000003, 21.699999999999996)\n",
            "(55, 22.7, 22.499999999999996)\n",
            "(57, 22.7, 22.4)\n",
            "(59, 22.7, 21.9)\n",
            "(61, 22.799999999999997, 21.799999999999997)\n",
            "(63, 22.560000000000002, 22.199999999999996)\n",
            "(65, 22.640000000000004, 22.299999999999997)\n",
            "(67, 22.919999999999995, 22.599999999999998)\n",
            "(69, 22.76, 22.799999999999997)\n",
            "(71, 23.080000000000002, 22.599999999999998)\n",
            "(73, 23.240000000000006, 22.799999999999997)\n",
            "(75, 23.099999999999998, 22.799999999999997)\n",
            "(77, 23.2, 22.499999999999996)\n",
            "(79, 23.28, 22.4)\n",
            "(81, 23.380000000000003, 22.199999999999996)\n",
            "(83, 23.319999999999997, 21.999999999999996)\n",
            "(85, 23.380000000000003, 22.299999999999997)\n",
            "(87, 23.460000000000004, 22.199999999999996)\n",
            "(89, 23.319999999999997, 22.499999999999996)\n",
            "(91, 23.340000000000003, 22.799999999999997)\n",
            "(93, 23.4, 22.599999999999998)\n",
            "(95, 23.4, 22.499999999999996)\n",
            "(97, 23.26, 22.599999999999998)\n",
            "(99, 23.28, 23.099999999999998)\n",
            "(20.799999999999997, 35)\n"
          ]
        }
      ],
      "execution_count": 103,
      "metadata": {}
    },
    {
      "cell_type": "code",
      "source": [
        "from sklearn.preprocessing import MinMaxScaler"
      ],
      "outputs": [],
      "execution_count": 104,
      "metadata": {}
    },
    {
      "cell_type": "code",
      "source": [
        "#Q3-2\n",
        "# Instantiate the processing methods for numerical and categorical data\n",
        "num_processor = MinMaxScaler(feature_range=(0, 2))\n",
        "cat_processor = OneHotEncoder(sparse=False, handle_unknown=\"ignore\")"
      ],
      "outputs": [],
      "execution_count": 105,
      "metadata": {}
    },
    {
      "cell_type": "code",
      "source": [
        "# Create a ColumnTransformer\n",
        "preprocessor = ColumnTransformer([\n",
        "    (\"num\", num_processor, numerical_columns),\n",
        "    (\"cat\", cat_processor, categoical_columns)\n",
        "])"
      ],
      "outputs": [],
      "execution_count": 106,
      "metadata": {}
    },
    {
      "cell_type": "code",
      "source": [
        "preprocessor.fit(train_data)\n",
        "processed_train_data = preprocessor.transform(train_data)\n",
        "processed_train_data"
      ],
      "outputs": [
        {
          "output_type": "execute_result",
          "execution_count": 107,
          "data": {
            "text/plain": "array([[0.90410959, 0.24489796, 0.        , ..., 1.        , 0.        ,\n        0.        ],\n       [0.57534247, 0.79591837, 0.        , ..., 1.        , 0.        ,\n        0.        ],\n       [0.98630137, 0.79591837, 0.        , ..., 1.        , 0.        ,\n        0.        ],\n       ...,\n       [1.20547945, 0.08163265, 0.        , ..., 1.        , 0.        ,\n        0.        ],\n       [0.68493151, 0.79591837, 0.        , ..., 1.        , 0.        ,\n        0.        ],\n       [0.10958904, 0.79591837, 0.        , ..., 1.        , 0.        ,\n        0.        ]])"
          },
          "metadata": {}
        }
      ],
      "execution_count": 107,
      "metadata": {}
    },
    {
      "cell_type": "code",
      "source": [
        "preprocessor.fit(dev_data)\n",
        "processed_dev_data = preprocessor.transform(dev_data)\n",
        "processed_dev_data"
      ],
      "outputs": [
        {
          "output_type": "execute_result",
          "execution_count": 122,
          "data": {
            "text/plain": "array([[0.76712329, 0.88659794, 1.        , ..., 1.        , 0.        ,\n        0.        ],\n       [0.43835616, 0.37113402, 0.        , ..., 0.        , 0.        ,\n        0.        ],\n       [0.05479452, 0.78350515, 0.        , ..., 1.        , 0.        ,\n        0.        ],\n       ...,\n       [0.08219178, 0.78350515, 0.        , ..., 1.        , 0.        ,\n        0.        ],\n       [0.1369863 , 0.68041237, 0.        , ..., 1.        , 0.        ,\n        0.        ],\n       [1.12328767, 0.78350515, 0.        , ..., 1.        , 0.        ,\n        0.        ]])"
          },
          "metadata": {}
        }
      ],
      "execution_count": 122,
      "metadata": {}
    },
    {
      "cell_type": "code",
      "source": [
        "#Create a ColumnTransformer\n",
        "preprocessor = ColumnTransformer([\n",
        "    (\"num\", num_processor, numerical_columns),\n",
        "    (\"cat\",cat_processor,categoical_columns)\n",
        "])"
      ],
      "outputs": [],
      "execution_count": 123,
      "metadata": {}
    },
    {
      "cell_type": "code",
      "source": [
        "# Fit the preprocessor to the training data and transform\n",
        "X_mm_train = preprocessor.fit_transform(train_data.drop(\"target\",axis=1))\n",
        "y_mm_train = train_data[\"target\"]\n",
        "\n",
        "X_mm_dev = preprocessor.transform(dev_data.drop(\"target\", axis=1))\n",
        "y_mm_dev = dev_data[\"target\"]\n",
        "\n",
        "mm_best_dev_error = 100.0\n",
        "mm_best_k = -1"
      ],
      "outputs": [],
      "execution_count": 124,
      "metadata": {}
    },
    {
      "cell_type": "code",
      "source": [
        "for k in ra0Classifier(n_neighbors=k)\n",
        "    knn.fit(X_mm_train, y_mm_train)\n",
        "    \n",
        "    train_preds = knn.predict(X_mm_train)\n",
        "    dev_preds = knn.predict(X_mm_dev)\n",
        "    \n",
        "    train_err = 100 * (1- accuracy_score(y_mm_train, train_preds))\n",
        "    dev_err = 100 * (1 - accuracy_score(y_mm_dev, dev_preds))\n",
        "    \n",
        "    if dev_err < mm_best_dev_error:\n",
        "        mm_best_dev_error = dev_err\n",
        "        mm_best_k = k\n",
        "        \n",
        "    print(k, train_err, dev_err)\n",
        "    \n",
        "print(mm_best_dev_error, mm_best_k)"
      ],
      "outputs": [
        {
          "output_type": "stream",
          "name": "stdout",
          "text": [
            "(1, 1.5000000000000013, 23.099999999999998)\n",
            "(3, 11.48, 20.099999999999994)\n",
            "(5, 13.900000000000002, 18.000000000000004)\n",
            "(7, 14.280000000000005, 16.600000000000005)\n",
            "(9, 15.680000000000005, 15.700000000000003)\n",
            "(11, 16.359999999999996, 16.500000000000004)\n",
            "(13, 16.54, 16.500000000000004)\n",
            "(15, 16.500000000000004, 15.500000000000004)\n",
            "(17, 16.82, 15.900000000000002)\n",
            "(19, 16.74, 16.200000000000003)\n",
            "(21, 16.979999999999997, 16.1)\n",
            "(23, 17.179999999999996, 15.400000000000002)\n",
            "(25, 16.959999999999997, 15.600000000000003)\n",
            "(27, 17.000000000000004, 15.600000000000003)\n",
            "(29, 17.100000000000005, 15.600000000000003)\n",
            "(31, 16.900000000000006, 15.200000000000003)\n",
            "(33, 17.159999999999997, 15.500000000000004)\n",
            "(35, 17.200000000000003, 15.400000000000002)\n",
            "(37, 17.259999999999998, 14.500000000000002)\n",
            "(39, 17.44, 14.700000000000003)\n",
            "(41, 17.520000000000003, 14.500000000000002)\n",
            "(43, 17.379999999999995, 14.600000000000001)\n",
            "(45, 17.900000000000006, 14.900000000000002)\n",
            "(47, 17.820000000000004, 15.000000000000002)\n",
            "(49, 18.04, 15.300000000000002)\n",
            "(51, 18.000000000000004, 15.600000000000003)\n",
            "(53, 18.000000000000004, 15.300000000000002)\n",
            "(55, 17.959999999999997, 15.300000000000002)\n",
            "(57, 18.000000000000004, 15.600000000000003)\n",
            "(59, 17.979999999999997, 15.500000000000004)\n",
            "(61, 17.979999999999997, 15.400000000000002)\n",
            "(63, 18.04, 15.600000000000003)\n",
            "(65, 17.84, 15.400000000000002)\n",
            "(67, 17.84, 15.200000000000003)\n",
            "(69, 17.820000000000004, 15.300000000000002)\n",
            "(71, 17.979999999999997, 15.400000000000002)\n",
            "(73, 17.84, 15.200000000000003)\n",
            "(75, 17.86, 15.100000000000001)\n",
            "(77, 17.820000000000004, 15.000000000000002)\n",
            "(79, 17.879999999999995, 15.100000000000001)\n",
            "(81, 17.820000000000004, 15.300000000000002)\n",
            "(83, 17.800000000000004, 15.500000000000004)\n",
            "(85, 17.879999999999995, 15.200000000000003)\n",
            "(87, 17.879999999999995, 15.600000000000003)\n",
            "(89, 17.820000000000004, 15.300000000000002)\n",
            "(91, 17.959999999999997, 15.200000000000003)\n",
            "(93, 17.92, 15.200000000000003)\n",
            "(95, 17.779999999999994, 15.300000000000002)\n",
            "(97, 17.820000000000004, 15.800000000000002)\n",
            "(99, 17.779999999999994, 15.700000000000003)\n",
            "(14.500000000000002, 37)\n"
          ]
        }
      ],
      "execution_count": 111,
      "metadata": {}
    },
    {
      "cell_type": "code",
      "source": [
        "# Q4-1. Inplement own k-NN distance calculation\n",
        "query_person = X_mm_dev[0]  #query person's feature vector\n",
        "euclidean_distances = np.linalg.norm(X_mm_train - query_person, axis=1)"
      ],
      "outputs": [],
      "execution_count": 125,
      "metadata": {}
    },
    {
      "cell_type": "code",
      "source": [
        "# Calculate the Manhattan distances\n",
        "manhattan_distances = np.sum(np.abs(X_mm_train - query_person), axis=1)"
      ],
      "outputs": [],
      "execution_count": 126,
      "metadata": {}
    },
    {
      "cell_type": "code",
      "source": [
        "# Get the indices of the top-k closest individuals\n",
        "k = 3\n",
        "top_k_indices_euclidean = np.argsort(euclidean_distances)[:k]\n",
        "top_k_indices_manhattan = np.argsort(manhattan_distances)[:k]"
      ],
      "outputs": [],
      "execution_count": 127,
      "metadata": {}
    },
    {
      "cell_type": "code",
      "source": [
        "# Verify the top-k neighbors and their distances using scikit-learn's KNeighborsClassifier\n",
        "kNN = KNeighborsClassifier(n_neighbors=k, metric='manhattan')\n",
        "kNN.fit(X_mm_train, y_mm_train)\n",
        "sklearn_indices, sklearn_distances = kNN.kneighbors([query_person])"
      ],
      "outputs": [],
      "execution_count": 128,
      "metadata": {}
    },
    {
      "cell_type": "code",
      "source": [
        "# results\n",
        "print(\"Top-k neighbors and their distances (mine - Euclidean):\")\n",
        "print(\"Neighbor, Index, Euclidean Distance\")\n",
        "for i in range(k):\n",
        "    print(i+1,top_k_indices_euclidean[i], euclidean_distances[top_k_indices_euclidean[i]] )\n",
        "                                                                                                          \n",
        "print(\"\\nTop-k neighbors and their distances (mine - Manhattan):\")\n",
        "print(\"Neighbor,Index,Manhattan Distance \")\n",
        "for i in range(k):\n",
        "    print(i+1,top_k_indices_manhattan[i], manhattan_distances[top_k_indices_manhattan[i]])\n",
        "    \n",
        "print(\"\\nTop-k neighbors and their distances (scikit-learn):\")\n",
        "print(\"Neighbor,Index,Distance \")\n",
        "for i in range(k):\n",
        "    print(i+1, sklearn_indices[0][i], sklearn_distances[0][i])"
      ],
      "outputs": [
        {
          "output_type": "stream",
          "name": "stdout",
          "text": [
            "Top-k neighbors and their distances (mine - Euclidean):\n",
            "Neighbor, Index, Euclidean Distance\n",
            "(1, 4872, 0.3344192869821078)\n",
            "(2, 4787, 1.4152746869361013)\n",
            "(3, 2591, 1.4167469717499104)\n",
            "\n",
            "Top-k neighbors and their distances (mine - Manhattan):\n",
            "Neighbor,Index,Manhattan Distance \n",
            "(1, 4872, 0.38999161308358965)\n",
            "(2, 4787, 2.054794520547945)\n",
            "(3, 4142, 2.1020408163265305)\n",
            "\n",
            "Top-k neighbors and their distances (scikit-learn):\n",
            "Neighbor,Index,Distance \n",
            "(1, 0.38999161308358965, 4872)\n",
            "(2, 2.054794520547945, 4787)\n",
            "(3, 2.1020408163265305, 4142)\n"
          ]
        }
      ],
      "execution_count": 130,
      "metadata": {}
    },
    {
      "cell_type": "code",
      "source": [
        "#Part5\n",
        "predic_data = pd.read_csv(\"income.test.predicted\", header=None)\n",
        "predic_data.columns = column_names"
      ],
      "outputs": [],
      "execution_count": 131,
      "metadata": {}
    },
    {
      "cell_type": "code",
      "source": [
        "X_predic = preprocessor.fit_transform(predic_data.drop(\"target\",axis=1))\n",
        "y_predic = predic_data[\"target\"]\n",
        "\n",
        "X_mm_dev = preprocessor.transform(dev_data.drop(\"target\", axis=1))\n",
        "y_mm_dev = dev_data[\"target\"]\n",
        "\n",
        "mm_best_dev_error = 100.0\n",
        "mm_best_k = -1"
      ],
      "outputs": [],
      "execution_count": 132,
      "metadata": {}
    },
    {
      "cell_type": "code",
      "source": [
        "for k in range(1,101,2):\n",
        "    knn = KNeighborsClassifier(n_neighbors=k)\n",
        "    knn.fit(X_predic, y_predic)\n",
        "    \n",
        "    predic_preds = knn.predict(X_predic)\n",
        "    dev_preds = knn.predict(X_mm_dev)\n",
        "    \n",
        "    predic_err = 100 * (1- accuracy_score(y_predic, predic_preds))\n",
        "    dev_err = 100 * (1 - accuracy_score(y_mm_dev, dev_preds))\n",
        "    #predic_pos_rate = 100 * (sum(predic_preds == \">50K\") / len(predic_preds))\n",
        "    predic_pos_rate = 100 * (sum(y_predic== \">50K\" )/len(y_predic))\n",
        "    dev_pos_rate = 100 * (sum(dev_preds == \">50K\") / len(dev_preds))\n",
        "    \n",
        "\n",
        "    # Calculate the positive ratio on the test set\n",
        "    test_positive_ratio = 100 * (sum(predic_preds == \">50K\") / len(predic_preds))\n",
        "\n",
        "   \n",
        "    if dev_err < mm_best_dev_error:\n",
        "        mm_best_dev_error = dev_err\n",
        "        mm_best_k = k\n",
        "        \n",
        "    print(k, predic_err, predic_pos_rate, dev_err, dev_pos_rate)\n",
        "    \n",
        "print(mm_best_dev_error, mm_best_k)\n",
        "print(\"Positive ratio on test set:\", test_positive_ratio)"
      ],
      "outputs": [
        {
          "output_type": "stream",
          "name": "stdout",
          "text": [
            "(1, 0.0, 0, 15.600000000000003, 0)\n",
            "(3, 3.0000000000000027, 0, 16.1, 0)\n",
            "(5, 3.7000000000000033, 0, 16.500000000000004, 0)\n",
            "(7, 4.200000000000004, 0, 16.700000000000003, 0)\n",
            "(9, 4.700000000000005, 0, 16.200000000000003, 0)\n",
            "(11, 4.600000000000004, 0, 16.200000000000003, 0)\n",
            "(13, 5.200000000000005, 0, 17.200000000000003, 0)\n",
            "(15, 5.300000000000004, 0, 17.300000000000004, 0)\n",
            "(17, 6.000000000000005, 0, 17.000000000000004, 0)\n",
            "(19, 5.400000000000005, 0, 16.900000000000006, 0)\n",
            "(21, 5.200000000000005, 0, 16.700000000000003, 0)\n",
            "(23, 5.100000000000005, 0, 16.700000000000003, 0)\n",
            "(25, 5.100000000000005, 0, 16.300000000000004, 0)\n",
            "(27, 5.500000000000005, 0, 16.1, 0)\n",
            "(29, 5.400000000000005, 0, 16.200000000000003, 0)\n",
            "(31, 5.000000000000004, 0, 16.200000000000003, 0)\n",
            "(33, 5.100000000000005, 0, 15.900000000000002, 0)\n",
            "(35, 4.900000000000004, 0, 15.700000000000003, 0)\n",
            "(37, 5.200000000000005, 0, 15.800000000000002, 0)\n",
            "(39, 5.100000000000005, 0, 15.600000000000003, 0)\n",
            "(41, 5.300000000000004, 0, 15.500000000000004, 0)\n",
            "(43, 5.400000000000005, 0, 16.000000000000004, 0)\n",
            "(45, 5.300000000000004, 0, 16.000000000000004, 0)\n",
            "(47, 5.200000000000005, 0, 16.200000000000003, 0)\n",
            "(49, 5.300000000000004, 0, 16.000000000000004, 0)\n",
            "(51, 5.700000000000005, 0, 16.000000000000004, 0)\n",
            "(53, 5.500000000000005, 0, 15.800000000000002, 0)\n",
            "(55, 5.600000000000005, 0, 15.900000000000002, 0)\n",
            "(57, 5.500000000000005, 0, 15.600000000000003, 0)\n",
            "(59, 5.400000000000005, 0, 15.700000000000003, 0)\n",
            "(61, 5.500000000000005, 0, 15.700000000000003, 0)\n",
            "(63, 5.500000000000005, 0, 15.800000000000002, 0)\n",
            "(65, 5.600000000000005, 0, 15.700000000000003, 0)\n",
            "(67, 5.500000000000005, 0, 15.600000000000003, 0)\n",
            "(69, 5.700000000000005, 0, 15.400000000000002, 0)\n",
            "(71, 5.700000000000005, 0, 15.500000000000004, 0)\n",
            "(73, 5.800000000000005, 0, 15.200000000000003, 0)\n",
            "(75, 5.800000000000005, 0, 15.400000000000002, 0)\n",
            "(77, 6.000000000000005, 0, 15.500000000000004, 0)\n",
            "(79, 6.000000000000005, 0, 15.500000000000004, 0)\n",
            "(81, 6.100000000000005, 0, 15.200000000000003, 0)\n",
            "(83, 5.700000000000005, 0, 15.500000000000004, 0)\n",
            "(85, 6.000000000000005, 0, 15.300000000000002, 0)\n",
            "(87, 6.000000000000005, 0, 15.400000000000002, 0)\n",
            "(89, 6.699999999999995, 0, 15.500000000000004, 0)\n",
            "(91, 6.599999999999994, 0, 15.400000000000002, 0)\n",
            "(93, 6.699999999999995, 0, 15.700000000000003, 0)\n",
            "(95, 6.699999999999995, 0, 15.700000000000003, 0)\n",
            "(97, 6.599999999999994, 0, 15.700000000000003, 0)\n",
            "(99, 6.699999999999995, 0, 15.700000000000003, 0)\n",
            "(15.200000000000003, 73)\n",
            "('Positive ratio on test set:', 0)\n"
          ]
        }
      ],
      "execution_count": 138,
      "metadata": {}
    },
    {
      "cell_type": "code",
      "source": [],
      "outputs": [],
      "execution_count": null,
      "metadata": {}
    },
    {
      "cell_type": "code",
      "source": [],
      "outputs": [],
      "execution_count": null,
      "metadata": {}
    }
  ],
  "metadata": {
    "kernelspec": {
      "display_name": "Python 3",
      "language": "python",
      "name": "python3"
    },
    "language_info": {
      "codemirror_mode": {
        "name": "ipython",
        "version": 3
      },
      "file_extension": ".py",
      "mimetype": "text/x-python",
      "name": "python",
      "nbconvert_exporter": "python",
      "pygments_lexer": "ipython3",
      "version": "3.7.3"
    },
    "nteract": {
      "version": "0.28.0"
    }
  },
  "nbformat": 4,
  "nbformat_minor": 2
}