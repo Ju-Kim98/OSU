{
 "cells": [
  {
   "cell_type": "code",
   "execution_count": 4,
   "metadata": {},
   "outputs": [],
   "source": [
    "import numpy as np"
   ]
  },
  {
   "cell_type": "code",
   "execution_count": 5,
   "metadata": {},
   "outputs": [],
   "source": [
    "less train.py"
   ]
  },
  {
   "cell_type": "code",
   "execution_count": 6,
   "metadata": {},
   "outputs": [
    {
     "ename": "NameError",
     "evalue": "name 'train' is not defined",
     "output_type": "error",
     "traceback": [
      "\u001b[1;31m---------------------------------------------------------------------------\u001b[0m",
      "\u001b[1;31mNameError\u001b[0m                                 Traceback (most recent call last)",
      "\u001b[1;32m<ipython-input-6-cf6ea092e8a9>\u001b[0m in \u001b[0;36m<module>\u001b[1;34m()\u001b[0m\n\u001b[0;32m      1\u001b[0m \u001b[0mtrain_file\u001b[0m \u001b[1;33m=\u001b[0m \u001b[1;34m'train.txt'\u001b[0m\u001b[1;33m\u001b[0m\u001b[0m\n\u001b[0;32m      2\u001b[0m \u001b[0mdev_file\u001b[0m \u001b[1;33m=\u001b[0m \u001b[1;34m'dev.txt'\u001b[0m\u001b[1;33m\u001b[0m\u001b[0m\n\u001b[1;32m----> 3\u001b[1;33m \u001b[0mtrain\u001b[0m\u001b[1;33m(\u001b[0m\u001b[0mtrain_file\u001b[0m\u001b[1;33m,\u001b[0m \u001b[0mdev_file\u001b[0m\u001b[1;33m,\u001b[0m \u001b[1;36m10\u001b[0m\u001b[1;33m)\u001b[0m\u001b[1;33m\u001b[0m\u001b[0m\n\u001b[0m\u001b[0;32m      4\u001b[0m \u001b[0mtrain_ave\u001b[0m\u001b[1;33m(\u001b[0m\u001b[0mtrain_file\u001b[0m\u001b[1;33m,\u001b[0m \u001b[0mdev_file\u001b[0m\u001b[1;33m,\u001b[0m \u001b[1;36m10\u001b[0m\u001b[1;33m)\u001b[0m\u001b[1;33m\u001b[0m\u001b[0m\n",
      "\u001b[1;31mNameError\u001b[0m: name 'train' is not defined"
     ]
    }
   ],
   "source": [
    "train_file = 'train.txt'\n",
    "dev_file = 'dev.txt'\n",
    "train(train_file, dev_file, 10)\n",
    "train_ave(train_file, dev_file, 10)"
   ]
  },
  {
   "cell_type": "code",
   "execution_count": 10,
   "metadata": {},
   "outputs": [
    {
     "name": "stderr",
     "output_type": "stream",
     "text": [
      "  File \"AI534 - hw2.py\", line 81\n",
      "    print(f\"{feature}: {weight:.4f}\")\n",
      "                                   ^\n",
      "SyntaxError: invalid syntax\n"
     ]
    }
   ],
   "source": [
    "!python \"AI534 - hw2.py\""
   ]
  },
  {
   "cell_type": "code",
   "execution_count": 11,
   "metadata": {},
   "outputs": [
    {
     "name": "stderr",
     "output_type": "stream",
     "text": [
      "  File \"C:\\Users\\jujud\\Desktop\\AI534\\HW2\\hw2-data\\AI534 - hw2.py\", line 90\n",
      "    from __future__ import division\n",
      "    ^^^^^^^^^^^^^^^^^^^^^^^^^^^^^^^\n",
      "SyntaxError: from __future__ imports must occur at the beginning of the file\n"
     ]
    }
   ],
   "source": [
    "!python3 \"AI534 - hw2.py\""
   ]
  },
  {
   "cell_type": "code",
   "execution_count": 12,
   "metadata": {},
   "outputs": [],
   "source": [
    "    from __future__ import division\n"
   ]
  },
  {
   "cell_type": "code",
   "execution_count": 14,
   "metadata": {
    "scrolled": true
   },
   "outputs": [
    {
     "ename": "NameError",
     "evalue": "name 'count_words' is not defined",
     "output_type": "error",
     "traceback": [
      "\u001b[1;31m---------------------------------------------------------------------------\u001b[0m",
      "\u001b[1;31mNameError\u001b[0m                                 Traceback (most recent call last)",
      "\u001b[1;32m<ipython-input-14-28dda138b701>\u001b[0m in \u001b[0;36m<module>\u001b[1;34m()\u001b[0m\n\u001b[1;32m----> 1\u001b[1;33m \u001b[0mcount_words\u001b[0m\u001b[1;33m(\u001b[0m\u001b[1;33m)\u001b[0m\u001b[1;33m\u001b[0m\u001b[0m\n\u001b[0m",
      "\u001b[1;31mNameError\u001b[0m: name 'count_words' is not defined"
     ]
    }
   ],
   "source": [
    "count_words()"
   ]
  },
  {
   "cell_type": "code",
   "execution_count": 17,
   "metadata": {},
   "outputs": [
    {
     "ename": "NameError",
     "evalue": "name 'test1' is not defined",
     "output_type": "error",
     "traceback": [
      "\u001b[1;31m---------------------------------------------------------------------------\u001b[0m",
      "\u001b[1;31mNameError\u001b[0m                                 Traceback (most recent call last)",
      "\u001b[1;32m<ipython-input-17-0fa2160d55e3>\u001b[0m in \u001b[0;36m<module>\u001b[1;34m()\u001b[0m\n\u001b[0;32m      1\u001b[0m \u001b[0mtrain_file\u001b[0m \u001b[1;33m=\u001b[0m \u001b[1;34m'train.txt'\u001b[0m\u001b[1;33m\u001b[0m\u001b[0m\n\u001b[0;32m      2\u001b[0m \u001b[0mdev_file\u001b[0m \u001b[1;33m=\u001b[0m \u001b[1;34m'dev.txt'\u001b[0m\u001b[1;33m\u001b[0m\u001b[0m\n\u001b[1;32m----> 3\u001b[1;33m \u001b[0mtest1\u001b[0m\u001b[1;33m(\u001b[0m\u001b[0mtrain_file\u001b[0m\u001b[1;33m,\u001b[0m \u001b[0mdev_file\u001b[0m\u001b[1;33m,\u001b[0m \u001b[1;36m10\u001b[0m\u001b[1;33m)\u001b[0m\u001b[1;33m\u001b[0m\u001b[0m\n\u001b[0m",
      "\u001b[1;31mNameError\u001b[0m: name 'test1' is not defined"
     ]
    }
   ],
   "source": [
    "train_file = 'train.txt'\n",
    "dev_file = 'dev.txt'\n",
    "test1(train_file, dev_file, 10)\n"
   ]
  },
  {
   "cell_type": "code",
   "execution_count": 18,
   "metadata": {},
   "outputs": [
    {
     "ename": "NameError",
     "evalue": "name 'count_words' is not defined",
     "output_type": "error",
     "traceback": [
      "\u001b[1;31m---------------------------------------------------------------------------\u001b[0m",
      "\u001b[1;31mNameError\u001b[0m                                 Traceback (most recent call last)",
      "\u001b[1;32m<ipython-input-18-b9ccd6102ac5>\u001b[0m in \u001b[0;36m<module>\u001b[1;34m()\u001b[0m\n\u001b[1;32m----> 1\u001b[1;33m \u001b[0mword_counts\u001b[0m \u001b[1;33m=\u001b[0m \u001b[0mcount_words\u001b[0m\u001b[1;33m(\u001b[0m\u001b[0mtrain_data\u001b[0m\u001b[1;33m)\u001b[0m\u001b[1;33m\u001b[0m\u001b[0m\n\u001b[0m",
      "\u001b[1;31mNameError\u001b[0m: name 'count_words' is not defined"
     ]
    }
   ],
   "source": [
    "word_counts = count_words(train_data)"
   ]
  },
  {
   "cell_type": "code",
   "execution_count": 20,
   "metadata": {
    "scrolled": true
   },
   "outputs": [
    {
     "name": "stdout",
     "output_type": "stream",
     "text": [
      "epoch 1, update 38.8%, dev 30.7%\n",
      "epoch 2, update 25.1%, dev 29.0%\n",
      "epoch 3, update 20.7%, dev 28.4%\n",
      "epoch 4, update 16.7%, dev 27.8%\n",
      "epoch 5, update 13.8%, dev 28.0%\n",
      "epoch 6, update 12.1%, dev 28.1%\n",
      "epoch 7, update 10.3%, dev 27.8%\n",
      "epoch 8, update 9.2%, dev 27.2%\n",
      "epoch 9, update 8.4%, dev 27.2%\n",
      "epoch 10, update 7.0%, dev 27.8%\n",
      "best dev err 27.2%, |w|=15805, time: 5.8 secs\n",
      "\n",
      "Top 20 Positive Features:\n",
      "('unexpected', 959289.0)\n",
      "('provides', 874476.0)\n",
      "('cinema', 852838.0)\n",
      "('powerful', 849714.0)\n",
      "('skin', 843185.0)\n",
      "('rare', 840748.0)\n",
      "('delightful', 780037.0)\n",
      "('engrossing', 765539.0)\n",
      "('open', 764987.0)\n",
      "('still', 756338.0)\n",
      "('uncompromising', 740774.0)\n",
      "('triumph', 733923.0)\n",
      "('wonderful', 729749.0)\n",
      "('strength', 727677.0)\n",
      "('culture', 715471.0)\n",
      "('help', 710382.0)\n",
      "('examination', 709440.0)\n",
      "('notice', 706390.0)\n",
      "('refreshingly', 704816.0)\n",
      "('spielberg', 703886.0)\n",
      "\n",
      "Top 20 Negative Features:\n",
      "('boring', -1052032.0)\n",
      "('generic', -1012100.0)\n",
      "('dull', -985738.0)\n",
      "('flat', -938650.0)\n",
      "('fails', -918516.0)\n",
      "('badly', -904675.0)\n",
      "('incoherent', -894246.0)\n",
      "('clich', -837767.0)\n",
      "('lacking', -836976.0)\n",
      "('neither', -825919.0)\n",
      "('bore', -822574.0)\n",
      "('pie', -820600.0)\n",
      "('routine', -817354.0)\n",
      "('inane', -816455.0)\n",
      "('instead', -816087.0)\n",
      "('too', -810924.0)\n",
      "('worse', -807304.0)\n",
      "('suffers', -797939.0)\n",
      "('pacing', -793822.0)\n",
      "('worst', -789799.0)\n"
     ]
    }
   ],
   "source": [
    "model = train_ave('train.txt','dev.txt',epochs = 10)"
   ]
  },
  {
   "cell_type": "code",
   "execution_count": 25,
   "metadata": {},
   "outputs": [],
   "source": [
    "from __future__ import division # no need for python3, but just in case used w/ python2\n",
    "from collections import defaultdict\n",
    "import sys\n",
    "import time\n",
    "from svector import svector\n",
    "\n",
    "def read_data(textfile):\n",
    "    data = []\n",
    "    for line in open(textfile):\n",
    "        label, words = line.strip().split(\"\\t\")\n",
    "        data.append((1 if label == \"+\" else -1, words.split()))\n",
    "    return data\n",
    "\n",
    "def count_words(data):\n",
    "    word_counts = defaultdict(int)\n",
    "    for _, words in data:\n",
    "        for word in words:\n",
    "            word_counts[word] += 1\n",
    "    return word_counts\n",
    "\n",
    "def make_vector1(words, word_counts, bias=True):\n",
    "    v = svector()\n",
    "    for word in words:\n",
    "        if word_counts[word] > 1:\n",
    "            v[word] += 1\n",
    "    if bias:\n",
    "        v['<bias>'] = 1\n",
    "    return v\n",
    "\n",
    "def test1(dev, model, word_counts):\n",
    "    tot, err = 0, 0\n",
    "    for i, (label, words) in enumerate(read_data(dev), 1): # note 1...|D|\n",
    "        v = make_vector1(words, word_counts, bias = True)\n",
    "        err += label * (model.dot(make_vector1(words, word_counts))) <= 0\n",
    "    return err/i  # i is |D| now\n",
    "\n",
    "\n",
    "def train_ave(train, dev, epochs=5):\n",
    "    t = time.time()\n",
    "    best_err = 1.\n",
    "    model = svector()\n",
    "    model_ave = svector()\n",
    "    c = 0\n",
    "    train_data = read_data(train)\n",
    "    dev_data = read_data(dev)\n",
    "    word_counts = count_words(train_data)\n",
    "\n",
    "    for it in range(1, epochs + 1):\n",
    "        updates = 0\n",
    "        for i, (label, words) in enumerate(read_data(train), 1):  # label is +1 or -1\n",
    "            sent = make_vector1(words, word_counts)\n",
    "            if label * (model.dot(sent)) <= 0:\n",
    "                updates += 1\n",
    "                model += label * sent\n",
    "                model_ave += c * label * sent\n",
    "            c += 1\n",
    "        model_a = c * model - model_ave\n",
    "        dev_err = test1(dev, model_a, word_counts)\n",
    "        best_err = min(best_err, dev_err)\n",
    "        print(\"epoch %d, update %.1f%%, dev %.1f%%\" % (it, updates / i * 100, dev_err * 100))\n",
    "    print(\"best dev err %.1f%%, |w|=%d, time: %.1f secs\" % (best_err * 100, len(model), time.time() - t))\n",
    "\n"
   ]
  },
  {
   "cell_type": "code",
   "execution_count": 26,
   "metadata": {},
   "outputs": [
    {
     "name": "stdout",
     "output_type": "stream",
     "text": [
      "epoch 1, update 39.0%, dev 31.6%\n",
      "epoch 2, update 26.4%, dev 27.5%\n",
      "epoch 3, update 22.8%, dev 26.8%\n",
      "epoch 4, update 18.8%, dev 26.6%\n",
      "epoch 5, update 17.2%, dev 25.9%\n",
      "epoch 6, update 14.8%, dev 26.5%\n",
      "epoch 7, update 13.2%, dev 27.0%\n",
      "epoch 8, update 12.7%, dev 26.7%\n",
      "epoch 9, update 11.4%, dev 26.6%\n",
      "epoch 10, update 10.6%, dev 26.2%\n",
      "best dev err 25.9%, |w|=8425, time: 6.1 secs\n"
     ]
    }
   ],
   "source": [
    "model = train_ave('train.txt','dev.txt',epochs = 10)"
   ]
  },
  {
   "cell_type": "code",
   "execution_count": 27,
   "metadata": {},
   "outputs": [],
   "source": [
    "from __future__ import division # no need for python3, but just in case used w/ python2\n",
    "from collections import defaultdict\n",
    "import sys\n",
    "import time\n",
    "from svector import svector\n",
    "\n",
    "def read_data(textfile):\n",
    "    data = []\n",
    "    for line in open(textfile):\n",
    "        label, words = line.strip().split(\"\\t\")\n",
    "        data.append((1 if label == \"+\" else -1, words.split()))\n",
    "    return data\n",
    "\n",
    "def count_words(data):\n",
    "    word_counts = defaultdict(int)\n",
    "    for _, words in data:\n",
    "        for word in words:\n",
    "            word_counts[word] += 1\n",
    "    return word_counts\n",
    "\n",
    "def make_vector1(words, word_counts, bias=True):\n",
    "    v = svector()\n",
    "    for word in words:\n",
    "        if word_counts[word] > 2:\n",
    "            v[word] += 1\n",
    "    if bias:\n",
    "        v['<bias>'] = 1\n",
    "    return v\n",
    "\n",
    "def test1(dev, model, word_counts):\n",
    "    tot, err = 0, 0\n",
    "    for i, (label, words) in enumerate(read_data(dev), 1): # note 1...|D|\n",
    "        v = make_vector1(words, word_counts, bias = True)\n",
    "        err += label * (model.dot(make_vector1(words, word_counts))) <= 0\n",
    "    return err/i  # i is |D| now\n",
    "\n",
    "\n",
    "def train_ave(train, dev, epochs=5):\n",
    "    t = time.time()\n",
    "    best_err = 1.\n",
    "    model = svector()\n",
    "    model_ave = svector()\n",
    "    c = 0\n",
    "    train_data = read_data(train)\n",
    "    dev_data = read_data(dev)\n",
    "    word_counts = count_words(train_data)\n",
    "\n",
    "    for it in range(1, epochs + 1):\n",
    "        updates = 0\n",
    "        for i, (label, words) in enumerate(read_data(train), 1):  # label is +1 or -1\n",
    "            sent = make_vector1(words, word_counts)\n",
    "            if label * (model.dot(sent)) <= 0:\n",
    "                updates += 1\n",
    "                model += label * sent\n",
    "                model_ave += c * label * sent\n",
    "            c += 1\n",
    "        model_a = c * model - model_ave\n",
    "        dev_err = test1(dev, model_a, word_counts)\n",
    "        best_err = min(best_err, dev_err)\n",
    "        print(\"epoch %d, update %.1f%%, dev %.1f%%\" % (it, updates / i * 100, dev_err * 100))\n",
    "    print(\"best dev err %.1f%%, |w|=%d, time: %.1f secs\" % (best_err * 100, len(model), time.time() - t))\n",
    "\n"
   ]
  },
  {
   "cell_type": "code",
   "execution_count": 28,
   "metadata": {},
   "outputs": [
    {
     "name": "stdout",
     "output_type": "stream",
     "text": [
      "epoch 1, update 38.9%, dev 31.1%\n",
      "epoch 2, update 28.2%, dev 29.2%\n",
      "epoch 3, update 23.7%, dev 28.7%\n",
      "epoch 4, update 21.7%, dev 28.0%\n",
      "epoch 5, update 18.5%, dev 27.9%\n",
      "epoch 6, update 17.7%, dev 26.6%\n",
      "epoch 7, update 16.2%, dev 26.8%\n",
      "epoch 8, update 15.2%, dev 26.6%\n",
      "epoch 9, update 14.1%, dev 26.6%\n",
      "epoch 10, update 12.6%, dev 26.6%\n",
      "best dev err 26.6%, |w|=5934, time: 6.4 secs\n"
     ]
    }
   ],
   "source": [
    "model = train_ave('train.txt','dev.txt',epochs = 10)"
   ]
  },
  {
   "cell_type": "code",
   "execution_count": 4,
   "metadata": {},
   "outputs": [
    {
     "name": "stderr",
     "output_type": "stream",
     "text": [
      "'pyton' is not recognized as an internal or external command,\n",
      "operable program or batch file.\n"
     ]
    }
   ],
   "source": [
    "!pyton text_classification.py train.txt dev.txt"
   ]
  },
  {
   "cell_type": "code",
   "execution_count": 5,
   "metadata": {},
   "outputs": [],
   "source": [
    "from svector import svector"
   ]
  },
  {
   "cell_type": "code",
   "execution_count": 7,
   "metadata": {},
   "outputs": [
    {
     "name": "stderr",
     "output_type": "stream",
     "text": [
      "'pyton3' is not recognized as an internal or external command,\n",
      "operable program or batch file.\n"
     ]
    }
   ],
   "source": [
    "!pyton3 text_classification.py train.txt dev.txt"
   ]
  },
  {
   "cell_type": "code",
   "execution_count": null,
   "metadata": {},
   "outputs": [],
   "source": []
  }
 ],
 "metadata": {
  "kernelspec": {
   "display_name": "Python 2",
   "language": "python",
   "name": "python2"
  },
  "language_info": {
   "codemirror_mode": {
    "name": "ipython",
    "version": 2
   },
   "file_extension": ".py",
   "mimetype": "text/x-python",
   "name": "python",
   "nbconvert_exporter": "python",
   "pygments_lexer": "ipython2",
   "version": "2.7.16"
  }
 },
 "nbformat": 4,
 "nbformat_minor": 2
}
