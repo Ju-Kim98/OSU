{
  "cells": [
    {
      "cell_type": "code",
      "source": [
        "from google.colab import files\n",
        "\n",
        "uploaded = files.upload()\n",
        "\n",
        "for fn in uploaded.keys():\n",
        "  print('User uploaded file \"{name}\" with length {length} bytes'.format(\n",
        "      name=fn, length=len(uploaded[fn])))\n"
      ],
      "metadata": {
        "colab": {
          "base_uri": "https://localhost:8080/",
          "height": 363
        },
        "id": "gZqRwkaVm2Ni",
        "outputId": "b7754355-7fa4-4937-be48-36340481f457"
      },
      "execution_count": null,
      "outputs": [
        {
          "output_type": "display_data",
          "data": {
            "text/plain": [
              "<IPython.core.display.HTML object>"
            ],
            "text/html": [
              "\n",
              "     <input type=\"file\" id=\"files-ca1bb8c4-cb62-4504-9b8e-e2698372216e\" name=\"files[]\" multiple disabled\n",
              "        style=\"border:none\" />\n",
              "     <output id=\"result-ca1bb8c4-cb62-4504-9b8e-e2698372216e\">\n",
              "      Upload widget is only available when the cell has been executed in the\n",
              "      current browser session. Please rerun this cell to enable.\n",
              "      </output>\n",
              "      <script>// Copyright 2017 Google LLC\n",
              "//\n",
              "// Licensed under the Apache License, Version 2.0 (the \"License\");\n",
              "// you may not use this file except in compliance with the License.\n",
              "// You may obtain a copy of the License at\n",
              "//\n",
              "//      http://www.apache.org/licenses/LICENSE-2.0\n",
              "//\n",
              "// Unless required by applicable law or agreed to in writing, software\n",
              "// distributed under the License is distributed on an \"AS IS\" BASIS,\n",
              "// WITHOUT WARRANTIES OR CONDITIONS OF ANY KIND, either express or implied.\n",
              "// See the License for the specific language governing permissions and\n",
              "// limitations under the License.\n",
              "\n",
              "/**\n",
              " * @fileoverview Helpers for google.colab Python module.\n",
              " */\n",
              "(function(scope) {\n",
              "function span(text, styleAttributes = {}) {\n",
              "  const element = document.createElement('span');\n",
              "  element.textContent = text;\n",
              "  for (const key of Object.keys(styleAttributes)) {\n",
              "    element.style[key] = styleAttributes[key];\n",
              "  }\n",
              "  return element;\n",
              "}\n",
              "\n",
              "// Max number of bytes which will be uploaded at a time.\n",
              "const MAX_PAYLOAD_SIZE = 100 * 1024;\n",
              "\n",
              "function _uploadFiles(inputId, outputId) {\n",
              "  const steps = uploadFilesStep(inputId, outputId);\n",
              "  const outputElement = document.getElementById(outputId);\n",
              "  // Cache steps on the outputElement to make it available for the next call\n",
              "  // to uploadFilesContinue from Python.\n",
              "  outputElement.steps = steps;\n",
              "\n",
              "  return _uploadFilesContinue(outputId);\n",
              "}\n",
              "\n",
              "// This is roughly an async generator (not supported in the browser yet),\n",
              "// where there are multiple asynchronous steps and the Python side is going\n",
              "// to poll for completion of each step.\n",
              "// This uses a Promise to block the python side on completion of each step,\n",
              "// then passes the result of the previous step as the input to the next step.\n",
              "function _uploadFilesContinue(outputId) {\n",
              "  const outputElement = document.getElementById(outputId);\n",
              "  const steps = outputElement.steps;\n",
              "\n",
              "  const next = steps.next(outputElement.lastPromiseValue);\n",
              "  return Promise.resolve(next.value.promise).then((value) => {\n",
              "    // Cache the last promise value to make it available to the next\n",
              "    // step of the generator.\n",
              "    outputElement.lastPromiseValue = value;\n",
              "    return next.value.response;\n",
              "  });\n",
              "}\n",
              "\n",
              "/**\n",
              " * Generator function which is called between each async step of the upload\n",
              " * process.\n",
              " * @param {string} inputId Element ID of the input file picker element.\n",
              " * @param {string} outputId Element ID of the output display.\n",
              " * @return {!Iterable<!Object>} Iterable of next steps.\n",
              " */\n",
              "function* uploadFilesStep(inputId, outputId) {\n",
              "  const inputElement = document.getElementById(inputId);\n",
              "  inputElement.disabled = false;\n",
              "\n",
              "  const outputElement = document.getElementById(outputId);\n",
              "  outputElement.innerHTML = '';\n",
              "\n",
              "  const pickedPromise = new Promise((resolve) => {\n",
              "    inputElement.addEventListener('change', (e) => {\n",
              "      resolve(e.target.files);\n",
              "    });\n",
              "  });\n",
              "\n",
              "  const cancel = document.createElement('button');\n",
              "  inputElement.parentElement.appendChild(cancel);\n",
              "  cancel.textContent = 'Cancel upload';\n",
              "  const cancelPromise = new Promise((resolve) => {\n",
              "    cancel.onclick = () => {\n",
              "      resolve(null);\n",
              "    };\n",
              "  });\n",
              "\n",
              "  // Wait for the user to pick the files.\n",
              "  const files = yield {\n",
              "    promise: Promise.race([pickedPromise, cancelPromise]),\n",
              "    response: {\n",
              "      action: 'starting',\n",
              "    }\n",
              "  };\n",
              "\n",
              "  cancel.remove();\n",
              "\n",
              "  // Disable the input element since further picks are not allowed.\n",
              "  inputElement.disabled = true;\n",
              "\n",
              "  if (!files) {\n",
              "    return {\n",
              "      response: {\n",
              "        action: 'complete',\n",
              "      }\n",
              "    };\n",
              "  }\n",
              "\n",
              "  for (const file of files) {\n",
              "    const li = document.createElement('li');\n",
              "    li.append(span(file.name, {fontWeight: 'bold'}));\n",
              "    li.append(span(\n",
              "        `(${file.type || 'n/a'}) - ${file.size} bytes, ` +\n",
              "        `last modified: ${\n",
              "            file.lastModifiedDate ? file.lastModifiedDate.toLocaleDateString() :\n",
              "                                    'n/a'} - `));\n",
              "    const percent = span('0% done');\n",
              "    li.appendChild(percent);\n",
              "\n",
              "    outputElement.appendChild(li);\n",
              "\n",
              "    const fileDataPromise = new Promise((resolve) => {\n",
              "      const reader = new FileReader();\n",
              "      reader.onload = (e) => {\n",
              "        resolve(e.target.result);\n",
              "      };\n",
              "      reader.readAsArrayBuffer(file);\n",
              "    });\n",
              "    // Wait for the data to be ready.\n",
              "    let fileData = yield {\n",
              "      promise: fileDataPromise,\n",
              "      response: {\n",
              "        action: 'continue',\n",
              "      }\n",
              "    };\n",
              "\n",
              "    // Use a chunked sending to avoid message size limits. See b/62115660.\n",
              "    let position = 0;\n",
              "    do {\n",
              "      const length = Math.min(fileData.byteLength - position, MAX_PAYLOAD_SIZE);\n",
              "      const chunk = new Uint8Array(fileData, position, length);\n",
              "      position += length;\n",
              "\n",
              "      const base64 = btoa(String.fromCharCode.apply(null, chunk));\n",
              "      yield {\n",
              "        response: {\n",
              "          action: 'append',\n",
              "          file: file.name,\n",
              "          data: base64,\n",
              "        },\n",
              "      };\n",
              "\n",
              "      let percentDone = fileData.byteLength === 0 ?\n",
              "          100 :\n",
              "          Math.round((position / fileData.byteLength) * 100);\n",
              "      percent.textContent = `${percentDone}% done`;\n",
              "\n",
              "    } while (position < fileData.byteLength);\n",
              "  }\n",
              "\n",
              "  // All done.\n",
              "  yield {\n",
              "    response: {\n",
              "      action: 'complete',\n",
              "    }\n",
              "  };\n",
              "}\n",
              "\n",
              "scope.google = scope.google || {};\n",
              "scope.google.colab = scope.google.colab || {};\n",
              "scope.google.colab._files = {\n",
              "  _uploadFiles,\n",
              "  _uploadFilesContinue,\n",
              "};\n",
              "})(self);\n",
              "</script> "
            ]
          },
          "metadata": {}
        },
        {
          "output_type": "stream",
          "name": "stdout",
          "text": [
            "Saving dev.txt to dev (1).txt\n",
            "Saving embs_train.kv to embs_train (1).kv\n",
            "Saving svector.py to svector (1).py\n",
            "Saving test.txt to test (1).txt\n",
            "Saving train.py to train (1).py\n",
            "Saving train.txt to train (1).txt\n",
            "User uploaded file \"dev (1).txt\" with length 114951 bytes\n",
            "User uploaded file \"embs_train (1).kv\" with length 17618313 bytes\n",
            "User uploaded file \"svector (1).py\" with length 1336 bytes\n",
            "User uploaded file \"test (1).txt\" with length 115200 bytes\n",
            "User uploaded file \"train (1).py\" with length 1405 bytes\n",
            "User uploaded file \"train (1).txt\" with length 918071 bytes\n"
          ]
        }
      ]
    },
    {
      "cell_type": "code",
      "execution_count": null,
      "metadata": {
        "id": "DNmLmzNumyfA"
      },
      "outputs": [],
      "source": [
        "# Part1: Word Embeddings\n",
        "# 1.1: Load and Query"
      ]
    },
    {
      "cell_type": "code",
      "execution_count": null,
      "metadata": {
        "id": "SvmIMlefmyfB"
      },
      "outputs": [],
      "source": [
        "from gensim.models import KeyedVectors"
      ]
    },
    {
      "cell_type": "code",
      "execution_count": null,
      "metadata": {
        "id": "RlLPK3kdmyfD"
      },
      "outputs": [],
      "source": [
        "wv = KeyedVectors.load('embs_train.kv', mmap='r')"
      ]
    },
    {
      "cell_type": "code",
      "execution_count": null,
      "metadata": {
        "colab": {
          "base_uri": "https://localhost:8080/"
        },
        "id": "o9pJxYTUmyfE",
        "outputId": "6aa4c02c-46ba-42db-e97f-0fa1fbabd4d7"
      },
      "outputs": [
        {
          "output_type": "execute_result",
          "data": {
            "text/plain": [
              "<gensim.models.keyedvectors.KeyedVectors at 0x7abc91b47280>"
            ]
          },
          "metadata": {},
          "execution_count": 45
        }
      ],
      "source": [
        "wv"
      ]
    },
    {
      "cell_type": "code",
      "execution_count": null,
      "metadata": {
        "collapsed": true,
        "colab": {
          "base_uri": "https://localhost:8080/"
        },
        "id": "vmn4916FmyfF",
        "outputId": "2281dd2b-6cdf-40aa-a845-260d8a59bef9"
      },
      "outputs": [
        {
          "output_type": "execute_result",
          "data": {
            "text/plain": [
              "array([ 0.11132812,  0.10595703, -0.07373047,  0.18847656,  0.07666016,\n",
              "       -0.3828125 , -0.0625    , -0.07470703,  0.05957031,  0.22167969,\n",
              "        0.20507812, -0.09228516,  0.05395508,  0.01379395, -0.16992188,\n",
              "        0.05493164,  0.09619141,  0.06103516, -0.14160156,  0.03173828,\n",
              "       -0.08642578,  0.12011719,  0.06445312,  0.22070312,  0.06835938,\n",
              "        0.04956055, -0.22460938, -0.06298828,  0.09179688, -0.00531006,\n",
              "       -0.11425781,  0.20605469,  0.31054688, -0.0625    , -0.02026367,\n",
              "       -0.13476562, -0.02697754,  0.2734375 ,  0.27929688,  0.21386719,\n",
              "        0.25195312, -0.13964844,  0.19824219, -0.07421875,  0.09228516,\n",
              "        0.125     ,  0.0612793 , -0.02990723,  0.0072937 , -0.05615234,\n",
              "       -0.08447266,  0.1796875 , -0.17578125, -0.11328125, -0.17578125,\n",
              "       -0.1171875 ,  0.09082031, -0.07177734,  0.30273438, -0.2734375 ,\n",
              "       -0.07128906,  0.33007812, -0.13574219, -0.0390625 ,  0.01397705,\n",
              "       -0.02526855,  0.05981445,  0.14550781, -0.11035156,  0.12988281,\n",
              "        0.12695312, -0.04980469,  0.16992188,  0.18261719, -0.23144531,\n",
              "        0.07910156, -0.06738281,  0.34960938, -0.07324219, -0.03442383,\n",
              "        0.01507568, -0.05957031, -0.07373047, -0.03857422, -0.06542969,\n",
              "       -0.2578125 , -0.05151367,  0.08154297,  0.08740234,  0.01318359,\n",
              "        0.06640625,  0.06152344, -0.20800781, -0.10253906, -0.12158203,\n",
              "       -0.06152344,  0.1484375 ,  0.06005859, -0.19140625, -0.05761719,\n",
              "       -0.03149414,  0.12255859,  0.19628906, -0.24902344,  0.03735352,\n",
              "        0.08056641,  0.13183594, -0.01977539,  0.19238281, -0.109375  ,\n",
              "       -0.02172852, -0.09912109, -0.00793457, -0.01251221,  0.23144531,\n",
              "       -0.01080322,  0.00234985,  0.11279297, -0.00485229,  0.01373291,\n",
              "       -0.02441406,  0.01123047, -0.22460938,  0.14160156, -0.00744629,\n",
              "       -0.01385498,  0.20996094,  0.05712891,  0.00366211, -0.07617188,\n",
              "       -0.05859375, -0.05957031,  0.00613403,  0.13183594,  0.04003906,\n",
              "       -0.11376953,  0.046875  ,  0.04199219, -0.0088501 , -0.01672363,\n",
              "        0.03173828, -0.08398438,  0.16308594, -0.17285156, -0.00866699,\n",
              "       -0.04443359,  0.10595703,  0.0145874 ,  0.04492188, -0.07568359,\n",
              "       -0.06689453, -0.0050354 , -0.10986328,  0.11572266, -0.10107422,\n",
              "        0.16210938, -0.0144043 , -0.140625  , -0.09326172, -0.02502441,\n",
              "       -0.13867188,  0.04760742, -0.01452637, -0.10986328,  0.31640625,\n",
              "       -0.11914062,  0.08203125, -0.22949219,  0.09472656, -0.0324707 ,\n",
              "       -0.18847656, -0.10986328,  0.22949219, -0.22363281, -0.07080078,\n",
              "        0.05053711,  0.20507812,  0.03979492, -0.03881836,  0.11962891,\n",
              "        0.01818848, -0.2421875 ,  0.10791016, -0.02307129, -0.06982422,\n",
              "        0.05737305, -0.15527344,  0.01989746, -0.01153564, -0.04833984,\n",
              "        0.16210938,  0.01916504,  0.06079102,  0.01177979, -0.07714844,\n",
              "       -0.02380371, -0.10693359, -0.06542969, -0.20214844, -0.07373047,\n",
              "        0.25390625,  0.12353516,  0.09130859, -0.1484375 ,  0.03662109,\n",
              "        0.02294922,  0.09375   , -0.13183594,  0.03857422,  0.13378906,\n",
              "       -0.13183594,  0.30859375, -0.0255127 ,  0.07763672, -0.09033203,\n",
              "        0.00350952,  0.32617188, -0.08203125, -0.01831055,  0.01879883,\n",
              "       -0.0390625 ,  0.17578125, -0.05273438, -0.22070312, -0.10302734,\n",
              "        0.0390625 , -0.00315857, -0.06176758, -0.01397705, -0.04003906,\n",
              "       -0.17773438,  0.20507812,  0.05004883,  0.10595703, -0.00170898,\n",
              "       -0.04223633, -0.02478027, -0.28320312, -0.08789062, -0.08349609,\n",
              "        0.12792969,  0.04931641, -0.16503906, -0.07275391,  0.00405884,\n",
              "       -0.23828125,  0.16992188, -0.06689453,  0.07958984, -0.14160156,\n",
              "        0.01287842,  0.1640625 ,  0.24511719,  0.09570312,  0.18261719,\n",
              "       -0.00179291, -0.00714111,  0.20507812, -0.40429688, -0.01940918,\n",
              "       -0.07373047, -0.16113281, -0.20800781,  0.00860596, -0.08642578,\n",
              "        0.0189209 , -0.08642578,  0.03930664,  0.03564453,  0.14550781,\n",
              "       -0.01806641,  0.14746094,  0.10888672, -0.06982422, -0.02209473,\n",
              "       -0.01361084, -0.03039551, -0.13574219, -0.0625    ,  0.04003906,\n",
              "       -0.13964844,  0.02026367, -0.12597656,  0.0703125 , -0.03015137,\n",
              "        0.11376953,  0.00337219, -0.06347656, -0.1484375 , -0.11572266,\n",
              "       -0.17675781, -0.08984375, -0.09667969, -0.11669922, -0.09082031,\n",
              "       -0.02490234, -0.00509644, -0.07226562,  0.03735352, -0.15625   ],\n",
              "      dtype=float32)"
            ]
          },
          "metadata": {},
          "execution_count": 46
        }
      ],
      "source": [
        "wv['big']"
      ]
    },
    {
      "cell_type": "code",
      "execution_count": null,
      "metadata": {
        "collapsed": true,
        "colab": {
          "base_uri": "https://localhost:8080/"
        },
        "id": "MZ-wlWCTmyfG",
        "outputId": "49ff3334-0d52-491c-cde1-261fd77e9c88"
      },
      "outputs": [
        {
          "output_type": "execute_result",
          "data": {
            "text/plain": [
              "array([ 5.12695312e-02, -2.23388672e-02, -1.72851562e-01,  1.61132812e-01,\n",
              "       -8.44726562e-02,  5.73730469e-02,  5.85937500e-02, -8.25195312e-02,\n",
              "       -1.53808594e-02, -6.34765625e-02,  1.79687500e-01, -4.23828125e-01,\n",
              "       -2.25830078e-02, -1.66015625e-01, -2.51464844e-02,  1.07421875e-01,\n",
              "       -1.99218750e-01,  1.59179688e-01, -1.87500000e-01, -1.20117188e-01,\n",
              "        1.55273438e-01, -9.91210938e-02,  1.42578125e-01, -1.64062500e-01,\n",
              "       -8.93554688e-02,  2.00195312e-01, -1.49414062e-01,  3.20312500e-01,\n",
              "        3.28125000e-01,  2.44140625e-02, -9.71679688e-02, -8.20312500e-02,\n",
              "       -3.63769531e-02, -8.59375000e-02, -9.86328125e-02,  7.78198242e-03,\n",
              "       -1.34277344e-02,  5.27343750e-02,  1.48437500e-01,  3.33984375e-01,\n",
              "        1.66015625e-02, -2.12890625e-01, -1.50756836e-02,  5.24902344e-02,\n",
              "       -1.07421875e-01, -8.88671875e-02,  2.49023438e-01, -7.03125000e-02,\n",
              "       -1.59912109e-02,  7.56835938e-02, -7.03125000e-02,  1.19140625e-01,\n",
              "        2.29492188e-01,  1.41601562e-02,  1.15234375e-01,  7.50732422e-03,\n",
              "        2.75390625e-01, -2.44140625e-01,  2.96875000e-01,  3.49121094e-02,\n",
              "        2.42187500e-01,  1.35742188e-01,  1.42578125e-01,  1.75781250e-02,\n",
              "        2.92968750e-02, -1.21582031e-01,  2.28271484e-02, -4.76074219e-02,\n",
              "       -1.55273438e-01,  3.14331055e-03,  3.45703125e-01,  1.22558594e-01,\n",
              "       -1.95312500e-01,  8.10546875e-02, -6.83593750e-02, -1.47094727e-02,\n",
              "        2.14843750e-01, -1.21093750e-01,  1.57226562e-01, -2.07031250e-01,\n",
              "        1.36718750e-01, -1.29882812e-01,  5.29785156e-02, -2.71484375e-01,\n",
              "       -2.98828125e-01, -1.84570312e-01, -2.29492188e-01,  1.19140625e-01,\n",
              "        1.53198242e-02, -2.61718750e-01, -1.23046875e-01, -1.86767578e-02,\n",
              "       -6.49414062e-02, -8.15429688e-02,  7.86132812e-02, -3.53515625e-01,\n",
              "        5.24902344e-02, -2.45361328e-02, -5.43212891e-03, -2.08984375e-01,\n",
              "       -2.10937500e-01, -1.79687500e-01,  2.42187500e-01,  2.57812500e-01,\n",
              "        1.37695312e-01, -2.10937500e-01, -2.17285156e-02, -1.38671875e-01,\n",
              "        1.84326172e-02, -1.23901367e-02, -1.59179688e-01,  1.61132812e-01,\n",
              "        2.08007812e-01,  1.03027344e-01,  9.81445312e-02, -6.83593750e-02,\n",
              "       -8.72802734e-03, -2.89062500e-01, -2.14843750e-01, -1.14257812e-01,\n",
              "       -2.21679688e-01,  4.12597656e-02, -3.12500000e-01, -5.59082031e-02,\n",
              "       -9.76562500e-02,  5.81054688e-02, -4.05273438e-02, -1.73828125e-01,\n",
              "        1.64062500e-01, -2.53906250e-01, -1.54296875e-01, -2.31933594e-02,\n",
              "       -2.38281250e-01,  2.07519531e-02, -2.73437500e-01,  3.90625000e-03,\n",
              "        1.13769531e-01, -1.73828125e-01,  2.57812500e-01,  2.35351562e-01,\n",
              "        5.22460938e-02,  6.83593750e-02, -1.75781250e-01,  1.60156250e-01,\n",
              "       -5.98907471e-04,  5.98144531e-02, -2.11914062e-01, -5.54199219e-02,\n",
              "       -7.51953125e-02, -3.06640625e-01,  4.27734375e-01,  5.32226562e-02,\n",
              "       -2.08984375e-01, -5.71289062e-02, -2.09960938e-01,  3.29589844e-02,\n",
              "        1.05468750e-01, -1.50390625e-01, -9.37500000e-02,  1.16699219e-01,\n",
              "        6.44531250e-02,  2.80761719e-02,  2.41210938e-01, -1.25976562e-01,\n",
              "       -1.00585938e-01, -1.22680664e-02, -3.26156616e-04,  1.58691406e-02,\n",
              "        1.27929688e-01, -3.32031250e-02,  4.07714844e-02, -1.31835938e-01,\n",
              "        9.81445312e-02,  1.74804688e-01, -2.36328125e-01,  5.17578125e-02,\n",
              "        1.83593750e-01,  2.42919922e-02, -4.31640625e-01,  2.46093750e-01,\n",
              "       -3.03955078e-02, -2.47802734e-02, -1.17187500e-01,  1.61132812e-01,\n",
              "       -5.71289062e-02,  1.16577148e-02,  2.81250000e-01,  4.27734375e-01,\n",
              "        4.56542969e-02,  1.01074219e-01, -3.95507812e-02,  1.77001953e-02,\n",
              "       -8.98437500e-02,  1.35742188e-01,  2.08007812e-01,  1.88476562e-01,\n",
              "       -1.52343750e-01, -2.37304688e-01, -1.90429688e-01,  7.12890625e-02,\n",
              "       -2.46093750e-01, -2.61718750e-01, -2.34375000e-01, -1.45507812e-01,\n",
              "       -1.17187500e-02, -1.50390625e-01, -1.13281250e-01,  1.82617188e-01,\n",
              "        2.63671875e-01, -1.37695312e-01, -4.58984375e-01, -4.68750000e-02,\n",
              "       -1.26953125e-01, -4.22363281e-02, -1.66992188e-01,  1.26953125e-01,\n",
              "        2.59765625e-01, -2.44140625e-01, -2.19726562e-01, -8.69140625e-02,\n",
              "        1.59179688e-01, -3.78417969e-02,  8.97216797e-03, -2.77343750e-01,\n",
              "       -1.04980469e-01, -1.75781250e-01,  2.28515625e-01, -2.70996094e-02,\n",
              "        2.85156250e-01, -2.73437500e-01,  1.61132812e-02,  5.90820312e-02,\n",
              "       -2.39257812e-01,  1.77734375e-01, -1.34765625e-01,  1.38671875e-01,\n",
              "        3.53515625e-01,  1.22070312e-01,  1.43554688e-01,  9.22851562e-02,\n",
              "        2.29492188e-01, -3.00781250e-01, -4.88281250e-02, -1.79687500e-01,\n",
              "        2.96875000e-01,  1.75781250e-01,  4.80957031e-02, -3.38745117e-03,\n",
              "        7.91015625e-02, -2.38281250e-01, -2.31445312e-01,  1.66015625e-01,\n",
              "       -2.13867188e-01, -7.03125000e-02, -7.56835938e-02,  1.96289062e-01,\n",
              "       -1.29882812e-01, -1.05957031e-01, -3.53515625e-01, -1.16699219e-01,\n",
              "       -5.10253906e-02,  3.39355469e-02, -1.43554688e-01, -3.90625000e-03,\n",
              "        1.73828125e-01, -9.96093750e-02, -1.66015625e-01, -8.54492188e-02,\n",
              "       -3.82812500e-01,  5.90820312e-02, -6.22558594e-02,  8.83789062e-02,\n",
              "       -8.88671875e-02,  3.28125000e-01,  6.83593750e-02, -1.91406250e-01,\n",
              "       -8.35418701e-04,  1.04003906e-01,  1.52343750e-01, -1.53350830e-03,\n",
              "        4.16015625e-01, -3.32031250e-02,  1.49414062e-01,  2.42187500e-01,\n",
              "       -1.76757812e-01, -4.93164062e-02, -1.24511719e-01,  1.25976562e-01,\n",
              "        1.74804688e-01,  2.81250000e-01, -1.80664062e-01,  1.03027344e-01,\n",
              "       -2.75390625e-01,  2.61718750e-01,  2.46093750e-01, -4.71191406e-02,\n",
              "        6.25000000e-02,  4.16015625e-01, -3.55468750e-01,  2.22656250e-01],\n",
              "      dtype=float32)"
            ]
          },
          "metadata": {},
          "execution_count": 47
        }
      ],
      "source": [
        "wv['dog']"
      ]
    },
    {
      "cell_type": "code",
      "execution_count": null,
      "metadata": {
        "id": "1k1oTqKsmyfH"
      },
      "outputs": [],
      "source": [
        "#1.2: Vector Similarity"
      ]
    },
    {
      "cell_type": "code",
      "execution_count": null,
      "metadata": {
        "collapsed": true,
        "colab": {
          "base_uri": "https://localhost:8080/"
        },
        "id": "GaLUtiPImyfI",
        "outputId": "9d4257da-980a-43b9-f9b0-9a6a13d85a70"
      },
      "outputs": [
        {
          "output_type": "execute_result",
          "data": {
            "text/plain": [
              "[('dogs', 0.8680489659309387),\n",
              " ('puppy', 0.8106428384780884),\n",
              " ('cat', 0.7609457969665527),\n",
              " ('canines', 0.7221246361732483),\n",
              " ('pet', 0.7164785861968994),\n",
              " ('collie', 0.6714409589767456),\n",
              " ('puppies', 0.6637065410614014),\n",
              " ('pug', 0.6611860990524292),\n",
              " ('terrier', 0.6599656343460083),\n",
              " ('poodle', 0.6549598574638367)]"
            ]
          },
          "metadata": {},
          "execution_count": 49
        }
      ],
      "source": [
        "wv.most_similar('dog', topn=10)"
      ]
    },
    {
      "cell_type": "code",
      "execution_count": null,
      "metadata": {
        "collapsed": true,
        "colab": {
          "base_uri": "https://localhost:8080/"
        },
        "id": "gp_eltbImyfJ",
        "outputId": "b7e4cc84-9153-4d50-ddc8-8ecbab58271f"
      },
      "outputs": [
        {
          "output_type": "execute_result",
          "data": {
            "text/plain": [
              "[('woman', 0.7664012908935547),\n",
              " ('boy', 0.6824871301651001),\n",
              " ('teenager', 0.6586930155754089),\n",
              " ('girl', 0.5921714305877686),\n",
              " ('men', 0.5489763021469116),\n",
              " ('guy', 0.5420035123825073),\n",
              " ('person', 0.5342026352882385),\n",
              " ('suspect', 0.5247485041618347),\n",
              " ('victim', 0.5230302214622498),\n",
              " ('thief', 0.5138294100761414)]"
            ]
          },
          "metadata": {},
          "execution_count": 50
        }
      ],
      "source": [
        "wv.most_similar('man', topn=10)"
      ]
    },
    {
      "cell_type": "code",
      "execution_count": null,
      "metadata": {
        "colab": {
          "base_uri": "https://localhost:8080/"
        },
        "id": "RM1Lxo72myfK",
        "outputId": "04305190-fc36-40c0-8110-d1636cf50248"
      },
      "outputs": [
        {
          "output_type": "execute_result",
          "data": {
            "text/plain": [
              "[('marvelous', 0.8188856244087219),\n",
              " ('fantastic', 0.8047919869422913),\n",
              " ('great', 0.7647867798805237),\n",
              " ('fabulous', 0.7614760994911194),\n",
              " ('terrific', 0.7420831918716431),\n",
              " ('lovely', 0.7320096492767334),\n",
              " ('amazing', 0.7263179421424866),\n",
              " ('beautiful', 0.6854085922241211),\n",
              " ('magnificent', 0.6633867025375366),\n",
              " ('delightful', 0.6574996709823608)]"
            ]
          },
          "metadata": {},
          "execution_count": 51
        }
      ],
      "source": [
        "wv.most_similar('wonderful', topn=10)"
      ]
    },
    {
      "cell_type": "code",
      "execution_count": null,
      "metadata": {
        "colab": {
          "base_uri": "https://localhost:8080/"
        },
        "id": "vWj8ltBXmyfL",
        "outputId": "4685df0f-823e-48d8-a25e-131f0064f7f9"
      },
      "outputs": [
        {
          "output_type": "execute_result",
          "data": {
            "text/plain": [
              "[('horrible', 0.7597668170928955),\n",
              " ('terrible', 0.7478912472724915),\n",
              " ('dreadful', 0.7218177914619446),\n",
              " ('horrid', 0.6720177531242371),\n",
              " ('atrocious', 0.6626645922660828),\n",
              " ('ugly', 0.6236302256584167),\n",
              " ('lousy', 0.6135217547416687),\n",
              " ('unbelievable', 0.6068726181983948),\n",
              " ('appalling', 0.6061565279960632),\n",
              " ('hideous', 0.5811460614204407)]"
            ]
          },
          "metadata": {},
          "execution_count": 52
        }
      ],
      "source": [
        "wv.most_similar('awful', topn=10)"
      ]
    },
    {
      "cell_type": "code",
      "execution_count": null,
      "metadata": {
        "colab": {
          "base_uri": "https://localhost:8080/"
        },
        "id": "BXpQiIeHmyfL",
        "outputId": "3d6f5ee4-a7c4-4ffc-e164-51f306570437"
      },
      "outputs": [
        {
          "output_type": "execute_result",
          "data": {
            "text/plain": [
              "[('huge', 0.7809856534004211),\n",
              " ('bigger', 0.684238612651825),\n",
              " ('biggest', 0.633652925491333),\n",
              " ('major', 0.6057687401771545),\n",
              " ('gigantic', 0.5822017192840576),\n",
              " ('large', 0.5561478734016418),\n",
              " ('great', 0.5486619472503662),\n",
              " ('massive', 0.5473864674568176),\n",
              " ('biggie', 0.5121097564697266),\n",
              " ('nice', 0.49928018450737)]"
            ]
          },
          "metadata": {},
          "execution_count": 53
        }
      ],
      "source": [
        "wv.most_similar('big', topn=10)"
      ]
    },
    {
      "cell_type": "code",
      "execution_count": null,
      "metadata": {
        "scrolled": true,
        "colab": {
          "base_uri": "https://localhost:8080/"
        },
        "id": "_FfX69qomyfM",
        "outputId": "d394b3ee-798a-4f43-8ccd-bbabe8f5a94a"
      },
      "outputs": [
        {
          "output_type": "execute_result",
          "data": {
            "text/plain": [
              "[('large', 0.733115017414093),\n",
              " ('tiny', 0.7187926769256592),\n",
              " ('smaller', 0.6194288730621338),\n",
              " ('larger', 0.5446805953979492),\n",
              " ('size', 0.4962202310562134),\n",
              " ('big', 0.4958678185939789),\n",
              " ('modest', 0.48712876439094543),\n",
              " ('insignificant', 0.47662094235420227),\n",
              " ('teeny', 0.4762468934059143),\n",
              " ('sized', 0.47460612654685974)]"
            ]
          },
          "metadata": {},
          "execution_count": 54
        }
      ],
      "source": [
        "wv.most_similar('small', topn=10)"
      ]
    },
    {
      "cell_type": "code",
      "execution_count": null,
      "metadata": {
        "colab": {
          "base_uri": "https://localhost:8080/"
        },
        "id": "CYZwpStVmyfM",
        "outputId": "0b3fe3c9-c96e-4248-d0ad-3eed2499c7d4"
      },
      "outputs": [
        {
          "output_type": "execute_result",
          "data": {
            "text/plain": [
              "[('laptops', 0.551753044128418),\n",
              " ('software', 0.5444109439849854),\n",
              " ('computerized', 0.48913314938545227),\n",
              " ('machines', 0.441246896982193),\n",
              " ('hardware', 0.4391104578971863),\n",
              " ('machine', 0.42776885628700256),\n",
              " ('programmer', 0.42506635189056396),\n",
              " ('cyber', 0.42319434881210327),\n",
              " ('files', 0.41355445981025696),\n",
              " ('modem', 0.39977791905403137)]"
            ]
          },
          "metadata": {},
          "execution_count": 55
        }
      ],
      "source": [
        "wv.most_similar('computer', topn=10)"
      ]
    },
    {
      "cell_type": "code",
      "execution_count": null,
      "metadata": {
        "id": "8rcw3IoBmyfN"
      },
      "outputs": [],
      "source": [
        "# 1.3: Word Analogy"
      ]
    },
    {
      "cell_type": "code",
      "execution_count": null,
      "metadata": {
        "colab": {
          "base_uri": "https://localhost:8080/"
        },
        "id": "oIyVJ7OMmyfN",
        "outputId": "b206a7e7-6467-4027-b4c6-094fbd5e0652"
      },
      "outputs": [
        {
          "output_type": "execute_result",
          "data": {
            "text/plain": [
              "[('better', 0.7805920839309692),\n",
              " ('stronger', 0.607010543346405),\n",
              " ('worse', 0.5609191060066223),\n",
              " ('decent', 0.5300450921058655),\n",
              " ('excellent', 0.5028262734413147)]"
            ]
          },
          "metadata": {},
          "execution_count": 57
        }
      ],
      "source": [
        "wv.most_similar(positive=['bigger', 'good'], negative=['big'], topn=5)"
      ]
    },
    {
      "cell_type": "code",
      "execution_count": null,
      "metadata": {
        "colab": {
          "base_uri": "https://localhost:8080/"
        },
        "id": "yjTnQLjGmyfO",
        "outputId": "d538f64b-c254-43cc-d5e4-d26bceac676d"
      },
      "outputs": [
        {
          "output_type": "execute_result",
          "data": {
            "text/plain": [
              "[('queen', 0.7118193507194519),\n",
              " ('monarch', 0.6189674139022827),\n",
              " ('princess', 0.5902431011199951),\n",
              " ('kings', 0.5236844420433044),\n",
              " ('queens', 0.5181134343147278)]"
            ]
          },
          "metadata": {},
          "execution_count": 58
        }
      ],
      "source": [
        "wv.most_similar(positive=['king', 'woman'], negative=['man'], topn=5)"
      ]
    },
    {
      "cell_type": "code",
      "execution_count": null,
      "metadata": {
        "colab": {
          "base_uri": "https://localhost:8080/"
        },
        "id": "BcFRk62lmyfO",
        "outputId": "75ce6a75-3934-43cd-94a3-6f91c5993c43"
      },
      "outputs": [
        {
          "output_type": "execute_result",
          "data": {
            "text/plain": [
              "[('brother', 0.7966989874839783),\n",
              " ('uncle', 0.6753759980201721),\n",
              " ('nephew', 0.6596081852912903),\n",
              " ('son', 0.6472460031509399),\n",
              " ('father', 0.6398823261260986),\n",
              " ('brothers', 0.6266913414001465),\n",
              " ('dad', 0.598107635974884),\n",
              " ('siblings', 0.5654128789901733),\n",
              " ('daughter', 0.561091423034668),\n",
              " ('sons', 0.5580724477767944)]"
            ]
          },
          "metadata": {},
          "execution_count": 59
        }
      ],
      "source": [
        "wv.most_similar(positive=['sister', 'man'], negative=['woman'], topn=10)"
      ]
    },
    {
      "cell_type": "code",
      "execution_count": null,
      "metadata": {
        "colab": {
          "base_uri": "https://localhost:8080/"
        },
        "id": "Q9EVa1ftmyfO",
        "outputId": "fe0867c9-072e-45d2-b4c8-5b6250ac805f"
      },
      "outputs": [
        {
          "output_type": "execute_result",
          "data": {
            "text/plain": [
              "[('faster', 0.7064898610115051),\n",
              " ('rapidly', 0.5021133422851562),\n",
              " ('easier', 0.48843103647232056),\n",
              " ('slow', 0.45752349495887756),\n",
              " ('quickly', 0.4370785653591156),\n",
              " ('bigger', 0.4148872196674347),\n",
              " ('cheaper', 0.41006121039390564),\n",
              " ('louder', 0.4095764458179474),\n",
              " ('slowly', 0.40936195850372314),\n",
              " ('smarter', 0.40232229232788086)]"
            ]
          },
          "metadata": {},
          "execution_count": 60
        }
      ],
      "source": [
        "wv.most_similar(positive=['harder', 'fast'], negative=['hard'], topn=10)"
      ]
    },
    {
      "cell_type": "code",
      "execution_count": null,
      "metadata": {
        "colab": {
          "base_uri": "https://localhost:8080/"
        },
        "id": "dIytuTermyfP",
        "outputId": "503f93f5-ec79-4f93-ac06-2e3bccbbefa8"
      },
      "outputs": [
        {
          "output_type": "execute_result",
          "data": {
            "text/plain": [
              "[('king', 0.6958590149879456),\n",
              " ('kings', 0.5950952768325806),\n",
              " ('queens', 0.583850085735321),\n",
              " ('monarch', 0.5398427844047546),\n",
              " ('princess', 0.5175285935401917),\n",
              " ('royals', 0.4461318850517273),\n",
              " ('princesses', 0.42661580443382263),\n",
              " ('legend', 0.42540839314460754),\n",
              " ('lord', 0.42465558648109436),\n",
              " ('regal', 0.4180293381214142)]"
            ]
          },
          "metadata": {},
          "execution_count": 61
        }
      ],
      "source": [
        "wv.most_similar(positive=['man', 'queen'], negative=['woman'], topn=10)"
      ]
    },
    {
      "cell_type": "code",
      "execution_count": null,
      "metadata": {
        "scrolled": true,
        "colab": {
          "base_uri": "https://localhost:8080/"
        },
        "id": "5Gqvh4MWmyfP",
        "outputId": "805f6478-39fa-4416-e1e5-571df4e43641"
      },
      "outputs": [
        {
          "output_type": "execute_result",
          "data": {
            "text/plain": [
              "[('winter', 0.5936813354492188),\n",
              " ('spring', 0.550656259059906),\n",
              " ('summertime', 0.5165988802909851),\n",
              " ('week', 0.45701587200164795),\n",
              " ('weekend', 0.43520933389663696),\n",
              " ('year', 0.41549766063690186),\n",
              " ('fall', 0.3989974558353424),\n",
              " ('months', 0.38147568702697754),\n",
              " ('season', 0.37922245264053345),\n",
              " ('weeks', 0.37823963165283203)]"
            ]
          },
          "metadata": {},
          "execution_count": 62
        }
      ],
      "source": [
        "wv.most_similar(positive=['summer', 'cold'], negative=['warm'], topn=10)"
      ]
    },
    {
      "cell_type": "code",
      "execution_count": null,
      "metadata": {
        "colab": {
          "base_uri": "https://localhost:8080/"
        },
        "id": "tSuBg3PimyfP",
        "outputId": "2230d711-3d46-4357-f4ad-72e476edc6f1"
      },
      "outputs": [
        {
          "output_type": "execute_result",
          "data": {
            "text/plain": [
              "[('earth', 0.482571542263031),\n",
              " ('extraterrestrial', 0.3922600746154785),\n",
              " ('universe', 0.3876301944255829),\n",
              " ('ocean', 0.38573989272117615),\n",
              " ('intergalactic', 0.3733986020088196),\n",
              " ('mankind', 0.36832383275032043),\n",
              " ('globe', 0.35898301005363464),\n",
              " ('humanity', 0.3559354245662689),\n",
              " ('moon', 0.3556597828865051),\n",
              " ('humankind', 0.3513404428958893)]"
            ]
          },
          "metadata": {},
          "execution_count": 63
        }
      ],
      "source": [
        "wv.most_similar(positive=['planet', 'air'], negative=['fire'], topn=10)"
      ]
    },
    {
      "cell_type": "code",
      "execution_count": null,
      "metadata": {
        "id": "YGoIHRNemyfQ"
      },
      "outputs": [],
      "source": [
        "#Part2: Better k-NN and Perceptron using Embeddings\n",
        "#2.1 Reimplement k-nn with Sentence Embedding"
      ]
    },
    {
      "cell_type": "code",
      "execution_count": null,
      "metadata": {
        "id": "HMEDFUznmyfQ"
      },
      "outputs": [],
      "source": [
        "# the man hit the dog\n",
        "(wv['the'] + wv['man'] + wv['bit'] + wv['the'] + wv['dog'])/5"
      ]
    },
    {
      "cell_type": "code",
      "source": [
        "# @markdown Part 2.1.3~4"
      ],
      "metadata": {
        "id": "ePy2t9WjrXje"
      },
      "execution_count": 1,
      "outputs": []
    },
    {
      "cell_type": "code",
      "execution_count": null,
      "metadata": {
        "colab": {
          "base_uri": "https://localhost:8080/",
          "height": 35
        },
        "id": "XAZCWEYTmyfR",
        "outputId": "075a81ea-d8bb-4141-b50e-397f9599ab6a"
      },
      "outputs": [
        {
          "output_type": "execute_result",
          "data": {
            "text/plain": [
              "\"-\\ta semi autobiographical film that 's so sloppily written and cast that you can not believe anyone more central to the creation of bugsy than the caterer had anything to do with it\""
            ],
            "application/vnd.google.colaboratory.intrinsic+json": {
              "type": "string"
            }
          },
          "metadata": {},
          "execution_count": 74
        }
      ],
      "source": [
        "# Function to calculate sentence embedding by averaging word embeddings\n",
        "def sentence_embedding(sentence, embeddings):\n",
        "    words = sentence.split()\n",
        "    valid_embeddings = [embeddings[word] for word in words if word in embeddings]\n",
        "    if not valid_embeddings:\n",
        "        return None\n",
        "    return sum(valid_embeddings) / len(valid_embeddings)\n",
        "\n",
        "# Read the training data\n",
        "train_data = 'train.txt'\n",
        "with open(train_data, 'r') as file:\n",
        "    train_sentences = [line.strip() for line in file]\n",
        "\n",
        "# Calculate the embedding for the first sentence\n",
        "first_sentence_embedding = sentence_embedding(train_sentences[0], wv)\n",
        "\n",
        "# Find the closest sentence in the training set to the first sentence\n",
        "min_distance = float('inf')\n",
        "closest_sentence = None\n",
        "for sentence in train_sentences[1:]:  # Skip the first sentence\n",
        "    embedding = sentence_embedding(sentence, wv)\n",
        "    if embedding is not None:\n",
        "        distance = sum((first_sentence_embedding - embedding) ** 2)  # Euclidean distance\n",
        "        if distance < min_distance:\n",
        "            min_distance = distance\n",
        "            closest_sentence = sentence\n",
        "\n",
        "closest_sentence\n",
        "\n"
      ]
    },
    {
      "cell_type": "code",
      "execution_count": null,
      "metadata": {
        "colab": {
          "base_uri": "https://localhost:8080/",
          "height": 35
        },
        "id": "Fcn3gAo6myfR",
        "outputId": "8514da11-ff4d-4d3a-b589-0115df18d9cc"
      },
      "outputs": [
        {
          "output_type": "execute_result",
          "data": {
            "text/plain": [
              "\"-\\tthe plan to make enough into an inspiring tale of survival wrapped in the heart pounding suspense of a stylish psychological thriller ' has flopped as surely as a souffl gone wrong\""
            ],
            "application/vnd.google.colaboratory.intrinsic+json": {
              "type": "string"
            }
          },
          "metadata": {},
          "execution_count": 75
        }
      ],
      "source": [
        "# Calculate the embedding for the second sentence (with negative label)\n",
        "second_sentence_embedding = sentence_embedding(train_sentences[1], wv)\n",
        "\n",
        "# Find the closest sentence in the training set to the second sentence\n",
        "min_distance = float('inf')\n",
        "closest_sentence_to_second = None\n",
        "for sentence in train_sentences:  # Include all sentences\n",
        "    if sentence == train_sentences[1]:  # Skip the second sentence itself\n",
        "        continue\n",
        "    embedding = sentence_embedding(sentence, wv)\n",
        "    if embedding is not None:\n",
        "        distance = sum((second_sentence_embedding - embedding) ** 2)  # Euclidean distance\n",
        "        if distance < min_distance:\n",
        "            min_distance = distance\n",
        "            closest_sentence_to_second = sentence\n",
        "\n",
        "closest_sentence_to_second\n",
        "\n"
      ]
    },
    {
      "cell_type": "code",
      "source": [],
      "metadata": {
        "id": "4e9uaznEexHg"
      },
      "execution_count": null,
      "outputs": []
    },
    {
      "cell_type": "code",
      "source": [],
      "metadata": {
        "id": "L4SBWLG2k9c-"
      },
      "execution_count": null,
      "outputs": []
    }
  ],
  "metadata": {
    "kernelspec": {
      "display_name": "Python 3",
      "language": "python",
      "name": "python3"
    },
    "language_info": {
      "codemirror_mode": {
        "name": "ipython",
        "version": 3
      },
      "file_extension": ".py",
      "mimetype": "text/x-python",
      "name": "python",
      "nbconvert_exporter": "python",
      "pygments_lexer": "ipython3",
      "version": "3.7.3"
    },
    "colab": {
      "provenance": []
    }
  },
  "nbformat": 4,
  "nbformat_minor": 0
}